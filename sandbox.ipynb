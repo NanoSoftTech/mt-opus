{
 "cells": [
  {
   "cell_type": "code",
   "execution_count": 21,
   "metadata": {},
   "outputs": [],
   "source": [
    "from pythainlp.tokenize import word_tokenize\n",
    "from pythainlp.ulmfit import *\n",
    "from tqdm import tqdm_notebook\n",
    "import random"
   ]
  },
  {
   "cell_type": "code",
   "execution_count": 5,
   "metadata": {},
   "outputs": [
    {
     "data": {
      "text/plain": [
       "(3281533,\n",
       " ['Slave in the Magic Mirror, come from the farthest space.\\n',\n",
       "  'Through wind and darkness, I summon thee.\\n',\n",
       "  'Speak!\\n'])"
      ]
     },
     "execution_count": 5,
     "metadata": {},
     "output_type": "execute_result"
    }
   ],
   "source": [
    "with open('data/opensubtitles/OpenSubtitles.en-th.en','r') as f:\n",
    "    en = f.readlines()\n",
    "len(en),en[:3]"
   ]
  },
  {
   "cell_type": "code",
   "execution_count": 6,
   "metadata": {},
   "outputs": [
    {
     "data": {
      "application/vnd.jupyter.widget-view+json": {
       "model_id": "5a5090a95cfc4a568af1e10ae56b0fbc",
       "version_major": 2,
       "version_minor": 0
      },
      "text/plain": [
       "HBox(children=(IntProgress(value=0, max=3281533), HTML(value='')))"
      ]
     },
     "metadata": {},
     "output_type": "display_data"
    },
    {
     "name": "stdout",
     "output_type": "stream",
     "text": [
      "\n"
     ]
    }
   ],
   "source": [
    "en_tok = []\n",
    "for e in tqdm_notebook(en):\n",
    "    en_tok.append(' '.join(word_tokenize(e,keep_whitespace=False)))"
   ]
  },
  {
   "cell_type": "code",
   "execution_count": 7,
   "metadata": {},
   "outputs": [
    {
     "data": {
      "text/plain": [
       "(3281533,\n",
       " ['ทาสในกระจกวิเศษ, มาจากพื้นที่ที่ไกลที่สุด\\n',\n",
       "  'ผ่านลมและความมืดฉันเรียกเจ้า\\n',\n",
       "  'พูด!\\n'])"
      ]
     },
     "execution_count": 7,
     "metadata": {},
     "output_type": "execute_result"
    }
   ],
   "source": [
    "with open('data/opensubtitles/OpenSubtitles.en-th.th','r') as f:\n",
    "    th = f.readlines()\n",
    "len(th),th[:3]"
   ]
  },
  {
   "cell_type": "code",
   "execution_count": 8,
   "metadata": {},
   "outputs": [
    {
     "data": {
      "application/vnd.jupyter.widget-view+json": {
       "model_id": "af3fa1bd4be6447e891ac01f44db47b0",
       "version_major": 2,
       "version_minor": 0
      },
      "text/plain": [
       "HBox(children=(IntProgress(value=0, max=3281533), HTML(value='')))"
      ]
     },
     "metadata": {},
     "output_type": "display_data"
    },
    {
     "name": "stdout",
     "output_type": "stream",
     "text": [
      "\n"
     ]
    }
   ],
   "source": [
    "th_tok = []\n",
    "for t in tqdm_notebook(th):\n",
    "    th_tok.append(' '.join(word_tokenize(t)))"
   ]
  },
  {
   "cell_type": "code",
   "execution_count": 9,
   "metadata": {},
   "outputs": [
    {
     "data": {
      "text/plain": [
       "(2625226, 328153, 328154)"
      ]
     },
     "execution_count": 9,
     "metadata": {},
     "output_type": "execute_result"
    }
   ],
   "source": [
    "#train-valid-test split 80/10/10\n",
    "n = len(th_tok)\n",
    "idx = list(range(n))\n",
    "random.shuffle(idx)\n",
    "train_idx, valid_idx, test_idx = idx[:int(n*0.8)], idx[int(n*0.8):int(n*0.9)], idx[int(n*0.9):]\n",
    "len(train_idx),len(valid_idx),len(test_idx)"
   ]
  },
  {
   "cell_type": "code",
   "execution_count": 11,
   "metadata": {},
   "outputs": [
    {
     "data": {
      "text/plain": [
       "(2625226,\n",
       " ['ไปให้พ้น   ไอ้ ลูก หมา \\n',\n",
       "  'โชค ดีแล้ว นะ \\n',\n",
       "  'ไม่เอา น่า   ทำ อะไร หน่อย สิ ! \\n',\n",
       "  'หันไป \\n',\n",
       "  'หงุดหงิด อย่างแรง \\n',\n",
       "  'ฉัน ตรวจดู หมาย เลขที่ โทร มา \\n',\n",
       "  'ไม่ สามารถ มี สี่ คน ที่ อาศัย อยู่ ที่นี่ \\n',\n",
       "  'เขา เป็น กษัตริย์ ของ เรา \\n',\n",
       "  'ไม่ได้ บอก ที่ บ้าน ใช่ไหม ว่า ถึง แล้ว \\n',\n",
       "  'เรา ต้อง มีทาง อื่น   ที่จะ เข้าไป ได้ สิ น่า \\n'])"
      ]
     },
     "execution_count": 11,
     "metadata": {},
     "output_type": "execute_result"
    }
   ],
   "source": [
    "th_train = [th_tok[i] for i in train_idx]\n",
    "len(th_train), th_train[:10]"
   ]
  },
  {
   "cell_type": "code",
   "execution_count": 12,
   "metadata": {},
   "outputs": [
    {
     "data": {
      "text/plain": [
       "(2625226,\n",
       " ['Go away , son of a bitch \\n',\n",
       "  'Well , good for them . \\n',\n",
       "  'Come on , do something ! \\n',\n",
       "  'Turn around . \\n',\n",
       "  'Talk about a killer cappuccino . What is this thing ? \\n',\n",
       "  \"I ' ve checked the call record . \\n\",\n",
       "  \"There ' s like a hundred houses . \\n\",\n",
       "  \"He ' s our king . \\n\",\n",
       "  \"You don ' t have to call home about arriving ? \\n\",\n",
       "  \"There ' s gotta be some other way we can get in . \\n\"])"
      ]
     },
     "execution_count": 12,
     "metadata": {},
     "output_type": "execute_result"
    }
   ],
   "source": [
    "en_train = [en_tok[i] for i in train_idx]\n",
    "len(en_train), en_train[:10]"
   ]
  },
  {
   "cell_type": "code",
   "execution_count": 13,
   "metadata": {},
   "outputs": [],
   "source": [
    "with open('data/opensubtitles_tok/train.en','w') as f:\n",
    "    for e in en_train:\n",
    "        f.write(e)\n",
    "with open('data/opensubtitles_tok/train.th','w') as f:\n",
    "    for t in th_train:\n",
    "        f.write(t)"
   ]
  },
  {
   "cell_type": "code",
   "execution_count": 14,
   "metadata": {},
   "outputs": [
    {
     "data": {
      "text/plain": [
       "(328153,\n",
       " ['ผม ต้อง แถลงการณ์ \\n',\n",
       "  'แล้ วจะ ให้ รัก ผม มั้ย ล่ะ \\n',\n",
       "  'ก็ นะ   มัน เข้ากับ คุณ ดี \\n',\n",
       "  'เดี๋ยวก่อน นะ   นั่น มัน บ้าน ของ ครอบครัว ฉัน \\n',\n",
       "  'หลังจาก   2 - 3   ชม.   พวก มัน จะ เริ่ม เหนียว ข้น และ แห้ง \\n',\n",
       "  'อย่า เพิ่ง . \\n',\n",
       "  'เยี่ยม \\n',\n",
       "  'สัปดาห์ แรก ของ กันยายน   มะเขือเทศ ใน   เบ เก อร ์ฟิลด์ \\n',\n",
       "  'บำบัด โรค โดย การ สะกดจิต \\n',\n",
       "  'ผม เริ่ม จาก กระเป๋า เศษ เหรียญ   \\\\   แล้ว มัน ก็ เพิ่มขึ้น เรื่อยๆ นับ จากนั้น \\n'])"
      ]
     },
     "execution_count": 14,
     "metadata": {},
     "output_type": "execute_result"
    }
   ],
   "source": [
    "th_valid = [th_tok[i] for i in valid_idx]\n",
    "len(th_valid), th_valid[:10]"
   ]
  },
  {
   "cell_type": "code",
   "execution_count": 15,
   "metadata": {},
   "outputs": [
    {
     "data": {
      "text/plain": [
       "(328153,\n",
       " ['I need to make a statement . \\n',\n",
       "  \"Gonna give me some lovin '? \\n\",\n",
       "  \"Well , it ' s working for you . \\n\",\n",
       "  'Wait a minute . \\n',\n",
       "  'After a few hours , they begin to get cloudy and wilt . \\n',\n",
       "  'Notyet . \\n',\n",
       "  '- Excellent . \\n',\n",
       "  'First week of september , tomatoes in bakersfield . \\n',\n",
       "  'A hypnotherapist . \\n',\n",
       "  'It started with coin purses and sort of went on from there , really . \\n'])"
      ]
     },
     "execution_count": 15,
     "metadata": {},
     "output_type": "execute_result"
    }
   ],
   "source": [
    "en_valid = [en_tok[i] for i in valid_idx]\n",
    "len(en_valid), en_valid[:10]"
   ]
  },
  {
   "cell_type": "code",
   "execution_count": 16,
   "metadata": {},
   "outputs": [],
   "source": [
    "with open('data/opensubtitles_tok/valid.en','w') as f:\n",
    "    for e in en_valid:\n",
    "        f.write(e)\n",
    "with open('data/opensubtitles_tok/valid.th','w') as f:\n",
    "    for t in th_valid:\n",
    "        f.write(t)"
   ]
  },
  {
   "cell_type": "code",
   "execution_count": 17,
   "metadata": {},
   "outputs": [
    {
     "data": {
      "text/plain": [
       "(328154,\n",
       " ['พวก นั้น กำลัง มา   แม่ \\n',\n",
       "  'เอา ห น่า   แฮ รี่   นาย มี แล้ว นิ   มังกร ไง   ถ้า นาย คิด ว่า จะ หาคู่ เดท ได้ นะ   ฉัน คิด ว่า ฉัน ไป กับ มังกร ดีกว่า \\n',\n",
       "  'ฉัน เสียใจ \\n',\n",
       "  'มัน เรื่อง อะไร ของ แก ? \\n',\n",
       "  'แต่ เรา จะ ลอง ทำ ดู \\n',\n",
       "  'ไป กัน เถอะ \\n',\n",
       "  'ชาร์ท   ที่   200   เม ก   เม ก \\n',\n",
       "  'ตกลง มั้ย ? \\n',\n",
       "  'เรา มี ความสัมพันธ์   ค่อนข้างจะ ซับซ้อน น่ะ \\n',\n",
       "  '100   ศพ   ดึง ออก มาจาก ที่เกิดเหตุ \\n'])"
      ]
     },
     "execution_count": 17,
     "metadata": {},
     "output_type": "execute_result"
    }
   ],
   "source": [
    "th_test = [th_tok[i] for i in test_idx]\n",
    "len(th_test), th_test[:10]"
   ]
  },
  {
   "cell_type": "code",
   "execution_count": 18,
   "metadata": {},
   "outputs": [
    {
     "data": {
      "text/plain": [
       "(328154,\n",
       " [\"They ' re coming , mother . No . \\n\",\n",
       "  \"Come on , Harry , you have slain a dragon lf you want to get a date you can I think I ' ll take the dragon right now \\n\",\n",
       "  \"I ' m sorry . \\n\",\n",
       "  'WHAT THE HELL IS YOUR PROBLEM ? \\n',\n",
       "  \"But we ' ll give it a try . \\n\",\n",
       "  \"Let ' s go . \\n\",\n",
       "  'Megan ? Megan ! \\n',\n",
       "  'Okay ? \\n',\n",
       "  'We have a ... very complicated relationship . \\n',\n",
       "  '100 more bodies pulled from the arena . \\n'])"
      ]
     },
     "execution_count": 18,
     "metadata": {},
     "output_type": "execute_result"
    }
   ],
   "source": [
    "en_test = [en_tok[i] for i in test_idx]\n",
    "len(en_test), en_test[:10]"
   ]
  },
  {
   "cell_type": "code",
   "execution_count": 19,
   "metadata": {},
   "outputs": [],
   "source": [
    "with open('data/opensubtitles_tok/test.en','w') as f:\n",
    "    for e in en_test:\n",
    "        f.write(e)\n",
    "        \n",
    "with open('data/opensubtitles_tok/test.th','w') as f:\n",
    "    for t in th_test:\n",
    "        f.write(t)"
   ]
  },
  {
   "cell_type": "code",
   "execution_count": 91,
   "metadata": {},
   "outputs": [],
   "source": [
    "# !fairseq-preprocess --source-lang en --target-lang th \\\n",
    "#     --trainpref data/opensubtitles_tok/train \\\n",
    "#     --validpref data/opensubtitles_tok/valid \\\n",
    "#     --testpref data/opensubtitles_tok/test \\\n",
    "#     --destdir data/opensubtitles_bin\n"
   ]
  },
  {
   "cell_type": "code",
   "execution_count": 90,
   "metadata": {},
   "outputs": [],
   "source": [
    "# | [en] data/opensubtitles_tok/train.en: 2625226 sents, 25945418 tokens, 0.0% replaced by <unk>\n",
    "# | [en] Dictionary: 173623 types\n",
    "# | [en] data/opensubtitles_tok/valid.en: 328153 sents, 3238427 tokens, 0.304% replaced by <unk>\n",
    "# | [en] Dictionary: 173623 types\n",
    "# | [en] data/opensubtitles_tok/test.en: 328154 sents, 3235608 tokens, 0.314% replaced by <unk>\n",
    "# | [th] Dictionary: 116495 types\n",
    "# | [th] data/opensubtitles_tok/train.th: 2625226 sents, 21658577 tokens, 0.0% replaced by <unk>\n",
    "# | [th] Dictionary: 116495 types\n",
    "# | [th] data/opensubtitles_tok/valid.th: 328153 sents, 2705475 tokens, 0.262% replaced by <unk>\n",
    "# | [th] Dictionary: 116495 types\n",
    "# | [th] data/opensubtitles_tok/test.th: 328154 sents, 2701605 tokens, 0.257% replaced by <unk>"
   ]
  },
  {
   "cell_type": "code",
   "execution_count": 98,
   "metadata": {},
   "outputs": [],
   "source": [
    "!fairseq-train \\\n",
    "    data/opensubtitles_bin \\\n",
    "    --arch transformer_iwslt_de_en --share-decoder-input-output-embed \\\n",
    "    --optimizer adam --adam-betas '(0.9, 0.98)' --clip-norm 0.0 \\\n",
    "    --lr 5e-4 --lr-scheduler inverse_sqrt --warmup-updates 4000 \\\n",
    "    --dropout 0.3 --weight-decay 0.0001 \\\n",
    "    --criterion label_smoothed_cross_entropy --label-smoothing 0.1 \\\n",
    "    --max-tokens 2048 \\\n",
    "    --bpe sentencepiece \\\n",
    "    --memory-efficient-fp16\n",
    "    --save-dir data/opensubtitles_model/transformers"
   ]
  },
  {
   "cell_type": "code",
   "execution_count": null,
   "metadata": {},
   "outputs": [],
   "source": [
    "# fairseq-generate data/opensubtitles_bin \\\n",
    "#     --path data/opensubtitles_model/transformers/checkpoint_best.pt \\\n",
    "#     --beam 5 --remove-bpe"
   ]
  }
 ],
 "metadata": {
  "kernelspec": {
   "display_name": "Python 3",
   "language": "python",
   "name": "python3"
  },
  "language_info": {
   "codemirror_mode": {
    "name": "ipython",
    "version": 3
   },
   "file_extension": ".py",
   "mimetype": "text/x-python",
   "name": "python",
   "nbconvert_exporter": "python",
   "pygments_lexer": "ipython3",
   "version": "3.6.8"
  }
 },
 "nbformat": 4,
 "nbformat_minor": 2
}
