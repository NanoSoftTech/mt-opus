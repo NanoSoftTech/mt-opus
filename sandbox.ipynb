{
 "cells": [
  {
   "cell_type": "code",
   "execution_count": 70,
   "metadata": {},
   "outputs": [],
   "source": [
    "from pythainlp.tokenize import word_tokenize\n",
    "from pythainlp.ulmfit import *\n",
    "from tqdm import tqdm_notebook\n",
    "import random"
   ]
  },
  {
   "cell_type": "code",
   "execution_count": 49,
   "metadata": {},
   "outputs": [
    {
     "data": {
      "text/plain": [
       "(3281533,\n",
       " ['Slave in the Magic Mirror, come from the farthest space.\\n',\n",
       "  'Through wind and darkness, I summon thee.\\n',\n",
       "  'Speak!\\n'])"
      ]
     },
     "execution_count": 49,
     "metadata": {},
     "output_type": "execute_result"
    }
   ],
   "source": [
    "with open('data/opensubtitles/OpenSubtitles.en-th.en','r') as f:\n",
    "    en = f.readlines()\n",
    "len(en),en[:3]"
   ]
  },
  {
   "cell_type": "code",
   "execution_count": 50,
   "metadata": {},
   "outputs": [
    {
     "data": {
      "application/vnd.jupyter.widget-view+json": {
       "model_id": "cf46a73a0284481dbeab6e51ededcafa",
       "version_major": 2,
       "version_minor": 0
      },
      "text/plain": [
       "HBox(children=(IntProgress(value=0, max=3281533), HTML(value='')))"
      ]
     },
     "metadata": {},
     "output_type": "display_data"
    }
   ],
   "source": [
    "en_tok = []\n",
    "for e in tqdm_notebook(en):\n",
    "    en_tok.append(' '.join(word_tokenize(e,keep_whitespace=False)))"
   ]
  },
  {
   "cell_type": "code",
   "execution_count": 51,
   "metadata": {},
   "outputs": [
    {
     "data": {
      "text/plain": [
       "(3281533,\n",
       " ['ทาสในกระจกวิเศษ, มาจากพื้นที่ที่ไกลที่สุด\\n',\n",
       "  'ผ่านลมและความมืดฉันเรียกเจ้า\\n',\n",
       "  'พูด!\\n'])"
      ]
     },
     "execution_count": 51,
     "metadata": {},
     "output_type": "execute_result"
    }
   ],
   "source": [
    "with open('data/opensubtitles/OpenSubtitles.en-th.th','r') as f:\n",
    "    th = f.readlines()\n",
    "len(th),th[:3]"
   ]
  },
  {
   "cell_type": "code",
   "execution_count": 65,
   "metadata": {},
   "outputs": [
    {
     "data": {
      "application/vnd.jupyter.widget-view+json": {
       "model_id": "ce278d7bf22b4e3689d5b6ccaf92ead2",
       "version_major": 2,
       "version_minor": 0
      },
      "text/plain": [
       "HBox(children=(IntProgress(value=0, max=3281533), HTML(value='')))"
      ]
     },
     "metadata": {},
     "output_type": "display_data"
    }
   ],
   "source": [
    "th_tok = []\n",
    "for t in tqdm_notebook(th):\n",
    "    th_tok.append(' '.join(word_tokenize(t)))"
   ]
  },
  {
   "cell_type": "code",
   "execution_count": 77,
   "metadata": {},
   "outputs": [
    {
     "data": {
      "text/plain": [
       "(2625226, 328153, 328154)"
      ]
     },
     "execution_count": 77,
     "metadata": {},
     "output_type": "execute_result"
    }
   ],
   "source": [
    "#train-valid-test split 80/10/10\n",
    "n = len(th_tok)\n",
    "idx = list(range(n))\n",
    "random.shuffle(idx)\n",
    "train_idx, valid_idx, test_idx = idx[:int(n*0.8)], idx[int(n*0.8):int(n*0.9)], idx[int(n*0.9):]\n",
    "len(train_idx),len(valid_idx),len(test_idx)"
   ]
  },
  {
   "cell_type": "code",
   "execution_count": 79,
   "metadata": {},
   "outputs": [
    {
     "data": {
      "text/plain": [
       "(2625226,\n",
       " ['คุณ จะ ไป ไหน \\n',\n",
       "  'นี่ คือ สิ่ง ที่ ฉัน ทำ ล่ะ \\n',\n",
       "  'ไม่มี ก็ ย้าย รถ ไป ที่ หมายเลข   2 \\n',\n",
       "  'เอ่อ   ผม จะ บอ กว่า   คุณ มา เเล้ว \\n',\n",
       "  'เธอ ถูก ยิง โดน ที่ คอ \\n',\n",
       "  'ใช่ไหม ล่ะ   ? \\n',\n",
       "  'คุณ เป็น อะไร รึเปล่า \\n',\n",
       "  'พา เซี่ยน โง่ ใช่ มั้ย ? \\n',\n",
       "  '38   เคย รับ มากกว่า นี้ \\n',\n",
       "  'ต้อง เป็นการ ร่วมมือ กัน แน่ \\n'])"
      ]
     },
     "execution_count": 79,
     "metadata": {},
     "output_type": "execute_result"
    }
   ],
   "source": [
    "th_train = [th_tok[i] for i in train_idx]\n",
    "len(th_train), th_train[:10]"
   ]
  },
  {
   "cell_type": "code",
   "execution_count": 80,
   "metadata": {},
   "outputs": [
    {
     "data": {
      "text/plain": [
       "(2625226,\n",
       " ['Where are you going ? \\n',\n",
       "  \"That ' s just how i roll . \\n\",\n",
       "  'Nothing . Move on , vehicle # 2. \\n',\n",
       "  'Well , I mean to say , there you are . \\n',\n",
       "  'She got hit in the throat with a round . \\n',\n",
       "  \"You trust the Brujo , don ' t you ? \\n\",\n",
       "  'Are you okay ? \\n',\n",
       "  'Take an Elysian asshole , right ? \\n',\n",
       "  '38. \\n',\n",
       "  \"It ' s got to be a pack thing . \\n\"])"
      ]
     },
     "execution_count": 80,
     "metadata": {},
     "output_type": "execute_result"
    }
   ],
   "source": [
    "en_train = [en_tok[i] for i in train_idx]\n",
    "len(en_train), en_train[:10]"
   ]
  },
  {
   "cell_type": "code",
   "execution_count": 81,
   "metadata": {},
   "outputs": [],
   "source": [
    "with open('data/opensubtitles_tok/train.en','w') as f:\n",
    "    for e in en_train:\n",
    "        f.write(e)\n",
    "with open('data/opensubtitles_tok/train.th','w') as f:\n",
    "    for t in th_train:\n",
    "        f.write(t)"
   ]
  },
  {
   "cell_type": "code",
   "execution_count": 83,
   "metadata": {},
   "outputs": [
    {
     "data": {
      "text/plain": [
       "(328153,\n",
       " ['วันก่อน   ข้า รู้สึก ว่า ข้า คง ทำให้ เจ้าชาย ผิดหวัง \\n',\n",
       "  'ไม่เป็นไร   เอา มือถือ มา \\n',\n",
       "  'เรา มา คุ้มครอง คุณ นะ   จาก ใคร ล่ะ \\n',\n",
       "  'นาย นี่ มีพรสวรรค์ เรื่อง คิด ภาพ จริงๆ นะ \\n',\n",
       "  'ฉัน รู้ \\n',\n",
       "  'แซม ! \\n',\n",
       "  'เคย เห็น แว๊บ ๆ   แต่ รู้ ว่า ทำงาน ที่   เบอร์ เก ตต์   แร นเดิล \\n',\n",
       "  'ขอบคุณ ที่ พา มัน ไป เดิน \\n',\n",
       "  'เดี๋ยวก่อน   โอ เค๊   เดี๋ยวก่อน \\n',\n",
       "  'โอ้โฮ   คุณผู้หญิง   คุณ พลาด สุด ๆ   พลาด   เรื่อง อะไร \\n'])"
      ]
     },
     "execution_count": 83,
     "metadata": {},
     "output_type": "execute_result"
    }
   ],
   "source": [
    "th_valid = [th_tok[i] for i in valid_idx]\n",
    "len(th_valid), th_valid[:10]"
   ]
  },
  {
   "cell_type": "code",
   "execution_count": 84,
   "metadata": {},
   "outputs": [
    {
     "data": {
      "text/plain": [
       "(328153,\n",
       " ['Yesterday . I feel I let the prince down . \\n',\n",
       "  \"All right , fine , whatever . Just give me the phone . - Tell him you ' re a cop . \\n\",\n",
       "  \"- We ' re here to protect you . - From who ? \\n\",\n",
       "  'Youdohaveaknackfor creating a vivid picture , \\n',\n",
       "  'I know . \\n',\n",
       "  'Sam ! \\n',\n",
       "  \"I ' ve seen him around . He ' s definitely Burkett Randle . \\n\",\n",
       "  'Thank you for walking him . \\n',\n",
       "  'Not yet . All right ? Not yet . \\n',\n",
       "  '-Oh , damn , you are so uncool . -What ? Twig what ? \\n'])"
      ]
     },
     "execution_count": 84,
     "metadata": {},
     "output_type": "execute_result"
    }
   ],
   "source": [
    "en_valid = [en_tok[i] for i in valid_idx]\n",
    "len(en_valid), en_valid[:10]"
   ]
  },
  {
   "cell_type": "code",
   "execution_count": 85,
   "metadata": {},
   "outputs": [],
   "source": [
    "with open('data/opensubtitles_tok/valid.en','w') as f:\n",
    "    for e in en_valid:\n",
    "        f.write(e)\n",
    "with open('data/opensubtitles_tok/valid.th','w') as f:\n",
    "    for t in th_valid:\n",
    "        f.write(t)"
   ]
  },
  {
   "cell_type": "code",
   "execution_count": 87,
   "metadata": {},
   "outputs": [
    {
     "data": {
      "text/plain": [
       "(328154,\n",
       " ['งั้น ... \\n',\n",
       "  'ผม อยาก จะ พบ กับ   ชา แมน \\n',\n",
       "  'กระทั่ง พลิกแผ่นดิน หา \\n',\n",
       "  'ใช่ \\n',\n",
       "  'เธอ หมาย ว่า ไง \\n',\n",
       "  'พวก มัน วางแผน จู่โจม ก่อนที่ เข้ามา ที่ คลับ   จากนั้น ก็ แยกกัน   แล้ว เลือก เหยื่อ \\n',\n",
       "  'แล้ว มัน หมายถึง ยังไง สำหรับ เรา ? \\n',\n",
       "  'ใช่   เธอ ตาย แล้ว \\n',\n",
       "  '- เฮ้   ดี จ้า คุณ นักกีฬา   ดี จ้า ด้วย \\n',\n",
       "  '-   แล้ว เขา เป็น ยังไง บ้าง \\n'])"
      ]
     },
     "execution_count": 87,
     "metadata": {},
     "output_type": "execute_result"
    }
   ],
   "source": [
    "th_test = [th_tok[i] for i in test_idx]\n",
    "len(th_test), th_test[:10]"
   ]
  },
  {
   "cell_type": "code",
   "execution_count": 88,
   "metadata": {},
   "outputs": [
    {
     "data": {
      "text/plain": [
       "(328154,\n",
       " ['So ... \\n',\n",
       "  'I would like to meet there shaman . \\n',\n",
       "  'Looking under every rock . \\n',\n",
       "  'Yeah . \\n',\n",
       "  'What do you mean ? \\n',\n",
       "  'They make a plan of attack before they get to the club , then they separate and choose their prey . \\n',\n",
       "  'What does this mean for us ? \\n',\n",
       "  \"Yes , she did . She ' s dead . \\n\",\n",
       "  '- Hey . Mr . Sporting Goods . - Hey yourself . \\n',\n",
       "  \"Well , what ' s he doing ? \\n\"])"
      ]
     },
     "execution_count": 88,
     "metadata": {},
     "output_type": "execute_result"
    }
   ],
   "source": [
    "en_test = [en_tok[i] for i in test_idx]\n",
    "len(en_test), en_test[:10]"
   ]
  },
  {
   "cell_type": "code",
   "execution_count": 89,
   "metadata": {},
   "outputs": [],
   "source": [
    "with open('data/opensubtitles_tok/test.en','w') as f:\n",
    "    for e in en_test:\n",
    "        f.write(e)\n",
    "        \n",
    "with open('data/opensubtitles_tok/test.th','w') as f:\n",
    "    for t in th_test:\n",
    "        f.write(t)"
   ]
  },
  {
   "cell_type": "code",
   "execution_count": 91,
   "metadata": {},
   "outputs": [],
   "source": [
    "# !fairseq-preprocess --source-lang en --target-lang th \\\n",
    "#     --trainpref data/opensubtitles_tok/train \\\n",
    "#     --validpref data/opensubtitles_tok/valid \\\n",
    "#     --testpref data/opensubtitles_tok/test \\\n",
    "#     --destdir data/opensubtitles_bin"
   ]
  },
  {
   "cell_type": "code",
   "execution_count": 90,
   "metadata": {},
   "outputs": [],
   "source": [
    "# | [en] data/opensubtitles_tok/train.en: 2625226 sents, 25945418 tokens, 0.0% replaced by <unk>\n",
    "# | [en] Dictionary: 173623 types\n",
    "# | [en] data/opensubtitles_tok/valid.en: 328153 sents, 3238427 tokens, 0.304% replaced by <unk>\n",
    "# | [en] Dictionary: 173623 types\n",
    "# | [en] data/opensubtitles_tok/test.en: 328154 sents, 3235608 tokens, 0.314% replaced by <unk>\n",
    "# | [th] Dictionary: 116495 types\n",
    "# | [th] data/opensubtitles_tok/train.th: 2625226 sents, 21658577 tokens, 0.0% replaced by <unk>\n",
    "# | [th] Dictionary: 116495 types\n",
    "# | [th] data/opensubtitles_tok/valid.th: 328153 sents, 2705475 tokens, 0.262% replaced by <unk>\n",
    "# | [th] Dictionary: 116495 types\n",
    "# | [th] data/opensubtitles_tok/test.th: 328154 sents, 2701605 tokens, 0.257% replaced by <unk>"
   ]
  },
  {
   "cell_type": "code",
   "execution_count": 98,
   "metadata": {},
   "outputs": [],
   "source": [
    "!fairseq-train \\\n",
    "    data/opensubtitles_bin \\\n",
    "    --arch transformer_iwslt_de_en --share-decoder-input-output-embed \\\n",
    "    --optimizer adam --adam-betas '(0.9, 0.98)' --clip-norm 0.0 \\\n",
    "    --lr 5e-4 --lr-scheduler inverse_sqrt --warmup-updates 4000 \\\n",
    "    --dropout 0.3 --weight-decay 0.0001 \\\n",
    "    --criterion label_smoothed_cross_entropy --label-smoothing 0.1 \\\n",
    "    --max-tokens 2048 \\\n",
    "    --bpe sentencepiece \\\n",
    "    --memory-efficient-fp16\n",
    "    --save-dir data/opensubtitles_model/transformers"
   ]
  },
  {
   "cell_type": "code",
   "execution_count": null,
   "metadata": {},
   "outputs": [],
   "source": [
    "# fairseq-generate data/opensubtitles_bin \\\n",
    "#     --path data/opensubtitles_model/transformers/checkpoint_best.pt \\\n",
    "#     --beam 5 --remove-bpe"
   ]
  }
 ],
 "metadata": {
  "kernelspec": {
   "display_name": "Python 3",
   "language": "python",
   "name": "python3"
  },
  "language_info": {
   "codemirror_mode": {
    "name": "ipython",
    "version": 3
   },
   "file_extension": ".py",
   "mimetype": "text/x-python",
   "name": "python",
   "nbconvert_exporter": "python",
   "pygments_lexer": "ipython3",
   "version": "3.6.8"
  }
 },
 "nbformat": 4,
 "nbformat_minor": 2
}
