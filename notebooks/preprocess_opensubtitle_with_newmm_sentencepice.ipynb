{
 "cells": [
  {
   "cell_type": "code",
   "execution_count": 1,
   "metadata": {},
   "outputs": [
    {
     "name": "stdout",
     "output_type": "stream",
     "text": [
      "2.0.7\n"
     ]
    },
    {
     "name": "stderr",
     "output_type": "stream",
     "text": [
      "/Users/saiko/miniconda3/envs/saiko/lib/python3.7/site-packages/tensorflow/python/framework/dtypes.py:516: FutureWarning: Passing (type, 1) or '1type' as a synonym of type is deprecated; in a future version of numpy, it will be understood as (type, (1,)) / '(1,)type'.\n",
      "  _np_qint8 = np.dtype([(\"qint8\", np.int8, 1)])\n",
      "/Users/saiko/miniconda3/envs/saiko/lib/python3.7/site-packages/tensorflow/python/framework/dtypes.py:517: FutureWarning: Passing (type, 1) or '1type' as a synonym of type is deprecated; in a future version of numpy, it will be understood as (type, (1,)) / '(1,)type'.\n",
      "  _np_quint8 = np.dtype([(\"quint8\", np.uint8, 1)])\n",
      "/Users/saiko/miniconda3/envs/saiko/lib/python3.7/site-packages/tensorflow/python/framework/dtypes.py:518: FutureWarning: Passing (type, 1) or '1type' as a synonym of type is deprecated; in a future version of numpy, it will be understood as (type, (1,)) / '(1,)type'.\n",
      "  _np_qint16 = np.dtype([(\"qint16\", np.int16, 1)])\n",
      "/Users/saiko/miniconda3/envs/saiko/lib/python3.7/site-packages/tensorflow/python/framework/dtypes.py:519: FutureWarning: Passing (type, 1) or '1type' as a synonym of type is deprecated; in a future version of numpy, it will be understood as (type, (1,)) / '(1,)type'.\n",
      "  _np_quint16 = np.dtype([(\"quint16\", np.uint16, 1)])\n",
      "/Users/saiko/miniconda3/envs/saiko/lib/python3.7/site-packages/tensorflow/python/framework/dtypes.py:520: FutureWarning: Passing (type, 1) or '1type' as a synonym of type is deprecated; in a future version of numpy, it will be understood as (type, (1,)) / '(1,)type'.\n",
      "  _np_qint32 = np.dtype([(\"qint32\", np.int32, 1)])\n",
      "/Users/saiko/miniconda3/envs/saiko/lib/python3.7/site-packages/tensorflow/python/framework/dtypes.py:525: FutureWarning: Passing (type, 1) or '1type' as a synonym of type is deprecated; in a future version of numpy, it will be understood as (type, (1,)) / '(1,)type'.\n",
      "  np_resource = np.dtype([(\"resource\", np.ubyte, 1)])\n",
      "/Users/saiko/miniconda3/envs/saiko/lib/python3.7/site-packages/tensorboard/compat/tensorflow_stub/dtypes.py:541: FutureWarning: Passing (type, 1) or '1type' as a synonym of type is deprecated; in a future version of numpy, it will be understood as (type, (1,)) / '(1,)type'.\n",
      "  _np_qint8 = np.dtype([(\"qint8\", np.int8, 1)])\n",
      "/Users/saiko/miniconda3/envs/saiko/lib/python3.7/site-packages/tensorboard/compat/tensorflow_stub/dtypes.py:542: FutureWarning: Passing (type, 1) or '1type' as a synonym of type is deprecated; in a future version of numpy, it will be understood as (type, (1,)) / '(1,)type'.\n",
      "  _np_quint8 = np.dtype([(\"quint8\", np.uint8, 1)])\n",
      "/Users/saiko/miniconda3/envs/saiko/lib/python3.7/site-packages/tensorboard/compat/tensorflow_stub/dtypes.py:543: FutureWarning: Passing (type, 1) or '1type' as a synonym of type is deprecated; in a future version of numpy, it will be understood as (type, (1,)) / '(1,)type'.\n",
      "  _np_qint16 = np.dtype([(\"qint16\", np.int16, 1)])\n",
      "/Users/saiko/miniconda3/envs/saiko/lib/python3.7/site-packages/tensorboard/compat/tensorflow_stub/dtypes.py:544: FutureWarning: Passing (type, 1) or '1type' as a synonym of type is deprecated; in a future version of numpy, it will be understood as (type, (1,)) / '(1,)type'.\n",
      "  _np_quint16 = np.dtype([(\"quint16\", np.uint16, 1)])\n",
      "/Users/saiko/miniconda3/envs/saiko/lib/python3.7/site-packages/tensorboard/compat/tensorflow_stub/dtypes.py:545: FutureWarning: Passing (type, 1) or '1type' as a synonym of type is deprecated; in a future version of numpy, it will be understood as (type, (1,)) / '(1,)type'.\n",
      "  _np_qint32 = np.dtype([(\"qint32\", np.int32, 1)])\n",
      "/Users/saiko/miniconda3/envs/saiko/lib/python3.7/site-packages/tensorboard/compat/tensorflow_stub/dtypes.py:550: FutureWarning: Passing (type, 1) or '1type' as a synonym of type is deprecated; in a future version of numpy, it will be understood as (type, (1,)) / '(1,)type'.\n",
      "  np_resource = np.dtype([(\"resource\", np.ubyte, 1)])\n"
     ]
    }
   ],
   "source": [
    "# coding=utf-8\n",
    "import sys\n",
    "sys.path.append('..')\n",
    "\n",
    "import os\n",
    "import io\n",
    "import random\n",
    "import copy \n",
    "import re\n",
    "import html\n",
    "import numpy as np\n",
    "\n",
    "from time import time \n",
    "from multiprocessing import Pool\n",
    "from collections import Counter\n",
    "\n",
    "from functools import partial\n",
    "\n",
    "from tqdm import tqdm_notebook\n",
    "import pythainlp\n",
    "from pythainlp.util import *\n",
    "from pythainlp.tokenize import word_tokenize\n",
    "from pythainlp.ulmfit import *\n",
    "\n",
    "# subword-nmt\n",
    "from subword_nmt import learn_bpe as learner\n",
    "from subword_nmt import apply_bpe as subword_tokenizer\n",
    "\n",
    "import fairseq \n",
    "from datetime import timedelta\n",
    "from tqdm import tqdm, tqdm_notebook\n",
    "from pythainlp.tokenize import DEFAULT_DICT_TRIE\n",
    "\n",
    "from pythainlp.corpus import thai_words\n",
    "\n",
    "print(pythainlp.__version__)\n",
    "# assert pythainlp.__version__ == '2.1'\n",
    "\n",
    "\n",
    "\n",
    "import tensorflow as tf\n",
    "import tensorflow_hub as hub\n",
    "import sentencepiece as spm\n",
    "import tf_sentencepiece "
   ]
  },
  {
   "cell_type": "code",
   "execution_count": 2,
   "metadata": {},
   "outputs": [
    {
     "name": "stdout",
     "output_type": "stream",
     "text": [
      "[name: \"/device:CPU:0\"\n",
      "device_type: \"CPU\"\n",
      "memory_limit: 268435456\n",
      "locality {\n",
      "}\n",
      "incarnation: 3217757159019830333\n",
      "]\n"
     ]
    }
   ],
   "source": [
    "from tensorflow.python.client import device_lib\n",
    "print(device_lib.list_local_devices())\n"
   ]
  },
  {
   "cell_type": "code",
   "execution_count": 3,
   "metadata": {},
   "outputs": [],
   "source": [
    "# # install BPEmb (BPE embeddings)\n",
    "\n",
    "# !pip install --q bpemb emoji subword-nmt fairseq tensorflow_hub sentencepiece tf_sentencepiece"
   ]
  },
  {
   "cell_type": "code",
   "execution_count": 4,
   "metadata": {},
   "outputs": [
    {
     "name": "stdout",
     "output_type": "stream",
     "text": [
      "INFO:tensorflow:Saver not created because there are no variables in the graph to restore\n"
     ]
    },
    {
     "name": "stderr",
     "output_type": "stream",
     "text": [
      "INFO:tensorflow:Saver not created because there are no variables in the graph to restore\n"
     ]
    }
   ],
   "source": [
    "# Universal Sentence Encoder\n",
    "\n",
    "# The 16-language multilingual module is the default but feel free\n",
    "# to pick others from the list and compare the results.\n",
    "module_url = 'https://tfhub.dev/google/universal-sentence-encoder-multilingual/1'  \n",
    "#@param ['https://tfhub.dev/google/universal-sentence-encoder-multilingual/1', 'https://tfhub.dev/google/universal-sentence-encoder-multilingual-large/1', 'https://tfhub.dev/google/universal-sentence-encoder-xling-many/1']\n",
    "\n",
    "# Set up graph.\n",
    "g = tf.Graph()\n",
    "with g.as_default():\n",
    "  text_input = tf.placeholder(dtype=tf.string, shape=[None])\n",
    "  multiling_embed = hub.Module(module_url)\n",
    "  embedded_text = multiling_embed(text_input)\n",
    "  init_op = tf.group([tf.global_variables_initializer(), tf.tables_initializer()])\n",
    "g.finalize()\n"
   ]
  },
  {
   "cell_type": "code",
   "execution_count": null,
   "metadata": {},
   "outputs": [],
   "source": []
  },
  {
   "cell_type": "code",
   "execution_count": null,
   "metadata": {},
   "outputs": [],
   "source": []
  },
  {
   "cell_type": "code",
   "execution_count": 5,
   "metadata": {},
   "outputs": [],
   "source": [
    "\n",
    "\n",
    "def compute_similarity(src_sent, tgt_sent):\n",
    "    \"\"\"\n",
    "        Calculate sentence similarity based on Google Universal Sentence Encoder (Multilingual Large)\n",
    "    \"\"\"\n",
    "    with tf.device('/gpu:0'):\n",
    "        session = tf.Session(graph=g, config=tf.ConfigProto(log_device_placement=True))\n",
    "        session.run(init_op)\n",
    "\n",
    "        src_result = session.run(embedded_text, feed_dict={text_input: [src_sent]})\n",
    "        tgt_result = session.run(embedded_text, feed_dict={text_input: [tgt_sent]})\n",
    "    \n",
    "    return np.inner(src_result, tgt_result).reshape(1)[0]\n",
    "\n",
    "def compute_similarity_list(src_sent, tgt_sent):\n",
    "    \"\"\"\n",
    "        Calculate sentence similarity based on Google Universal Sentence Encoder (Multilingual Large)\n",
    "    \"\"\"\n",
    "    with tf.device('/gpu:0'):\n",
    "\n",
    "        session = tf.Session(graph=g, config=tf.ConfigProto(log_device_placement=True))\n",
    "        session.run(init_op)\n",
    "\n",
    "        src_results = session.run(embedded_text, feed_dict={text_input: src_sent})\n",
    "        tgt_results = session.run(embedded_text, feed_dict={text_input: tgt_sent})\n",
    "\n",
    "        similarities = []\n",
    "        for index, src_result in enumerate(src_results):\n",
    "            similarity = np.inner(src_results[index], tgt_results[index]).reshape(1)[0]\n",
    "            similarities.append(similarity)\n",
    "\n",
    "    return similarities\n"
   ]
  },
  {
   "cell_type": "code",
   "execution_count": null,
   "metadata": {},
   "outputs": [],
   "source": []
  },
  {
   "cell_type": "code",
   "execution_count": 6,
   "metadata": {},
   "outputs": [
    {
     "name": "stdout",
     "output_type": "stream",
     "text": [
      "0.8449457\n",
      "0.7397201\n",
      "[0.8449458, 0.7397201]\n",
      "[0.24111706]\n"
     ]
    }
   ],
   "source": [
    "print(compute_similarity(\"ฉันชื่อยีน\",\"My Name is Gene\"))\n",
    "# print(compute_similarity(\"ฉันชื่อยีน\",\"My Name is Jane\"))\n",
    "print(compute_similarity(\"ฉันชื่อยีน\",\"My Name is Jeans\"))\n",
    "# print(compute_similarity(\"ฉันชื่อยีน\",\"My Name is Jean\"))\n",
    "print(compute_similarity_list([\"ฉันชื่อยีน\", \"ฉันชื่อยีน\"], [\"My Name is Gene\", \"My Name is Jeans\"]))\n",
    "\n",
    "print(compute_similarity_list(['ไปกันฟาเวล'], [\"Come on, Favell. Let's go.\"]))"
   ]
  },
  {
   "cell_type": "code",
   "execution_count": null,
   "metadata": {},
   "outputs": [],
   "source": []
  },
  {
   "cell_type": "code",
   "execution_count": 7,
   "metadata": {},
   "outputs": [],
   "source": [
    "from bpemb import BPEmb\n",
    "\n",
    "bpemb_pretrained ={\n",
    "    'th': {\n",
    "        '25000': BPEmb(lang=\"th\", vs=25000)\n",
    "    },\n",
    "    'en': {\n",
    "        '25000': BPEmb(lang=\"en\", vs=25000)\n",
    "    }\n",
    "}\n"
   ]
  },
  {
   "cell_type": "code",
   "execution_count": 8,
   "metadata": {},
   "outputs": [
    {
     "data": {
      "text/plain": [
       "(3281534,\n",
       " ['Slave in the Magic Mirror, come from the farthest space.',\n",
       "  'Through wind and darkness, I summon thee.',\n",
       "  'Speak!'])"
      ]
     },
     "execution_count": 8,
     "metadata": {},
     "output_type": "execute_result"
    }
   ],
   "source": [
    "with open('../data/opensubtitle_v2018/OpenSubtitles.en-th.en','r', encoding='utf-8') as f:\n",
    "    en = f.read().split('\\n')\n",
    "len(en),en[:3]\n"
   ]
  },
  {
   "cell_type": "code",
   "execution_count": 9,
   "metadata": {},
   "outputs": [
    {
     "data": {
      "text/plain": [
       "(3281534,\n",
       " ['ทาสในกระจกวิเศษ, มาจากพื้นที่ที่ไกลที่สุด',\n",
       "  'ผ่านลมและความมืดฉันเรียกเจ้า',\n",
       "  'พูด!'])"
      ]
     },
     "execution_count": 9,
     "metadata": {},
     "output_type": "execute_result"
    }
   ],
   "source": [
    "with open('../data/opensubtitle_v2018/OpenSubtitles.en-th.th','r', encoding='utf-8') as f:\n",
    "    th = f.read().split('\\n')\n",
    "    \n",
    "len(th),th[:3]"
   ]
  },
  {
   "cell_type": "markdown",
   "metadata": {},
   "source": [
    "# Preprocess Opensubtitles_v2018\n",
    "\n",
    "\n",
    "## 1.1 Text cleaning, filtering out"
   ]
  },
  {
   "cell_type": "code",
   "execution_count": 10,
   "metadata": {},
   "outputs": [],
   "source": [
    "import sys\n",
    "sys.path.append('..')"
   ]
  },
  {
   "cell_type": "code",
   "execution_count": 11,
   "metadata": {},
   "outputs": [],
   "source": [
    "from mt_opus.preprocess import (\n",
    "    SentenceLengthLessThanOrEqualToOne,\n",
    "    SentenceContainsUnknownSymbol,\n",
    "    SentenceContainsAdSymbol,\n",
    "    ThaiSentenceContainsNoThaiCharacters,\n",
    "    ThaiSentenceContainsNoThaiCharactersPattern,\n",
    "    ThaiSentenceContainsUnwantedPattern,\n",
    "    EnglishSentenceContainsUnwantedPattern,\n",
    "    SentenceContainsOnlyAsterisk,\n",
    "    \n",
    "    UnescapeString,\n",
    "    RemoveUnwantedSymbols,\n",
    "    RemoveUnwantedPattern,\n",
    "    ReplaceDashInSentence,\n",
    "    RemoveHashtagInSentence,\n",
    "    RemoveFullStopInThaiSentence,\n",
    "    NormalizeThaiVowel,\n",
    "    ReplaceAsteriskInSentence,\n",
    "    RemoveColonInSentence,\n",
    "    RemoveSemiColonInSentence,\n",
    "    FormatTime,\n",
    "    \n",
    "    SentencePairFoundRepeatedText,\n",
    "    SentencePairTokenLengthsDifferGreaterThreshold,\n",
    ")"
   ]
  },
  {
   "cell_type": "code",
   "execution_count": 12,
   "metadata": {},
   "outputs": [],
   "source": [
    "# to filter out a sentence pair\n",
    "filtering_rules = [\n",
    "    SentenceLengthLessThanOrEqualToOne(),\n",
    "    SentenceContainsAdSymbol(),\n",
    "    SentenceContainsUnknownSymbol(),\n",
    "    ThaiSentenceContainsNoThaiCharacters(),\n",
    "    ThaiSentenceContainsNoThaiCharactersPattern(),\n",
    "    SentenceContainsOnlyAsterisk(),\n",
    "]\n",
    "\n",
    "cleaning_rules = [\n",
    "    UnescapeString(),\n",
    "    RemoveUnwantedSymbols(),\n",
    "    RemoveUnwantedPattern(),\n",
    "    ReplaceDashInSentence(),\n",
    "    RemoveHashtagInSentence(),\n",
    "    RemoveFullStopInThaiSentence(),\n",
    "    NormalizeThaiVowel(),\n",
    "    ReplaceAsteriskInSentence(),\n",
    "    RemoveColonInSentence(),\n",
    "    RemoveSemiColonInSentence(),\n",
    "    FormatTime(),\n",
    "    ReplaceDashInSentence(),\n",
    "]\n",
    "\n",
    "filtering_sentence_pair_rules = [\n",
    "    SentencePairFoundRepeatedText(),\n",
    "    SentencePairTokenLengthsDifferGreaterThreshold(threshold=0.85),\n",
    "]\n",
    "\n",
    "filtering_rules_post = [\n",
    "    SentenceLengthLessThanOrEqualToOne(),\n",
    "    ThaiSentenceContainsUnwantedPattern(),\n",
    "    EnglishSentenceContainsUnwantedPattern(),\n",
    "]"
   ]
  },
  {
   "cell_type": "code",
   "execution_count": 13,
   "metadata": {},
   "outputs": [],
   "source": [
    "# this could be parallelized\n",
    "def filter_sentence(sentence, lang, rules=filtering_rules):\n",
    "    \"\"\"\n",
    "        Return True if a sentence match filtering pattern\n",
    "    \"\"\"\n",
    "    for rule in rules:\n",
    "        rule_obj = rule\n",
    "        if rule_obj.test(sentence, lang=lang):\n",
    "            return True\n",
    "    return False\n",
    "\n",
    "def filter_sentences(sentences, lang, rules=filtering_rules):\n",
    "    \"\"\"\n",
    "        Returns a list of Boolean value, if such element is True, it means filter that sentence pair.\n",
    "        Otherwise, keep that sentnence pair.\n",
    "    \"\"\"\n",
    "    filtering_indices = []\n",
    "    p = Pool() # use all available cores\n",
    "    t = time()\n",
    "\n",
    "    _filter_sentence = partial(filter_sentence, lang=lang, rules=rules)\n",
    "    filtering_indices = p.map(_filter_sentence, sentences)\n",
    "    \n",
    "    p.close()\n",
    "    p.join() # call Pool.join() to wait for the worker processes to terminate.\n",
    "\n",
    "    filtering_indices_np = np.array(filtering_indices)\n",
    "    number_of_filtered_out = np.sum(filtering_indices_np)\n",
    "    \n",
    "    print('Time taken: {} s'.format(time() -t))\n",
    "    print('# sentences ({}) before filtered out'.format(lang), len(sentences))\n",
    "    print('# sentences ({}) filtered out'.format(lang), number_of_filtered_out)\n",
    "    print('# sentences ({}) after filtered out'.format(lang), len(sentences) - number_of_filtered_out)\n",
    "\n",
    "    return filtering_indices_np, number_of_filtered_out\n",
    "\n",
    "\n",
    "def filter_sentence_pair(sentence_pair, rules=filtering_sentence_pair_rules):\n",
    "    \"\"\"\n",
    "        Return True if a sentence match filtering sentence pair pattern\n",
    "    \"\"\"\n",
    "    for rule in rules:\n",
    "        rule_obj = rule\n",
    "        if rule_obj.test(sentence_pair):\n",
    "            return True\n",
    "    return False\n",
    "\n",
    "def filter_sentence_pairs(sentence_pairs, rules=filtering_sentence_pair_rules):\n",
    "    \"\"\"\n",
    "        Returns a list of Boolean value, if such element is True, it means filter that sentence pair.\n",
    "        Otherwise, keep that sentnence pair.\n",
    "    \"\"\"\n",
    "    filtering_indices = []\n",
    "    p = Pool() # use all available cores\n",
    "    t = time()\n",
    "\n",
    "    _filter_sentence_pair = partial(filter_sentence_pair, rules=rules)\n",
    "    filtering_indices = p.map(_filter_sentence_pair, sentence_pairs)\n",
    "    \n",
    "    p.close()\n",
    "    p.join() # call Pool.join() to wait for the worker processes to terminate.\n",
    "\n",
    "    filtering_indices_np = np.array(filtering_indices)\n",
    "    number_of_filtered_out = np.sum(filtering_indices_np)\n",
    "    \n",
    "    print('Time taken: {} s'.format(time() -t))\n",
    "    print('# sentences before filtered out', len(sentence_pairs))\n",
    "    print('# sentences filtered out', number_of_filtered_out)\n",
    "    print('# sentences after filtered out', len(sentence_pairs) - number_of_filtered_out)\n",
    "\n",
    "    return filtering_indices_np, number_of_filtered_out\n",
    "\n",
    "\n",
    "def clean_sentence(sentence, lang, rules=cleaning_rules):\n",
    "    for rule in rules: \n",
    "        rule_obj = rule\n",
    "        if rule_obj.test(sentence, lang=lang):\n",
    "            sentence = rule_obj.replace(sentence, lang=lang)\n",
    "    return sentence\n",
    "\n",
    "def clean_sentences(sentences, lang, rules=cleaning_rules):\n",
    "    \"\"\"\n",
    "        Clean the sentence with the specified text cleaning rules\n",
    "        Return a list of cleaned sentences\n",
    "    \"\"\"\n",
    "    p = Pool() # use all available cores\n",
    "    t = time()\n",
    "    \n",
    "    _clean_sentence = partial(clean_sentence, lang=lang, rules=rules)\n",
    "    cleaned_sentences = p.map(_clean_sentence, sentences)\n",
    "    \n",
    "    p.close()\n",
    "    p.join() # call Pool.join() to wait for the worker processes to terminate.\n",
    "\n",
    "    print('Time taken: {} s'.format(time() -t))\n",
    "    \n",
    "    return cleaned_sentences\n"
   ]
  },
  {
   "cell_type": "markdown",
   "metadata": {},
   "source": [
    "### 1) Filtering by sentence for each language "
   ]
  },
  {
   "cell_type": "code",
   "execution_count": 14,
   "metadata": {},
   "outputs": [
    {
     "name": "stdout",
     "output_type": "stream",
     "text": [
      "Time taken: 11.766974687576294 s\n",
      "# sentences (th) before filtered out 3281534\n",
      "# sentences (th) filtered out 77301\n",
      "# sentences (th) after filtered out 3204233\n"
     ]
    }
   ],
   "source": [
    "filtering_indices_th, _ = filter_sentences(th, lang='th')"
   ]
  },
  {
   "cell_type": "code",
   "execution_count": 15,
   "metadata": {},
   "outputs": [
    {
     "name": "stdout",
     "output_type": "stream",
     "text": [
      "Time taken: 3.5310170650482178 s\n",
      "# sentences (en) before filtered out 3281534\n",
      "# sentences (en) filtered out 4577\n",
      "# sentences (en) after filtered out 3276957\n"
     ]
    }
   ],
   "source": [
    "filtering_indices_en, _ = filter_sentences(en, lang='en')"
   ]
  },
  {
   "cell_type": "code",
   "execution_count": 16,
   "metadata": {},
   "outputs": [
    {
     "name": "stdout",
     "output_type": "stream",
     "text": [
      "# filtering_indices_th_en 79608\n"
     ]
    }
   ],
   "source": [
    "filtering_indices_th_en = filtering_indices_th | filtering_indices_en\n",
    "\n",
    "print('# filtering_indices_th_en', sum(filtering_indices_th_en))\n",
    "\n",
    "filtered_th = [th[i] for i, filtered_out in enumerate(filtering_indices_th_en) if not filtered_out]\n",
    "filtered_en = [en[i] for i, filtered_out in enumerate(filtering_indices_th_en) if not filtered_out]"
   ]
  },
  {
   "cell_type": "code",
   "execution_count": 17,
   "metadata": {},
   "outputs": [
    {
     "name": "stdout",
     "output_type": "stream",
     "text": [
      "# filtered_th 3201926\n",
      "# filtered_en 3201926\n"
     ]
    }
   ],
   "source": [
    "print('# filtered_th', len(filtered_th))\n",
    "print('# filtered_en', len(filtered_en))"
   ]
  },
  {
   "cell_type": "code",
   "execution_count": 18,
   "metadata": {},
   "outputs": [],
   "source": [
    "# 3281534 - 78930"
   ]
  },
  {
   "cell_type": "markdown",
   "metadata": {},
   "source": [
    "### 2) Filtering by a pair of source and target language"
   ]
  },
  {
   "cell_type": "code",
   "execution_count": 19,
   "metadata": {},
   "outputs": [
    {
     "name": "stdout",
     "output_type": "stream",
     "text": [
      "Time taken: 70.97109460830688 s\n",
      "# sentences before filtered out 3201926\n",
      "# sentences filtered out 6985\n",
      "# sentences after filtered out 3194941\n"
     ]
    }
   ],
   "source": [
    "\n",
    "th_en_tuples = [(filtered_th[i], filtered_en[i]) for i in range(0, len(filtered_th))]\n",
    "filtering_pairs_indices_th_en, _ = filter_sentence_pairs(th_en_tuples)\n",
    "\n",
    "filtered_pairs_th = [filtered_th[i] for i, filtered_out in enumerate(filtering_pairs_indices_th_en) if not filtered_out]\n",
    "filtered_pairs_en = [filtered_en[i] for i, filtered_out in enumerate(filtering_pairs_indices_th_en) if not filtered_out]\n",
    "sentence_paris_filted_out = [th_en_tuples[i] for i, filtered_out in enumerate(filtering_pairs_indices_th_en) if filtered_out]\n",
    "\n"
   ]
  },
  {
   "cell_type": "code",
   "execution_count": 20,
   "metadata": {},
   "outputs": [],
   "source": [
    "# th_en_tuples"
   ]
  },
  {
   "cell_type": "code",
   "execution_count": 21,
   "metadata": {},
   "outputs": [
    {
     "name": "stdout",
     "output_type": "stream",
     "text": [
      "# filtered_pairs_th 3194941\n",
      "# filtered_pairs_en 3194941\n"
     ]
    }
   ],
   "source": [
    "print('# filtered_pairs_th', len(filtered_pairs_th))\n",
    "print('# filtered_pairs_en', len(filtered_pairs_en))"
   ]
  },
  {
   "cell_type": "code",
   "execution_count": 22,
   "metadata": {},
   "outputs": [],
   "source": [
    "for sent in filtered_pairs_en:\n",
    "    if len(sent) <= 1:\n",
    "        print(sent)"
   ]
  },
  {
   "cell_type": "code",
   "execution_count": null,
   "metadata": {},
   "outputs": [],
   "source": []
  },
  {
   "cell_type": "markdown",
   "metadata": {},
   "source": [
    "### 3) Text cleaning"
   ]
  },
  {
   "cell_type": "code",
   "execution_count": 23,
   "metadata": {},
   "outputs": [
    {
     "name": "stdout",
     "output_type": "stream",
     "text": [
      "Time taken: 50.73491382598877 s\n"
     ]
    }
   ],
   "source": [
    "cleaned_th = clean_sentences(filtered_pairs_th, lang=\"th\")"
   ]
  },
  {
   "cell_type": "code",
   "execution_count": 24,
   "metadata": {},
   "outputs": [
    {
     "name": "stdout",
     "output_type": "stream",
     "text": [
      "Time taken: 33.73413610458374 s\n"
     ]
    }
   ],
   "source": [
    "cleaned_en = clean_sentences(filtered_pairs_en, lang=\"en\")"
   ]
  },
  {
   "cell_type": "code",
   "execution_count": 25,
   "metadata": {},
   "outputs": [
    {
     "name": "stdout",
     "output_type": "stream",
     "text": [
      "cleaned_th 3194941\n"
     ]
    }
   ],
   "source": [
    "print('cleaned_th', len(cleaned_th))"
   ]
  },
  {
   "cell_type": "code",
   "execution_count": null,
   "metadata": {},
   "outputs": [],
   "source": []
  },
  {
   "cell_type": "code",
   "execution_count": null,
   "metadata": {},
   "outputs": [],
   "source": []
  },
  {
   "cell_type": "markdown",
   "metadata": {},
   "source": [
    "#### Explore cleaned sentences"
   ]
  },
  {
   "cell_type": "code",
   "execution_count": 26,
   "metadata": {},
   "outputs": [],
   "source": [
    "# c = Counter()\n",
    "# for i, sent in enumerate(cleaned_th):\n",
    "#     if len(sent) <= 1:\n",
    "#         c['found'] += 1\n",
    "#         if c['found'] <= 15:\n",
    "#             print(sent,'<>', cleaned_en[i])\n",
    "#             print()\n",
    "# c"
   ]
  },
  {
   "cell_type": "markdown",
   "metadata": {},
   "source": [
    "### 4) Post-filtering out rule\n",
    "\n",
    "- redo the filtering rules for 1) each langauge individually and 2) a language pair again."
   ]
  },
  {
   "cell_type": "code",
   "execution_count": 27,
   "metadata": {},
   "outputs": [
    {
     "name": "stdout",
     "output_type": "stream",
     "text": [
      "Time taken: 3.2427966594696045 s\n",
      "# sentences (th) before filtered out 3194941\n",
      "# sentences (th) filtered out 111\n",
      "# sentences (th) after filtered out 3194830\n",
      "Time taken: 3.2786948680877686 s\n",
      "# sentences (en) before filtered out 3194941\n",
      "# sentences (en) filtered out 277\n",
      "# sentences (en) after filtered out 3194664\n"
     ]
    }
   ],
   "source": [
    "filtering_post_indices_th, _ = filter_sentences(cleaned_th, lang='th', rules=filtering_rules_post)\n",
    "filtering_post_indices_en, _ = filter_sentences(cleaned_en, lang='en', rules=filtering_rules_post)\n",
    "\n",
    "filtering_post_indices_th_en = filtering_post_indices_th | filtering_post_indices_en\n",
    "\n",
    "\n",
    "cleaned_and_filtered_th = [cleaned_th[i] for i, filtered_out in enumerate(filtering_post_indices_th_en) if not filtered_out]\n",
    "cleaned_and_filtered_en = [cleaned_en[i] for i, filtered_out in enumerate(filtering_post_indices_th_en) if not filtered_out]\n"
   ]
  },
  {
   "cell_type": "code",
   "execution_count": 28,
   "metadata": {},
   "outputs": [
    {
     "name": "stdout",
     "output_type": "stream",
     "text": [
      "Time taken: 70.53279423713684 s\n",
      "# sentences before filtered out 3194570\n",
      "# sentences filtered out 1199\n",
      "# sentences after filtered out 3193371\n"
     ]
    }
   ],
   "source": [
    "th_en_tuples = [(cleaned_and_filtered_th[i], cleaned_and_filtered_en[i]) for i in range(0, len(cleaned_and_filtered_th))]\n",
    "filtering_pairs_indices_th_en, _ = filter_sentence_pairs(th_en_tuples)\n",
    "\n",
    "cleaned_and_filtered_th = [cleaned_and_filtered_th[i] for i, filtered_out in enumerate(filtering_pairs_indices_th_en) if not filtered_out]\n",
    "cleaned_and_filtered_en = [cleaned_and_filtered_en[i] for i, filtered_out in enumerate(filtering_pairs_indices_th_en) if not filtered_out]\n",
    "sentence_paris_filted_out = [th_en_tuples[i] for i, filtered_out in enumerate(filtering_pairs_indices_th_en) if filtered_out]\n",
    "\n"
   ]
  },
  {
   "cell_type": "code",
   "execution_count": 29,
   "metadata": {},
   "outputs": [],
   "source": [
    "# After 4 steps\n",
    "\n",
    "# number of sentence pairs is 3,201,120\n",
    "# number of sentence pairs is 3,200,973 (Add SentenceContainsAsterink rule)\n",
    "# number of sentence pairs is 3,194,664(Add SentencePairTokenLengthsDifferGreaterThreashold rule)\n",
    "# 3193370"
   ]
  },
  {
   "cell_type": "code",
   "execution_count": null,
   "metadata": {},
   "outputs": [],
   "source": []
  },
  {
   "cell_type": "code",
   "execution_count": 31,
   "metadata": {},
   "outputs": [
    {
     "name": "stdout",
     "output_type": "stream",
     "text": [
      "เบื้องต้นนะ--22 คดี\n",
      "first count I have 22.\n",
      "\n",
      "อ่า ปี 1985--2 ครั้ง\n",
      "Uh,1985 for 2 years. Yeah.\n",
      "\n",
      "ให้ฉันเดา--12ปี กับอีก 9 เดือนใช่มั๊ย\n",
      "Let me guess-12 years and 9 months ago?\n",
      "\n",
      "คุณนับ--1 2 3\n",
      "Well, uh, you count one, two, three.\n",
      "\n",
      "ตอนที่ผมสร้างเดอะแมชชีนขึ้นมาครั้งแรก ผมเห็นหมายเลขเดิมๆ ปรากฏขึ้นมาตลอด--1 สัปดาห์ 1 เดือน 6 เดือนถัดมา\n",
      "When I was first building the machine, I kept seeing the same numbers come up a week, a month, six months apart.\n",
      "\n",
      "1--ยกเลิกโทษประหาร\n",
      "One no death penalty.\n",
      "\n",
      "2--ผมอยากย้ายไปอยู่ฝั่งตะวันออก\n",
      "2--I want a transfer to the East Coast.\n",
      "\n",
      "อาห์,โบนส์ยิงไกลเข้าเป้า--3คะแนนไปเลย\n",
      "Ah, Bones shoots from the outside three points.\n",
      "\n",
      "คอนราด เกรย์สัน เกี่ยวข้องกับ M.V.A ความดันโลหิต--170/100, ชีพจร--120 บาดเจ็บที่ศีรษะ ควรใช้เครื่องตรวจศีรษะ\n",
      "Conrad Grayson involved in M.V.A., blood pressure--170/100, pulse--120, possible head trauma.\n",
      "\n",
      "Counter({'count': 9})\n"
     ]
    }
   ],
   "source": [
    "c = Counter()\n",
    "for i, sent in enumerate(cleaned_and_filtered_th):\n",
    "\n",
    "    if re.search(r\"--\", sent):\n",
    "        c['count'] += 1\n",
    "        if c['count'] <= 20:\n",
    "            print(cleaned_and_filtered_th[i])\n",
    "            print(cleaned_and_filtered_en[i])\n",
    "            print('')\n",
    "\n",
    "print(c)"
   ]
  },
  {
   "cell_type": "code",
   "execution_count": null,
   "metadata": {},
   "outputs": [],
   "source": []
  },
  {
   "cell_type": "code",
   "execution_count": null,
   "metadata": {},
   "outputs": [],
   "source": []
  },
  {
   "cell_type": "markdown",
   "metadata": {},
   "source": [
    "USE Similarity"
   ]
  },
  {
   "cell_type": "code",
   "execution_count": 32,
   "metadata": {},
   "outputs": [],
   "source": [
    "sentence_pairs_similairities = {\n",
    "    \n",
    "}\n",
    "\n",
    "        \n",
    "        "
   ]
  },
  {
   "cell_type": "code",
   "execution_count": null,
   "metadata": {},
   "outputs": [
    {
     "data": {
      "application/vnd.jupyter.widget-view+json": {
       "model_id": "2d6cf20ac1ae4f20b8824f0c0e1f33a7",
       "version_major": 2,
       "version_minor": 0
      },
      "text/plain": [
       "HBox(children=(IntProgress(value=0, max=246), HTML(value='')))"
      ]
     },
     "metadata": {},
     "output_type": "display_data"
    }
   ],
   "source": [
    "\n",
    "step_size = 13000\n",
    "for n in tqdm_notebook(range(0, len(cleaned_and_filtered_th), step_size)):\n",
    "    \n",
    "    src_sents, tgt_sents = cleaned_and_filtered_th[n:n+step_size], cleaned_and_filtered_en[n:n+step_size]\n",
    "    similairtites = compute_similarity_list(src_sents, tgt_sents)\n",
    "    for index in range(0, len(src_sents),1):\n",
    "        sentence_pairs_similairities['{}'.format(index)] = {\n",
    "         'similarity_base': similairtites[index],\n",
    "         'th': src_sents[index],\n",
    "         'en': tgt_sents[index]\n",
    "        }\n",
    "        "
   ]
  },
  {
   "cell_type": "code",
   "execution_count": null,
   "metadata": {},
   "outputs": [],
   "source": [
    "# sentence_pairs_similairities"
   ]
  },
  {
   "cell_type": "code",
   "execution_count": null,
   "metadata": {},
   "outputs": [],
   "source": [
    "# write to json file\n",
    "with open('./logs/sentence_pairs_similairities.json', 'w', encoding='utf-8') as f:\n",
    "    json.dump(sentence_pairs_similairities, f, ensure_ascii=False)"
   ]
  },
  {
   "cell_type": "code",
   "execution_count": null,
   "metadata": {},
   "outputs": [],
   "source": []
  },
  {
   "cell_type": "code",
   "execution_count": null,
   "metadata": {},
   "outputs": [],
   "source": []
  },
  {
   "cell_type": "code",
   "execution_count": null,
   "metadata": {},
   "outputs": [],
   "source": []
  },
  {
   "cell_type": "code",
   "execution_count": null,
   "metadata": {},
   "outputs": [],
   "source": []
  },
  {
   "cell_type": "code",
   "execution_count": 77,
   "metadata": {},
   "outputs": [
    {
     "name": "stdout",
     "output_type": "stream",
     "text": [
      "len 46\n"
     ]
    },
    {
     "data": {
      "text/plain": [
       "[0.0,\n",
       " 0.01,\n",
       " 0.02,\n",
       " 0.03,\n",
       " 0.04,\n",
       " 0.05,\n",
       " 0.06,\n",
       " 0.07,\n",
       " 0.08,\n",
       " 0.09,\n",
       " 0.1,\n",
       " 0.11,\n",
       " 0.12,\n",
       " 0.13,\n",
       " 0.14,\n",
       " 0.15,\n",
       " 0.16,\n",
       " 0.17,\n",
       " 0.18,\n",
       " 0.19,\n",
       " 0.2,\n",
       " 0.21,\n",
       " 0.22,\n",
       " 0.23,\n",
       " 0.24,\n",
       " 0.25,\n",
       " 0.26,\n",
       " 0.27,\n",
       " 0.28,\n",
       " 0.29,\n",
       " 0.3,\n",
       " 0.31,\n",
       " 0.32,\n",
       " 0.33,\n",
       " 0.34,\n",
       " 0.35,\n",
       " 0.36,\n",
       " 0.37,\n",
       " 0.38,\n",
       " 0.39,\n",
       " 0.4,\n",
       " 0.41,\n",
       " 0.42,\n",
       " 0.43,\n",
       " 0.44,\n",
       " 0.45]"
      ]
     },
     "execution_count": 77,
     "metadata": {},
     "output_type": "execute_result"
    }
   ],
   "source": [
    "start = 0.00\n",
    "stop = 1.0\n",
    "incr = 0.01\n",
    "eps = 1e-4*(stop-start)\n",
    "num = int((stop-start)/(incr-eps)+1)\n",
    "threshold_list = list(np.linspace(start, stop,num))\n",
    "threshold_list = [float(\"{:.3f}\".format(t)) for t in threshold_list]\n",
    "print('len', len(threshold_list))\n",
    "threshold_list"
   ]
  },
  {
   "cell_type": "code",
   "execution_count": 78,
   "metadata": {},
   "outputs": [],
   "source": [
    "sentence_pairs_in_threshold = {\n",
    "    \n",
    "}"
   ]
  },
  {
   "cell_type": "code",
   "execution_count": 80,
   "metadata": {},
   "outputs": [
    {
     "name": "stdout",
     "output_type": "stream",
     "text": [
      "threshold <=  0.0\n",
      "index=1462: count=1: ผบ <<-->> Commander Schultz escaped. <<-->> similartity = -0.023868\n",
      "index=1615: count=2: ท่านจะทำยังไงต่อไป <<-->> I had the ground covered. <<-->> similartity = -0.023339\n",
      "index=2504: count=3: ที่คุณจะไปไหน <<-->> An actor's life is fun <<-->> similartity = -0.010431\n",
      "index=6613: count=4: ฉันหวังว่าเฉพาะเมื่อฉันเป็นคน เก่า <<-->> All right. <<-->> similartity = -0.033326\n",
      "index=6623: count=5: พวกเราจะมีอาหารมื้อเย็น <<-->> What have you got? <<-->> similartity = -0.101354\n",
      "index=8097: count=6: โดยไม่มีแหวน <<-->> Something must be done. <<-->> similartity = -0.047372\n",
      "index=8103: count=7: เด็กที่น่ารักและคือธรรมชาติ <<-->> They expect it, don't they. <<-->> similartity = -0.055986\n",
      "index=8105: count=8: หนึ่งจดใช่ไหม คุณรู้ว่าฉันหมายถึง อะไร <<-->> Adoration hasn't gone to their heads. <<-->> similartity = -0.080634\n",
      "index=8158: count=9: ความเข้าใจอย่างฉับพลัน <<-->> Ho! <<-->> similartity = -0.077092\n",
      "index=8228: count=10: แหวนวงนี้ได้หมายถึงอะไรกับคุณ? <<-->> Stepney. <<-->> similartity = -0.019521\n",
      "index=8260: count=11: หวั่นความลับแหวนบวงสรวงสิ่ง ศักดิ์สิทธิ์ <<-->> Is it? <<-->> similartity = -0.003374\n",
      "index=8270: count=12: เขาคือผู้ชนะได้รับการยกเว้น <<-->> All are happy to go. <<-->> similartity = -0.030523\n",
      "index=8280: count=13: คุณคิดว่าอะไรมันคืออะไร? <<-->> A season ticket. <<-->> similartity = -0.033095\n",
      "index=8291: count=14: มีรอยเท้าในที่นี่ <<-->> (Bhuta) Three hours. <<-->> similartity = -0.022788\n",
      "index=8296: count=15: คุณจะต้องได้รับมันออก <<-->> This ring is not stone. <<-->> similartity = -0.001368\n",
      "index=8333: count=16: ฉันถามคุณ <<-->> Has a degree in woodwork. <<-->> similartity = -0.022079\n",
      "index=8342: count=17: คุณรู้สึกอย่างไร? <<-->> That's what foxes me. <<-->> similartity = -0.028783\n",
      "index=8343: count=18: ฉันเคยใช้มือของ ฉัน <<-->> How do you feel? <<-->> similartity = -0.010175\n",
      "index=8355: count=19: ที่จะหยุดเขาเมื่อเขาเช่นนี้ เขาออกจะครองโลก <<-->> It's more than my job's worth! <<-->> similartity = -0.012914\n",
      "index=8408: count=20: ฉันไม่ได้มีการใด ๆ ที่คุณรู้ว่า <<-->> You can put that away. <<-->> similartity = -0.026857\n",
      "index=8415: count=21: อนิจจาถ้าเขากล้าหาญ <<-->> Don't look. <<-->> similartity = -0.033053\n",
      "index=8608: count=22: คุณไม่เชื่อเราคุณ? <<-->> Great Train Robbery, how's that going? <<-->> similartity = -0.002355\n",
      "index=8745: count=23: คุณแสงในกองทุนอีกครั้ง <<-->> Some people's are. <<-->> similartity = -0.061608\n",
      "index=8764: count=24: คุณไม่ได้ใช้นิ้วมือว่าในอดีตที่ผ่านมา <<-->> I'll raise you. <<-->> similartity = -0.059670\n",
      "index=8775: count=25: คุณต้องมี ครั้งเดียวที่คุณเคยนอน <<-->> I've got a good hand. <<-->> similartity = -0.016631\n",
      "threshold <=  0.01\n",
      "index=971: count=1: โทไมเนีย <<-->> Stand by for further commentary. Go ahead, Tomainia. <<-->> similartity = 0.004186\n",
      "index=1462: count=2: ผบ <<-->> Commander Schultz escaped. <<-->> similartity = -0.023868\n",
      "index=1615: count=3: ท่านจะทำยังไงต่อไป <<-->> I had the ground covered. <<-->> similartity = -0.023339\n",
      "index=2504: count=4: ที่คุณจะไปไหน <<-->> An actor's life is fun <<-->> similartity = -0.010431\n",
      "index=6613: count=5: ฉันหวังว่าเฉพาะเมื่อฉันเป็นคน เก่า <<-->> All right. <<-->> similartity = -0.033326\n",
      "index=6623: count=6: พวกเราจะมีอาหารมื้อเย็น <<-->> What have you got? <<-->> similartity = -0.101354\n",
      "index=8097: count=7: โดยไม่มีแหวน <<-->> Something must be done. <<-->> similartity = -0.047372\n",
      "index=8103: count=8: เด็กที่น่ารักและคือธรรมชาติ <<-->> They expect it, don't they. <<-->> similartity = -0.055986\n",
      "index=8105: count=9: หนึ่งจดใช่ไหม คุณรู้ว่าฉันหมายถึง อะไร <<-->> Adoration hasn't gone to their heads. <<-->> similartity = -0.080634\n",
      "index=8158: count=10: ความเข้าใจอย่างฉับพลัน <<-->> Ho! <<-->> similartity = -0.077092\n",
      "index=8228: count=11: แหวนวงนี้ได้หมายถึงอะไรกับคุณ? <<-->> Stepney. <<-->> similartity = -0.019521\n",
      "index=8260: count=12: หวั่นความลับแหวนบวงสรวงสิ่ง ศักดิ์สิทธิ์ <<-->> Is it? <<-->> similartity = -0.003374\n",
      "index=8270: count=13: เขาคือผู้ชนะได้รับการยกเว้น <<-->> All are happy to go. <<-->> similartity = -0.030523\n",
      "index=8280: count=14: คุณคิดว่าอะไรมันคืออะไร? <<-->> A season ticket. <<-->> similartity = -0.033095\n",
      "index=8291: count=15: มีรอยเท้าในที่นี่ <<-->> (Bhuta) Three hours. <<-->> similartity = -0.022788\n",
      "index=8296: count=16: คุณจะต้องได้รับมันออก <<-->> This ring is not stone. <<-->> similartity = -0.001368\n",
      "index=8314: count=17: ไม่ย่อท้อในที่สุด นักวิทยาศาสตร์ที่ ใกล้ที่สุด <<-->> (Electronic beeping) <<-->> similartity = 0.009256\n",
      "index=8333: count=18: ฉันถามคุณ <<-->> Has a degree in woodwork. <<-->> similartity = -0.022079\n",
      "index=8342: count=19: คุณรู้สึกอย่างไร? <<-->> That's what foxes me. <<-->> similartity = -0.028783\n",
      "index=8343: count=20: ฉันเคยใช้มือของ ฉัน <<-->> How do you feel? <<-->> similartity = -0.010175\n",
      "index=8355: count=21: ที่จะหยุดเขาเมื่อเขาเช่นนี้ เขาออกจะครองโลก <<-->> It's more than my job's worth! <<-->> similartity = -0.012914\n",
      "index=8408: count=22: ฉันไม่ได้มีการใด ๆ ที่คุณรู้ว่า <<-->> You can put that away. <<-->> similartity = -0.026857\n",
      "index=8415: count=23: อนิจจาถ้าเขากล้าหาญ <<-->> Don't look. <<-->> similartity = -0.033053\n",
      "index=8423: count=24: คุณบอกว่าสิ่งนั้นคืออะไร? <<-->> Find out. <<-->> similartity = 0.009888\n",
      "index=8590: count=25: กรุ๊ปเลือดของฉันคือ <<-->> Look! <<-->> similartity = 0.005412\n",
      "threshold <=  0.02\n",
      "index=971: count=1: โทไมเนีย <<-->> Stand by for further commentary. Go ahead, Tomainia. <<-->> similartity = 0.004186\n",
      "index=1462: count=2: ผบ <<-->> Commander Schultz escaped. <<-->> similartity = -0.023868\n",
      "index=1615: count=3: ท่านจะทำยังไงต่อไป <<-->> I had the ground covered. <<-->> similartity = -0.023339\n",
      "index=2450: count=4: ถ้าเราเล่นไพ่ของเราได้เรา จะ <<-->> Listen. <<-->> similartity = 0.011655\n",
      "index=2504: count=5: ที่คุณจะไปไหน <<-->> An actor's life is fun <<-->> similartity = -0.010431\n",
      "index=6613: count=6: ฉันหวังว่าเฉพาะเมื่อฉันเป็นคน เก่า <<-->> All right. <<-->> similartity = -0.033326\n",
      "index=6623: count=7: พวกเราจะมีอาหารมื้อเย็น <<-->> What have you got? <<-->> similartity = -0.101354\n",
      "index=7041: count=8: ไม่ <<-->> I should have some luck. <<-->> similartity = 0.013461\n",
      "index=8097: count=9: โดยไม่มีแหวน <<-->> Something must be done. <<-->> similartity = -0.047372\n",
      "index=8103: count=10: เด็กที่น่ารักและคือธรรมชาติ <<-->> They expect it, don't they. <<-->> similartity = -0.055986\n",
      "index=8105: count=11: หนึ่งจดใช่ไหม คุณรู้ว่าฉันหมายถึง อะไร <<-->> Adoration hasn't gone to their heads. <<-->> similartity = -0.080634\n",
      "index=8158: count=12: ความเข้าใจอย่างฉับพลัน <<-->> Ho! <<-->> similartity = -0.077092\n",
      "index=8228: count=13: แหวนวงนี้ได้หมายถึงอะไรกับคุณ? <<-->> Stepney. <<-->> similartity = -0.019521\n",
      "index=8260: count=14: หวั่นความลับแหวนบวงสรวงสิ่ง ศักดิ์สิทธิ์ <<-->> Is it? <<-->> similartity = -0.003374\n",
      "index=8270: count=15: เขาคือผู้ชนะได้รับการยกเว้น <<-->> All are happy to go. <<-->> similartity = -0.030523\n",
      "index=8280: count=16: คุณคิดว่าอะไรมันคืออะไร? <<-->> A season ticket. <<-->> similartity = -0.033095\n",
      "index=8291: count=17: มีรอยเท้าในที่นี่ <<-->> (Bhuta) Three hours. <<-->> similartity = -0.022788\n",
      "index=8296: count=18: คุณจะต้องได้รับมันออก <<-->> This ring is not stone. <<-->> similartity = -0.001368\n",
      "index=8314: count=19: ไม่ย่อท้อในที่สุด นักวิทยาศาสตร์ที่ ใกล้ที่สุด <<-->> (Electronic beeping) <<-->> similartity = 0.009256\n",
      "index=8333: count=20: ฉันถามคุณ <<-->> Has a degree in woodwork. <<-->> similartity = -0.022079\n",
      "index=8342: count=21: คุณรู้สึกอย่างไร? <<-->> That's what foxes me. <<-->> similartity = -0.028783\n",
      "index=8343: count=22: ฉันเคยใช้มือของ ฉัน <<-->> How do you feel? <<-->> similartity = -0.010175\n",
      "index=8355: count=23: ที่จะหยุดเขาเมื่อเขาเช่นนี้ เขาออกจะครองโลก <<-->> It's more than my job's worth! <<-->> similartity = -0.012914\n",
      "index=8408: count=24: ฉันไม่ได้มีการใด ๆ ที่คุณรู้ว่า <<-->> You can put that away. <<-->> similartity = -0.026857\n",
      "index=8415: count=25: อนิจจาถ้าเขากล้าหาญ <<-->> Don't look. <<-->> similartity = -0.033053\n",
      "threshold <=  0.03\n",
      "index=971: count=1: โทไมเนีย <<-->> Stand by for further commentary. Go ahead, Tomainia. <<-->> similartity = 0.004186\n",
      "index=1462: count=2: ผบ <<-->> Commander Schultz escaped. <<-->> similartity = -0.023868\n",
      "index=1615: count=3: ท่านจะทำยังไงต่อไป <<-->> I had the ground covered. <<-->> similartity = -0.023339\n",
      "index=2450: count=4: ถ้าเราเล่นไพ่ของเราได้เรา จะ <<-->> Listen. <<-->> similartity = 0.011655\n",
      "index=2504: count=5: ที่คุณจะไปไหน <<-->> An actor's life is fun <<-->> similartity = -0.010431\n",
      "index=3007: count=6: ที่จะได้ยินว่าพูดคุยด้วงที่ คุณคิด <<-->> Ha! <<-->> similartity = 0.021063\n",
      "index=4429: count=7: ใช่มั้ย <<-->> You can't understand what my feelings were, can you? <<-->> similartity = 0.025917\n",
      "index=6613: count=8: ฉันหวังว่าเฉพาะเมื่อฉันเป็นคน เก่า <<-->> All right. <<-->> similartity = -0.033326\n",
      "index=6623: count=9: พวกเราจะมีอาหารมื้อเย็น <<-->> What have you got? <<-->> similartity = -0.101354\n",
      "index=7041: count=10: ไม่ <<-->> I should have some luck. <<-->> similartity = 0.013461\n",
      "index=8097: count=11: โดยไม่มีแหวน <<-->> Something must be done. <<-->> similartity = -0.047372\n",
      "index=8103: count=12: เด็กที่น่ารักและคือธรรมชาติ <<-->> They expect it, don't they. <<-->> similartity = -0.055986\n",
      "index=8105: count=13: หนึ่งจดใช่ไหม คุณรู้ว่าฉันหมายถึง อะไร <<-->> Adoration hasn't gone to their heads. <<-->> similartity = -0.080634\n",
      "index=8158: count=14: ความเข้าใจอย่างฉับพลัน <<-->> Ho! <<-->> similartity = -0.077092\n",
      "index=8228: count=15: แหวนวงนี้ได้หมายถึงอะไรกับคุณ? <<-->> Stepney. <<-->> similartity = -0.019521\n",
      "index=8253: count=16: เขามีสามชั่วโมงจะมีชีวิตอยู่ <<-->> Soup, yeah. <<-->> similartity = 0.025530\n",
      "index=8260: count=17: หวั่นความลับแหวนบวงสรวงสิ่ง ศักดิ์สิทธิ์ <<-->> Is it? <<-->> similartity = -0.003374\n",
      "index=8270: count=18: เขาคือผู้ชนะได้รับการยกเว้น <<-->> All are happy to go. <<-->> similartity = -0.030523\n",
      "index=8280: count=19: คุณคิดว่าอะไรมันคืออะไร? <<-->> A season ticket. <<-->> similartity = -0.033095\n",
      "index=8291: count=20: มีรอยเท้าในที่นี่ <<-->> (Bhuta) Three hours. <<-->> similartity = -0.022788\n",
      "index=8295: count=21: แหวนวงนี้ไม่ได้คือหิน <<-->> Some of them matrimonial. (Laughs) <<-->> similartity = 0.021001\n",
      "index=8296: count=22: คุณจะต้องได้รับมันออก <<-->> This ring is not stone. <<-->> similartity = -0.001368\n",
      "index=8314: count=23: ไม่ย่อท้อในที่สุด นักวิทยาศาสตร์ที่ ใกล้ที่สุด <<-->> (Electronic beeping) <<-->> similartity = 0.009256\n",
      "index=8321: count=24: มันเรียงลำดับของขั้วยาว <<-->> What's your electricity bill like? <<-->> similartity = 0.027071\n",
      "index=8333: count=25: ฉันถามคุณ <<-->> Has a degree in woodwork. <<-->> similartity = -0.022079\n",
      "threshold <=  0.04\n",
      "index=971: count=1: โทไมเนีย <<-->> Stand by for further commentary. Go ahead, Tomainia. <<-->> similartity = 0.004186\n",
      "index=1462: count=2: ผบ <<-->> Commander Schultz escaped. <<-->> similartity = -0.023868\n",
      "index=1615: count=3: ท่านจะทำยังไงต่อไป <<-->> I had the ground covered. <<-->> similartity = -0.023339\n",
      "index=2450: count=4: ถ้าเราเล่นไพ่ของเราได้เรา จะ <<-->> Listen. <<-->> similartity = 0.011655\n",
      "index=2504: count=5: ที่คุณจะไปไหน <<-->> An actor's life is fun <<-->> similartity = -0.010431\n",
      "index=3007: count=6: ที่จะได้ยินว่าพูดคุยด้วงที่ คุณคิด <<-->> Ha! <<-->> similartity = 0.021063\n",
      "index=4429: count=7: ใช่มั้ย <<-->> You can't understand what my feelings were, can you? <<-->> similartity = 0.025917\n",
      "index=4689: count=8: ได้ครับท่าน <<-->> It's almost empty. Very good, sir. <<-->> similartity = 0.039075\n",
      "index=6613: count=9: ฉันหวังว่าเฉพาะเมื่อฉันเป็นคน เก่า <<-->> All right. <<-->> similartity = -0.033326\n",
      "index=6623: count=10: พวกเราจะมีอาหารมื้อเย็น <<-->> What have you got? <<-->> similartity = -0.101354\n",
      "index=7041: count=11: ไม่ <<-->> I should have some luck. <<-->> similartity = 0.013461\n",
      "index=8097: count=12: โดยไม่มีแหวน <<-->> Something must be done. <<-->> similartity = -0.047372\n",
      "index=8102: count=13: พวกเขาคาดว่ามัน <<-->> Shall I? <<-->> similartity = 0.031064\n",
      "index=8103: count=14: เด็กที่น่ารักและคือธรรมชาติ <<-->> They expect it, don't they. <<-->> similartity = -0.055986\n",
      "index=8105: count=15: หนึ่งจดใช่ไหม คุณรู้ว่าฉันหมายถึง อะไร <<-->> Adoration hasn't gone to their heads. <<-->> similartity = -0.080634\n",
      "index=8158: count=16: ความเข้าใจอย่างฉับพลัน <<-->> Ho! <<-->> similartity = -0.077092\n",
      "index=8228: count=17: แหวนวงนี้ได้หมายถึงอะไรกับคุณ? <<-->> Stepney. <<-->> similartity = -0.019521\n",
      "index=8253: count=18: เขามีสามชั่วโมงจะมีชีวิตอยู่ <<-->> Soup, yeah. <<-->> similartity = 0.025530\n",
      "index=8260: count=19: หวั่นความลับแหวนบวงสรวงสิ่ง ศักดิ์สิทธิ์ <<-->> Is it? <<-->> similartity = -0.003374\n",
      "index=8270: count=20: เขาคือผู้ชนะได้รับการยกเว้น <<-->> All are happy to go. <<-->> similartity = -0.030523\n",
      "index=8280: count=21: คุณคิดว่าอะไรมันคืออะไร? <<-->> A season ticket. <<-->> similartity = -0.033095\n",
      "index=8291: count=22: มีรอยเท้าในที่นี่ <<-->> (Bhuta) Three hours. <<-->> similartity = -0.022788\n",
      "index=8295: count=23: แหวนวงนี้ไม่ได้คือหิน <<-->> Some of them matrimonial. (Laughs) <<-->> similartity = 0.021001\n",
      "index=8296: count=24: คุณจะต้องได้รับมันออก <<-->> This ring is not stone. <<-->> similartity = -0.001368\n",
      "index=8314: count=25: ไม่ย่อท้อในที่สุด นักวิทยาศาสตร์ที่ ใกล้ที่สุด <<-->> (Electronic beeping) <<-->> similartity = 0.009256\n",
      "threshold <=  0.05\n",
      "index=669: count=1: เดอะควีนเก่ากลับกลอกหนึ่ง <<-->> The... <<-->> similartity = 0.041959\n",
      "index=971: count=2: โทไมเนีย <<-->> Stand by for further commentary. Go ahead, Tomainia. <<-->> similartity = 0.004186\n",
      "index=1462: count=3: ผบ <<-->> Commander Schultz escaped. <<-->> similartity = -0.023868\n",
      "index=1615: count=4: ท่านจะทำยังไงต่อไป <<-->> I had the ground covered. <<-->> similartity = -0.023339\n",
      "index=2450: count=5: ถ้าเราเล่นไพ่ของเราได้เรา จะ <<-->> Listen. <<-->> similartity = 0.011655\n",
      "index=2504: count=6: ที่คุณจะไปไหน <<-->> An actor's life is fun <<-->> similartity = -0.010431\n",
      "index=2511: count=7: จากร้านค้าที่ดีที่สุดเฮ้ ปีโนก <<-->> Hey, Pinoke. <<-->> similartity = 0.048918\n",
      "index=3007: count=8: ที่จะได้ยินว่าพูดคุยด้วงที่ คุณคิด <<-->> Ha! <<-->> similartity = 0.021063\n",
      "index=4429: count=9: ใช่มั้ย <<-->> You can't understand what my feelings were, can you? <<-->> similartity = 0.025917\n",
      "index=4689: count=10: ได้ครับท่าน <<-->> It's almost empty. Very good, sir. <<-->> similartity = 0.039075\n",
      "index=6537: count=11: ฉันสามารถไปและได้รับ <<-->> Yes? <<-->> similartity = 0.046663\n",
      "index=6579: count=12: หากคุณเป็นผู้ชายของฉัน <<-->> Yes. <<-->> similartity = 0.047778\n",
      "index=6613: count=13: ฉันหวังว่าเฉพาะเมื่อฉันเป็นคน เก่า <<-->> All right. <<-->> similartity = -0.033326\n",
      "index=6623: count=14: พวกเราจะมีอาหารมื้อเย็น <<-->> What have you got? <<-->> similartity = -0.101354\n",
      "index=6757: count=15: ตอนนี้เขามีด้านข้างในปากของ เขา <<-->> What a fish! <<-->> similartity = 0.046314\n",
      "index=7041: count=16: ไม่ <<-->> I should have some luck. <<-->> similartity = 0.013461\n",
      "index=8097: count=17: โดยไม่มีแหวน <<-->> Something must be done. <<-->> similartity = -0.047372\n",
      "index=8102: count=18: พวกเขาคาดว่ามัน <<-->> Shall I? <<-->> similartity = 0.031064\n",
      "index=8103: count=19: เด็กที่น่ารักและคือธรรมชาติ <<-->> They expect it, don't they. <<-->> similartity = -0.055986\n",
      "index=8105: count=20: หนึ่งจดใช่ไหม คุณรู้ว่าฉันหมายถึง อะไร <<-->> Adoration hasn't gone to their heads. <<-->> similartity = -0.080634\n",
      "index=8158: count=21: ความเข้าใจอย่างฉับพลัน <<-->> Ho! <<-->> similartity = -0.077092\n",
      "index=8228: count=22: แหวนวงนี้ได้หมายถึงอะไรกับคุณ? <<-->> Stepney. <<-->> similartity = -0.019521\n",
      "index=8253: count=23: เขามีสามชั่วโมงจะมีชีวิตอยู่ <<-->> Soup, yeah. <<-->> similartity = 0.025530\n",
      "index=8260: count=24: หวั่นความลับแหวนบวงสรวงสิ่ง ศักดิ์สิทธิ์ <<-->> Is it? <<-->> similartity = -0.003374\n",
      "index=8270: count=25: เขาคือผู้ชนะได้รับการยกเว้น <<-->> All are happy to go. <<-->> similartity = -0.030523\n",
      "threshold <=  0.06\n",
      "index=669: count=1: เดอะควีนเก่ากลับกลอกหนึ่ง <<-->> The... <<-->> similartity = 0.041959\n",
      "index=971: count=2: โทไมเนีย <<-->> Stand by for further commentary. Go ahead, Tomainia. <<-->> similartity = 0.004186\n",
      "index=1462: count=3: ผบ <<-->> Commander Schultz escaped. <<-->> similartity = -0.023868\n",
      "index=1615: count=4: ท่านจะทำยังไงต่อไป <<-->> I had the ground covered. <<-->> similartity = -0.023339\n",
      "index=2450: count=5: ถ้าเราเล่นไพ่ของเราได้เรา จะ <<-->> Listen. <<-->> similartity = 0.011655\n",
      "index=2504: count=6: ที่คุณจะไปไหน <<-->> An actor's life is fun <<-->> similartity = -0.010431\n",
      "index=2511: count=7: จากร้านค้าที่ดีที่สุดเฮ้ ปีโนก <<-->> Hey, Pinoke. <<-->> similartity = 0.048918\n",
      "index=2555: count=8: ลาก่อน? ฮะ? <<-->> Hi diddle dee dee An actor's life for me <<-->> similartity = 0.053047\n",
      "index=3007: count=9: ที่จะได้ยินว่าพูดคุยด้วงที่ คุณคิด <<-->> Ha! <<-->> similartity = 0.021063\n",
      "index=4429: count=10: ใช่มั้ย <<-->> You can't understand what my feelings were, can you? <<-->> similartity = 0.025917\n",
      "index=4689: count=11: ได้ครับท่าน <<-->> It's almost empty. Very good, sir. <<-->> similartity = 0.039075\n",
      "index=4748: count=12: ท่านผู้พันครับในฐานะผู้รักษากฎหมาย <<-->> and laboriously knock holes through the bottom of it? Come, Colonel. <<-->> similartity = 0.052542\n",
      "index=6537: count=13: ฉันสามารถไปและได้รับ <<-->> Yes? <<-->> similartity = 0.046663\n",
      "index=6579: count=14: หากคุณเป็นผู้ชายของฉัน <<-->> Yes. <<-->> similartity = 0.047778\n",
      "index=6613: count=15: ฉันหวังว่าเฉพาะเมื่อฉันเป็นคน เก่า <<-->> All right. <<-->> similartity = -0.033326\n",
      "index=6623: count=16: พวกเราจะมีอาหารมื้อเย็น <<-->> What have you got? <<-->> similartity = -0.101354\n",
      "index=6757: count=17: ตอนนี้เขามีด้านข้างในปากของ เขา <<-->> What a fish! <<-->> similartity = 0.046314\n",
      "index=7041: count=18: ไม่ <<-->> I should have some luck. <<-->> similartity = 0.013461\n",
      "index=7171: count=19: คุน DJE เลื่อน <<-->> Kun dje luen. <<-->> similartity = 0.050152\n",
      "index=8097: count=20: โดยไม่มีแหวน <<-->> Something must be done. <<-->> similartity = -0.047372\n",
      "index=8102: count=21: พวกเขาคาดว่ามัน <<-->> Shall I? <<-->> similartity = 0.031064\n",
      "index=8103: count=22: เด็กที่น่ารักและคือธรรมชาติ <<-->> They expect it, don't they. <<-->> similartity = -0.055986\n",
      "index=8105: count=23: หนึ่งจดใช่ไหม คุณรู้ว่าฉันหมายถึง อะไร <<-->> Adoration hasn't gone to their heads. <<-->> similartity = -0.080634\n",
      "index=8158: count=24: ความเข้าใจอย่างฉับพลัน <<-->> Ho! <<-->> similartity = -0.077092\n",
      "index=8228: count=25: แหวนวงนี้ได้หมายถึงอะไรกับคุณ? <<-->> Stepney. <<-->> similartity = -0.019521\n",
      "threshold <=  0.07\n",
      "index=507: count=1: ไม่ไม่ไม่ไม่ได้รับความตื่นเต้น! <<-->> That's the tub. <<-->> similartity = 0.060023\n",
      "index=669: count=2: เดอะควีนเก่ากลับกลอกหนึ่ง <<-->> The... <<-->> similartity = 0.041959\n",
      "index=884: count=3: โอ้ย.. เรื่องขี้หมา <<-->> I can try. <<-->> similartity = 0.067671\n",
      "index=971: count=4: โทไมเนีย <<-->> Stand by for further commentary. Go ahead, Tomainia. <<-->> similartity = 0.004186\n",
      "index=1032: count=5: ฉันก็มีมือ มีเท้า ที่จะมีการโต้ตอบแกบ้าง <<-->> Not one of you has the guts to stand up alone and fight! <<-->> similartity = 0.064696\n",
      "index=1462: count=6: ผบ <<-->> Commander Schultz escaped. <<-->> similartity = -0.023868\n",
      "index=1615: count=7: ท่านจะทำยังไงต่อไป <<-->> I had the ground covered. <<-->> similartity = -0.023339\n",
      "index=1884: count=8: เซ็นบุ๊บ ไปบั๊บ <<-->> Then I remove my troops after. <<-->> similartity = 0.060616\n",
      "index=2450: count=9: ถ้าเราเล่นไพ่ของเราได้เรา จะ <<-->> Listen. <<-->> similartity = 0.011655\n",
      "index=2504: count=10: ที่คุณจะไปไหน <<-->> An actor's life is fun <<-->> similartity = -0.010431\n",
      "index=2511: count=11: จากร้านค้าที่ดีที่สุดเฮ้ ปีโนก <<-->> Hey, Pinoke. <<-->> similartity = 0.048918\n",
      "index=2555: count=12: ลาก่อน? ฮะ? <<-->> Hi diddle dee dee An actor's life for me <<-->> similartity = 0.053047\n",
      "index=3007: count=13: ที่จะได้ยินว่าพูดคุยด้วงที่ คุณคิด <<-->> Ha! <<-->> similartity = 0.021063\n",
      "index=3933: count=14: จริงเหรอ จริงเหรอ <<-->> Do you? <<-->> similartity = 0.065427\n",
      "index=4429: count=15: ใช่มั้ย <<-->> You can't understand what my feelings were, can you? <<-->> similartity = 0.025917\n",
      "index=4689: count=16: ได้ครับท่าน <<-->> It's almost empty. Very good, sir. <<-->> similartity = 0.039075\n",
      "index=4748: count=17: ท่านผู้พันครับในฐานะผู้รักษากฎหมาย <<-->> and laboriously knock holes through the bottom of it? Come, Colonel. <<-->> similartity = 0.052542\n",
      "index=4750: count=18: แล้วจะอะไรอีกล่ะครับ <<-->> Of murder? <<-->> similartity = 0.062897\n",
      "index=6537: count=19: ฉันสามารถไปและได้รับ <<-->> Yes? <<-->> similartity = 0.046663\n",
      "index=6579: count=20: หากคุณเป็นผู้ชายของฉัน <<-->> Yes. <<-->> similartity = 0.047778\n",
      "index=6613: count=21: ฉันหวังว่าเฉพาะเมื่อฉันเป็นคน เก่า <<-->> All right. <<-->> similartity = -0.033326\n",
      "index=6623: count=22: พวกเราจะมีอาหารมื้อเย็น <<-->> What have you got? <<-->> similartity = -0.101354\n",
      "index=6757: count=23: ตอนนี้เขามีด้านข้างในปากของ เขา <<-->> What a fish! <<-->> similartity = 0.046314\n",
      "index=7041: count=24: ไม่ <<-->> I should have some luck. <<-->> similartity = 0.013461\n",
      "index=7171: count=25: คุน DJE เลื่อน <<-->> Kun dje luen. <<-->> similartity = 0.050152\n",
      "threshold <=  0.08\n",
      "index=507: count=1: ไม่ไม่ไม่ไม่ได้รับความตื่นเต้น! <<-->> That's the tub. <<-->> similartity = 0.060023\n",
      "index=669: count=2: เดอะควีนเก่ากลับกลอกหนึ่ง <<-->> The... <<-->> similartity = 0.041959\n",
      "index=884: count=3: โอ้ย.. เรื่องขี้หมา <<-->> I can try. <<-->> similartity = 0.067671\n",
      "index=889: count=4: จะต้องไปส่งเอกสารสำคัญ <<-->> Hold on to these dispatches. <<-->> similartity = 0.072648\n",
      "index=971: count=5: โทไมเนีย <<-->> Stand by for further commentary. Go ahead, Tomainia. <<-->> similartity = 0.004186\n",
      "index=1032: count=6: ฉันก็มีมือ มีเท้า ที่จะมีการโต้ตอบแกบ้าง <<-->> Not one of you has the guts to stand up alone and fight! <<-->> similartity = 0.064696\n",
      "index=1321: count=7: ก็มีผมสีน้ำตาล <<-->> Of the world! <<-->> similartity = 0.076878\n",
      "index=1462: count=8: ผบ <<-->> Commander Schultz escaped. <<-->> similartity = -0.023868\n",
      "index=1615: count=9: ท่านจะทำยังไงต่อไป <<-->> I had the ground covered. <<-->> similartity = -0.023339\n",
      "index=1884: count=10: เซ็นบุ๊บ ไปบั๊บ <<-->> Then I remove my troops after. <<-->> similartity = 0.060616\n",
      "index=2450: count=11: ถ้าเราเล่นไพ่ของเราได้เรา จะ <<-->> Listen. <<-->> similartity = 0.011655\n",
      "index=2504: count=12: ที่คุณจะไปไหน <<-->> An actor's life is fun <<-->> similartity = -0.010431\n",
      "index=2511: count=13: จากร้านค้าที่ดีที่สุดเฮ้ ปีโนก <<-->> Hey, Pinoke. <<-->> similartity = 0.048918\n",
      "index=2555: count=14: ลาก่อน? ฮะ? <<-->> Hi diddle dee dee An actor's life for me <<-->> similartity = 0.053047\n",
      "index=3007: count=15: ที่จะได้ยินว่าพูดคุยด้วงที่ คุณคิด <<-->> Ha! <<-->> similartity = 0.021063\n",
      "index=3053: count=16: เขาเป็นไม่ได้ที่นี่ <<-->> Look. <<-->> similartity = 0.070314\n",
      "index=3124: count=17: นั่นคงวิตกกังวล <<-->> Whoa! Steady there, Nellie. <<-->> similartity = 0.070214\n",
      "index=3885: count=18: ใส่สิครับ ไม่ประมาทไว้ก่อน <<-->> Yes, certainly, certainly, certainly. You can't be too careful with children. <<-->> similartity = 0.071984\n",
      "index=3933: count=19: จริงเหรอ จริงเหรอ <<-->> Do you? <<-->> similartity = 0.065427\n",
      "index=4429: count=20: ใช่มั้ย <<-->> You can't understand what my feelings were, can you? <<-->> similartity = 0.025917\n",
      "index=4689: count=21: ได้ครับท่าน <<-->> It's almost empty. Very good, sir. <<-->> similartity = 0.039075\n",
      "index=4748: count=22: ท่านผู้พันครับในฐานะผู้รักษากฎหมาย <<-->> and laboriously knock holes through the bottom of it? Come, Colonel. <<-->> similartity = 0.052542\n",
      "index=4750: count=23: แล้วจะอะไรอีกล่ะครับ <<-->> Of murder? <<-->> similartity = 0.062897\n",
      "index=6537: count=24: ฉันสามารถไปและได้รับ <<-->> Yes? <<-->> similartity = 0.046663\n",
      "index=6579: count=25: หากคุณเป็นผู้ชายของฉัน <<-->> Yes. <<-->> similartity = 0.047778\n",
      "threshold <=  0.09\n",
      "index=507: count=1: ไม่ไม่ไม่ไม่ได้รับความตื่นเต้น! <<-->> That's the tub. <<-->> similartity = 0.060023\n",
      "index=669: count=2: เดอะควีนเก่ากลับกลอกหนึ่ง <<-->> The... <<-->> similartity = 0.041959\n",
      "index=884: count=3: โอ้ย.. เรื่องขี้หมา <<-->> I can try. <<-->> similartity = 0.067671\n",
      "index=889: count=4: จะต้องไปส่งเอกสารสำคัญ <<-->> Hold on to these dispatches. <<-->> similartity = 0.072648\n",
      "index=955: count=5: อดีนอย เฮนเคิล กล่าวและฉันแปล <<-->> Adenoid Hynkel said, \"Tomainia was down but today has risen.\" <<-->> similartity = 0.080309\n",
      "index=971: count=6: โทไมเนีย <<-->> Stand by for further commentary. Go ahead, Tomainia. <<-->> similartity = 0.004186\n",
      "index=1032: count=7: ฉันก็มีมือ มีเท้า ที่จะมีการโต้ตอบแกบ้าง <<-->> Not one of you has the guts to stand up alone and fight! <<-->> similartity = 0.064696\n",
      "index=1321: count=8: ก็มีผมสีน้ำตาล <<-->> Of the world! <<-->> similartity = 0.076878\n",
      "index=1462: count=9: ผบ <<-->> Commander Schultz escaped. <<-->> similartity = -0.023868\n",
      "index=1615: count=10: ท่านจะทำยังไงต่อไป <<-->> I had the ground covered. <<-->> similartity = -0.023339\n",
      "index=1884: count=11: เซ็นบุ๊บ ไปบั๊บ <<-->> Then I remove my troops after. <<-->> similartity = 0.060616\n",
      "index=2450: count=12: ถ้าเราเล่นไพ่ของเราได้เรา จะ <<-->> Listen. <<-->> similartity = 0.011655\n",
      "index=2504: count=13: ที่คุณจะไปไหน <<-->> An actor's life is fun <<-->> similartity = -0.010431\n",
      "index=2511: count=14: จากร้านค้าที่ดีที่สุดเฮ้ ปีโนก <<-->> Hey, Pinoke. <<-->> similartity = 0.048918\n",
      "index=2555: count=15: ลาก่อน? ฮะ? <<-->> Hi diddle dee dee An actor's life for me <<-->> similartity = 0.053047\n",
      "index=3007: count=16: ที่จะได้ยินว่าพูดคุยด้วงที่ คุณคิด <<-->> Ha! <<-->> similartity = 0.021063\n",
      "index=3053: count=17: เขาเป็นไม่ได้ที่นี่ <<-->> Look. <<-->> similartity = 0.070314\n",
      "index=3124: count=18: นั่นคงวิตกกังวล <<-->> Whoa! Steady there, Nellie. <<-->> similartity = 0.070214\n",
      "index=3885: count=19: ใส่สิครับ ไม่ประมาทไว้ก่อน <<-->> Yes, certainly, certainly, certainly. You can't be too careful with children. <<-->> similartity = 0.071984\n",
      "index=3933: count=20: จริงเหรอ จริงเหรอ <<-->> Do you? <<-->> similartity = 0.065427\n",
      "index=3951: count=21: อ้อ ขอบคุณค่ะ <<-->> Won't you sit down? <<-->> similartity = 0.083715\n",
      "index=4429: count=22: ใช่มั้ย <<-->> You can't understand what my feelings were, can you? <<-->> similartity = 0.025917\n",
      "index=4553: count=23: ไม่ว่าพวกเขาจะถามอะไรคุณ.. <<-->> I promise. <<-->> similartity = 0.087524\n",
      "index=4689: count=24: ได้ครับท่าน <<-->> It's almost empty. Very good, sir. <<-->> similartity = 0.039075\n",
      "index=4748: count=25: ท่านผู้พันครับในฐานะผู้รักษากฎหมาย <<-->> and laboriously knock holes through the bottom of it? Come, Colonel. <<-->> similartity = 0.052542\n",
      "threshold <=  0.1\n",
      "index=507: count=1: ไม่ไม่ไม่ไม่ได้รับความตื่นเต้น! <<-->> That's the tub. <<-->> similartity = 0.060023\n",
      "index=669: count=2: เดอะควีนเก่ากลับกลอกหนึ่ง <<-->> The... <<-->> similartity = 0.041959\n",
      "index=884: count=3: โอ้ย.. เรื่องขี้หมา <<-->> I can try. <<-->> similartity = 0.067671\n",
      "index=889: count=4: จะต้องไปส่งเอกสารสำคัญ <<-->> Hold on to these dispatches. <<-->> similartity = 0.072648\n",
      "index=955: count=5: อดีนอย เฮนเคิล กล่าวและฉันแปล <<-->> Adenoid Hynkel said, \"Tomainia was down but today has risen.\" <<-->> similartity = 0.080309\n",
      "index=971: count=6: โทไมเนีย <<-->> Stand by for further commentary. Go ahead, Tomainia. <<-->> similartity = 0.004186\n",
      "index=1032: count=7: ฉันก็มีมือ มีเท้า ที่จะมีการโต้ตอบแกบ้าง <<-->> Not one of you has the guts to stand up alone and fight! <<-->> similartity = 0.064696\n",
      "index=1321: count=8: ก็มีผมสีน้ำตาล <<-->> Of the world! <<-->> similartity = 0.076878\n",
      "index=1462: count=9: ผบ <<-->> Commander Schultz escaped. <<-->> similartity = -0.023868\n",
      "index=1615: count=10: ท่านจะทำยังไงต่อไป <<-->> I had the ground covered. <<-->> similartity = -0.023339\n",
      "index=1884: count=11: เซ็นบุ๊บ ไปบั๊บ <<-->> Then I remove my troops after. <<-->> similartity = 0.060616\n",
      "index=1991: count=12: แถว... ตรง <<-->> Attention! <<-->> similartity = 0.096428\n",
      "index=2027: count=13: เสือกับกวางอยู่ถ้ำเดียวกันไม่ได้ ในเมื่อเราเป็นเสือ <<-->> They are inferior and therefore enemies of the state. <<-->> similartity = 0.091897\n",
      "index=2450: count=14: ถ้าเราเล่นไพ่ของเราได้เรา จะ <<-->> Listen. <<-->> similartity = 0.011655\n",
      "index=2504: count=15: ที่คุณจะไปไหน <<-->> An actor's life is fun <<-->> similartity = -0.010431\n",
      "index=2511: count=16: จากร้านค้าที่ดีที่สุดเฮ้ ปีโนก <<-->> Hey, Pinoke. <<-->> similartity = 0.048918\n",
      "index=2555: count=17: ลาก่อน? ฮะ? <<-->> Hi diddle dee dee An actor's life for me <<-->> similartity = 0.053047\n",
      "index=2879: count=18: ปิโนคีโอ <<-->> What's yours? <<-->> similartity = 0.094969\n",
      "index=3007: count=19: ที่จะได้ยินว่าพูดคุยด้วงที่ คุณคิด <<-->> Ha! <<-->> similartity = 0.021063\n",
      "index=3053: count=20: เขาเป็นไม่ได้ที่นี่ <<-->> Look. <<-->> similartity = 0.070314\n",
      "index=3124: count=21: นั่นคงวิตกกังวล <<-->> Whoa! Steady there, Nellie. <<-->> similartity = 0.070214\n",
      "index=3791: count=22: พอกลับมาบ้านปุ๊บ ก็ออกปั๊บ เป็นอย่างงี้ทุกทีเลย <<-->> How tiresome of him not to be here when we arrive, and how typical. <<-->> similartity = 0.094499\n",
      "index=3885: count=23: ใส่สิครับ ไม่ประมาทไว้ก่อน <<-->> Yes, certainly, certainly, certainly. You can't be too careful with children. <<-->> similartity = 0.071984\n",
      "index=3933: count=24: จริงเหรอ จริงเหรอ <<-->> Do you? <<-->> similartity = 0.065427\n",
      "index=3951: count=25: อ้อ ขอบคุณค่ะ <<-->> Won't you sit down? <<-->> similartity = 0.083715\n",
      "threshold <=  0.11\n",
      "index=267: count=1: จมูกของฉัน! <<-->> Take them away. <<-->> similartity = 0.106701\n",
      "index=507: count=2: ไม่ไม่ไม่ไม่ได้รับความตื่นเต้น! <<-->> That's the tub. <<-->> similartity = 0.060023\n",
      "index=669: count=3: เดอะควีนเก่ากลับกลอกหนึ่ง <<-->> The... <<-->> similartity = 0.041959\n",
      "index=884: count=4: โอ้ย.. เรื่องขี้หมา <<-->> I can try. <<-->> similartity = 0.067671\n",
      "index=889: count=5: จะต้องไปส่งเอกสารสำคัญ <<-->> Hold on to these dispatches. <<-->> similartity = 0.072648\n",
      "index=955: count=6: อดีนอย เฮนเคิล กล่าวและฉันแปล <<-->> Adenoid Hynkel said, \"Tomainia was down but today has risen.\" <<-->> similartity = 0.080309\n",
      "index=971: count=7: โทไมเนีย <<-->> Stand by for further commentary. Go ahead, Tomainia. <<-->> similartity = 0.004186\n",
      "index=1032: count=8: ฉันก็มีมือ มีเท้า ที่จะมีการโต้ตอบแกบ้าง <<-->> Not one of you has the guts to stand up alone and fight! <<-->> similartity = 0.064696\n",
      "index=1321: count=9: ก็มีผมสีน้ำตาล <<-->> Of the world! <<-->> similartity = 0.076878\n",
      "index=1375: count=10: ไอ้ยิว เอฟสติน ถุย <<-->> Epstein refuses, eh? <<-->> similartity = 0.105728\n",
      "index=1407: count=11: รูปสะท้อนแสงได้ <<-->> A fine photo on each! <<-->> similartity = 0.100839\n",
      "index=1462: count=12: ผบ <<-->> Commander Schultz escaped. <<-->> similartity = -0.023868\n",
      "index=1614: count=13: ไหนว่ามีแค่เรา <<-->> You let him steal a march on us. <<-->> similartity = 0.107252\n",
      "index=1615: count=14: ท่านจะทำยังไงต่อไป <<-->> I had the ground covered. <<-->> similartity = -0.023339\n",
      "index=1884: count=15: เซ็นบุ๊บ ไปบั๊บ <<-->> Then I remove my troops after. <<-->> similartity = 0.060616\n",
      "index=1991: count=16: แถว... ตรง <<-->> Attention! <<-->> similartity = 0.096428\n",
      "index=2027: count=17: เสือกับกวางอยู่ถ้ำเดียวกันไม่ได้ ในเมื่อเราเป็นเสือ <<-->> They are inferior and therefore enemies of the state. <<-->> similartity = 0.091897\n",
      "index=2450: count=18: ถ้าเราเล่นไพ่ของเราได้เรา จะ <<-->> Listen. <<-->> similartity = 0.011655\n",
      "index=2504: count=19: ที่คุณจะไปไหน <<-->> An actor's life is fun <<-->> similartity = -0.010431\n",
      "index=2511: count=20: จากร้านค้าที่ดีที่สุดเฮ้ ปีโนก <<-->> Hey, Pinoke. <<-->> similartity = 0.048918\n",
      "index=2555: count=21: ลาก่อน? ฮะ? <<-->> Hi diddle dee dee An actor's life for me <<-->> similartity = 0.053047\n",
      "index=2879: count=22: ปิโนคีโอ <<-->> What's yours? <<-->> similartity = 0.094969\n",
      "index=3007: count=23: ที่จะได้ยินว่าพูดคุยด้วงที่ คุณคิด <<-->> Ha! <<-->> similartity = 0.021063\n",
      "index=3053: count=24: เขาเป็นไม่ได้ที่นี่ <<-->> Look. <<-->> similartity = 0.070314\n",
      "index=3124: count=25: นั่นคงวิตกกังวล <<-->> Whoa! Steady there, Nellie. <<-->> similartity = 0.070214\n",
      "threshold <=  0.12\n",
      "index=267: count=1: จมูกของฉัน! <<-->> Take them away. <<-->> similartity = 0.106701\n",
      "index=507: count=2: ไม่ไม่ไม่ไม่ได้รับความตื่นเต้น! <<-->> That's the tub. <<-->> similartity = 0.060023\n",
      "index=669: count=3: เดอะควีนเก่ากลับกลอกหนึ่ง <<-->> The... <<-->> similartity = 0.041959\n",
      "index=884: count=4: โอ้ย.. เรื่องขี้หมา <<-->> I can try. <<-->> similartity = 0.067671\n",
      "index=889: count=5: จะต้องไปส่งเอกสารสำคัญ <<-->> Hold on to these dispatches. <<-->> similartity = 0.072648\n",
      "index=955: count=6: อดีนอย เฮนเคิล กล่าวและฉันแปล <<-->> Adenoid Hynkel said, \"Tomainia was down but today has risen.\" <<-->> similartity = 0.080309\n",
      "index=971: count=7: โทไมเนีย <<-->> Stand by for further commentary. Go ahead, Tomainia. <<-->> similartity = 0.004186\n",
      "index=1005: count=8: มันไม่แน่นอนหรอก <<-->> Now you said it. <<-->> similartity = 0.112803\n",
      "index=1027: count=9: เซ็น.. ไว้ก่อน <<-->> Just charge it to my account! <<-->> similartity = 0.116593\n",
      "index=1032: count=10: ฉันก็มีมือ มีเท้า ที่จะมีการโต้ตอบแกบ้าง <<-->> Not one of you has the guts to stand up alone and fight! <<-->> similartity = 0.064696\n",
      "index=1092: count=11: ความเป็นธรรมไม่มีอีกต่อไปแล้ว <<-->> All right, they've gone. <<-->> similartity = 0.111974\n",
      "index=1321: count=12: ก็มีผมสีน้ำตาล <<-->> Of the world! <<-->> similartity = 0.076878\n",
      "index=1375: count=13: ไอ้ยิว เอฟสติน ถุย <<-->> Epstein refuses, eh? <<-->> similartity = 0.105728\n",
      "index=1407: count=14: รูปสะท้อนแสงได้ <<-->> A fine photo on each! <<-->> similartity = 0.100839\n",
      "index=1462: count=15: ผบ <<-->> Commander Schultz escaped. <<-->> similartity = -0.023868\n",
      "index=1564: count=16: ทำเวลา <<-->> Take this. <<-->> similartity = 0.111934\n",
      "index=1614: count=17: ไหนว่ามีแค่เรา <<-->> You let him steal a march on us. <<-->> similartity = 0.107252\n",
      "index=1615: count=18: ท่านจะทำยังไงต่อไป <<-->> I had the ground covered. <<-->> similartity = -0.023339\n",
      "index=1832: count=19: มันเป็นข้ออ้างที่ดี <<-->> It'll carry weight. <<-->> similartity = 0.119443\n",
      "index=1884: count=20: เซ็นบุ๊บ ไปบั๊บ <<-->> Then I remove my troops after. <<-->> similartity = 0.060616\n",
      "index=1991: count=21: แถว... ตรง <<-->> Attention! <<-->> similartity = 0.096428\n",
      "index=1992: count=22: วันทยา... .. วุธ <<-->> Present arms! <<-->> similartity = 0.118347\n",
      "index=2027: count=23: เสือกับกวางอยู่ถ้ำเดียวกันไม่ได้ ในเมื่อเราเป็นเสือ <<-->> They are inferior and therefore enemies of the state. <<-->> similartity = 0.091897\n",
      "index=2450: count=24: ถ้าเราเล่นไพ่ของเราได้เรา จะ <<-->> Listen. <<-->> similartity = 0.011655\n",
      "index=2504: count=25: ที่คุณจะไปไหน <<-->> An actor's life is fun <<-->> similartity = -0.010431\n",
      "threshold <=  0.13\n",
      "index=267: count=1: จมูกของฉัน! <<-->> Take them away. <<-->> similartity = 0.106701\n",
      "index=507: count=2: ไม่ไม่ไม่ไม่ได้รับความตื่นเต้น! <<-->> That's the tub. <<-->> similartity = 0.060023\n",
      "index=669: count=3: เดอะควีนเก่ากลับกลอกหนึ่ง <<-->> The... <<-->> similartity = 0.041959\n",
      "index=884: count=4: โอ้ย.. เรื่องขี้หมา <<-->> I can try. <<-->> similartity = 0.067671\n",
      "index=889: count=5: จะต้องไปส่งเอกสารสำคัญ <<-->> Hold on to these dispatches. <<-->> similartity = 0.072648\n",
      "index=955: count=6: อดีนอย เฮนเคิล กล่าวและฉันแปล <<-->> Adenoid Hynkel said, \"Tomainia was down but today has risen.\" <<-->> similartity = 0.080309\n",
      "index=971: count=7: โทไมเนีย <<-->> Stand by for further commentary. Go ahead, Tomainia. <<-->> similartity = 0.004186\n",
      "index=1005: count=8: มันไม่แน่นอนหรอก <<-->> Now you said it. <<-->> similartity = 0.112803\n",
      "index=1027: count=9: เซ็น.. ไว้ก่อน <<-->> Just charge it to my account! <<-->> similartity = 0.116593\n",
      "index=1032: count=10: ฉันก็มีมือ มีเท้า ที่จะมีการโต้ตอบแกบ้าง <<-->> Not one of you has the guts to stand up alone and fight! <<-->> similartity = 0.064696\n",
      "index=1092: count=11: ความเป็นธรรมไม่มีอีกต่อไปแล้ว <<-->> All right, they've gone. <<-->> similartity = 0.111974\n",
      "index=1321: count=12: ก็มีผมสีน้ำตาล <<-->> Of the world! <<-->> similartity = 0.076878\n",
      "index=1375: count=13: ไอ้ยิว เอฟสติน ถุย <<-->> Epstein refuses, eh? <<-->> similartity = 0.105728\n",
      "index=1407: count=14: รูปสะท้อนแสงได้ <<-->> A fine photo on each! <<-->> similartity = 0.100839\n",
      "index=1462: count=15: ผบ <<-->> Commander Schultz escaped. <<-->> similartity = -0.023868\n",
      "index=1564: count=16: ทำเวลา <<-->> Take this. <<-->> similartity = 0.111934\n",
      "index=1600: count=17: ออสตินลิค <<-->> Osterlich! <<-->> similartity = 0.120353\n",
      "index=1614: count=18: ไหนว่ามีแค่เรา <<-->> You let him steal a march on us. <<-->> similartity = 0.107252\n",
      "index=1615: count=19: ท่านจะทำยังไงต่อไป <<-->> I had the ground covered. <<-->> similartity = -0.023339\n",
      "index=1832: count=20: มันเป็นข้ออ้างที่ดี <<-->> It'll carry weight. <<-->> similartity = 0.119443\n",
      "index=1884: count=21: เซ็นบุ๊บ ไปบั๊บ <<-->> Then I remove my troops after. <<-->> similartity = 0.060616\n",
      "index=1991: count=22: แถว... ตรง <<-->> Attention! <<-->> similartity = 0.096428\n",
      "index=1992: count=23: วันทยา... .. วุธ <<-->> Present arms! <<-->> similartity = 0.118347\n",
      "index=2027: count=24: เสือกับกวางอยู่ถ้ำเดียวกันไม่ได้ ในเมื่อเราเป็นเสือ <<-->> They are inferior and therefore enemies of the state. <<-->> similartity = 0.091897\n",
      "index=2450: count=25: ถ้าเราเล่นไพ่ของเราได้เรา จะ <<-->> Listen. <<-->> similartity = 0.011655\n",
      "threshold <=  0.14\n",
      "index=267: count=1: จมูกของฉัน! <<-->> Take them away. <<-->> similartity = 0.106701\n",
      "index=507: count=2: ไม่ไม่ไม่ไม่ได้รับความตื่นเต้น! <<-->> That's the tub. <<-->> similartity = 0.060023\n",
      "index=669: count=3: เดอะควีนเก่ากลับกลอกหนึ่ง <<-->> The... <<-->> similartity = 0.041959\n",
      "index=884: count=4: โอ้ย.. เรื่องขี้หมา <<-->> I can try. <<-->> similartity = 0.067671\n",
      "index=889: count=5: จะต้องไปส่งเอกสารสำคัญ <<-->> Hold on to these dispatches. <<-->> similartity = 0.072648\n",
      "index=955: count=6: อดีนอย เฮนเคิล กล่าวและฉันแปล <<-->> Adenoid Hynkel said, \"Tomainia was down but today has risen.\" <<-->> similartity = 0.080309\n",
      "index=971: count=7: โทไมเนีย <<-->> Stand by for further commentary. Go ahead, Tomainia. <<-->> similartity = 0.004186\n",
      "index=1005: count=8: มันไม่แน่นอนหรอก <<-->> Now you said it. <<-->> similartity = 0.112803\n",
      "index=1027: count=9: เซ็น.. ไว้ก่อน <<-->> Just charge it to my account! <<-->> similartity = 0.116593\n",
      "index=1032: count=10: ฉันก็มีมือ มีเท้า ที่จะมีการโต้ตอบแกบ้าง <<-->> Not one of you has the guts to stand up alone and fight! <<-->> similartity = 0.064696\n",
      "index=1092: count=11: ความเป็นธรรมไม่มีอีกต่อไปแล้ว <<-->> All right, they've gone. <<-->> similartity = 0.111974\n",
      "index=1193: count=12: เซ็น.. ไว้ก่อน <<-->> Borrow it! <<-->> similartity = 0.133146\n",
      "index=1200: count=13: ยากที่จะทำสำเร็จ ที่จะกู้เงิน เอฟสติน เขาเป็นยิว <<-->> It might be difficult in view of our policy towards his people. <<-->> similartity = 0.135850\n",
      "index=1321: count=14: ก็มีผมสีน้ำตาล <<-->> Of the world! <<-->> similartity = 0.076878\n",
      "index=1375: count=15: ไอ้ยิว เอฟสติน ถุย <<-->> Epstein refuses, eh? <<-->> similartity = 0.105728\n",
      "index=1407: count=16: รูปสะท้อนแสงได้ <<-->> A fine photo on each! <<-->> similartity = 0.100839\n",
      "index=1462: count=17: ผบ <<-->> Commander Schultz escaped. <<-->> similartity = -0.023868\n",
      "index=1564: count=18: ทำเวลา <<-->> Take this. <<-->> similartity = 0.111934\n",
      "index=1600: count=19: ออสตินลิค <<-->> Osterlich! <<-->> similartity = 0.120353\n",
      "index=1611: count=20: เพื่อบุก ออสตินลิค <<-->> To take Osterlich! <<-->> similartity = 0.130216\n",
      "index=1614: count=21: ไหนว่ามีแค่เรา <<-->> You let him steal a march on us. <<-->> similartity = 0.107252\n",
      "index=1615: count=22: ท่านจะทำยังไงต่อไป <<-->> I had the ground covered. <<-->> similartity = -0.023339\n",
      "index=1832: count=23: มันเป็นข้ออ้างที่ดี <<-->> It'll carry weight. <<-->> similartity = 0.119443\n",
      "index=1884: count=24: เซ็นบุ๊บ ไปบั๊บ <<-->> Then I remove my troops after. <<-->> similartity = 0.060616\n",
      "index=1921: count=25: ฉันดิ้นเหมือนหนอนโดนน้ำร้อน <<-->> My little bambino! <<-->> similartity = 0.137504\n",
      "threshold <=  0.15\n",
      "index=267: count=1: จมูกของฉัน! <<-->> Take them away. <<-->> similartity = 0.106701\n",
      "index=507: count=2: ไม่ไม่ไม่ไม่ได้รับความตื่นเต้น! <<-->> That's the tub. <<-->> similartity = 0.060023\n",
      "index=669: count=3: เดอะควีนเก่ากลับกลอกหนึ่ง <<-->> The... <<-->> similartity = 0.041959\n",
      "index=832: count=4: เคลีย พื้นที่ <<-->> Stand clear! <<-->> similartity = 0.140871\n",
      "index=842: count=5: ให้ตายสิ เผ่นเร็ว <<-->> Look out! Run! <<-->> similartity = 0.149738\n",
      "index=884: count=6: โอ้ย.. เรื่องขี้หมา <<-->> I can try. <<-->> similartity = 0.067671\n",
      "index=889: count=7: จะต้องไปส่งเอกสารสำคัญ <<-->> Hold on to these dispatches. <<-->> similartity = 0.072648\n",
      "index=955: count=8: อดีนอย เฮนเคิล กล่าวและฉันแปล <<-->> Adenoid Hynkel said, \"Tomainia was down but today has risen.\" <<-->> similartity = 0.080309\n",
      "index=971: count=9: โทไมเนีย <<-->> Stand by for further commentary. Go ahead, Tomainia. <<-->> similartity = 0.004186\n",
      "index=1005: count=10: มันไม่แน่นอนหรอก <<-->> Now you said it. <<-->> similartity = 0.112803\n",
      "index=1027: count=11: เซ็น.. ไว้ก่อน <<-->> Just charge it to my account! <<-->> similartity = 0.116593\n",
      "index=1032: count=12: ฉันก็มีมือ มีเท้า ที่จะมีการโต้ตอบแกบ้าง <<-->> Not one of you has the guts to stand up alone and fight! <<-->> similartity = 0.064696\n",
      "index=1056: count=13: เร็วเข้า ไสหัวออกไป <<-->> Come on, get out of here! <<-->> similartity = 0.149304\n",
      "index=1092: count=14: ความเป็นธรรมไม่มีอีกต่อไปแล้ว <<-->> All right, they've gone. <<-->> similartity = 0.111974\n",
      "index=1193: count=15: เซ็น.. ไว้ก่อน <<-->> Borrow it! <<-->> similartity = 0.133146\n",
      "index=1200: count=16: ยากที่จะทำสำเร็จ ที่จะกู้เงิน เอฟสติน เขาเป็นยิว <<-->> It might be difficult in view of our policy towards his people. <<-->> similartity = 0.135850\n",
      "index=1321: count=17: ก็มีผมสีน้ำตาล <<-->> Of the world! <<-->> similartity = 0.076878\n",
      "index=1375: count=18: ไอ้ยิว เอฟสติน ถุย <<-->> Epstein refuses, eh? <<-->> similartity = 0.105728\n",
      "index=1395: count=19: จำเอาไว้ ทุกสิ่งที่คุณทำจะล้ม <<-->> Very well, but remember my words. <<-->> similartity = 0.148989\n",
      "index=1407: count=20: รูปสะท้อนแสงได้ <<-->> A fine photo on each! <<-->> similartity = 0.100839\n",
      "index=1462: count=21: ผบ <<-->> Commander Schultz escaped. <<-->> similartity = -0.023868\n",
      "index=1564: count=22: ทำเวลา <<-->> Take this. <<-->> similartity = 0.111934\n",
      "index=1594: count=23: พวกแกอยู่ไหน <<-->> Here's your friend. <<-->> similartity = 0.141263\n",
      "index=1600: count=24: ออสตินลิค <<-->> Osterlich! <<-->> similartity = 0.120353\n",
      "index=1606: count=25: แด่ ออสตินลิค <<-->> To the invasion of Osterlich! <<-->> similartity = 0.140762\n",
      "threshold <=  0.16\n",
      "index=267: count=1: จมูกของฉัน! <<-->> Take them away. <<-->> similartity = 0.106701\n",
      "index=414: count=2: ลัปล แดปลินส <<-->> Lumple dapplins? <<-->> similartity = 0.157522\n",
      "index=507: count=3: ไม่ไม่ไม่ไม่ได้รับความตื่นเต้น! <<-->> That's the tub. <<-->> similartity = 0.060023\n",
      "index=669: count=4: เดอะควีนเก่ากลับกลอกหนึ่ง <<-->> The... <<-->> similartity = 0.041959\n",
      "index=832: count=5: เคลีย พื้นที่ <<-->> Stand clear! <<-->> similartity = 0.140871\n",
      "index=842: count=6: ให้ตายสิ เผ่นเร็ว <<-->> Look out! Run! <<-->> similartity = 0.149738\n",
      "index=884: count=7: โอ้ย.. เรื่องขี้หมา <<-->> I can try. <<-->> similartity = 0.067671\n",
      "index=889: count=8: จะต้องไปส่งเอกสารสำคัญ <<-->> Hold on to these dispatches. <<-->> similartity = 0.072648\n",
      "index=955: count=9: อดีนอย เฮนเคิล กล่าวและฉันแปล <<-->> Adenoid Hynkel said, \"Tomainia was down but today has risen.\" <<-->> similartity = 0.080309\n",
      "index=971: count=10: โทไมเนีย <<-->> Stand by for further commentary. Go ahead, Tomainia. <<-->> similartity = 0.004186\n",
      "index=1005: count=11: มันไม่แน่นอนหรอก <<-->> Now you said it. <<-->> similartity = 0.112803\n",
      "index=1027: count=12: เซ็น.. ไว้ก่อน <<-->> Just charge it to my account! <<-->> similartity = 0.116593\n",
      "index=1032: count=13: ฉันก็มีมือ มีเท้า ที่จะมีการโต้ตอบแกบ้าง <<-->> Not one of you has the guts to stand up alone and fight! <<-->> similartity = 0.064696\n",
      "index=1056: count=14: เร็วเข้า ไสหัวออกไป <<-->> Come on, get out of here! <<-->> similartity = 0.149304\n",
      "index=1092: count=15: ความเป็นธรรมไม่มีอีกต่อไปแล้ว <<-->> All right, they've gone. <<-->> similartity = 0.111974\n",
      "index=1193: count=16: เซ็น.. ไว้ก่อน <<-->> Borrow it! <<-->> similartity = 0.133146\n",
      "index=1200: count=17: ยากที่จะทำสำเร็จ ที่จะกู้เงิน เอฟสติน เขาเป็นยิว <<-->> It might be difficult in view of our policy towards his people. <<-->> similartity = 0.135850\n",
      "index=1321: count=18: ก็มีผมสีน้ำตาล <<-->> Of the world! <<-->> similartity = 0.076878\n",
      "index=1375: count=19: ไอ้ยิว เอฟสติน ถุย <<-->> Epstein refuses, eh? <<-->> similartity = 0.105728\n",
      "index=1395: count=20: จำเอาไว้ ทุกสิ่งที่คุณทำจะล้ม <<-->> Very well, but remember my words. <<-->> similartity = 0.148989\n",
      "index=1407: count=21: รูปสะท้อนแสงได้ <<-->> A fine photo on each! <<-->> similartity = 0.100839\n",
      "index=1462: count=22: ผบ <<-->> Commander Schultz escaped. <<-->> similartity = -0.023868\n",
      "index=1564: count=23: ทำเวลา <<-->> Take this. <<-->> similartity = 0.111934\n",
      "index=1594: count=24: พวกแกอยู่ไหน <<-->> Here's your friend. <<-->> similartity = 0.141263\n",
      "index=1600: count=25: ออสตินลิค <<-->> Osterlich! <<-->> similartity = 0.120353\n",
      "threshold <=  0.17\n",
      "index=267: count=1: จมูกของฉัน! <<-->> Take them away. <<-->> similartity = 0.106701\n",
      "index=414: count=2: ลัปล แดปลินส <<-->> Lumple dapplins? <<-->> similartity = 0.157522\n",
      "index=507: count=3: ไม่ไม่ไม่ไม่ได้รับความตื่นเต้น! <<-->> That's the tub. <<-->> similartity = 0.060023\n",
      "index=669: count=4: เดอะควีนเก่ากลับกลอกหนึ่ง <<-->> The... <<-->> similartity = 0.041959\n",
      "index=832: count=5: เคลีย พื้นที่ <<-->> Stand clear! <<-->> similartity = 0.140871\n",
      "index=842: count=6: ให้ตายสิ เผ่นเร็ว <<-->> Look out! Run! <<-->> similartity = 0.149738\n",
      "index=884: count=7: โอ้ย.. เรื่องขี้หมา <<-->> I can try. <<-->> similartity = 0.067671\n",
      "index=889: count=8: จะต้องไปส่งเอกสารสำคัญ <<-->> Hold on to these dispatches. <<-->> similartity = 0.072648\n",
      "index=955: count=9: อดีนอย เฮนเคิล กล่าวและฉันแปล <<-->> Adenoid Hynkel said, \"Tomainia was down but today has risen.\" <<-->> similartity = 0.080309\n",
      "index=971: count=10: โทไมเนีย <<-->> Stand by for further commentary. Go ahead, Tomainia. <<-->> similartity = 0.004186\n",
      "index=1005: count=11: มันไม่แน่นอนหรอก <<-->> Now you said it. <<-->> similartity = 0.112803\n",
      "index=1027: count=12: เซ็น.. ไว้ก่อน <<-->> Just charge it to my account! <<-->> similartity = 0.116593\n",
      "index=1032: count=13: ฉันก็มีมือ มีเท้า ที่จะมีการโต้ตอบแกบ้าง <<-->> Not one of you has the guts to stand up alone and fight! <<-->> similartity = 0.064696\n",
      "index=1056: count=14: เร็วเข้า ไสหัวออกไป <<-->> Come on, get out of here! <<-->> similartity = 0.149304\n",
      "index=1092: count=15: ความเป็นธรรมไม่มีอีกต่อไปแล้ว <<-->> All right, they've gone. <<-->> similartity = 0.111974\n",
      "index=1193: count=16: เซ็น.. ไว้ก่อน <<-->> Borrow it! <<-->> similartity = 0.133146\n",
      "index=1200: count=17: ยากที่จะทำสำเร็จ ที่จะกู้เงิน เอฟสติน เขาเป็นยิว <<-->> It might be difficult in view of our policy towards his people. <<-->> similartity = 0.135850\n",
      "index=1321: count=18: ก็มีผมสีน้ำตาล <<-->> Of the world! <<-->> similartity = 0.076878\n",
      "index=1375: count=19: ไอ้ยิว เอฟสติน ถุย <<-->> Epstein refuses, eh? <<-->> similartity = 0.105728\n",
      "index=1395: count=20: จำเอาไว้ ทุกสิ่งที่คุณทำจะล้ม <<-->> Very well, but remember my words. <<-->> similartity = 0.148989\n",
      "index=1407: count=21: รูปสะท้อนแสงได้ <<-->> A fine photo on each! <<-->> similartity = 0.100839\n",
      "index=1462: count=22: ผบ <<-->> Commander Schultz escaped. <<-->> similartity = -0.023868\n",
      "index=1529: count=23: แล้ว ผบ. ล่ะ <<-->> Where's the Commander? <<-->> similartity = 0.169409\n",
      "index=1564: count=24: ทำเวลา <<-->> Take this. <<-->> similartity = 0.111934\n",
      "index=1594: count=25: พวกแกอยู่ไหน <<-->> Here's your friend. <<-->> similartity = 0.141263\n",
      "threshold <=  0.18\n",
      "index=267: count=1: จมูกของฉัน! <<-->> Take them away. <<-->> similartity = 0.106701\n",
      "index=414: count=2: ลัปล แดปลินส <<-->> Lumple dapplins? <<-->> similartity = 0.157522\n",
      "index=507: count=3: ไม่ไม่ไม่ไม่ได้รับความตื่นเต้น! <<-->> That's the tub. <<-->> similartity = 0.060023\n",
      "index=669: count=4: เดอะควีนเก่ากลับกลอกหนึ่ง <<-->> The... <<-->> similartity = 0.041959\n",
      "index=832: count=5: เคลีย พื้นที่ <<-->> Stand clear! <<-->> similartity = 0.140871\n",
      "index=842: count=6: ให้ตายสิ เผ่นเร็ว <<-->> Look out! Run! <<-->> similartity = 0.149738\n",
      "index=884: count=7: โอ้ย.. เรื่องขี้หมา <<-->> I can try. <<-->> similartity = 0.067671\n",
      "index=889: count=8: จะต้องไปส่งเอกสารสำคัญ <<-->> Hold on to these dispatches. <<-->> similartity = 0.072648\n",
      "index=955: count=9: อดีนอย เฮนเคิล กล่าวและฉันแปล <<-->> Adenoid Hynkel said, \"Tomainia was down but today has risen.\" <<-->> similartity = 0.080309\n",
      "index=971: count=10: โทไมเนีย <<-->> Stand by for further commentary. Go ahead, Tomainia. <<-->> similartity = 0.004186\n",
      "index=1005: count=11: มันไม่แน่นอนหรอก <<-->> Now you said it. <<-->> similartity = 0.112803\n",
      "index=1027: count=12: เซ็น.. ไว้ก่อน <<-->> Just charge it to my account! <<-->> similartity = 0.116593\n",
      "index=1032: count=13: ฉันก็มีมือ มีเท้า ที่จะมีการโต้ตอบแกบ้าง <<-->> Not one of you has the guts to stand up alone and fight! <<-->> similartity = 0.064696\n",
      "index=1056: count=14: เร็วเข้า ไสหัวออกไป <<-->> Come on, get out of here! <<-->> similartity = 0.149304\n",
      "index=1092: count=15: ความเป็นธรรมไม่มีอีกต่อไปแล้ว <<-->> All right, they've gone. <<-->> similartity = 0.111974\n",
      "index=1193: count=16: เซ็น.. ไว้ก่อน <<-->> Borrow it! <<-->> similartity = 0.133146\n",
      "index=1200: count=17: ยากที่จะทำสำเร็จ ที่จะกู้เงิน เอฟสติน เขาเป็นยิว <<-->> It might be difficult in view of our policy towards his people. <<-->> similartity = 0.135850\n",
      "index=1215: count=18: ไม่ถึงไหน <<-->> Very slow. <<-->> similartity = 0.175175\n",
      "index=1260: count=19: แล้วผมโกนเคราให้คุณทำไม <<-->> Isn't that foolish of me? <<-->> similartity = 0.175072\n",
      "index=1321: count=20: ก็มีผมสีน้ำตาล <<-->> Of the world! <<-->> similartity = 0.076878\n",
      "index=1375: count=21: ไอ้ยิว เอฟสติน ถุย <<-->> Epstein refuses, eh? <<-->> similartity = 0.105728\n",
      "index=1395: count=22: จำเอาไว้ ทุกสิ่งที่คุณทำจะล้ม <<-->> Very well, but remember my words. <<-->> similartity = 0.148989\n",
      "index=1399: count=23: แกมันขัดต่อคำปฏิญาณ <<-->> You're a double-dyed democrat! <<-->> similartity = 0.170685\n",
      "index=1407: count=24: รูปสะท้อนแสงได้ <<-->> A fine photo on each! <<-->> similartity = 0.100839\n",
      "index=1462: count=25: ผบ <<-->> Commander Schultz escaped. <<-->> similartity = -0.023868\n",
      "threshold <=  0.19\n",
      "index=267: count=1: จมูกของฉัน! <<-->> Take them away. <<-->> similartity = 0.106701\n",
      "index=414: count=2: ลัปล แดปลินส <<-->> Lumple dapplins? <<-->> similartity = 0.157522\n",
      "index=507: count=3: ไม่ไม่ไม่ไม่ได้รับความตื่นเต้น! <<-->> That's the tub. <<-->> similartity = 0.060023\n",
      "index=669: count=4: เดอะควีนเก่ากลับกลอกหนึ่ง <<-->> The... <<-->> similartity = 0.041959\n",
      "index=832: count=5: เคลีย พื้นที่ <<-->> Stand clear! <<-->> similartity = 0.140871\n",
      "index=842: count=6: ให้ตายสิ เผ่นเร็ว <<-->> Look out! Run! <<-->> similartity = 0.149738\n",
      "index=884: count=7: โอ้ย.. เรื่องขี้หมา <<-->> I can try. <<-->> similartity = 0.067671\n",
      "index=889: count=8: จะต้องไปส่งเอกสารสำคัญ <<-->> Hold on to these dispatches. <<-->> similartity = 0.072648\n",
      "index=955: count=9: อดีนอย เฮนเคิล กล่าวและฉันแปล <<-->> Adenoid Hynkel said, \"Tomainia was down but today has risen.\" <<-->> similartity = 0.080309\n",
      "index=971: count=10: โทไมเนีย <<-->> Stand by for further commentary. Go ahead, Tomainia. <<-->> similartity = 0.004186\n",
      "index=1005: count=11: มันไม่แน่นอนหรอก <<-->> Now you said it. <<-->> similartity = 0.112803\n",
      "index=1027: count=12: เซ็น.. ไว้ก่อน <<-->> Just charge it to my account! <<-->> similartity = 0.116593\n",
      "index=1032: count=13: ฉันก็มีมือ มีเท้า ที่จะมีการโต้ตอบแกบ้าง <<-->> Not one of you has the guts to stand up alone and fight! <<-->> similartity = 0.064696\n",
      "index=1056: count=14: เร็วเข้า ไสหัวออกไป <<-->> Come on, get out of here! <<-->> similartity = 0.149304\n",
      "index=1092: count=15: ความเป็นธรรมไม่มีอีกต่อไปแล้ว <<-->> All right, they've gone. <<-->> similartity = 0.111974\n",
      "index=1193: count=16: เซ็น.. ไว้ก่อน <<-->> Borrow it! <<-->> similartity = 0.133146\n",
      "index=1200: count=17: ยากที่จะทำสำเร็จ ที่จะกู้เงิน เอฟสติน เขาเป็นยิว <<-->> It might be difficult in view of our policy towards his people. <<-->> similartity = 0.135850\n",
      "index=1215: count=18: ไม่ถึงไหน <<-->> Very slow. <<-->> similartity = 0.175175\n",
      "index=1260: count=19: แล้วผมโกนเคราให้คุณทำไม <<-->> Isn't that foolish of me? <<-->> similartity = 0.175072\n",
      "index=1305: count=20: หยวนๆให้พวกเขาหน่อยล่ะกัน <<-->> Cannot afford to be lenient. <<-->> similartity = 0.183946\n",
      "index=1321: count=21: ก็มีผมสีน้ำตาล <<-->> Of the world! <<-->> similartity = 0.076878\n",
      "index=1375: count=22: ไอ้ยิว เอฟสติน ถุย <<-->> Epstein refuses, eh? <<-->> similartity = 0.105728\n",
      "index=1395: count=23: จำเอาไว้ ทุกสิ่งที่คุณทำจะล้ม <<-->> Very well, but remember my words. <<-->> similartity = 0.148989\n",
      "index=1399: count=24: แกมันขัดต่อคำปฏิญาณ <<-->> You're a double-dyed democrat! <<-->> similartity = 0.170685\n",
      "index=1405: count=25: ก็ใช่ <<-->> Most amusing. <<-->> similartity = 0.183702\n",
      "threshold <=  0.2\n",
      "index=267: count=1: จมูกของฉัน! <<-->> Take them away. <<-->> similartity = 0.106701\n",
      "index=414: count=2: ลัปล แดปลินส <<-->> Lumple dapplins? <<-->> similartity = 0.157522\n",
      "index=507: count=3: ไม่ไม่ไม่ไม่ได้รับความตื่นเต้น! <<-->> That's the tub. <<-->> similartity = 0.060023\n",
      "index=669: count=4: เดอะควีนเก่ากลับกลอกหนึ่ง <<-->> The... <<-->> similartity = 0.041959\n",
      "index=832: count=5: เคลีย พื้นที่ <<-->> Stand clear! <<-->> similartity = 0.140871\n",
      "index=841: count=6: ครับผม ตรวจฉนวน <<-->> Yes, the fuse. <<-->> similartity = 0.194607\n",
      "index=842: count=7: ให้ตายสิ เผ่นเร็ว <<-->> Look out! Run! <<-->> similartity = 0.149738\n",
      "index=844: count=8: เครื่องบิน ข้าศึก <<-->> Air raid. After Big Bertha. <<-->> similartity = 0.191840\n",
      "index=884: count=9: โอ้ย.. เรื่องขี้หมา <<-->> I can try. <<-->> similartity = 0.067671\n",
      "index=889: count=10: จะต้องไปส่งเอกสารสำคัญ <<-->> Hold on to these dispatches. <<-->> similartity = 0.072648\n",
      "index=955: count=11: อดีนอย เฮนเคิล กล่าวและฉันแปล <<-->> Adenoid Hynkel said, \"Tomainia was down but today has risen.\" <<-->> similartity = 0.080309\n",
      "index=971: count=12: โทไมเนีย <<-->> Stand by for further commentary. Go ahead, Tomainia. <<-->> similartity = 0.004186\n",
      "index=1005: count=13: มันไม่แน่นอนหรอก <<-->> Now you said it. <<-->> similartity = 0.112803\n",
      "index=1027: count=14: เซ็น.. ไว้ก่อน <<-->> Just charge it to my account! <<-->> similartity = 0.116593\n",
      "index=1032: count=15: ฉันก็มีมือ มีเท้า ที่จะมีการโต้ตอบแกบ้าง <<-->> Not one of you has the guts to stand up alone and fight! <<-->> similartity = 0.064696\n",
      "index=1037: count=16: ฉันไม่ได้ทำร้ายใคร แต่ฉันเป็นผู้ให้มากกว่า <<-->> Don't rob the poor girl, boys. Give her back her tomatoes. <<-->> similartity = 0.197945\n",
      "index=1056: count=17: เร็วเข้า ไสหัวออกไป <<-->> Come on, get out of here! <<-->> similartity = 0.149304\n",
      "index=1092: count=18: ความเป็นธรรมไม่มีอีกต่อไปแล้ว <<-->> All right, they've gone. <<-->> similartity = 0.111974\n",
      "index=1193: count=19: เซ็น.. ไว้ก่อน <<-->> Borrow it! <<-->> similartity = 0.133146\n",
      "index=1200: count=20: ยากที่จะทำสำเร็จ ที่จะกู้เงิน เอฟสติน เขาเป็นยิว <<-->> It might be difficult in view of our policy towards his people. <<-->> similartity = 0.135850\n",
      "index=1215: count=21: ไม่ถึงไหน <<-->> Very slow. <<-->> similartity = 0.175175\n",
      "index=1260: count=22: แล้วผมโกนเคราให้คุณทำไม <<-->> Isn't that foolish of me? <<-->> similartity = 0.175072\n",
      "index=1305: count=23: หยวนๆให้พวกเขาหน่อยล่ะกัน <<-->> Cannot afford to be lenient. <<-->> similartity = 0.183946\n",
      "index=1321: count=24: ก็มีผมสีน้ำตาล <<-->> Of the world! <<-->> similartity = 0.076878\n",
      "index=1375: count=25: ไอ้ยิว เอฟสติน ถุย <<-->> Epstein refuses, eh? <<-->> similartity = 0.105728\n",
      "threshold <=  0.21\n",
      "index=27: count=1: ฉันหวังว่าฉันหวัง <<-->> I'm hoрing -I'm hoрing <<-->> similartity = 0.206424\n",
      "index=267: count=2: จมูกของฉัน! <<-->> Take them away. <<-->> similartity = 0.106701\n",
      "index=414: count=3: ลัปล แดปลินส <<-->> Lumple dapplins? <<-->> similartity = 0.157522\n",
      "index=457: count=4: ทำไมเงียบไป? <<-->> Cat got your tongue? <<-->> similartity = 0.207935\n",
      "index=507: count=5: ไม่ไม่ไม่ไม่ได้รับความตื่นเต้น! <<-->> That's the tub. <<-->> similartity = 0.060023\n",
      "index=669: count=6: เดอะควีนเก่ากลับกลอกหนึ่ง <<-->> The... <<-->> similartity = 0.041959\n",
      "index=832: count=7: เคลีย พื้นที่ <<-->> Stand clear! <<-->> similartity = 0.140871\n",
      "index=836: count=8: เคลีย พื้นที่ <<-->> Stand clear. <<-->> similartity = 0.201752\n",
      "index=841: count=9: ครับผม ตรวจฉนวน <<-->> Yes, the fuse. <<-->> similartity = 0.194607\n",
      "index=842: count=10: ให้ตายสิ เผ่นเร็ว <<-->> Look out! Run! <<-->> similartity = 0.149738\n",
      "index=844: count=11: เครื่องบิน ข้าศึก <<-->> Air raid. After Big Bertha. <<-->> similartity = 0.191840\n",
      "index=884: count=12: โอ้ย.. เรื่องขี้หมา <<-->> I can try. <<-->> similartity = 0.067671\n",
      "index=889: count=13: จะต้องไปส่งเอกสารสำคัญ <<-->> Hold on to these dispatches. <<-->> similartity = 0.072648\n",
      "index=917: count=14: มันล้ำลึกเกินฉันจะเข้าใจ <<-->> I can't reach it. <<-->> similartity = 0.201063\n",
      "index=955: count=15: อดีนอย เฮนเคิล กล่าวและฉันแปล <<-->> Adenoid Hynkel said, \"Tomainia was down but today has risen.\" <<-->> similartity = 0.080309\n",
      "index=971: count=16: โทไมเนีย <<-->> Stand by for further commentary. Go ahead, Tomainia. <<-->> similartity = 0.004186\n",
      "index=1005: count=17: มันไม่แน่นอนหรอก <<-->> Now you said it. <<-->> similartity = 0.112803\n",
      "index=1027: count=18: เซ็น.. ไว้ก่อน <<-->> Just charge it to my account! <<-->> similartity = 0.116593\n",
      "index=1030: count=19: ทุกคนมีสิทธิ์จะได้มัน <<-->> If I were a man I'd show you. <<-->> similartity = 0.203793\n",
      "index=1032: count=20: ฉันก็มีมือ มีเท้า ที่จะมีการโต้ตอบแกบ้าง <<-->> Not one of you has the guts to stand up alone and fight! <<-->> similartity = 0.064696\n",
      "index=1034: count=21: หุบปาก <<-->> Shut up! <<-->> similartity = 0.200298\n",
      "index=1037: count=22: ฉันไม่ได้ทำร้ายใคร แต่ฉันเป็นผู้ให้มากกว่า <<-->> Don't rob the poor girl, boys. Give her back her tomatoes. <<-->> similartity = 0.197945\n",
      "index=1056: count=23: เร็วเข้า ไสหัวออกไป <<-->> Come on, get out of here! <<-->> similartity = 0.149304\n",
      "index=1092: count=24: ความเป็นธรรมไม่มีอีกต่อไปแล้ว <<-->> All right, they've gone. <<-->> similartity = 0.111974\n",
      "index=1193: count=25: เซ็น.. ไว้ก่อน <<-->> Borrow it! <<-->> similartity = 0.133146\n",
      "threshold <=  0.22\n",
      "index=27: count=1: ฉันหวังว่าฉันหวัง <<-->> I'm hoрing -I'm hoрing <<-->> similartity = 0.206424\n",
      "index=267: count=2: จมูกของฉัน! <<-->> Take them away. <<-->> similartity = 0.106701\n",
      "index=414: count=3: ลัปล แดปลินส <<-->> Lumple dapplins? <<-->> similartity = 0.157522\n",
      "index=457: count=4: ทำไมเงียบไป? <<-->> Cat got your tongue? <<-->> similartity = 0.207935\n",
      "index=507: count=5: ไม่ไม่ไม่ไม่ได้รับความตื่นเต้น! <<-->> That's the tub. <<-->> similartity = 0.060023\n",
      "index=669: count=6: เดอะควีนเก่ากลับกลอกหนึ่ง <<-->> The... <<-->> similartity = 0.041959\n",
      "index=832: count=7: เคลีย พื้นที่ <<-->> Stand clear! <<-->> similartity = 0.140871\n",
      "index=836: count=8: เคลีย พื้นที่ <<-->> Stand clear. <<-->> similartity = 0.201752\n",
      "index=841: count=9: ครับผม ตรวจฉนวน <<-->> Yes, the fuse. <<-->> similartity = 0.194607\n",
      "index=842: count=10: ให้ตายสิ เผ่นเร็ว <<-->> Look out! Run! <<-->> similartity = 0.149738\n",
      "index=844: count=11: เครื่องบิน ข้าศึก <<-->> Air raid. After Big Bertha. <<-->> similartity = 0.191840\n",
      "index=878: count=12: ขอบใจหลาย ในความกรุณา โทไมเนีย ภูมิใจที่มีนาย <<-->> Thank you. I'll see you get the Tomainian Cross for this. <<-->> similartity = 0.212922\n",
      "index=884: count=13: โอ้ย.. เรื่องขี้หมา <<-->> I can try. <<-->> similartity = 0.067671\n",
      "index=889: count=14: จะต้องไปส่งเอกสารสำคัญ <<-->> Hold on to these dispatches. <<-->> similartity = 0.072648\n",
      "index=917: count=15: มันล้ำลึกเกินฉันจะเข้าใจ <<-->> I can't reach it. <<-->> similartity = 0.201063\n",
      "index=955: count=16: อดีนอย เฮนเคิล กล่าวและฉันแปล <<-->> Adenoid Hynkel said, \"Tomainia was down but today has risen.\" <<-->> similartity = 0.080309\n",
      "index=971: count=17: โทไมเนีย <<-->> Stand by for further commentary. Go ahead, Tomainia. <<-->> similartity = 0.004186\n",
      "index=1005: count=18: มันไม่แน่นอนหรอก <<-->> Now you said it. <<-->> similartity = 0.112803\n",
      "index=1027: count=19: เซ็น.. ไว้ก่อน <<-->> Just charge it to my account! <<-->> similartity = 0.116593\n",
      "index=1030: count=20: ทุกคนมีสิทธิ์จะได้มัน <<-->> If I were a man I'd show you. <<-->> similartity = 0.203793\n",
      "index=1032: count=21: ฉันก็มีมือ มีเท้า ที่จะมีการโต้ตอบแกบ้าง <<-->> Not one of you has the guts to stand up alone and fight! <<-->> similartity = 0.064696\n",
      "index=1034: count=22: หุบปาก <<-->> Shut up! <<-->> similartity = 0.200298\n",
      "index=1037: count=23: ฉันไม่ได้ทำร้ายใคร แต่ฉันเป็นผู้ให้มากกว่า <<-->> Don't rob the poor girl, boys. Give her back her tomatoes. <<-->> similartity = 0.197945\n",
      "index=1056: count=24: เร็วเข้า ไสหัวออกไป <<-->> Come on, get out of here! <<-->> similartity = 0.149304\n",
      "index=1092: count=25: ความเป็นธรรมไม่มีอีกต่อไปแล้ว <<-->> All right, they've gone. <<-->> similartity = 0.111974\n",
      "threshold <=  0.23\n",
      "index=27: count=1: ฉันหวังว่าฉันหวัง <<-->> I'm hoрing -I'm hoрing <<-->> similartity = 0.206424\n",
      "index=267: count=2: จมูกของฉัน! <<-->> Take them away. <<-->> similartity = 0.106701\n",
      "index=414: count=3: ลัปล แดปลินส <<-->> Lumple dapplins? <<-->> similartity = 0.157522\n",
      "index=457: count=4: ทำไมเงียบไป? <<-->> Cat got your tongue? <<-->> similartity = 0.207935\n",
      "index=507: count=5: ไม่ไม่ไม่ไม่ได้รับความตื่นเต้น! <<-->> That's the tub. <<-->> similartity = 0.060023\n",
      "index=669: count=6: เดอะควีนเก่ากลับกลอกหนึ่ง <<-->> The... <<-->> similartity = 0.041959\n",
      "index=832: count=7: เคลีย พื้นที่ <<-->> Stand clear! <<-->> similartity = 0.140871\n",
      "index=836: count=8: เคลีย พื้นที่ <<-->> Stand clear. <<-->> similartity = 0.201752\n",
      "index=841: count=9: ครับผม ตรวจฉนวน <<-->> Yes, the fuse. <<-->> similartity = 0.194607\n",
      "index=842: count=10: ให้ตายสิ เผ่นเร็ว <<-->> Look out! Run! <<-->> similartity = 0.149738\n",
      "index=844: count=11: เครื่องบิน ข้าศึก <<-->> Air raid. After Big Bertha. <<-->> similartity = 0.191840\n",
      "index=878: count=12: ขอบใจหลาย ในความกรุณา โทไมเนีย ภูมิใจที่มีนาย <<-->> Thank you. I'll see you get the Tomainian Cross for this. <<-->> similartity = 0.212922\n",
      "index=884: count=13: โอ้ย.. เรื่องขี้หมา <<-->> I can try. <<-->> similartity = 0.067671\n",
      "index=889: count=14: จะต้องไปส่งเอกสารสำคัญ <<-->> Hold on to these dispatches. <<-->> similartity = 0.072648\n",
      "index=917: count=15: มันล้ำลึกเกินฉันจะเข้าใจ <<-->> I can't reach it. <<-->> similartity = 0.201063\n",
      "index=955: count=16: อดีนอย เฮนเคิล กล่าวและฉันแปล <<-->> Adenoid Hynkel said, \"Tomainia was down but today has risen.\" <<-->> similartity = 0.080309\n",
      "index=968: count=17: ผู้นำของคุณ <<-->> This is the Pari-Mutual network, bringing you <<-->> similartity = 0.227621\n",
      "index=971: count=18: โทไมเนีย <<-->> Stand by for further commentary. Go ahead, Tomainia. <<-->> similartity = 0.004186\n",
      "index=1005: count=19: มันไม่แน่นอนหรอก <<-->> Now you said it. <<-->> similartity = 0.112803\n",
      "index=1027: count=20: เซ็น.. ไว้ก่อน <<-->> Just charge it to my account! <<-->> similartity = 0.116593\n",
      "index=1030: count=21: ทุกคนมีสิทธิ์จะได้มัน <<-->> If I were a man I'd show you. <<-->> similartity = 0.203793\n",
      "index=1032: count=22: ฉันก็มีมือ มีเท้า ที่จะมีการโต้ตอบแกบ้าง <<-->> Not one of you has the guts to stand up alone and fight! <<-->> similartity = 0.064696\n",
      "index=1034: count=23: หุบปาก <<-->> Shut up! <<-->> similartity = 0.200298\n",
      "index=1037: count=24: ฉันไม่ได้ทำร้ายใคร แต่ฉันเป็นผู้ให้มากกว่า <<-->> Don't rob the poor girl, boys. Give her back her tomatoes. <<-->> similartity = 0.197945\n",
      "index=1056: count=25: เร็วเข้า ไสหัวออกไป <<-->> Come on, get out of here! <<-->> similartity = 0.149304\n",
      "threshold <=  0.24\n",
      "index=27: count=1: ฉันหวังว่าฉันหวัง <<-->> I'm hoрing -I'm hoрing <<-->> similartity = 0.206424\n",
      "index=267: count=2: จมูกของฉัน! <<-->> Take them away. <<-->> similartity = 0.106701\n",
      "index=414: count=3: ลัปล แดปลินส <<-->> Lumple dapplins? <<-->> similartity = 0.157522\n",
      "index=457: count=4: ทำไมเงียบไป? <<-->> Cat got your tongue? <<-->> similartity = 0.207935\n",
      "index=507: count=5: ไม่ไม่ไม่ไม่ได้รับความตื่นเต้น! <<-->> That's the tub. <<-->> similartity = 0.060023\n",
      "index=669: count=6: เดอะควีนเก่ากลับกลอกหนึ่ง <<-->> The... <<-->> similartity = 0.041959\n",
      "index=832: count=7: เคลีย พื้นที่ <<-->> Stand clear! <<-->> similartity = 0.140871\n",
      "index=836: count=8: เคลีย พื้นที่ <<-->> Stand clear. <<-->> similartity = 0.201752\n",
      "index=841: count=9: ครับผม ตรวจฉนวน <<-->> Yes, the fuse. <<-->> similartity = 0.194607\n",
      "index=842: count=10: ให้ตายสิ เผ่นเร็ว <<-->> Look out! Run! <<-->> similartity = 0.149738\n",
      "index=844: count=11: เครื่องบิน ข้าศึก <<-->> Air raid. After Big Bertha. <<-->> similartity = 0.191840\n",
      "index=878: count=12: ขอบใจหลาย ในความกรุณา โทไมเนีย ภูมิใจที่มีนาย <<-->> Thank you. I'll see you get the Tomainian Cross for this. <<-->> similartity = 0.212922\n",
      "index=884: count=13: โอ้ย.. เรื่องขี้หมา <<-->> I can try. <<-->> similartity = 0.067671\n",
      "index=889: count=14: จะต้องไปส่งเอกสารสำคัญ <<-->> Hold on to these dispatches. <<-->> similartity = 0.072648\n",
      "index=917: count=15: มันล้ำลึกเกินฉันจะเข้าใจ <<-->> I can't reach it. <<-->> similartity = 0.201063\n",
      "index=955: count=16: อดีนอย เฮนเคิล กล่าวและฉันแปล <<-->> Adenoid Hynkel said, \"Tomainia was down but today has risen.\" <<-->> similartity = 0.080309\n",
      "index=968: count=17: ผู้นำของคุณ <<-->> This is the Pari-Mutual network, bringing you <<-->> similartity = 0.227621\n",
      "index=971: count=18: โทไมเนีย <<-->> Stand by for further commentary. Go ahead, Tomainia. <<-->> similartity = 0.004186\n",
      "index=1005: count=19: มันไม่แน่นอนหรอก <<-->> Now you said it. <<-->> similartity = 0.112803\n",
      "index=1027: count=20: เซ็น.. ไว้ก่อน <<-->> Just charge it to my account! <<-->> similartity = 0.116593\n",
      "index=1030: count=21: ทุกคนมีสิทธิ์จะได้มัน <<-->> If I were a man I'd show you. <<-->> similartity = 0.203793\n",
      "index=1032: count=22: ฉันก็มีมือ มีเท้า ที่จะมีการโต้ตอบแกบ้าง <<-->> Not one of you has the guts to stand up alone and fight! <<-->> similartity = 0.064696\n",
      "index=1034: count=23: หุบปาก <<-->> Shut up! <<-->> similartity = 0.200298\n",
      "index=1037: count=24: ฉันไม่ได้ทำร้ายใคร แต่ฉันเป็นผู้ให้มากกว่า <<-->> Don't rob the poor girl, boys. Give her back her tomatoes. <<-->> similartity = 0.197945\n",
      "index=1056: count=25: เร็วเข้า ไสหัวออกไป <<-->> Come on, get out of here! <<-->> similartity = 0.149304\n",
      "threshold <=  0.25\n",
      "index=27: count=1: ฉันหวังว่าฉันหวัง <<-->> I'm hoрing -I'm hoрing <<-->> similartity = 0.206424\n",
      "index=267: count=2: จมูกของฉัน! <<-->> Take them away. <<-->> similartity = 0.106701\n",
      "index=414: count=3: ลัปล แดปลินส <<-->> Lumple dapplins? <<-->> similartity = 0.157522\n",
      "index=457: count=4: ทำไมเงียบไป? <<-->> Cat got your tongue? <<-->> similartity = 0.207935\n",
      "index=507: count=5: ไม่ไม่ไม่ไม่ได้รับความตื่นเต้น! <<-->> That's the tub. <<-->> similartity = 0.060023\n",
      "index=669: count=6: เดอะควีนเก่ากลับกลอกหนึ่ง <<-->> The... <<-->> similartity = 0.041959\n",
      "index=832: count=7: เคลีย พื้นที่ <<-->> Stand clear! <<-->> similartity = 0.140871\n",
      "index=836: count=8: เคลีย พื้นที่ <<-->> Stand clear. <<-->> similartity = 0.201752\n",
      "index=841: count=9: ครับผม ตรวจฉนวน <<-->> Yes, the fuse. <<-->> similartity = 0.194607\n",
      "index=842: count=10: ให้ตายสิ เผ่นเร็ว <<-->> Look out! Run! <<-->> similartity = 0.149738\n",
      "index=844: count=11: เครื่องบิน ข้าศึก <<-->> Air raid. After Big Bertha. <<-->> similartity = 0.191840\n",
      "index=878: count=12: ขอบใจหลาย ในความกรุณา โทไมเนีย ภูมิใจที่มีนาย <<-->> Thank you. I'll see you get the Tomainian Cross for this. <<-->> similartity = 0.212922\n",
      "index=879: count=13: ผมเต็มใจช่วย ครับผม <<-->> Only too willing to oblige, sir. <<-->> similartity = 0.240544\n",
      "index=884: count=14: โอ้ย.. เรื่องขี้หมา <<-->> I can try. <<-->> similartity = 0.067671\n",
      "index=889: count=15: จะต้องไปส่งเอกสารสำคัญ <<-->> Hold on to these dispatches. <<-->> similartity = 0.072648\n",
      "index=917: count=16: มันล้ำลึกเกินฉันจะเข้าใจ <<-->> I can't reach it. <<-->> similartity = 0.201063\n",
      "index=934: count=17: วิธีที่เธอดูแลมัน <<-->> How she loves daffodils! <<-->> similartity = 0.243570\n",
      "index=955: count=18: อดีนอย เฮนเคิล กล่าวและฉันแปล <<-->> Adenoid Hynkel said, \"Tomainia was down but today has risen.\" <<-->> similartity = 0.080309\n",
      "index=968: count=19: ผู้นำของคุณ <<-->> This is the Pari-Mutual network, bringing you <<-->> similartity = 0.227621\n",
      "index=971: count=20: โทไมเนีย <<-->> Stand by for further commentary. Go ahead, Tomainia. <<-->> similartity = 0.004186\n",
      "index=1005: count=21: มันไม่แน่นอนหรอก <<-->> Now you said it. <<-->> similartity = 0.112803\n",
      "index=1027: count=22: เซ็น.. ไว้ก่อน <<-->> Just charge it to my account! <<-->> similartity = 0.116593\n",
      "index=1030: count=23: ทุกคนมีสิทธิ์จะได้มัน <<-->> If I were a man I'd show you. <<-->> similartity = 0.203793\n",
      "index=1032: count=24: ฉันก็มีมือ มีเท้า ที่จะมีการโต้ตอบแกบ้าง <<-->> Not one of you has the guts to stand up alone and fight! <<-->> similartity = 0.064696\n",
      "index=1034: count=25: หุบปาก <<-->> Shut up! <<-->> similartity = 0.200298\n",
      "threshold <=  0.26\n",
      "index=27: count=1: ฉันหวังว่าฉันหวัง <<-->> I'm hoрing -I'm hoрing <<-->> similartity = 0.206424\n",
      "index=267: count=2: จมูกของฉัน! <<-->> Take them away. <<-->> similartity = 0.106701\n",
      "index=414: count=3: ลัปล แดปลินส <<-->> Lumple dapplins? <<-->> similartity = 0.157522\n",
      "index=457: count=4: ทำไมเงียบไป? <<-->> Cat got your tongue? <<-->> similartity = 0.207935\n",
      "index=507: count=5: ไม่ไม่ไม่ไม่ได้รับความตื่นเต้น! <<-->> That's the tub. <<-->> similartity = 0.060023\n",
      "index=669: count=6: เดอะควีนเก่ากลับกลอกหนึ่ง <<-->> The... <<-->> similartity = 0.041959\n",
      "index=832: count=7: เคลีย พื้นที่ <<-->> Stand clear! <<-->> similartity = 0.140871\n",
      "index=836: count=8: เคลีย พื้นที่ <<-->> Stand clear. <<-->> similartity = 0.201752\n",
      "index=841: count=9: ครับผม ตรวจฉนวน <<-->> Yes, the fuse. <<-->> similartity = 0.194607\n",
      "index=842: count=10: ให้ตายสิ เผ่นเร็ว <<-->> Look out! Run! <<-->> similartity = 0.149738\n",
      "index=844: count=11: เครื่องบิน ข้าศึก <<-->> Air raid. After Big Bertha. <<-->> similartity = 0.191840\n",
      "index=878: count=12: ขอบใจหลาย ในความกรุณา โทไมเนีย ภูมิใจที่มีนาย <<-->> Thank you. I'll see you get the Tomainian Cross for this. <<-->> similartity = 0.212922\n",
      "index=879: count=13: ผมเต็มใจช่วย ครับผม <<-->> Only too willing to oblige, sir. <<-->> similartity = 0.240544\n",
      "index=884: count=14: โอ้ย.. เรื่องขี้หมา <<-->> I can try. <<-->> similartity = 0.067671\n",
      "index=889: count=15: จะต้องไปส่งเอกสารสำคัญ <<-->> Hold on to these dispatches. <<-->> similartity = 0.072648\n",
      "index=901: count=16: มันสว่างจริงๆ <<-->> Shining upwards. <<-->> similartity = 0.252650\n",
      "index=917: count=17: มันล้ำลึกเกินฉันจะเข้าใจ <<-->> I can't reach it. <<-->> similartity = 0.201063\n",
      "index=934: count=18: วิธีที่เธอดูแลมัน <<-->> How she loves daffodils! <<-->> similartity = 0.243570\n",
      "index=955: count=19: อดีนอย เฮนเคิล กล่าวและฉันแปล <<-->> Adenoid Hynkel said, \"Tomainia was down but today has risen.\" <<-->> similartity = 0.080309\n",
      "index=968: count=20: ผู้นำของคุณ <<-->> This is the Pari-Mutual network, bringing you <<-->> similartity = 0.227621\n",
      "index=971: count=21: โทไมเนีย <<-->> Stand by for further commentary. Go ahead, Tomainia. <<-->> similartity = 0.004186\n",
      "index=1005: count=22: มันไม่แน่นอนหรอก <<-->> Now you said it. <<-->> similartity = 0.112803\n",
      "index=1027: count=23: เซ็น.. ไว้ก่อน <<-->> Just charge it to my account! <<-->> similartity = 0.116593\n",
      "index=1030: count=24: ทุกคนมีสิทธิ์จะได้มัน <<-->> If I were a man I'd show you. <<-->> similartity = 0.203793\n",
      "index=1032: count=25: ฉันก็มีมือ มีเท้า ที่จะมีการโต้ตอบแกบ้าง <<-->> Not one of you has the guts to stand up alone and fight! <<-->> similartity = 0.064696\n",
      "threshold <=  0.27\n",
      "index=27: count=1: ฉันหวังว่าฉันหวัง <<-->> I'm hoрing -I'm hoрing <<-->> similartity = 0.206424\n",
      "index=267: count=2: จมูกของฉัน! <<-->> Take them away. <<-->> similartity = 0.106701\n",
      "index=414: count=3: ลัปล แดปลินส <<-->> Lumple dapplins? <<-->> similartity = 0.157522\n",
      "index=457: count=4: ทำไมเงียบไป? <<-->> Cat got your tongue? <<-->> similartity = 0.207935\n",
      "index=507: count=5: ไม่ไม่ไม่ไม่ได้รับความตื่นเต้น! <<-->> That's the tub. <<-->> similartity = 0.060023\n",
      "index=669: count=6: เดอะควีนเก่ากลับกลอกหนึ่ง <<-->> The... <<-->> similartity = 0.041959\n",
      "index=801: count=7: เท่านั้น? <<-->> Onlу for you <<-->> similartity = 0.267236\n",
      "index=832: count=8: เคลีย พื้นที่ <<-->> Stand clear! <<-->> similartity = 0.140871\n",
      "index=836: count=9: เคลีย พื้นที่ <<-->> Stand clear. <<-->> similartity = 0.201752\n",
      "index=841: count=10: ครับผม ตรวจฉนวน <<-->> Yes, the fuse. <<-->> similartity = 0.194607\n",
      "index=842: count=11: ให้ตายสิ เผ่นเร็ว <<-->> Look out! Run! <<-->> similartity = 0.149738\n",
      "index=844: count=12: เครื่องบิน ข้าศึก <<-->> Air raid. After Big Bertha. <<-->> similartity = 0.191840\n",
      "index=878: count=13: ขอบใจหลาย ในความกรุณา โทไมเนีย ภูมิใจที่มีนาย <<-->> Thank you. I'll see you get the Tomainian Cross for this. <<-->> similartity = 0.212922\n",
      "index=879: count=14: ผมเต็มใจช่วย ครับผม <<-->> Only too willing to oblige, sir. <<-->> similartity = 0.240544\n",
      "index=884: count=15: โอ้ย.. เรื่องขี้หมา <<-->> I can try. <<-->> similartity = 0.067671\n",
      "index=889: count=16: จะต้องไปส่งเอกสารสำคัญ <<-->> Hold on to these dispatches. <<-->> similartity = 0.072648\n",
      "index=901: count=17: มันสว่างจริงๆ <<-->> Shining upwards. <<-->> similartity = 0.252650\n",
      "index=917: count=18: มันล้ำลึกเกินฉันจะเข้าใจ <<-->> I can't reach it. <<-->> similartity = 0.201063\n",
      "index=934: count=19: วิธีที่เธอดูแลมัน <<-->> How she loves daffodils! <<-->> similartity = 0.243570\n",
      "index=948: count=20: พูดเป็นเล่น <<-->> What? <<-->> similartity = 0.264099\n",
      "index=955: count=21: อดีนอย เฮนเคิล กล่าวและฉันแปล <<-->> Adenoid Hynkel said, \"Tomainia was down but today has risen.\" <<-->> similartity = 0.080309\n",
      "index=968: count=22: ผู้นำของคุณ <<-->> This is the Pari-Mutual network, bringing you <<-->> similartity = 0.227621\n",
      "index=971: count=23: โทไมเนีย <<-->> Stand by for further commentary. Go ahead, Tomainia. <<-->> similartity = 0.004186\n",
      "index=1005: count=24: มันไม่แน่นอนหรอก <<-->> Now you said it. <<-->> similartity = 0.112803\n",
      "index=1027: count=25: เซ็น.. ไว้ก่อน <<-->> Just charge it to my account! <<-->> similartity = 0.116593\n",
      "threshold <=  0.28\n",
      "index=27: count=1: ฉันหวังว่าฉันหวัง <<-->> I'm hoрing -I'm hoрing <<-->> similartity = 0.206424\n",
      "index=265: count=2: ดู กอลเดนรอด <<-->> Look, goldenrod. <<-->> similartity = 0.279192\n",
      "index=267: count=3: จมูกของฉัน! <<-->> Take them away. <<-->> similartity = 0.106701\n",
      "index=414: count=4: ลัปล แดปลินส <<-->> Lumple dapplins? <<-->> similartity = 0.157522\n",
      "index=457: count=5: ทำไมเงียบไป? <<-->> Cat got your tongue? <<-->> similartity = 0.207935\n",
      "index=507: count=6: ไม่ไม่ไม่ไม่ได้รับความตื่นเต้น! <<-->> That's the tub. <<-->> similartity = 0.060023\n",
      "index=669: count=7: เดอะควีนเก่ากลับกลอกหนึ่ง <<-->> The... <<-->> similartity = 0.041959\n",
      "index=801: count=8: เท่านั้น? <<-->> Onlу for you <<-->> similartity = 0.267236\n",
      "index=832: count=9: เคลีย พื้นที่ <<-->> Stand clear! <<-->> similartity = 0.140871\n",
      "index=836: count=10: เคลีย พื้นที่ <<-->> Stand clear. <<-->> similartity = 0.201752\n",
      "index=841: count=11: ครับผม ตรวจฉนวน <<-->> Yes, the fuse. <<-->> similartity = 0.194607\n",
      "index=842: count=12: ให้ตายสิ เผ่นเร็ว <<-->> Look out! Run! <<-->> similartity = 0.149738\n",
      "index=844: count=13: เครื่องบิน ข้าศึก <<-->> Air raid. After Big Bertha. <<-->> similartity = 0.191840\n",
      "index=878: count=14: ขอบใจหลาย ในความกรุณา โทไมเนีย ภูมิใจที่มีนาย <<-->> Thank you. I'll see you get the Tomainian Cross for this. <<-->> similartity = 0.212922\n",
      "index=879: count=15: ผมเต็มใจช่วย ครับผม <<-->> Only too willing to oblige, sir. <<-->> similartity = 0.240544\n",
      "index=884: count=16: โอ้ย.. เรื่องขี้หมา <<-->> I can try. <<-->> similartity = 0.067671\n",
      "index=889: count=17: จะต้องไปส่งเอกสารสำคัญ <<-->> Hold on to these dispatches. <<-->> similartity = 0.072648\n",
      "index=896: count=18: เรารู้จักกันหรอ <<-->> Don't you know me? <<-->> similartity = 0.278781\n",
      "index=901: count=19: มันสว่างจริงๆ <<-->> Shining upwards. <<-->> similartity = 0.252650\n",
      "index=917: count=20: มันล้ำลึกเกินฉันจะเข้าใจ <<-->> I can't reach it. <<-->> similartity = 0.201063\n",
      "index=934: count=21: วิธีที่เธอดูแลมัน <<-->> How she loves daffodils! <<-->> similartity = 0.243570\n",
      "index=948: count=22: พูดเป็นเล่น <<-->> What? <<-->> similartity = 0.264099\n",
      "index=955: count=23: อดีนอย เฮนเคิล กล่าวและฉันแปล <<-->> Adenoid Hynkel said, \"Tomainia was down but today has risen.\" <<-->> similartity = 0.080309\n",
      "index=968: count=24: ผู้นำของคุณ <<-->> This is the Pari-Mutual network, bringing you <<-->> similartity = 0.227621\n",
      "index=971: count=25: โทไมเนีย <<-->> Stand by for further commentary. Go ahead, Tomainia. <<-->> similartity = 0.004186\n",
      "threshold <=  0.29\n",
      "index=27: count=1: ฉันหวังว่าฉันหวัง <<-->> I'm hoрing -I'm hoрing <<-->> similartity = 0.206424\n",
      "index=265: count=2: ดู กอลเดนรอด <<-->> Look, goldenrod. <<-->> similartity = 0.279192\n",
      "index=267: count=3: จมูกของฉัน! <<-->> Take them away. <<-->> similartity = 0.106701\n",
      "index=414: count=4: ลัปล แดปลินส <<-->> Lumple dapplins? <<-->> similartity = 0.157522\n",
      "index=457: count=5: ทำไมเงียบไป? <<-->> Cat got your tongue? <<-->> similartity = 0.207935\n",
      "index=507: count=6: ไม่ไม่ไม่ไม่ได้รับความตื่นเต้น! <<-->> That's the tub. <<-->> similartity = 0.060023\n",
      "index=669: count=7: เดอะควีนเก่ากลับกลอกหนึ่ง <<-->> The... <<-->> similartity = 0.041959\n",
      "index=801: count=8: เท่านั้น? <<-->> Onlу for you <<-->> similartity = 0.267236\n",
      "index=832: count=9: เคลีย พื้นที่ <<-->> Stand clear! <<-->> similartity = 0.140871\n",
      "index=836: count=10: เคลีย พื้นที่ <<-->> Stand clear. <<-->> similartity = 0.201752\n",
      "index=841: count=11: ครับผม ตรวจฉนวน <<-->> Yes, the fuse. <<-->> similartity = 0.194607\n",
      "index=842: count=12: ให้ตายสิ เผ่นเร็ว <<-->> Look out! Run! <<-->> similartity = 0.149738\n",
      "index=844: count=13: เครื่องบิน ข้าศึก <<-->> Air raid. After Big Bertha. <<-->> similartity = 0.191840\n",
      "index=863: count=14: มาเข้าแถว <<-->> Fall in! <<-->> similartity = 0.284441\n",
      "index=878: count=15: ขอบใจหลาย ในความกรุณา โทไมเนีย ภูมิใจที่มีนาย <<-->> Thank you. I'll see you get the Tomainian Cross for this. <<-->> similartity = 0.212922\n",
      "index=879: count=16: ผมเต็มใจช่วย ครับผม <<-->> Only too willing to oblige, sir. <<-->> similartity = 0.240544\n",
      "index=884: count=17: โอ้ย.. เรื่องขี้หมา <<-->> I can try. <<-->> similartity = 0.067671\n",
      "index=889: count=18: จะต้องไปส่งเอกสารสำคัญ <<-->> Hold on to these dispatches. <<-->> similartity = 0.072648\n",
      "index=896: count=19: เรารู้จักกันหรอ <<-->> Don't you know me? <<-->> similartity = 0.278781\n",
      "index=901: count=20: มันสว่างจริงๆ <<-->> Shining upwards. <<-->> similartity = 0.252650\n",
      "index=917: count=21: มันล้ำลึกเกินฉันจะเข้าใจ <<-->> I can't reach it. <<-->> similartity = 0.201063\n",
      "index=925: count=22: เกาะไว้ <<-->> The stick! <<-->> similartity = 0.281280\n",
      "index=934: count=23: วิธีที่เธอดูแลมัน <<-->> How she loves daffodils! <<-->> similartity = 0.243570\n",
      "index=948: count=24: พูดเป็นเล่น <<-->> What? <<-->> similartity = 0.264099\n",
      "index=954: count=25: อำนาจเด็ดขาดอยู่ที่เขาเพียงผู้เดียว <<-->> Only the voice of Hynkel was heard. <<-->> similartity = 0.281009\n",
      "threshold <=  0.3\n",
      "index=27: count=1: ฉันหวังว่าฉันหวัง <<-->> I'm hoрing -I'm hoрing <<-->> similartity = 0.206424\n",
      "index=265: count=2: ดู กอลเดนรอด <<-->> Look, goldenrod. <<-->> similartity = 0.279192\n",
      "index=267: count=3: จมูกของฉัน! <<-->> Take them away. <<-->> similartity = 0.106701\n",
      "index=414: count=4: ลัปล แดปลินส <<-->> Lumple dapplins? <<-->> similartity = 0.157522\n",
      "index=457: count=5: ทำไมเงียบไป? <<-->> Cat got your tongue? <<-->> similartity = 0.207935\n",
      "index=507: count=6: ไม่ไม่ไม่ไม่ได้รับความตื่นเต้น! <<-->> That's the tub. <<-->> similartity = 0.060023\n",
      "index=669: count=7: เดอะควีนเก่ากลับกลอกหนึ่ง <<-->> The... <<-->> similartity = 0.041959\n",
      "index=801: count=8: เท่านั้น? <<-->> Onlу for you <<-->> similartity = 0.267236\n",
      "index=832: count=9: เคลีย พื้นที่ <<-->> Stand clear! <<-->> similartity = 0.140871\n",
      "index=836: count=10: เคลีย พื้นที่ <<-->> Stand clear. <<-->> similartity = 0.201752\n",
      "index=841: count=11: ครับผม ตรวจฉนวน <<-->> Yes, the fuse. <<-->> similartity = 0.194607\n",
      "index=842: count=12: ให้ตายสิ เผ่นเร็ว <<-->> Look out! Run! <<-->> similartity = 0.149738\n",
      "index=844: count=13: เครื่องบิน ข้าศึก <<-->> Air raid. After Big Bertha. <<-->> similartity = 0.191840\n",
      "index=863: count=14: มาเข้าแถว <<-->> Fall in! <<-->> similartity = 0.284441\n",
      "index=878: count=15: ขอบใจหลาย ในความกรุณา โทไมเนีย ภูมิใจที่มีนาย <<-->> Thank you. I'll see you get the Tomainian Cross for this. <<-->> similartity = 0.212922\n",
      "index=879: count=16: ผมเต็มใจช่วย ครับผม <<-->> Only too willing to oblige, sir. <<-->> similartity = 0.240544\n",
      "index=884: count=17: โอ้ย.. เรื่องขี้หมา <<-->> I can try. <<-->> similartity = 0.067671\n",
      "index=889: count=18: จะต้องไปส่งเอกสารสำคัญ <<-->> Hold on to these dispatches. <<-->> similartity = 0.072648\n",
      "index=896: count=19: เรารู้จักกันหรอ <<-->> Don't you know me? <<-->> similartity = 0.278781\n",
      "index=901: count=20: มันสว่างจริงๆ <<-->> Shining upwards. <<-->> similartity = 0.252650\n",
      "index=917: count=21: มันล้ำลึกเกินฉันจะเข้าใจ <<-->> I can't reach it. <<-->> similartity = 0.201063\n",
      "index=925: count=22: เกาะไว้ <<-->> The stick! <<-->> similartity = 0.281280\n",
      "index=934: count=23: วิธีที่เธอดูแลมัน <<-->> How she loves daffodils! <<-->> similartity = 0.243570\n",
      "index=948: count=24: พูดเป็นเล่น <<-->> What? <<-->> similartity = 0.264099\n",
      "index=954: count=25: อำนาจเด็ดขาดอยู่ที่เขาเพียงผู้เดียว <<-->> Only the voice of Hynkel was heard. <<-->> similartity = 0.281009\n",
      "threshold <=  0.31\n",
      "index=27: count=1: ฉันหวังว่าฉันหวัง <<-->> I'm hoрing -I'm hoрing <<-->> similartity = 0.206424\n",
      "index=265: count=2: ดู กอลเดนรอด <<-->> Look, goldenrod. <<-->> similartity = 0.279192\n",
      "index=267: count=3: จมูกของฉัน! <<-->> Take them away. <<-->> similartity = 0.106701\n",
      "index=414: count=4: ลัปล แดปลินส <<-->> Lumple dapplins? <<-->> similartity = 0.157522\n",
      "index=431: count=5: ฮะ! <<-->> Wash? <<-->> similartity = 0.301462\n",
      "index=457: count=6: ทำไมเงียบไป? <<-->> Cat got your tongue? <<-->> similartity = 0.207935\n",
      "index=507: count=7: ไม่ไม่ไม่ไม่ได้รับความตื่นเต้น! <<-->> That's the tub. <<-->> similartity = 0.060023\n",
      "index=669: count=8: เดอะควีนเก่ากลับกลอกหนึ่ง <<-->> The... <<-->> similartity = 0.041959\n",
      "index=801: count=9: เท่านั้น? <<-->> Onlу for you <<-->> similartity = 0.267236\n",
      "index=832: count=10: เคลีย พื้นที่ <<-->> Stand clear! <<-->> similartity = 0.140871\n",
      "index=834: count=11: เตรียมไกปืน <<-->> Stand by your trigger! <<-->> similartity = 0.309330\n",
      "index=836: count=12: เคลีย พื้นที่ <<-->> Stand clear. <<-->> similartity = 0.201752\n",
      "index=841: count=13: ครับผม ตรวจฉนวน <<-->> Yes, the fuse. <<-->> similartity = 0.194607\n",
      "index=842: count=14: ให้ตายสิ เผ่นเร็ว <<-->> Look out! Run! <<-->> similartity = 0.149738\n",
      "index=844: count=15: เครื่องบิน ข้าศึก <<-->> Air raid. After Big Bertha. <<-->> similartity = 0.191840\n",
      "index=863: count=16: มาเข้าแถว <<-->> Fall in! <<-->> similartity = 0.284441\n",
      "index=878: count=17: ขอบใจหลาย ในความกรุณา โทไมเนีย ภูมิใจที่มีนาย <<-->> Thank you. I'll see you get the Tomainian Cross for this. <<-->> similartity = 0.212922\n",
      "index=879: count=18: ผมเต็มใจช่วย ครับผม <<-->> Only too willing to oblige, sir. <<-->> similartity = 0.240544\n",
      "index=884: count=19: โอ้ย.. เรื่องขี้หมา <<-->> I can try. <<-->> similartity = 0.067671\n",
      "index=889: count=20: จะต้องไปส่งเอกสารสำคัญ <<-->> Hold on to these dispatches. <<-->> similartity = 0.072648\n",
      "index=896: count=21: เรารู้จักกันหรอ <<-->> Don't you know me? <<-->> similartity = 0.278781\n",
      "index=901: count=22: มันสว่างจริงๆ <<-->> Shining upwards. <<-->> similartity = 0.252650\n",
      "index=917: count=23: มันล้ำลึกเกินฉันจะเข้าใจ <<-->> I can't reach it. <<-->> similartity = 0.201063\n",
      "index=925: count=24: เกาะไว้ <<-->> The stick! <<-->> similartity = 0.281280\n",
      "index=934: count=25: วิธีที่เธอดูแลมัน <<-->> How she loves daffodils! <<-->> similartity = 0.243570\n",
      "threshold <=  0.32\n",
      "index=27: count=1: ฉันหวังว่าฉันหวัง <<-->> I'm hoрing -I'm hoрing <<-->> similartity = 0.206424\n",
      "index=265: count=2: ดู กอลเดนรอด <<-->> Look, goldenrod. <<-->> similartity = 0.279192\n",
      "index=267: count=3: จมูกของฉัน! <<-->> Take them away. <<-->> similartity = 0.106701\n",
      "index=414: count=4: ลัปล แดปลินส <<-->> Lumple dapplins? <<-->> similartity = 0.157522\n",
      "index=431: count=5: ฮะ! <<-->> Wash? <<-->> similartity = 0.301462\n",
      "index=457: count=6: ทำไมเงียบไป? <<-->> Cat got your tongue? <<-->> similartity = 0.207935\n",
      "index=507: count=7: ไม่ไม่ไม่ไม่ได้รับความตื่นเต้น! <<-->> That's the tub. <<-->> similartity = 0.060023\n",
      "index=669: count=8: เดอะควีนเก่ากลับกลอกหนึ่ง <<-->> The... <<-->> similartity = 0.041959\n",
      "index=695: count=9: ดีลาก่อน, กรัมปี <<-->> Good-bye, Grumpy! <<-->> similartity = 0.316172\n",
      "index=801: count=10: เท่านั้น? <<-->> Onlу for you <<-->> similartity = 0.267236\n",
      "index=832: count=11: เคลีย พื้นที่ <<-->> Stand clear! <<-->> similartity = 0.140871\n",
      "index=834: count=12: เตรียมไกปืน <<-->> Stand by your trigger! <<-->> similartity = 0.309330\n",
      "index=836: count=13: เคลีย พื้นที่ <<-->> Stand clear. <<-->> similartity = 0.201752\n",
      "index=841: count=14: ครับผม ตรวจฉนวน <<-->> Yes, the fuse. <<-->> similartity = 0.194607\n",
      "index=842: count=15: ให้ตายสิ เผ่นเร็ว <<-->> Look out! Run! <<-->> similartity = 0.149738\n",
      "index=844: count=16: เครื่องบิน ข้าศึก <<-->> Air raid. After Big Bertha. <<-->> similartity = 0.191840\n",
      "index=863: count=17: มาเข้าแถว <<-->> Fall in! <<-->> similartity = 0.284441\n",
      "index=878: count=18: ขอบใจหลาย ในความกรุณา โทไมเนีย ภูมิใจที่มีนาย <<-->> Thank you. I'll see you get the Tomainian Cross for this. <<-->> similartity = 0.212922\n",
      "index=879: count=19: ผมเต็มใจช่วย ครับผม <<-->> Only too willing to oblige, sir. <<-->> similartity = 0.240544\n",
      "index=884: count=20: โอ้ย.. เรื่องขี้หมา <<-->> I can try. <<-->> similartity = 0.067671\n",
      "index=889: count=21: จะต้องไปส่งเอกสารสำคัญ <<-->> Hold on to these dispatches. <<-->> similartity = 0.072648\n",
      "index=896: count=22: เรารู้จักกันหรอ <<-->> Don't you know me? <<-->> similartity = 0.278781\n",
      "index=901: count=23: มันสว่างจริงๆ <<-->> Shining upwards. <<-->> similartity = 0.252650\n",
      "index=917: count=24: มันล้ำลึกเกินฉันจะเข้าใจ <<-->> I can't reach it. <<-->> similartity = 0.201063\n",
      "index=925: count=25: เกาะไว้ <<-->> The stick! <<-->> similartity = 0.281280\n",
      "threshold <=  0.33\n",
      "index=27: count=1: ฉันหวังว่าฉันหวัง <<-->> I'm hoрing -I'm hoрing <<-->> similartity = 0.206424\n",
      "index=265: count=2: ดู กอลเดนรอด <<-->> Look, goldenrod. <<-->> similartity = 0.279192\n",
      "index=267: count=3: จมูกของฉัน! <<-->> Take them away. <<-->> similartity = 0.106701\n",
      "index=414: count=4: ลัปล แดปลินส <<-->> Lumple dapplins? <<-->> similartity = 0.157522\n",
      "index=431: count=5: ฮะ! <<-->> Wash? <<-->> similartity = 0.301462\n",
      "index=457: count=6: ทำไมเงียบไป? <<-->> Cat got your tongue? <<-->> similartity = 0.207935\n",
      "index=507: count=7: ไม่ไม่ไม่ไม่ได้รับความตื่นเต้น! <<-->> That's the tub. <<-->> similartity = 0.060023\n",
      "index=508: count=8: ไม่ได้รับไม่ได้รับการขึ้นไม่ได้ รับ <<-->> Don't, don't, don't, don't get excited! Don't get... <<-->> similartity = 0.329630\n",
      "index=669: count=9: เดอะควีนเก่ากลับกลอกหนึ่ง <<-->> The... <<-->> similartity = 0.041959\n",
      "index=695: count=10: ดีลาก่อน, กรัมปี <<-->> Good-bye, Grumpy! <<-->> similartity = 0.316172\n",
      "index=801: count=11: เท่านั้น? <<-->> Onlу for you <<-->> similartity = 0.267236\n",
      "index=832: count=12: เคลีย พื้นที่ <<-->> Stand clear! <<-->> similartity = 0.140871\n",
      "index=834: count=13: เตรียมไกปืน <<-->> Stand by your trigger! <<-->> similartity = 0.309330\n",
      "index=836: count=14: เคลีย พื้นที่ <<-->> Stand clear. <<-->> similartity = 0.201752\n",
      "index=841: count=15: ครับผม ตรวจฉนวน <<-->> Yes, the fuse. <<-->> similartity = 0.194607\n",
      "index=842: count=16: ให้ตายสิ เผ่นเร็ว <<-->> Look out! Run! <<-->> similartity = 0.149738\n",
      "index=844: count=17: เครื่องบิน ข้าศึก <<-->> Air raid. After Big Bertha. <<-->> similartity = 0.191840\n",
      "index=863: count=18: มาเข้าแถว <<-->> Fall in! <<-->> similartity = 0.284441\n",
      "index=864: count=19: เฮ้แก ให้เร็วเลย <<-->> Hey you, come on! <<-->> similartity = 0.329951\n",
      "index=878: count=20: ขอบใจหลาย ในความกรุณา โทไมเนีย ภูมิใจที่มีนาย <<-->> Thank you. I'll see you get the Tomainian Cross for this. <<-->> similartity = 0.212922\n",
      "index=879: count=21: ผมเต็มใจช่วย ครับผม <<-->> Only too willing to oblige, sir. <<-->> similartity = 0.240544\n",
      "index=884: count=22: โอ้ย.. เรื่องขี้หมา <<-->> I can try. <<-->> similartity = 0.067671\n",
      "index=889: count=23: จะต้องไปส่งเอกสารสำคัญ <<-->> Hold on to these dispatches. <<-->> similartity = 0.072648\n",
      "index=896: count=24: เรารู้จักกันหรอ <<-->> Don't you know me? <<-->> similartity = 0.278781\n",
      "index=901: count=25: มันสว่างจริงๆ <<-->> Shining upwards. <<-->> similartity = 0.252650\n",
      "threshold <=  0.34\n",
      "index=27: count=1: ฉันหวังว่าฉันหวัง <<-->> I'm hoрing -I'm hoрing <<-->> similartity = 0.206424\n",
      "index=165: count=2: และมีความสุขด้วยกัน เราสามารถเป็นระเบียบ เรียบร้อยขึ้นสถานที่ <<-->> Аnd сheerfully together we сan tidy uр the рlaсe <<-->> similartity = 0.330116\n",
      "index=265: count=3: ดู กอลเดนรอด <<-->> Look, goldenrod. <<-->> similartity = 0.279192\n",
      "index=267: count=4: จมูกของฉัน! <<-->> Take them away. <<-->> similartity = 0.106701\n",
      "index=414: count=5: ลัปล แดปลินส <<-->> Lumple dapplins? <<-->> similartity = 0.157522\n",
      "index=431: count=6: ฮะ! <<-->> Wash? <<-->> similartity = 0.301462\n",
      "index=457: count=7: ทำไมเงียบไป? <<-->> Cat got your tongue? <<-->> similartity = 0.207935\n",
      "index=507: count=8: ไม่ไม่ไม่ไม่ได้รับความตื่นเต้น! <<-->> That's the tub. <<-->> similartity = 0.060023\n",
      "index=508: count=9: ไม่ได้รับไม่ได้รับการขึ้นไม่ได้ รับ <<-->> Don't, don't, don't, don't get excited! Don't get... <<-->> similartity = 0.329630\n",
      "index=669: count=10: เดอะควีนเก่ากลับกลอกหนึ่ง <<-->> The... <<-->> similartity = 0.041959\n",
      "index=695: count=11: ดีลาก่อน, กรัมปี <<-->> Good-bye, Grumpy! <<-->> similartity = 0.316172\n",
      "index=801: count=12: เท่านั้น? <<-->> Onlу for you <<-->> similartity = 0.267236\n",
      "index=832: count=13: เคลีย พื้นที่ <<-->> Stand clear! <<-->> similartity = 0.140871\n",
      "index=834: count=14: เตรียมไกปืน <<-->> Stand by your trigger! <<-->> similartity = 0.309330\n",
      "index=836: count=15: เคลีย พื้นที่ <<-->> Stand clear. <<-->> similartity = 0.201752\n",
      "index=841: count=16: ครับผม ตรวจฉนวน <<-->> Yes, the fuse. <<-->> similartity = 0.194607\n",
      "index=842: count=17: ให้ตายสิ เผ่นเร็ว <<-->> Look out! Run! <<-->> similartity = 0.149738\n",
      "index=844: count=18: เครื่องบิน ข้าศึก <<-->> Air raid. After Big Bertha. <<-->> similartity = 0.191840\n",
      "index=850: count=19: ท่านครับ เราโดนโจมตีแล้วครับ มันตีฝ่าถึงแนวหน้าแล้ว <<-->> Sir, the enemy have broken through. Every man to the front. <<-->> similartity = 0.333786\n",
      "index=863: count=20: มาเข้าแถว <<-->> Fall in! <<-->> similartity = 0.284441\n",
      "index=864: count=21: เฮ้แก ให้เร็วเลย <<-->> Hey you, come on! <<-->> similartity = 0.329951\n",
      "index=865: count=22: เรียบ... อาวุธ <<-->> Order arms! <<-->> similartity = 0.333767\n",
      "index=878: count=23: ขอบใจหลาย ในความกรุณา โทไมเนีย ภูมิใจที่มีนาย <<-->> Thank you. I'll see you get the Tomainian Cross for this. <<-->> similartity = 0.212922\n",
      "index=879: count=24: ผมเต็มใจช่วย ครับผม <<-->> Only too willing to oblige, sir. <<-->> similartity = 0.240544\n",
      "index=884: count=25: โอ้ย.. เรื่องขี้หมา <<-->> I can try. <<-->> similartity = 0.067671\n",
      "threshold <=  0.35\n",
      "index=27: count=1: ฉันหวังว่าฉันหวัง <<-->> I'm hoрing -I'm hoрing <<-->> similartity = 0.206424\n",
      "index=115: count=2: เมื่อเม็ดฝ? นมาไม้ลอย <<-->> When raindroрs сome tumbling <<-->> similartity = 0.349545\n",
      "index=165: count=3: และมีความสุขด้วยกัน เราสามารถเป็นระเบียบ เรียบร้อยขึ้นสถานที่ <<-->> Аnd сheerfully together we сan tidy uр the рlaсe <<-->> similartity = 0.330116\n",
      "index=265: count=4: ดู กอลเดนรอด <<-->> Look, goldenrod. <<-->> similartity = 0.279192\n",
      "index=267: count=5: จมูกของฉัน! <<-->> Take them away. <<-->> similartity = 0.106701\n",
      "index=414: count=6: ลัปล แดปลินส <<-->> Lumple dapplins? <<-->> similartity = 0.157522\n",
      "index=431: count=7: ฮะ! <<-->> Wash? <<-->> similartity = 0.301462\n",
      "index=457: count=8: ทำไมเงียบไป? <<-->> Cat got your tongue? <<-->> similartity = 0.207935\n",
      "index=507: count=9: ไม่ไม่ไม่ไม่ได้รับความตื่นเต้น! <<-->> That's the tub. <<-->> similartity = 0.060023\n",
      "index=508: count=10: ไม่ได้รับไม่ได้รับการขึ้นไม่ได้ รับ <<-->> Don't, don't, don't, don't get excited! Don't get... <<-->> similartity = 0.329630\n",
      "index=617: count=11: ฉัน หมายถึง <<-->> No, no! I mean... <<-->> similartity = 0.346281\n",
      "index=669: count=12: เดอะควีนเก่ากลับกลอกหนึ่ง <<-->> The... <<-->> similartity = 0.041959\n",
      "index=695: count=13: ดีลาก่อน, กรัมปี <<-->> Good-bye, Grumpy! <<-->> similartity = 0.316172\n",
      "index=801: count=14: เท่านั้น? <<-->> Onlу for you <<-->> similartity = 0.267236\n",
      "index=832: count=15: เคลีย พื้นที่ <<-->> Stand clear! <<-->> similartity = 0.140871\n",
      "index=834: count=16: เตรียมไกปืน <<-->> Stand by your trigger! <<-->> similartity = 0.309330\n",
      "index=836: count=17: เคลีย พื้นที่ <<-->> Stand clear. <<-->> similartity = 0.201752\n",
      "index=841: count=18: ครับผม ตรวจฉนวน <<-->> Yes, the fuse. <<-->> similartity = 0.194607\n",
      "index=842: count=19: ให้ตายสิ เผ่นเร็ว <<-->> Look out! Run! <<-->> similartity = 0.149738\n",
      "index=844: count=20: เครื่องบิน ข้าศึก <<-->> Air raid. After Big Bertha. <<-->> similartity = 0.191840\n",
      "index=850: count=21: ท่านครับ เราโดนโจมตีแล้วครับ มันตีฝ่าถึงแนวหน้าแล้ว <<-->> Sir, the enemy have broken through. Every man to the front. <<-->> similartity = 0.333786\n",
      "index=863: count=22: มาเข้าแถว <<-->> Fall in! <<-->> similartity = 0.284441\n",
      "index=864: count=23: เฮ้แก ให้เร็วเลย <<-->> Hey you, come on! <<-->> similartity = 0.329951\n",
      "index=865: count=24: เรียบ... อาวุธ <<-->> Order arms! <<-->> similartity = 0.333767\n",
      "index=878: count=25: ขอบใจหลาย ในความกรุณา โทไมเนีย ภูมิใจที่มีนาย <<-->> Thank you. I'll see you get the Tomainian Cross for this. <<-->> similartity = 0.212922\n",
      "threshold <=  0.36\n",
      "index=27: count=1: ฉันหวังว่าฉันหวัง <<-->> I'm hoрing -I'm hoрing <<-->> similartity = 0.206424\n",
      "index=29: count=2: ในสิ่งที่ดีในสิ่งที่ดี <<-->> The niсe things -The niсe things <<-->> similartity = 0.355559\n",
      "index=115: count=3: เมื่อเม็ดฝ? นมาไม้ลอย <<-->> When raindroрs сome tumbling <<-->> similartity = 0.349545\n",
      "index=165: count=4: และมีความสุขด้วยกัน เราสามารถเป็นระเบียบ เรียบร้อยขึ้นสถานที่ <<-->> Аnd сheerfully together we сan tidy uр the рlaсe <<-->> similartity = 0.330116\n",
      "index=265: count=5: ดู กอลเดนรอด <<-->> Look, goldenrod. <<-->> similartity = 0.279192\n",
      "index=267: count=6: จมูกของฉัน! <<-->> Take them away. <<-->> similartity = 0.106701\n",
      "index=414: count=7: ลัปล แดปลินส <<-->> Lumple dapplins? <<-->> similartity = 0.157522\n",
      "index=431: count=8: ฮะ! <<-->> Wash? <<-->> similartity = 0.301462\n",
      "index=457: count=9: ทำไมเงียบไป? <<-->> Cat got your tongue? <<-->> similartity = 0.207935\n",
      "index=507: count=10: ไม่ไม่ไม่ไม่ได้รับความตื่นเต้น! <<-->> That's the tub. <<-->> similartity = 0.060023\n",
      "index=508: count=11: ไม่ได้รับไม่ได้รับการขึ้นไม่ได้ รับ <<-->> Don't, don't, don't, don't get excited! Don't get... <<-->> similartity = 0.329630\n",
      "index=617: count=12: ฉัน หมายถึง <<-->> No, no! I mean... <<-->> similartity = 0.346281\n",
      "index=669: count=13: เดอะควีนเก่ากลับกลอกหนึ่ง <<-->> The... <<-->> similartity = 0.041959\n",
      "index=695: count=14: ดีลาก่อน, กรัมปี <<-->> Good-bye, Grumpy! <<-->> similartity = 0.316172\n",
      "index=801: count=15: เท่านั้น? <<-->> Onlу for you <<-->> similartity = 0.267236\n",
      "index=818: count=16: ดีลาก่อน, กรัมปี <<-->> Good-bye, Grumpy. <<-->> similartity = 0.354379\n",
      "index=832: count=17: เคลีย พื้นที่ <<-->> Stand clear! <<-->> similartity = 0.140871\n",
      "index=834: count=18: เตรียมไกปืน <<-->> Stand by your trigger! <<-->> similartity = 0.309330\n",
      "index=836: count=19: เคลีย พื้นที่ <<-->> Stand clear. <<-->> similartity = 0.201752\n",
      "index=840: count=20: ไปตรวจฉนวน <<-->> Check the fuse. <<-->> similartity = 0.358029\n",
      "index=841: count=21: ครับผม ตรวจฉนวน <<-->> Yes, the fuse. <<-->> similartity = 0.194607\n",
      "index=842: count=22: ให้ตายสิ เผ่นเร็ว <<-->> Look out! Run! <<-->> similartity = 0.149738\n",
      "index=844: count=23: เครื่องบิน ข้าศึก <<-->> Air raid. After Big Bertha. <<-->> similartity = 0.191840\n",
      "index=850: count=24: ท่านครับ เราโดนโจมตีแล้วครับ มันตีฝ่าถึงแนวหน้าแล้ว <<-->> Sir, the enemy have broken through. Every man to the front. <<-->> similartity = 0.333786\n",
      "index=863: count=25: มาเข้าแถว <<-->> Fall in! <<-->> similartity = 0.284441\n",
      "threshold <=  0.37\n",
      "index=27: count=1: ฉันหวังว่าฉันหวัง <<-->> I'm hoрing -I'm hoрing <<-->> similartity = 0.206424\n",
      "index=29: count=2: ในสิ่งที่ดีในสิ่งที่ดี <<-->> The niсe things -The niсe things <<-->> similartity = 0.355559\n",
      "index=115: count=3: เมื่อเม็ดฝ? นมาไม้ลอย <<-->> When raindroрs сome tumbling <<-->> similartity = 0.349545\n",
      "index=165: count=4: และมีความสุขด้วยกัน เราสามารถเป็นระเบียบ เรียบร้อยขึ้นสถานที่ <<-->> Аnd сheerfully together we сan tidy uр the рlaсe <<-->> similartity = 0.330116\n",
      "index=265: count=5: ดู กอลเดนรอด <<-->> Look, goldenrod. <<-->> similartity = 0.279192\n",
      "index=267: count=6: จมูกของฉัน! <<-->> Take them away. <<-->> similartity = 0.106701\n",
      "index=401: count=7: ฉันเตือน 'ยา <<-->> I'm warnin' ya. <<-->> similartity = 0.368676\n",
      "index=414: count=8: ลัปล แดปลินส <<-->> Lumple dapplins? <<-->> similartity = 0.157522\n",
      "index=431: count=9: ฮะ! <<-->> Wash? <<-->> similartity = 0.301462\n",
      "index=457: count=10: ทำไมเงียบไป? <<-->> Cat got your tongue? <<-->> similartity = 0.207935\n",
      "index=490: count=11: พวงของแพะพี่เลี้ยงเก่า ยาทำให้ฉันรู้สึกแย่ไป <<-->> Bunch of old nanny goats. <<-->> similartity = 0.361982\n",
      "index=507: count=12: ไม่ไม่ไม่ไม่ได้รับความตื่นเต้น! <<-->> That's the tub. <<-->> similartity = 0.060023\n",
      "index=508: count=13: ไม่ได้รับไม่ได้รับการขึ้นไม่ได้ รับ <<-->> Don't, don't, don't, don't get excited! Don't get... <<-->> similartity = 0.329630\n",
      "index=617: count=14: ฉัน หมายถึง <<-->> No, no! I mean... <<-->> similartity = 0.346281\n",
      "index=639: count=15: สาธุ <<-->> Amen. <<-->> similartity = 0.366009\n",
      "index=669: count=16: เดอะควีนเก่ากลับกลอกหนึ่ง <<-->> The... <<-->> similartity = 0.041959\n",
      "index=695: count=17: ดีลาก่อน, กรัมปี <<-->> Good-bye, Grumpy! <<-->> similartity = 0.316172\n",
      "index=801: count=18: เท่านั้น? <<-->> Onlу for you <<-->> similartity = 0.267236\n",
      "index=818: count=19: ดีลาก่อน, กรัมปี <<-->> Good-bye, Grumpy. <<-->> similartity = 0.354379\n",
      "index=832: count=20: เคลีย พื้นที่ <<-->> Stand clear! <<-->> similartity = 0.140871\n",
      "index=834: count=21: เตรียมไกปืน <<-->> Stand by your trigger! <<-->> similartity = 0.309330\n",
      "index=836: count=22: เคลีย พื้นที่ <<-->> Stand clear. <<-->> similartity = 0.201752\n",
      "index=840: count=23: ไปตรวจฉนวน <<-->> Check the fuse. <<-->> similartity = 0.358029\n",
      "index=841: count=24: ครับผม ตรวจฉนวน <<-->> Yes, the fuse. <<-->> similartity = 0.194607\n",
      "index=842: count=25: ให้ตายสิ เผ่นเร็ว <<-->> Look out! Run! <<-->> similartity = 0.149738\n",
      "threshold <=  0.38\n",
      "index=27: count=1: ฉันหวังว่าฉันหวัง <<-->> I'm hoрing -I'm hoрing <<-->> similartity = 0.206424\n",
      "index=29: count=2: ในสิ่งที่ดีในสิ่งที่ดี <<-->> The niсe things -The niсe things <<-->> similartity = 0.355559\n",
      "index=30: count=3: เราจะบอกว่าเราจะพูดว่า <<-->> Нe'll say -Нe'll say <<-->> similartity = 0.379903\n",
      "index=115: count=4: เมื่อเม็ดฝ? นมาไม้ลอย <<-->> When raindroрs сome tumbling <<-->> similartity = 0.349545\n",
      "index=165: count=5: และมีความสุขด้วยกัน เราสามารถเป็นระเบียบ เรียบร้อยขึ้นสถานที่ <<-->> Аnd сheerfully together we сan tidy uр the рlaсe <<-->> similartity = 0.330116\n",
      "index=265: count=6: ดู กอลเดนรอด <<-->> Look, goldenrod. <<-->> similartity = 0.279192\n",
      "index=267: count=7: จมูกของฉัน! <<-->> Take them away. <<-->> similartity = 0.106701\n",
      "index=401: count=8: ฉันเตือน 'ยา <<-->> I'm warnin' ya. <<-->> similartity = 0.368676\n",
      "index=414: count=9: ลัปล แดปลินส <<-->> Lumple dapplins? <<-->> similartity = 0.157522\n",
      "index=417: count=10: คแรปล ดัมกินส <<-->> Crapple dumpkins. <<-->> similartity = 0.372595\n",
      "index=431: count=11: ฮะ! <<-->> Wash? <<-->> similartity = 0.301462\n",
      "index=457: count=12: ทำไมเงียบไป? <<-->> Cat got your tongue? <<-->> similartity = 0.207935\n",
      "index=490: count=13: พวงของแพะพี่เลี้ยงเก่า ยาทำให้ฉันรู้สึกแย่ไป <<-->> Bunch of old nanny goats. <<-->> similartity = 0.361982\n",
      "index=507: count=14: ไม่ไม่ไม่ไม่ได้รับความตื่นเต้น! <<-->> That's the tub. <<-->> similartity = 0.060023\n",
      "index=508: count=15: ไม่ได้รับไม่ได้รับการขึ้นไม่ได้ รับ <<-->> Don't, don't, don't, don't get excited! Don't get... <<-->> similartity = 0.329630\n",
      "index=617: count=16: ฉัน หมายถึง <<-->> No, no! I mean... <<-->> similartity = 0.346281\n",
      "index=639: count=17: สาธุ <<-->> Amen. <<-->> similartity = 0.366009\n",
      "index=641: count=18: และกรุณ? าโทรกรัมปี เหมือนฉัน <<-->> And please make Grumpy like me. <<-->> similartity = 0.372399\n",
      "index=669: count=19: เดอะควีนเก่ากลับกลอกหนึ่ง <<-->> The... <<-->> similartity = 0.041959\n",
      "index=670: count=20: เต็มรูปแบบของคาถา <<-->> The old Queen's a sly one, full of witchcraft. <<-->> similartity = 0.378025\n",
      "index=695: count=21: ดีลาก่อน, กรัมปี <<-->> Good-bye, Grumpy! <<-->> similartity = 0.316172\n",
      "index=801: count=22: เท่านั้น? <<-->> Onlу for you <<-->> similartity = 0.267236\n",
      "index=818: count=23: ดีลาก่อน, กรัมปี <<-->> Good-bye, Grumpy. <<-->> similartity = 0.354379\n",
      "index=832: count=24: เคลีย พื้นที่ <<-->> Stand clear! <<-->> similartity = 0.140871\n",
      "index=834: count=25: เตรียมไกปืน <<-->> Stand by your trigger! <<-->> similartity = 0.309330\n",
      "threshold <=  0.39\n",
      "index=27: count=1: ฉันหวังว่าฉันหวัง <<-->> I'm hoрing -I'm hoрing <<-->> similartity = 0.206424\n",
      "index=29: count=2: ในสิ่งที่ดีในสิ่งที่ดี <<-->> The niсe things -The niсe things <<-->> similartity = 0.355559\n",
      "index=30: count=3: เราจะบอกว่าเราจะพูดว่า <<-->> Нe'll say -Нe'll say <<-->> similartity = 0.379903\n",
      "index=115: count=4: เมื่อเม็ดฝ? นมาไม้ลอย <<-->> When raindroрs сome tumbling <<-->> similartity = 0.349545\n",
      "index=165: count=5: และมีความสุขด้วยกัน เราสามารถเป็นระเบียบ เรียบร้อยขึ้นสถานที่ <<-->> Аnd сheerfully together we сan tidy uр the рlaсe <<-->> similartity = 0.330116\n",
      "index=265: count=6: ดู กอลเดนรอด <<-->> Look, goldenrod. <<-->> similartity = 0.279192\n",
      "index=267: count=7: จมูกของฉัน! <<-->> Take them away. <<-->> similartity = 0.106701\n",
      "index=401: count=8: ฉันเตือน 'ยา <<-->> I'm warnin' ya. <<-->> similartity = 0.368676\n",
      "index=414: count=9: ลัปล แดปลินส <<-->> Lumple dapplins? <<-->> similartity = 0.157522\n",
      "index=417: count=10: คแรปล ดัมกินส <<-->> Crapple dumpkins. <<-->> similartity = 0.372595\n",
      "index=431: count=11: ฮะ! <<-->> Wash? <<-->> similartity = 0.301462\n",
      "index=457: count=12: ทำไมเงียบไป? <<-->> Cat got your tongue? <<-->> similartity = 0.207935\n",
      "index=481: count=13: กอบสบู่ ตอนนี้ไม่ได้พยายามที่ จะตรงไปตรงมา <<-->> Piсk uр the soaр Now don't try to bluff <<-->> similartity = 0.381724\n",
      "index=490: count=14: พวงของแพะพี่เลี้ยงเก่า ยาทำให้ฉันรู้สึกแย่ไป <<-->> Bunch of old nanny goats. <<-->> similartity = 0.361982\n",
      "index=507: count=15: ไม่ไม่ไม่ไม่ได้รับความตื่นเต้น! <<-->> That's the tub. <<-->> similartity = 0.060023\n",
      "index=508: count=16: ไม่ได้รับไม่ได้รับการขึ้นไม่ได้ รับ <<-->> Don't, don't, don't, don't get excited! Don't get... <<-->> similartity = 0.329630\n",
      "index=617: count=17: ฉัน หมายถึง <<-->> No, no! I mean... <<-->> similartity = 0.346281\n",
      "index=639: count=18: สาธุ <<-->> Amen. <<-->> similartity = 0.366009\n",
      "index=641: count=19: และกรุณ? าโทรกรัมปี เหมือนฉัน <<-->> And please make Grumpy like me. <<-->> similartity = 0.372399\n",
      "index=669: count=20: เดอะควีนเก่ากลับกลอกหนึ่ง <<-->> The... <<-->> similartity = 0.041959\n",
      "index=670: count=21: เต็มรูปแบบของคาถา <<-->> The old Queen's a sly one, full of witchcraft. <<-->> similartity = 0.378025\n",
      "index=681: count=22: และให้แน่ใจว่าจะดูออกไปเพื่อ วาวา <<-->> And be sure to watch out... To wa... To wa... <<-->> similartity = 0.383039\n",
      "index=695: count=23: ดีลาก่อน, กรัมปี <<-->> Good-bye, Grumpy! <<-->> similartity = 0.316172\n",
      "index=801: count=24: เท่านั้น? <<-->> Onlу for you <<-->> similartity = 0.267236\n",
      "index=818: count=25: ดีลาก่อน, กรัมปี <<-->> Good-bye, Grumpy. <<-->> similartity = 0.354379\n",
      "threshold <=  0.4\n",
      "index=27: count=1: ฉันหวังว่าฉันหวัง <<-->> I'm hoрing -I'm hoрing <<-->> similartity = 0.206424\n",
      "index=29: count=2: ในสิ่งที่ดีในสิ่งที่ดี <<-->> The niсe things -The niсe things <<-->> similartity = 0.355559\n",
      "index=30: count=3: เราจะบอกว่าเราจะพูดว่า <<-->> Нe'll say -Нe'll say <<-->> similartity = 0.379903\n",
      "index=115: count=4: เมื่อเม็ดฝ? นมาไม้ลอย <<-->> When raindroрs сome tumbling <<-->> similartity = 0.349545\n",
      "index=144: count=5: อีเต้อ ถุงเท้ายาวเกินไป! <<-->> A pickaxe. A stocking, too! <<-->> similartity = 0.390710\n",
      "index=165: count=6: และมีความสุขด้วยกัน เราสามารถเป็นระเบียบ เรียบร้อยขึ้นสถานที่ <<-->> Аnd сheerfully together we сan tidy uр the рlaсe <<-->> similartity = 0.330116\n",
      "index=222: count=7: เฮ-โฮ, เฮ-โฮ, เฮ-โฮ, เฮ <<-->> Нeigh-ho, heigh-ho, heigh-ho, heigh... <<-->> similartity = 0.398003\n",
      "index=265: count=8: ดู กอลเดนรอด <<-->> Look, goldenrod. <<-->> similartity = 0.279192\n",
      "index=267: count=9: จมูกของฉัน! <<-->> Take them away. <<-->> similartity = 0.106701\n",
      "index=345: count=10: ฉันสงสัยว่าเ? ด็ก ๆ <<-->> I wonder if the children are... <<-->> similartity = 0.399660\n",
      "index=401: count=11: ฉันเตือน 'ยา <<-->> I'm warnin' ya. <<-->> similartity = 0.368676\n",
      "index=414: count=12: ลัปล แดปลินส <<-->> Lumple dapplins? <<-->> similartity = 0.157522\n",
      "index=417: count=13: คแรปล ดัมกินส <<-->> Crapple dumpkins. <<-->> similartity = 0.372595\n",
      "index=431: count=14: ฮะ! <<-->> Wash? <<-->> similartity = 0.301462\n",
      "index=457: count=15: ทำไมเงียบไป? <<-->> Cat got your tongue? <<-->> similartity = 0.207935\n",
      "index=481: count=16: กอบสบู่ ตอนนี้ไม่ได้พยายามที่ จะตรงไปตรงมา <<-->> Piсk uр the soaр Now don't try to bluff <<-->> similartity = 0.381724\n",
      "index=490: count=17: พวงของแพะพี่เลี้ยงเก่า ยาทำให้ฉันรู้สึกแย่ไป <<-->> Bunch of old nanny goats. <<-->> similartity = 0.361982\n",
      "index=507: count=18: ไม่ไม่ไม่ไม่ได้รับความตื่นเต้น! <<-->> That's the tub. <<-->> similartity = 0.060023\n",
      "index=508: count=19: ไม่ได้รับไม่ได้รับการขึ้นไม่ได้ รับ <<-->> Don't, don't, don't, don't get excited! Don't get... <<-->> similartity = 0.329630\n",
      "index=617: count=20: ฉัน หมายถึง <<-->> No, no! I mean... <<-->> similartity = 0.346281\n",
      "index=639: count=21: สาธุ <<-->> Amen. <<-->> similartity = 0.366009\n",
      "index=641: count=22: และกรุณ? าโทรกรัมปี เหมือนฉัน <<-->> And please make Grumpy like me. <<-->> similartity = 0.372399\n",
      "index=669: count=23: เดอะควีนเก่ากลับกลอกหนึ่ง <<-->> The... <<-->> similartity = 0.041959\n",
      "index=670: count=24: เต็มรูปแบบของคาถา <<-->> The old Queen's a sly one, full of witchcraft. <<-->> similartity = 0.378025\n",
      "index=681: count=25: และให้แน่ใจว่าจะดูออกไปเพื่อ วาวา <<-->> And be sure to watch out... To wa... To wa... <<-->> similartity = 0.383039\n",
      "threshold <=  0.41\n",
      "index=27: count=1: ฉันหวังว่าฉันหวัง <<-->> I'm hoрing -I'm hoрing <<-->> similartity = 0.206424\n",
      "index=29: count=2: ในสิ่งที่ดีในสิ่งที่ดี <<-->> The niсe things -The niсe things <<-->> similartity = 0.355559\n",
      "index=30: count=3: เราจะบอกว่าเราจะพูดว่า <<-->> Нe'll say -Нe'll say <<-->> similartity = 0.379903\n",
      "index=115: count=4: เมื่อเม็ดฝ? นมาไม้ลอย <<-->> When raindroрs сome tumbling <<-->> similartity = 0.349545\n",
      "index=144: count=5: อีเต้อ ถุงเท้ายาวเกินไป! <<-->> A pickaxe. A stocking, too! <<-->> similartity = 0.390710\n",
      "index=165: count=6: และมีความสุขด้วยกัน เราสามารถเป็นระเบียบ เรียบร้อยขึ้นสถานที่ <<-->> Аnd сheerfully together we сan tidy uр the рlaсe <<-->> similartity = 0.330116\n",
      "index=222: count=7: เฮ-โฮ, เฮ-โฮ, เฮ-โฮ, เฮ <<-->> Нeigh-ho, heigh-ho, heigh-ho, heigh... <<-->> similartity = 0.398003\n",
      "index=265: count=8: ดู กอลเดนรอด <<-->> Look, goldenrod. <<-->> similartity = 0.279192\n",
      "index=267: count=9: จมูกของฉัน! <<-->> Take them away. <<-->> similartity = 0.106701\n",
      "index=345: count=10: ฉันสงสัยว่าเ? ด็ก ๆ <<-->> I wonder if the children are... <<-->> similartity = 0.399660\n",
      "index=380: count=11: ก็ก็ของฉันรักของฉัน ควินเสส ปริ๊นเซ <<-->> Well... Well, my, my dear Quincess... Princess. <<-->> similartity = 0.405332\n",
      "index=390: count=12: ใครรางน้ำ <<-->> Who's... Gutter... <<-->> similartity = 0.407372\n",
      "index=401: count=13: ฉันเตือน 'ยา <<-->> I'm warnin' ya. <<-->> similartity = 0.368676\n",
      "index=414: count=14: ลัปล แดปลินส <<-->> Lumple dapplins? <<-->> similartity = 0.157522\n",
      "index=417: count=15: คแรปล ดัมกินส <<-->> Crapple dumpkins. <<-->> similartity = 0.372595\n",
      "index=431: count=16: ฮะ! <<-->> Wash? <<-->> similartity = 0.301462\n",
      "index=457: count=17: ทำไมเงียบไป? <<-->> Cat got your tongue? <<-->> similartity = 0.207935\n",
      "index=481: count=18: กอบสบู่ ตอนนี้ไม่ได้พยายามที่ จะตรงไปตรงมา <<-->> Piсk uр the soaр Now don't try to bluff <<-->> similartity = 0.381724\n",
      "index=490: count=19: พวงของแพะพี่เลี้ยงเก่า ยาทำให้ฉันรู้สึกแย่ไป <<-->> Bunch of old nanny goats. <<-->> similartity = 0.361982\n",
      "index=507: count=20: ไม่ไม่ไม่ไม่ได้รับความตื่นเต้น! <<-->> That's the tub. <<-->> similartity = 0.060023\n",
      "index=508: count=21: ไม่ได้รับไม่ได้รับการขึ้นไม่ได้ รับ <<-->> Don't, don't, don't, don't get excited! Don't get... <<-->> similartity = 0.329630\n",
      "index=617: count=22: ฉัน หมายถึง <<-->> No, no! I mean... <<-->> similartity = 0.346281\n",
      "index=639: count=23: สาธุ <<-->> Amen. <<-->> similartity = 0.366009\n",
      "index=641: count=24: และกรุณ? าโทรกรัมปี เหมือนฉัน <<-->> And please make Grumpy like me. <<-->> similartity = 0.372399\n",
      "index=669: count=25: เดอะควีนเก่ากลับกลอกหนึ่ง <<-->> The... <<-->> similartity = 0.041959\n",
      "threshold <=  0.42\n",
      "index=27: count=1: ฉันหวังว่าฉันหวัง <<-->> I'm hoрing -I'm hoрing <<-->> similartity = 0.206424\n",
      "index=29: count=2: ในสิ่งที่ดีในสิ่งที่ดี <<-->> The niсe things -The niсe things <<-->> similartity = 0.355559\n",
      "index=30: count=3: เราจะบอกว่าเราจะพูดว่า <<-->> Нe'll say -Нe'll say <<-->> similartity = 0.379903\n",
      "index=115: count=4: เมื่อเม็ดฝ? นมาไม้ลอย <<-->> When raindroрs сome tumbling <<-->> similartity = 0.349545\n",
      "index=144: count=5: อีเต้อ ถุงเท้ายาวเกินไป! <<-->> A pickaxe. A stocking, too! <<-->> similartity = 0.390710\n",
      "index=165: count=6: และมีความสุขด้วยกัน เราสามารถเป็นระเบียบ เรียบร้อยขึ้นสถานที่ <<-->> Аnd сheerfully together we сan tidy uр the рlaсe <<-->> similartity = 0.330116\n",
      "index=208: count=7: สนีสี, ขี้เซา <<-->> Sneezy, Dopey... <<-->> similartity = 0.415672\n",
      "index=222: count=8: เฮ-โฮ, เฮ-โฮ, เฮ-โฮ, เฮ <<-->> Нeigh-ho, heigh-ho, heigh-ho, heigh... <<-->> similartity = 0.398003\n",
      "index=265: count=9: ดู กอลเดนรอด <<-->> Look, goldenrod. <<-->> similartity = 0.279192\n",
      "index=267: count=10: จมูกของฉัน! <<-->> Take them away. <<-->> similartity = 0.106701\n",
      "index=345: count=11: ฉันสงสัยว่าเ? ด็ก ๆ <<-->> I wonder if the children are... <<-->> similartity = 0.399660\n",
      "index=380: count=12: ก็ก็ของฉันรักของฉัน ควินเสส ปริ๊นเซ <<-->> Well... Well, my, my dear Quincess... Princess. <<-->> similartity = 0.405332\n",
      "index=390: count=13: ใครรางน้ำ <<-->> Who's... Gutter... <<-->> similartity = 0.407372\n",
      "index=401: count=14: ฉันเตือน 'ยา <<-->> I'm warnin' ya. <<-->> similartity = 0.368676\n",
      "index=414: count=15: ลัปล แดปลินส <<-->> Lumple dapplins? <<-->> similartity = 0.157522\n",
      "index=417: count=16: คแรปล ดัมกินส <<-->> Crapple dumpkins. <<-->> similartity = 0.372595\n",
      "index=431: count=17: ฮะ! <<-->> Wash? <<-->> similartity = 0.301462\n",
      "index=457: count=18: ทำไมเงียบไป? <<-->> Cat got your tongue? <<-->> similartity = 0.207935\n",
      "index=481: count=19: กอบสบู่ ตอนนี้ไม่ได้พยายามที่ จะตรงไปตรงมา <<-->> Piсk uр the soaр Now don't try to bluff <<-->> similartity = 0.381724\n",
      "index=490: count=20: พวงของแพะพี่เลี้ยงเก่า ยาทำให้ฉันรู้สึกแย่ไป <<-->> Bunch of old nanny goats. <<-->> similartity = 0.361982\n",
      "index=507: count=21: ไม่ไม่ไม่ไม่ได้รับความตื่นเต้น! <<-->> That's the tub. <<-->> similartity = 0.060023\n",
      "index=508: count=22: ไม่ได้รับไม่ได้รับการขึ้นไม่ได้ รับ <<-->> Don't, don't, don't, don't get excited! Don't get... <<-->> similartity = 0.329630\n",
      "index=617: count=23: ฉัน หมายถึง <<-->> No, no! I mean... <<-->> similartity = 0.346281\n",
      "index=639: count=24: สาธุ <<-->> Amen. <<-->> similartity = 0.366009\n",
      "index=641: count=25: และกรุณ? าโทรกรัมปี เหมือนฉัน <<-->> And please make Grumpy like me. <<-->> similartity = 0.372399\n",
      "threshold <=  0.43\n",
      "index=27: count=1: ฉันหวังว่าฉันหวัง <<-->> I'm hoрing -I'm hoрing <<-->> similartity = 0.206424\n",
      "index=29: count=2: ในสิ่งที่ดีในสิ่งที่ดี <<-->> The niсe things -The niсe things <<-->> similartity = 0.355559\n",
      "index=30: count=3: เราจะบอกว่าเราจะพูดว่า <<-->> Нe'll say -Нe'll say <<-->> similartity = 0.379903\n",
      "index=115: count=4: เมื่อเม็ดฝ? นมาไม้ลอย <<-->> When raindroрs сome tumbling <<-->> similartity = 0.349545\n",
      "index=144: count=5: อีเต้อ ถุงเท้ายาวเกินไป! <<-->> A pickaxe. A stocking, too! <<-->> similartity = 0.390710\n",
      "index=165: count=6: และมีความสุขด้วยกัน เราสามารถเป็นระเบียบ เรียบร้อยขึ้นสถานที่ <<-->> Аnd сheerfully together we сan tidy uр the рlaсe <<-->> similartity = 0.330116\n",
      "index=208: count=7: สนีสี, ขี้เซา <<-->> Sneezy, Dopey... <<-->> similartity = 0.415672\n",
      "index=222: count=8: เฮ-โฮ, เฮ-โฮ, เฮ-โฮ, เฮ <<-->> Нeigh-ho, heigh-ho, heigh-ho, heigh... <<-->> similartity = 0.398003\n",
      "index=265: count=9: ดู กอลเดนรอด <<-->> Look, goldenrod. <<-->> similartity = 0.279192\n",
      "index=267: count=10: จมูกของฉัน! <<-->> Take them away. <<-->> similartity = 0.106701\n",
      "index=345: count=11: ฉันสงสัยว่าเ? ด็ก ๆ <<-->> I wonder if the children are... <<-->> similartity = 0.399660\n",
      "index=380: count=12: ก็ก็ของฉันรักของฉัน ควินเสส ปริ๊นเซ <<-->> Well... Well, my, my dear Quincess... Princess. <<-->> similartity = 0.405332\n",
      "index=390: count=13: ใครรางน้ำ <<-->> Who's... Gutter... <<-->> similartity = 0.407372\n",
      "index=401: count=14: ฉันเตือน 'ยา <<-->> I'm warnin' ya. <<-->> similartity = 0.368676\n",
      "index=414: count=15: ลัปล แดปลินส <<-->> Lumple dapplins? <<-->> similartity = 0.157522\n",
      "index=417: count=16: คแรปล ดัมกินส <<-->> Crapple dumpkins. <<-->> similartity = 0.372595\n",
      "index=431: count=17: ฮะ! <<-->> Wash? <<-->> similartity = 0.301462\n",
      "index=457: count=18: ทำไมเงียบไป? <<-->> Cat got your tongue? <<-->> similartity = 0.207935\n",
      "index=478: count=19: ก้าวขึ้นไปอ่าง 'มันไม่ได้เป็นไม่ มีความอับอายขายหน้า <<-->> Steр uр to the tub 'Tain't no disgraсe <<-->> similartity = 0.426928\n",
      "index=481: count=20: กอบสบู่ ตอนนี้ไม่ได้พยายามที่ จะตรงไปตรงมา <<-->> Piсk uр the soaр Now don't try to bluff <<-->> similartity = 0.381724\n",
      "index=490: count=21: พวงของแพะพี่เลี้ยงเก่า ยาทำให้ฉันรู้สึกแย่ไป <<-->> Bunch of old nanny goats. <<-->> similartity = 0.361982\n",
      "index=507: count=22: ไม่ไม่ไม่ไม่ได้รับความตื่นเต้น! <<-->> That's the tub. <<-->> similartity = 0.060023\n",
      "index=508: count=23: ไม่ได้รับไม่ได้รับการขึ้นไม่ได้ รับ <<-->> Don't, don't, don't, don't get excited! Don't get... <<-->> similartity = 0.329630\n",
      "index=617: count=24: ฉัน หมายถึง <<-->> No, no! I mean... <<-->> similartity = 0.346281\n",
      "index=639: count=25: สาธุ <<-->> Amen. <<-->> similartity = 0.366009\n",
      "threshold <=  0.44\n",
      "index=27: count=1: ฉันหวังว่าฉันหวัง <<-->> I'm hoрing -I'm hoрing <<-->> similartity = 0.206424\n",
      "index=29: count=2: ในสิ่งที่ดีในสิ่งที่ดี <<-->> The niсe things -The niсe things <<-->> similartity = 0.355559\n",
      "index=30: count=3: เราจะบอกว่าเราจะพูดว่า <<-->> Нe'll say -Нe'll say <<-->> similartity = 0.379903\n",
      "index=115: count=4: เมื่อเม็ดฝ? นมาไม้ลอย <<-->> When raindroрs сome tumbling <<-->> similartity = 0.349545\n",
      "index=144: count=5: อีเต้อ ถุงเท้ายาวเกินไป! <<-->> A pickaxe. A stocking, too! <<-->> similartity = 0.390710\n",
      "index=165: count=6: และมีความสุขด้วยกัน เราสามารถเป็นระเบียบ เรียบร้อยขึ้นสถานที่ <<-->> Аnd сheerfully together we сan tidy uр the рlaсe <<-->> similartity = 0.330116\n",
      "index=208: count=7: สนีสี, ขี้เซา <<-->> Sneezy, Dopey... <<-->> similartity = 0.415672\n",
      "index=222: count=8: เฮ-โฮ, เฮ-โฮ, เฮ-โฮ, เฮ <<-->> Нeigh-ho, heigh-ho, heigh-ho, heigh... <<-->> similartity = 0.398003\n",
      "index=238: count=9: มาสิ ชายไก่ ติดตามฉัน <<-->> Come on, hen... Men. Follow me. <<-->> similartity = 0.433389\n",
      "index=265: count=10: ดู กอลเดนรอด <<-->> Look, goldenrod. <<-->> similartity = 0.279192\n",
      "index=267: count=11: จมูกของฉัน! <<-->> Take them away. <<-->> similartity = 0.106701\n",
      "index=345: count=12: ฉันสงสัยว่าเ? ด็ก ๆ <<-->> I wonder if the children are... <<-->> similartity = 0.399660\n",
      "index=380: count=13: ก็ก็ของฉันรักของฉัน ควินเสส ปริ๊นเซ <<-->> Well... Well, my, my dear Quincess... Princess. <<-->> similartity = 0.405332\n",
      "index=390: count=14: ใครรางน้ำ <<-->> Who's... Gutter... <<-->> similartity = 0.407372\n",
      "index=401: count=15: ฉันเตือน 'ยา <<-->> I'm warnin' ya. <<-->> similartity = 0.368676\n",
      "index=414: count=16: ลัปล แดปลินส <<-->> Lumple dapplins? <<-->> similartity = 0.157522\n",
      "index=417: count=17: คแรปล ดัมกินส <<-->> Crapple dumpkins. <<-->> similartity = 0.372595\n",
      "index=431: count=18: ฮะ! <<-->> Wash? <<-->> similartity = 0.301462\n",
      "index=457: count=19: ทำไมเงียบไป? <<-->> Cat got your tongue? <<-->> similartity = 0.207935\n",
      "index=478: count=20: ก้าวขึ้นไปอ่าง 'มันไม่ได้เป็นไม่ มีความอับอายขายหน้า <<-->> Steр uр to the tub 'Tain't no disgraсe <<-->> similartity = 0.426928\n",
      "index=481: count=21: กอบสบู่ ตอนนี้ไม่ได้พยายามที่ จะตรงไปตรงมา <<-->> Piсk uр the soaр Now don't try to bluff <<-->> similartity = 0.381724\n",
      "index=490: count=22: พวงของแพะพี่เลี้ยงเก่า ยาทำให้ฉันรู้สึกแย่ไป <<-->> Bunch of old nanny goats. <<-->> similartity = 0.361982\n",
      "index=507: count=23: ไม่ไม่ไม่ไม่ได้รับความตื่นเต้น! <<-->> That's the tub. <<-->> similartity = 0.060023\n",
      "index=508: count=24: ไม่ได้รับไม่ได้รับการขึ้นไม่ได้ รับ <<-->> Don't, don't, don't, don't get excited! Don't get... <<-->> similartity = 0.329630\n",
      "index=607: count=25: คุณพระช่วย! <<-->> Oh, my goodness! <<-->> similartity = 0.436998\n",
      "threshold <=  0.45\n",
      "index=27: count=1: ฉันหวังว่าฉันหวัง <<-->> I'm hoрing -I'm hoрing <<-->> similartity = 0.206424\n",
      "index=29: count=2: ในสิ่งที่ดีในสิ่งที่ดี <<-->> The niсe things -The niсe things <<-->> similartity = 0.355559\n",
      "index=30: count=3: เราจะบอกว่าเราจะพูดว่า <<-->> Нe'll say -Нe'll say <<-->> similartity = 0.379903\n",
      "index=92: count=4: ไปได้ <<-->> Now, go. <<-->> similartity = 0.443631\n",
      "index=115: count=5: เมื่อเม็ดฝ? นมาไม้ลอย <<-->> When raindroрs сome tumbling <<-->> similartity = 0.349545\n",
      "index=144: count=6: อีเต้อ ถุงเท้ายาวเกินไป! <<-->> A pickaxe. A stocking, too! <<-->> similartity = 0.390710\n",
      "index=165: count=7: และมีความสุขด้วยกัน เราสามารถเป็นระเบียบ เรียบร้อยขึ้นสถานที่ <<-->> Аnd сheerfully together we сan tidy uр the рlaсe <<-->> similartity = 0.330116\n",
      "index=203: count=8: เฮ-โฮ, เฮ โฮ! เฮ-โฮ, เฮ-โฮ, เฮ โฮ! <<-->> Нeigh-ho, heigh-ho, heigh-ho Нeigh-ho, heigh-ho, heigh-ho... <<-->> similartity = 0.443192\n",
      "index=208: count=9: สนีสี, ขี้เซา <<-->> Sneezy, Dopey... <<-->> similartity = 0.415672\n",
      "index=222: count=10: เฮ-โฮ, เฮ-โฮ, เฮ-โฮ, เฮ <<-->> Нeigh-ho, heigh-ho, heigh-ho, heigh... <<-->> similartity = 0.398003\n",
      "index=238: count=11: มาสิ ชายไก่ ติดตามฉัน <<-->> Come on, hen... Men. Follow me. <<-->> similartity = 0.433389\n",
      "index=265: count=12: ดู กอลเดนรอด <<-->> Look, goldenrod. <<-->> similartity = 0.279192\n",
      "index=267: count=13: จมูกของฉัน! <<-->> Take them away. <<-->> similartity = 0.106701\n",
      "index=345: count=14: ฉันสงสัยว่าเ? ด็ก ๆ <<-->> I wonder if the children are... <<-->> similartity = 0.399660\n",
      "index=380: count=15: ก็ก็ของฉันรักของฉัน ควินเสส ปริ๊นเซ <<-->> Well... Well, my, my dear Quincess... Princess. <<-->> similartity = 0.405332\n",
      "index=390: count=16: ใครรางน้ำ <<-->> Who's... Gutter... <<-->> similartity = 0.407372\n",
      "index=401: count=17: ฉันเตือน 'ยา <<-->> I'm warnin' ya. <<-->> similartity = 0.368676\n",
      "index=414: count=18: ลัปล แดปลินส <<-->> Lumple dapplins? <<-->> similartity = 0.157522\n",
      "index=417: count=19: คแรปล ดัมกินส <<-->> Crapple dumpkins. <<-->> similartity = 0.372595\n",
      "index=431: count=20: ฮะ! <<-->> Wash? <<-->> similartity = 0.301462\n",
      "index=457: count=21: ทำไมเงียบไป? <<-->> Cat got your tongue? <<-->> similartity = 0.207935\n",
      "index=478: count=22: ก้าวขึ้นไปอ่าง 'มันไม่ได้เป็นไม่ มีความอับอายขายหน้า <<-->> Steр uр to the tub 'Tain't no disgraсe <<-->> similartity = 0.426928\n",
      "index=481: count=23: กอบสบู่ ตอนนี้ไม่ได้พยายามที่ จะตรงไปตรงมา <<-->> Piсk uр the soaр Now don't try to bluff <<-->> similartity = 0.381724\n",
      "index=490: count=24: พวงของแพะพี่เลี้ยงเก่า ยาทำให้ฉันรู้สึกแย่ไป <<-->> Bunch of old nanny goats. <<-->> similartity = 0.361982\n",
      "index=507: count=25: ไม่ไม่ไม่ไม่ได้รับความตื่นเต้น! <<-->> That's the tub. <<-->> similartity = 0.060023\n"
     ]
    }
   ],
   "source": [
    "for t in threshold_list:\n",
    "    print('threshold <= ', t)\n",
    "    threashold = t\n",
    "    counter = 0\n",
    "    sentence_pairs_in_threshold['{:.3f}'.format(t)] = []\n",
    "    with open(\"./logs/sentence_pairs.use_multilingual_1.sim_less_than_or_equal_to-{:.3f}.txt\".format(t), 'w', encoding='utf-8') as f:\n",
    "        for i, sent in enumerate(cleaned_and_filtered_th):\n",
    "            similariry = sentences_pairs_similarities[i]\n",
    "            if similariry <= threashold:\n",
    "                counter += 1\n",
    "                src_sent, tgt_sent = cleaned_and_filtered_th[i], cleaned_and_filtered_en[i]\n",
    "                string = \"index={}: count={}: {} <<-->> {} <<-->> similartity = {:4f}\".format(i, counter, src_sent, tgt_sent, similariry)\n",
    "                f.write(string + '\\n')\n",
    "                sentence_pairs_in_threshold['{:.3f}'.format(t)].append((i, counter, src_sent, tgt_sent, similariry))\n",
    "                if counter <= 25:\n",
    "                    print(string)\n",
    "                    \n",
    "                                        "
   ]
  },
  {
   "cell_type": "code",
   "execution_count": 106,
   "metadata": {},
   "outputs": [
    {
     "name": "stdout",
     "output_type": "stream",
     "text": [
      "- Similarity <= 0.000 , Count: 21815, ([link](http://25.84.199.159:8889/view/mt-opus/notebooks/logs/sentence_pairs.use_multilingual_1.sim_less_than_or_equal_to-0.000.txt))\n",
      "- Similarity <= 0.010 , Count: 26011, ([link](http://25.84.199.159:8889/view/mt-opus/notebooks/logs/sentence_pairs.use_multilingual_1.sim_less_than_or_equal_to-0.010.txt))\n",
      "- Similarity <= 0.020 , Count: 30563, ([link](http://25.84.199.159:8889/view/mt-opus/notebooks/logs/sentence_pairs.use_multilingual_1.sim_less_than_or_equal_to-0.020.txt))\n",
      "- Similarity <= 0.030 , Count: 35452, ([link](http://25.84.199.159:8889/view/mt-opus/notebooks/logs/sentence_pairs.use_multilingual_1.sim_less_than_or_equal_to-0.030.txt))\n",
      "- Similarity <= 0.040 , Count: 40653, ([link](http://25.84.199.159:8889/view/mt-opus/notebooks/logs/sentence_pairs.use_multilingual_1.sim_less_than_or_equal_to-0.040.txt))\n",
      "- Similarity <= 0.050 , Count: 46035, ([link](http://25.84.199.159:8889/view/mt-opus/notebooks/logs/sentence_pairs.use_multilingual_1.sim_less_than_or_equal_to-0.050.txt))\n",
      "- Similarity <= 0.060 , Count: 51836, ([link](http://25.84.199.159:8889/view/mt-opus/notebooks/logs/sentence_pairs.use_multilingual_1.sim_less_than_or_equal_to-0.060.txt))\n",
      "- Similarity <= 0.070 , Count: 57914, ([link](http://25.84.199.159:8889/view/mt-opus/notebooks/logs/sentence_pairs.use_multilingual_1.sim_less_than_or_equal_to-0.070.txt))\n",
      "- Similarity <= 0.080 , Count: 64113, ([link](http://25.84.199.159:8889/view/mt-opus/notebooks/logs/sentence_pairs.use_multilingual_1.sim_less_than_or_equal_to-0.080.txt))\n",
      "- Similarity <= 0.090 , Count: 70402, ([link](http://25.84.199.159:8889/view/mt-opus/notebooks/logs/sentence_pairs.use_multilingual_1.sim_less_than_or_equal_to-0.090.txt))\n",
      "- Similarity <= 0.100 , Count: 76724, ([link](http://25.84.199.159:8889/view/mt-opus/notebooks/logs/sentence_pairs.use_multilingual_1.sim_less_than_or_equal_to-0.100.txt))\n",
      "- Similarity <= 0.110 , Count: 83325, ([link](http://25.84.199.159:8889/view/mt-opus/notebooks/logs/sentence_pairs.use_multilingual_1.sim_less_than_or_equal_to-0.110.txt))\n",
      "- Similarity <= 0.120 , Count: 90037, ([link](http://25.84.199.159:8889/view/mt-opus/notebooks/logs/sentence_pairs.use_multilingual_1.sim_less_than_or_equal_to-0.120.txt))\n",
      "- Similarity <= 0.130 , Count: 96964, ([link](http://25.84.199.159:8889/view/mt-opus/notebooks/logs/sentence_pairs.use_multilingual_1.sim_less_than_or_equal_to-0.130.txt))\n",
      "- Similarity <= 0.140 , Count: 103949, ([link](http://25.84.199.159:8889/view/mt-opus/notebooks/logs/sentence_pairs.use_multilingual_1.sim_less_than_or_equal_to-0.140.txt))\n",
      "- Similarity <= 0.150 , Count: 111493, ([link](http://25.84.199.159:8889/view/mt-opus/notebooks/logs/sentence_pairs.use_multilingual_1.sim_less_than_or_equal_to-0.150.txt))\n",
      "- Similarity <= 0.160 , Count: 119210, ([link](http://25.84.199.159:8889/view/mt-opus/notebooks/logs/sentence_pairs.use_multilingual_1.sim_less_than_or_equal_to-0.160.txt))\n",
      "- Similarity <= 0.170 , Count: 127061, ([link](http://25.84.199.159:8889/view/mt-opus/notebooks/logs/sentence_pairs.use_multilingual_1.sim_less_than_or_equal_to-0.170.txt))\n",
      "- Similarity <= 0.180 , Count: 135320, ([link](http://25.84.199.159:8889/view/mt-opus/notebooks/logs/sentence_pairs.use_multilingual_1.sim_less_than_or_equal_to-0.180.txt))\n",
      "- Similarity <= 0.190 , Count: 143880, ([link](http://25.84.199.159:8889/view/mt-opus/notebooks/logs/sentence_pairs.use_multilingual_1.sim_less_than_or_equal_to-0.190.txt))\n",
      "- Similarity <= 0.200 , Count: 152980, ([link](http://25.84.199.159:8889/view/mt-opus/notebooks/logs/sentence_pairs.use_multilingual_1.sim_less_than_or_equal_to-0.200.txt))\n",
      "- Similarity <= 0.210 , Count: 162409, ([link](http://25.84.199.159:8889/view/mt-opus/notebooks/logs/sentence_pairs.use_multilingual_1.sim_less_than_or_equal_to-0.210.txt))\n",
      "- Similarity <= 0.220 , Count: 172421, ([link](http://25.84.199.159:8889/view/mt-opus/notebooks/logs/sentence_pairs.use_multilingual_1.sim_less_than_or_equal_to-0.220.txt))\n",
      "- Similarity <= 0.230 , Count: 183007, ([link](http://25.84.199.159:8889/view/mt-opus/notebooks/logs/sentence_pairs.use_multilingual_1.sim_less_than_or_equal_to-0.230.txt))\n",
      "- Similarity <= 0.240 , Count: 194556, ([link](http://25.84.199.159:8889/view/mt-opus/notebooks/logs/sentence_pairs.use_multilingual_1.sim_less_than_or_equal_to-0.240.txt))\n",
      "- Similarity <= 0.250 , Count: 206159, ([link](http://25.84.199.159:8889/view/mt-opus/notebooks/logs/sentence_pairs.use_multilingual_1.sim_less_than_or_equal_to-0.250.txt))\n",
      "- Similarity <= 0.260 , Count: 218271, ([link](http://25.84.199.159:8889/view/mt-opus/notebooks/logs/sentence_pairs.use_multilingual_1.sim_less_than_or_equal_to-0.260.txt))\n",
      "- Similarity <= 0.270 , Count: 231600, ([link](http://25.84.199.159:8889/view/mt-opus/notebooks/logs/sentence_pairs.use_multilingual_1.sim_less_than_or_equal_to-0.270.txt))\n",
      "- Similarity <= 0.280 , Count: 245396, ([link](http://25.84.199.159:8889/view/mt-opus/notebooks/logs/sentence_pairs.use_multilingual_1.sim_less_than_or_equal_to-0.280.txt))\n",
      "- Similarity <= 0.290 , Count: 260052, ([link](http://25.84.199.159:8889/view/mt-opus/notebooks/logs/sentence_pairs.use_multilingual_1.sim_less_than_or_equal_to-0.290.txt))\n",
      "- Similarity <= 0.300 , Count: 275305, ([link](http://25.84.199.159:8889/view/mt-opus/notebooks/logs/sentence_pairs.use_multilingual_1.sim_less_than_or_equal_to-0.300.txt))\n",
      "- Similarity <= 0.310 , Count: 292169, ([link](http://25.84.199.159:8889/view/mt-opus/notebooks/logs/sentence_pairs.use_multilingual_1.sim_less_than_or_equal_to-0.310.txt))\n",
      "- Similarity <= 0.320 , Count: 309941, ([link](http://25.84.199.159:8889/view/mt-opus/notebooks/logs/sentence_pairs.use_multilingual_1.sim_less_than_or_equal_to-0.320.txt))\n",
      "- Similarity <= 0.330 , Count: 328636, ([link](http://25.84.199.159:8889/view/mt-opus/notebooks/logs/sentence_pairs.use_multilingual_1.sim_less_than_or_equal_to-0.330.txt))\n",
      "- Similarity <= 0.340 , Count: 348632, ([link](http://25.84.199.159:8889/view/mt-opus/notebooks/logs/sentence_pairs.use_multilingual_1.sim_less_than_or_equal_to-0.340.txt))\n",
      "- Similarity <= 0.350 , Count: 369249, ([link](http://25.84.199.159:8889/view/mt-opus/notebooks/logs/sentence_pairs.use_multilingual_1.sim_less_than_or_equal_to-0.350.txt))\n",
      "- Similarity <= 0.360 , Count: 391631, ([link](http://25.84.199.159:8889/view/mt-opus/notebooks/logs/sentence_pairs.use_multilingual_1.sim_less_than_or_equal_to-0.360.txt))\n",
      "- Similarity <= 0.370 , Count: 414961, ([link](http://25.84.199.159:8889/view/mt-opus/notebooks/logs/sentence_pairs.use_multilingual_1.sim_less_than_or_equal_to-0.370.txt))\n",
      "- Similarity <= 0.380 , Count: 439945, ([link](http://25.84.199.159:8889/view/mt-opus/notebooks/logs/sentence_pairs.use_multilingual_1.sim_less_than_or_equal_to-0.380.txt))\n",
      "- Similarity <= 0.390 , Count: 466008, ([link](http://25.84.199.159:8889/view/mt-opus/notebooks/logs/sentence_pairs.use_multilingual_1.sim_less_than_or_equal_to-0.390.txt))\n",
      "- Similarity <= 0.400 , Count: 493923, ([link](http://25.84.199.159:8889/view/mt-opus/notebooks/logs/sentence_pairs.use_multilingual_1.sim_less_than_or_equal_to-0.400.txt))\n",
      "- Similarity <= 0.410 , Count: 523134, ([link](http://25.84.199.159:8889/view/mt-opus/notebooks/logs/sentence_pairs.use_multilingual_1.sim_less_than_or_equal_to-0.410.txt))\n",
      "- Similarity <= 0.420 , Count: 554502, ([link](http://25.84.199.159:8889/view/mt-opus/notebooks/logs/sentence_pairs.use_multilingual_1.sim_less_than_or_equal_to-0.420.txt))\n",
      "- Similarity <= 0.430 , Count: 587979, ([link](http://25.84.199.159:8889/view/mt-opus/notebooks/logs/sentence_pairs.use_multilingual_1.sim_less_than_or_equal_to-0.430.txt))\n",
      "- Similarity <= 0.440 , Count: 622612, ([link](http://25.84.199.159:8889/view/mt-opus/notebooks/logs/sentence_pairs.use_multilingual_1.sim_less_than_or_equal_to-0.440.txt))\n",
      "- Similarity <= 0.450 , Count: 659468, ([link](http://25.84.199.159:8889/view/mt-opus/notebooks/logs/sentence_pairs.use_multilingual_1.sim_less_than_or_equal_to-0.450.txt))\n"
     ]
    }
   ],
   "source": [
    "# Count number of sentence paris fall into each threshold value\n",
    "\n",
    "\n",
    "for threshold, sent_pairs in sentence_pairs_in_threshold.items():\n",
    "    obj = re.compile(r'([-]*\\d\\.\\d\\d\\d)-(\\d\\.\\d\\d\\d)')\n",
    "    if obj.search(threshold):\n",
    "        pass\n",
    "    else:\n",
    "        print('- Similarity <= {} , Count: {}, ([link](http://25.84.199.159:8889/view/mt-opus/notebooks/logs/sentence_pairs.use_multilingual_1.sim_less_than_or_equal_to-{}.txt))'.format(threshold, len(sent_pairs), threshold))"
   ]
  },
  {
   "cell_type": "code",
   "execution_count": 102,
   "metadata": {},
   "outputs": [],
   "source": [
    "# for threshold, sent_pairs in sentence_pairs_in_threshold.items():\n",
    "#     print('- [x] similarity <= {} --- http://25.84.199.159:8889/view/mt-opus/notebooks/logs/sentence_pairs.use_multilingual_1.sim_less_than_or_equal_to-{}.txt'.format(threshold, threshold))"
   ]
  },
  {
   "cell_type": "code",
   "execution_count": null,
   "metadata": {},
   "outputs": [],
   "source": []
  },
  {
   "cell_type": "code",
   "execution_count": 86,
   "metadata": {},
   "outputs": [
    {
     "name": "stdout",
     "output_type": "stream",
     "text": [
      "similarity > -1.000 and similarity <= 0.000\n",
      "index=1462: count=1: ผบ <<-->> Commander Schultz escaped. <<-->> similartity = -0.023868\n",
      "index=1615: count=2: ท่านจะทำยังไงต่อไป <<-->> I had the ground covered. <<-->> similartity = -0.023339\n",
      "index=2504: count=3: ที่คุณจะไปไหน <<-->> An actor's life is fun <<-->> similartity = -0.010431\n",
      "index=6613: count=4: ฉันหวังว่าเฉพาะเมื่อฉันเป็นคน เก่า <<-->> All right. <<-->> similartity = -0.033326\n",
      "index=6623: count=5: พวกเราจะมีอาหารมื้อเย็น <<-->> What have you got? <<-->> similartity = -0.101354\n",
      "index=8097: count=6: โดยไม่มีแหวน <<-->> Something must be done. <<-->> similartity = -0.047372\n",
      "index=8103: count=7: เด็กที่น่ารักและคือธรรมชาติ <<-->> They expect it, don't they. <<-->> similartity = -0.055986\n",
      "index=8105: count=8: หนึ่งจดใช่ไหม คุณรู้ว่าฉันหมายถึง อะไร <<-->> Adoration hasn't gone to their heads. <<-->> similartity = -0.080634\n",
      "index=8158: count=9: ความเข้าใจอย่างฉับพลัน <<-->> Ho! <<-->> similartity = -0.077092\n",
      "index=8228: count=10: แหวนวงนี้ได้หมายถึงอะไรกับคุณ? <<-->> Stepney. <<-->> similartity = -0.019521\n",
      "Total =  21815\n",
      "\n",
      "------\n",
      "\n",
      "similarity > 0.000 and similarity <= 0.010\n",
      "index=971: count=1: โทไมเนีย <<-->> Stand by for further commentary. Go ahead, Tomainia. <<-->> similartity = 0.004186\n",
      "index=8314: count=2: ไม่ย่อท้อในที่สุด นักวิทยาศาสตร์ที่ ใกล้ที่สุด <<-->> (Electronic beeping) <<-->> similartity = 0.009256\n",
      "index=8423: count=3: คุณบอกว่าสิ่งนั้นคืออะไร? <<-->> Find out. <<-->> similartity = 0.009888\n",
      "index=8590: count=4: กรุ๊ปเลือดของฉันคือ <<-->> Look! <<-->> similartity = 0.005412\n",
      "index=8767: count=5: มีข้อสงสัยเกี่ยวกับมันไม่เรากำลัง เสี่ยง <<-->> No. And again. <<-->> similartity = 0.000786\n",
      "index=8803: count=6: เงียบสงบ ถือ อย่างต่อเนื่อง <<-->> Come on, lets have you. <<-->> similartity = 0.001090\n",
      "index=8856: count=7: ประตูกับดักนี้ <<-->> What? <<-->> similartity = 0.006525\n",
      "index=8932: count=8: ฉันแม่ของเขาและเขาก็คือเด็กดี <<-->> Do you know where Clang is? <<-->> similartity = 0.007027\n",
      "index=8948: count=9: ลองกลับไปและได้รับพวกเขาใช่มั้ย <<-->> That's all gab disembowelling... <<-->> similartity = 0.009808\n",
      "index=9065: count=10: เราได้มีการได้รับมันแปล <<-->> (AIgernon) I don't think so. <<-->> similartity = 0.001941\n",
      "Total =  4196\n",
      "\n",
      "------\n",
      "\n",
      "similarity > 0.010 and similarity <= 0.020\n",
      "index=2450: count=1: ถ้าเราเล่นไพ่ของเราได้เรา จะ <<-->> Listen. <<-->> similartity = 0.011655\n",
      "index=7041: count=2: ไม่ <<-->> I should have some luck. <<-->> similartity = 0.013461\n",
      "index=8491: count=3: นักวิทยาศาสตร์ของพวกเขามีการ ติดตั้งอย่างถูกต้องใช่มั้ย <<-->> If I had a Luger... <<-->> similartity = 0.014820\n",
      "index=8892: count=4: คุณทำให้ฉันพูด <<-->> Another girl <<-->> similartity = 0.019256\n",
      "index=8993: count=5: เขาคือของฉัน <<-->> Help! <<-->> similartity = 0.015296\n",
      "index=9034: count=6: อนิจจามีดผ่าตัด <<-->> He was asked to take it up. Alas... <<-->> similartity = 0.018118\n",
      "index=9040: count=7: ฉันคือนายจ้างที่ดี <<-->> Fix it! <<-->> similartity = 0.014850\n",
      "index=10413: count=8: ดำเนินริบบิ้นสีฟ้า <<-->> But even a pig has his moment. <<-->> similartity = 0.011062\n",
      "index=10438: count=9: เมื่อฉันได้บอกฉันจะเป็นทหาร ของคุณ <<-->> (yells) <<-->> similartity = 0.017959\n",
      "index=10504: count=10: คุณสามารถบอกได้โดยเหงื่อ <<-->> We were bound to have one. <<-->> similartity = 0.018832\n",
      "Total =  4552\n",
      "\n",
      "------\n",
      "\n",
      "similarity > 0.020 and similarity <= 0.030\n",
      "index=3007: count=1: ที่จะได้ยินว่าพูดคุยด้วงที่ คุณคิด <<-->> Ha! <<-->> similartity = 0.021063\n",
      "index=4429: count=2: ใช่มั้ย <<-->> You can't understand what my feelings were, can you? <<-->> similartity = 0.025917\n",
      "index=8253: count=3: เขามีสามชั่วโมงจะมีชีวิตอยู่ <<-->> Soup, yeah. <<-->> similartity = 0.025530\n",
      "index=8295: count=4: แหวนวงนี้ไม่ได้คือหิน <<-->> Some of them matrimonial. (Laughs) <<-->> similartity = 0.021001\n",
      "index=8321: count=5: มันเรียงลำดับของขั้วยาว <<-->> What's your electricity bill like? <<-->> similartity = 0.027071\n",
      "index=8346: count=6: แรงดันขึ้น <<-->> Did he do a lot of it? <<-->> similartity = 0.027667\n",
      "index=8347: count=7: ฉันไม่มีมือที่หมายถึงไม้เก่า <<-->> Voltage... up! <<-->> similartity = 0.029790\n",
      "index=8348: count=8: สิ่งที่ฉันเองที่คุณรู้ว่า <<-->> I'm no mean hand at the old sticks. <<-->> similartity = 0.027054\n",
      "index=8703: count=9: เท่านั้นที่เคยมีให้ฉัน <<-->> (Engine revs) <<-->> similartity = 0.022102\n",
      "index=9072: count=10: เรามีสองกองพัน <<-->> I don't think so... <<-->> similartity = 0.021714\n",
      "Total =  4889\n",
      "\n",
      "------\n",
      "\n",
      "similarity > 0.030 and similarity <= 0.040\n",
      "index=4689: count=1: ได้ครับท่าน <<-->> It's almost empty. Very good, sir. <<-->> similartity = 0.039075\n",
      "index=8102: count=2: พวกเขาคาดว่ามัน <<-->> Shall I? <<-->> similartity = 0.031064\n",
      "index=8417: count=3: ในตอนท้ายของชั่วคราว <<-->> (Birds chirp) <<-->> similartity = 0.031854\n",
      "index=8610: count=4: มันสำหรับคุณที่มีชื่อเสียง ริงโก้ <<-->> (Man) 'Ringo, please. <<-->> similartity = 0.036862\n",
      "index=8730: count=5: ฉันเสียใจที่สูญเสียร้อยตรีคือสามารถ คือ อามี <<-->> 1-500. <<-->> similartity = 0.034480\n",
      "index=8928: count=6: นี้คืออะไร? <<-->> Very nice of him, though. <<-->> similartity = 0.034769\n",
      "index=10161: count=7: ของผิวและความกล้าและความ อดทน <<-->> To the front, salute! <<-->> similartity = 0.032406\n",
      "index=10479: count=8: เขาบอกว่าให้ฉันและหมีในใจ เราอยู่ <<-->> I did. <<-->> similartity = 0.034215\n",
      "index=10825: count=9: น้ำจะเปลี่ยน <<-->> Italia/ <<-->> similartity = 0.036019\n",
      "index=11090: count=10: อย่าพยายามที่หนึ่ง <<-->> I remember the number of my first rifle. <<-->> similartity = 0.037755\n",
      "Total =  5201\n",
      "\n",
      "------\n",
      "\n",
      "similarity > 0.040 and similarity <= 0.050\n",
      "index=669: count=1: เดอะควีนเก่ากลับกลอกหนึ่ง <<-->> The... <<-->> similartity = 0.041959\n",
      "index=2511: count=2: จากร้านค้าที่ดีที่สุดเฮ้ ปีโนก <<-->> Hey, Pinoke. <<-->> similartity = 0.048918\n",
      "index=6537: count=3: ฉันสามารถไปและได้รับ <<-->> Yes? <<-->> similartity = 0.046663\n",
      "index=6579: count=4: หากคุณเป็นผู้ชายของฉัน <<-->> Yes. <<-->> similartity = 0.047778\n",
      "index=6757: count=5: ตอนนี้เขามีด้านข้างในปากของ เขา <<-->> What a fish! <<-->> similartity = 0.046314\n",
      "index=8492: count=6: คิดเกี่ยวกับมัน <<-->> Their scientists are properly equipped. <<-->> similartity = 0.041254\n",
      "index=10174: count=7: ให้ด้านหลังของ คุณลง <<-->> Personal? <<-->> similartity = 0.040804\n",
      "index=10642: count=8: มีจำนวนมากของความสนุกที่ จะได้เป็น <<-->> It's not all death. <<-->> similartity = 0.045517\n",
      "index=10753: count=9: และฉันหนึ่ง <<-->> It represents tradition, Musketeer. <<-->> similartity = 0.047888\n",
      "index=10965: count=10: ขณะที่เรากำลังทำดีที่สุดของเรา หรือไม่ <<-->> And have them whipped? <<-->> similartity = 0.040872\n",
      "Total =  5382\n",
      "\n",
      "------\n",
      "\n",
      "similarity > 0.050 and similarity <= 0.060\n",
      "index=2555: count=1: ลาก่อน? ฮะ? <<-->> Hi diddle dee dee An actor's life for me <<-->> similartity = 0.053047\n",
      "index=4748: count=2: ท่านผู้พันครับในฐานะผู้รักษากฎหมาย <<-->> and laboriously knock holes through the bottom of it? Come, Colonel. <<-->> similartity = 0.052542\n",
      "index=7171: count=3: คุน DJE เลื่อน <<-->> Kun dje luen. <<-->> similartity = 0.050152\n",
      "index=8234: count=4: เฮย, อับดุล <<-->> Or we did have. <<-->> similartity = 0.053445\n",
      "index=8263: count=5: ขอโทษนะที่เคารพ ถ้าเขาคือการคือ <<-->> I can say no more. Excuse me. <<-->> similartity = 0.051735\n",
      "index=8304: count=6: แม้ราชวงศ์ฮันโนเวอร์ <<-->> Not the wheel. <<-->> similartity = 0.059870\n",
      "index=8495: count=7: ไห่? <<-->> (Continues speaking in Eastern language) <<-->> similartity = 0.051834\n",
      "index=8559: count=8: ระวัง รับไป <<-->> No, I haven't. Look out! Get away! <<-->> similartity = 0.053468\n",
      "index=8722: count=9: เฮย ระวังถัง <<-->> Faster! <<-->> similartity = 0.052887\n",
      "index=8820: count=10: เครื่องเป่าผม <<-->> (Cadenza starts) <<-->> similartity = 0.056902\n",
      "Total =  5801\n",
      "\n",
      "------\n",
      "\n",
      "similarity > 0.060 and similarity <= 0.070\n",
      "index=507: count=1: ไม่ไม่ไม่ไม่ได้รับความตื่นเต้น! <<-->> That's the tub. <<-->> similartity = 0.060023\n",
      "index=884: count=2: โอ้ย.. เรื่องขี้หมา <<-->> I can try. <<-->> similartity = 0.067671\n",
      "index=1032: count=3: ฉันก็มีมือ มีเท้า ที่จะมีการโต้ตอบแกบ้าง <<-->> Not one of you has the guts to stand up alone and fight! <<-->> similartity = 0.064696\n",
      "index=1884: count=4: เซ็นบุ๊บ ไปบั๊บ <<-->> Then I remove my troops after. <<-->> similartity = 0.060616\n",
      "index=3933: count=5: จริงเหรอ จริงเหรอ <<-->> Do you? <<-->> similartity = 0.065427\n",
      "index=4750: count=6: แล้วจะอะไรอีกล่ะครับ <<-->> Of murder? <<-->> similartity = 0.062897\n",
      "index=8612: count=7: มีเพียงฉันและ พอล รู้ว่าเราอยู่ที่นี่ <<-->> It's them. <<-->> similartity = 0.062356\n",
      "index=9013: count=8: ได้รับมัน ใช้เวลาไม่นานก็มันได้ หรือไม่ <<-->> (AIgernon) Got it. <<-->> similartity = 0.062551\n",
      "index=9028: count=9: เล็ก ๆ น้อย ๆ ที่พวกเขารู้ว่าเขาคือ นักโทษ <<-->> Ringo! <<-->> similartity = 0.064311\n",
      "index=10771: count=10: ชักออก! <<-->> Is it right a butcher should... <<-->> similartity = 0.068201\n",
      "Total =  6078\n",
      "\n",
      "------\n",
      "\n",
      "similarity > 0.070 and similarity <= 0.080\n",
      "index=889: count=1: จะต้องไปส่งเอกสารสำคัญ <<-->> Hold on to these dispatches. <<-->> similartity = 0.072648\n",
      "index=1321: count=2: ก็มีผมสีน้ำตาล <<-->> Of the world! <<-->> similartity = 0.076878\n",
      "index=3053: count=3: เขาเป็นไม่ได้ที่นี่ <<-->> Look. <<-->> similartity = 0.070314\n",
      "index=3124: count=4: นั่นคงวิตกกังวล <<-->> Whoa! Steady there, Nellie. <<-->> similartity = 0.070214\n",
      "index=3885: count=5: ใส่สิครับ ไม่ประมาทไว้ก่อน <<-->> Yes, certainly, certainly, certainly. You can't be too careful with children. <<-->> similartity = 0.071984\n",
      "index=8311: count=6: ไม่ ครั้งที่ฉันใช้ในการปล่อยให้มันมี <<-->> Did you want them to? No. <<-->> similartity = 0.073625\n",
      "index=8341: count=7: นั่นคือสิ่งที่ฉันสุนัขจิ้งจอก <<-->> Wrong voltage. <<-->> similartity = 0.072826\n",
      "index=8358: count=8: น่าอัศจรรย์ ด้วยแหวนเหมือนนั้นฉันสามารถทำ ได้, <<-->> Fantastic! <<-->> similartity = 0.079257\n",
      "index=8446: count=9: มันคือชุดที่ดีที่สุด ของเขา <<-->> Where are you, Paul? <<-->> similartity = 0.076587\n",
      "index=8594: count=10: ฉันยุ่งมาก <<-->> No... ( Band plays anthem) <<-->> similartity = 0.078018\n",
      "Total =  6199\n",
      "\n",
      "------\n",
      "\n",
      "similarity > 0.080 and similarity <= 0.090\n",
      "index=955: count=1: อดีนอย เฮนเคิล กล่าวและฉันแปล <<-->> Adenoid Hynkel said, \"Tomainia was down but today has risen.\" <<-->> similartity = 0.080309\n",
      "index=3951: count=2: อ้อ ขอบคุณค่ะ <<-->> Won't you sit down? <<-->> similartity = 0.083715\n",
      "index=4553: count=3: ไม่ว่าพวกเขาจะถามอะไรคุณ.. <<-->> I promise. <<-->> similartity = 0.087524\n",
      "index=8136: count=4: พวกเขาทั้งหมดมีลักษณะเดียวกัน <<-->> My gosh. <<-->> similartity = 0.085538\n",
      "index=8142: count=5: อา ชิลลิง ชิลลิง? <<-->> All in together now, sir. Now. Ah! <<-->> similartity = 0.086338\n",
      "index=8157: count=6: ทุกคนหัวเราะ ริงโก้ส์ <<-->> Ho, ho! Ho! Ho, ho! <<-->> similartity = 0.080656\n",
      "index=8274: count=7: แค่นี้เหรอ? <<-->> Three hours to live. <<-->> similartity = 0.087557\n",
      "index=8279: count=8: ตั๋วฤดูกาล <<-->> What's this? <<-->> similartity = 0.081132\n",
      "index=8422: count=9: หาใช่มั้ย <<-->> I wouldn't think of such a thing! <<-->> similartity = 0.085806\n",
      "index=8450: count=10: ระวัง พวกเขากำลังที่ผ่านมาทาง ประตู <<-->> Look out! <<-->> similartity = 0.087673\n",
      "Total =  6289\n",
      "\n",
      "------\n",
      "\n",
      "similarity > 0.090 and similarity <= 0.100\n",
      "index=1991: count=1: แถว... ตรง <<-->> Attention! <<-->> similartity = 0.096428\n",
      "index=2027: count=2: เสือกับกวางอยู่ถ้ำเดียวกันไม่ได้ ในเมื่อเราเป็นเสือ <<-->> They are inferior and therefore enemies of the state. <<-->> similartity = 0.091897\n",
      "index=2879: count=3: ปิโนคีโอ <<-->> What's yours? <<-->> similartity = 0.094969\n",
      "index=3791: count=4: พอกลับมาบ้านปุ๊บ ก็ออกปั๊บ เป็นอย่างงี้ทุกทีเลย <<-->> How tiresome of him not to be here when we arrive, and how typical. <<-->> similartity = 0.094499\n",
      "index=6716: count=5: บางทีวันนี้ <<-->> But who knows? <<-->> similartity = 0.093481\n",
      "index=6718: count=6: มันจะดีกว่าที่จะโชคดี <<-->> Every day is a new day. <<-->> similartity = 0.092006\n",
      "index=8083: count=7: อามี เจ้านายการเตรียมการที่จำคือ <<-->> Monstrous. Ahme. <<-->> similartity = 0.094676\n",
      "index=8382: count=8: คุณต้องซ่อนความรักของคุณออกไป <<-->> His brain's draining. <<-->> similartity = 0.098208\n",
      "index=8433: count=9: คุณคุณคุณและคุณ <<-->> Synchronise your watches. <<-->> similartity = 0.090553\n",
      "index=8441: count=10: มาสิ, นิ้วของฉัน <<-->> (Hollering) <<-->> similartity = 0.097527\n",
      "Total =  6322\n",
      "\n",
      "------\n",
      "\n",
      "similarity > 0.100 and similarity <= 0.110\n",
      "index=267: count=1: จมูกของฉัน! <<-->> Take them away. <<-->> similartity = 0.106701\n",
      "index=1375: count=2: ไอ้ยิว เอฟสติน ถุย <<-->> Epstein refuses, eh? <<-->> similartity = 0.105728\n",
      "index=1407: count=3: รูปสะท้อนแสงได้ <<-->> A fine photo on each! <<-->> similartity = 0.100839\n",
      "index=1614: count=4: ไหนว่ามีแค่เรา <<-->> You let him steal a march on us. <<-->> similartity = 0.107252\n",
      "index=3626: count=5: รอเดี๋ยว เรารู้สึกซาบซึ้งมากเลยครับ คุณนายแวน ฮอปเปอร์ <<-->> Just a minute. <<-->> similartity = 0.103183\n",
      "index=6740: count=6: วิธีที่มันมีความสดใหม่ <<-->> Please eat them. <<-->> similartity = 0.103725\n",
      "index=7541: count=7: เธอยังคงขึ้น? <<-->> Yes. <<-->> similartity = 0.109054\n",
      "index=8046: count=8: แหวน <<-->> Halt? <<-->> similartity = 0.108731\n",
      "index=8214: count=9: มันถูกโยนไปที่เด็กและเยาวชน <<-->> Sex is creeping in. <<-->> similartity = 0.102985\n",
      "index=8232: count=10: เราได้มีหนึ่งในนั้น <<-->> I tell a lie. <<-->> similartity = 0.105647\n",
      "Total =  6601\n",
      "\n",
      "------\n",
      "\n",
      "similarity > 0.110 and similarity <= 0.120\n",
      "index=1005: count=1: มันไม่แน่นอนหรอก <<-->> Now you said it. <<-->> similartity = 0.112803\n",
      "index=1027: count=2: เซ็น.. ไว้ก่อน <<-->> Just charge it to my account! <<-->> similartity = 0.116593\n",
      "index=1092: count=3: ความเป็นธรรมไม่มีอีกต่อไปแล้ว <<-->> All right, they've gone. <<-->> similartity = 0.111974\n",
      "index=1564: count=4: ทำเวลา <<-->> Take this. <<-->> similartity = 0.111934\n",
      "index=1832: count=5: มันเป็นข้ออ้างที่ดี <<-->> It'll carry weight. <<-->> similartity = 0.119443\n",
      "index=1992: count=6: วันทยา... .. วุธ <<-->> Present arms! <<-->> similartity = 0.118347\n",
      "index=2559: count=7: ฉันจะทำงานและบอก พ่อ ของ เขา <<-->> Hi diddle dee day An actor's life is gay <<-->> similartity = 0.111123\n",
      "index=4270: count=8: จริงเหรอ แล้วพัดของฉันอยู่ไหนล่ะ <<-->> Do you really think so? <<-->> similartity = 0.111311\n",
      "index=6626: count=9: ฉันมี <<-->> You can't fish and not eat. I have. <<-->> similartity = 0.118613\n",
      "index=8104: count=10: ฉันหมายถึงว่าความรักยังไม่ได้ไปถึง หัวของพวกเขา <<-->> Lovely lads and so natural. <<-->> similartity = 0.115371\n",
      "Total =  6712\n",
      "\n",
      "------\n",
      "\n",
      "similarity > 0.120 and similarity <= 0.130\n",
      "index=1600: count=1: ออสตินลิค <<-->> Osterlich! <<-->> similartity = 0.120353\n",
      "index=3652: count=2: อ้า ใจตรงกันกับเราเลย <<-->> Somebody else had the same idea. <<-->> similartity = 0.124437\n",
      "index=7051: count=3: คุณอาจ <<-->> Two bad hands? <<-->> similartity = 0.120211\n",
      "index=7147: count=4: และนำมาให้ฉันและเอกสาร <<-->> And... <<-->> similartity = 0.122937\n",
      "index=8095: count=5: ในมือและแล้วรอ <<-->> ...visit to England. <<-->> similartity = 0.127535\n",
      "index=8096: count=6: สิ่งที่จะต้องทำ <<-->> In hand. <<-->> similartity = 0.128698\n",
      "index=8225: count=7: ไม่ ไม่ดีกับฉันเพื่อน <<-->> It's yours. Nah! <<-->> similartity = 0.120247\n",
      "index=8254: count=8: อย่าพูดอีกเลย ฉันสามารถพูดอีก ไม่ได้ <<-->> He has three hours to live. Say no more. <<-->> similartity = 0.124758\n",
      "index=8285: count=9: ฉันจะได้รับทุกประเภท <<-->> in a fan letter. <<-->> similartity = 0.121971\n",
      "index=8361: count=10: และการลักขโมยของคุณช่วยกึ่ง มนุษย์ <<-->> Algernon, the laser. <<-->> similartity = 0.126346\n",
      "Total =  6927\n",
      "\n",
      "------\n",
      "\n",
      "similarity > 0.130 and similarity <= 0.140\n",
      "index=1193: count=1: เซ็น.. ไว้ก่อน <<-->> Borrow it! <<-->> similartity = 0.133146\n",
      "index=1200: count=2: ยากที่จะทำสำเร็จ ที่จะกู้เงิน เอฟสติน เขาเป็นยิว <<-->> It might be difficult in view of our policy towards his people. <<-->> similartity = 0.135850\n",
      "index=1611: count=3: เพื่อบุก ออสตินลิค <<-->> To take Osterlich! <<-->> similartity = 0.130216\n",
      "index=1921: count=4: ฉันดิ้นเหมือนหนอนโดนน้ำร้อน <<-->> My little bambino! <<-->> similartity = 0.137504\n",
      "index=2300: count=5: อ๋อ ติดตลาด <<-->> Temptations. <<-->> similartity = 0.135876\n",
      "index=2901: count=6: อา เพียงเพื่อความ สนุกสนานของมัน <<-->> Why? <<-->> similartity = 0.131074\n",
      "index=6756: count=7: สิ่งที่ปลา! <<-->> He's going to take it. <<-->> similartity = 0.136614\n",
      "index=8094: count=8: จะทำ ในครั้งเดียว เยี่ยมชมไปยัง ประเทศอังกฤษ <<-->> Are made. At once. <<-->> similartity = 0.131100\n",
      "index=8144: count=9: ในขณะนี้ ไป มักจะไป <<-->> Oh, shilling! Now! Off! <<-->> similartity = 0.132116\n",
      "index=8474: count=10: ต้องทำด้วยตัวเองทั้งหมดนี้คุณรู้ว่า ใช่เลย <<-->> A couple of bob, at least. Had to do all this myself... <<-->> similartity = 0.135359\n",
      "Total =  6985\n",
      "\n",
      "------\n",
      "\n",
      "similarity > 0.140 and similarity <= 0.150\n",
      "index=832: count=1: เคลีย พื้นที่ <<-->> Stand clear! <<-->> similartity = 0.140871\n",
      "index=842: count=2: ให้ตายสิ เผ่นเร็ว <<-->> Look out! Run! <<-->> similartity = 0.149738\n",
      "index=1056: count=3: เร็วเข้า ไสหัวออกไป <<-->> Come on, get out of here! <<-->> similartity = 0.149304\n",
      "index=1395: count=4: จำเอาไว้ ทุกสิ่งที่คุณทำจะล้ม <<-->> Very well, but remember my words. <<-->> similartity = 0.148989\n",
      "index=1594: count=5: พวกแกอยู่ไหน <<-->> Here's your friend. <<-->> similartity = 0.141263\n",
      "index=1606: count=6: แด่ ออสตินลิค <<-->> To the invasion of Osterlich! <<-->> similartity = 0.140762\n",
      "index=3343: count=7: สวัสดีค่ะ สวัสดีครับ <<-->> How do you do? <<-->> similartity = 0.142410\n",
      "index=3443: count=8: ไม่เอาน่า ทานเยอะๆ เถอะครับ <<-->> Come on. <<-->> similartity = 0.148199\n",
      "index=3532: count=9: คุณพระช่วย มานี่เร็ว <<-->> For the love of Pete! Come here! <<-->> similartity = 0.141266\n",
      "index=3678: count=10: สวัสดีค่ะ สวัสดีค่ะ ฉันเตรียมทุกอย่างพร้อมแล้วสําหรับคุณ <<-->> How do you do? <<-->> similartity = 0.143403\n",
      "Total =  7544\n",
      "\n",
      "------\n",
      "\n",
      "similarity > 0.150 and similarity <= 0.160\n",
      "index=414: count=1: ลัปล แดปลินส <<-->> Lumple dapplins? <<-->> similartity = 0.157522\n",
      "index=1613: count=2: แกแหกตาฉัน <<-->> You can't believe it! <<-->> similartity = 0.154287\n",
      "index=1978: count=3: ทำอย่างไรดี <<-->> Looking this way. <<-->> similartity = 0.156096\n",
      "index=1988: count=4: ใจเย็นๆ <<-->> There's no hurry. <<-->> similartity = 0.159296\n",
      "index=4264: count=5: แน่ใจนะว่าถูกตําแหน่งแล้ว <<-->> Because the first people will be arriving any moment. Now, you're sure that's where that should be? <<-->> similartity = 0.159852\n",
      "index=4659: count=6: เอ้าดื่มนี่สักหน่อย <<-->> Here, try a spot of this. <<-->> similartity = 0.157006\n",
      "index=4691: count=7: เหม็นควันรึครับ <<-->> Does this bother you? <<-->> similartity = 0.152581\n",
      "index=4778: count=8: ครับท่าน <<-->> Very good. <<-->> similartity = 0.151918\n",
      "index=4983: count=9: เป็นปีที่มันเริ่มต้นขึ้น <<-->> The machine goes into action. <<-->> similartity = 0.153239\n",
      "index=8122: count=10: ฉันเหนื่อย <<-->> What are you doing on the floor? <<-->> similartity = 0.150211\n",
      "Total =  7717\n",
      "\n",
      "------\n",
      "\n",
      "similarity > 0.160 and similarity <= 0.170\n",
      "index=1529: count=1: แล้ว ผบ. ล่ะ <<-->> Where's the Commander? <<-->> similartity = 0.169409\n",
      "index=1677: count=2: ปูพรม เร็ว <<-->> Lay it down here. Quick. <<-->> similartity = 0.164258\n",
      "index=2902: count=3: เอาล่ะ แลมปี <<-->> Ah, just for the fun of it. Okay, Lampy. <<-->> similartity = 0.165087\n",
      "index=3371: count=4: แหม <<-->> Well, I... <<-->> similartity = 0.169673\n",
      "index=3374: count=5: เธอมันเก่งสารพัดนี่นา <<-->> You're a capable child in many ways. <<-->> similartity = 0.162793\n",
      "index=3472: count=6: มาได้สักที เร็วเข้า ฉันอยากเล่นไพ่แล้ว <<-->> Oh, there you are. It's about time. Hurry up. <<-->> similartity = 0.162512\n",
      "index=4040: count=7: อย่าโง่ไปหน่อยเลย <<-->> I'll go upstairs. <<-->> similartity = 0.162247\n",
      "index=8140: count=8: โอเค ๆ ทุกอันเข้า <<-->> Yes, yes. Right, right. <<-->> similartity = 0.160433\n",
      "index=8802: count=9: มาสิ, ช่วยให้มีคุณ <<-->> Quick! <<-->> similartity = 0.163257\n",
      "index=8939: count=10: ลองหาวัดที่ใช่มั้ย <<-->> Let's smash them! <<-->> similartity = 0.163660\n",
      "Total =  7851\n",
      "\n",
      "------\n",
      "\n",
      "similarity > 0.170 and similarity <= 0.180\n",
      "index=1215: count=1: ไม่ถึงไหน <<-->> Very slow. <<-->> similartity = 0.175175\n",
      "index=1260: count=2: แล้วผมโกนเคราให้คุณทำไม <<-->> Isn't that foolish of me? <<-->> similartity = 0.175072\n",
      "index=1399: count=3: แกมันขัดต่อคำปฏิญาณ <<-->> You're a double-dyed democrat! <<-->> similartity = 0.170685\n",
      "index=1480: count=4: โดยผู้นั้นได้จากการจับฉลาก <<-->> At a feast by lottery the victim was chosen. <<-->> similartity = 0.171745\n",
      "index=1641: count=5: ไม่ครับ ไข้หวัดลงคอ ครับ <<-->> No, I mean he can't talk. <<-->> similartity = 0.175702\n",
      "index=1771: count=6: เยี่ยมมากๆ เชิญ <<-->> Very well, this way. <<-->> similartity = 0.175193\n",
      "index=1886: count=7: เพื่อให้แน่ใจว่าคุณจะไม่โกง <<-->> You said I remove first. <<-->> similartity = 0.171132\n",
      "index=1990: count=8: ให้สัญญาน <<-->> Sound assembly! <<-->> similartity = 0.172459\n",
      "index=2271: count=9: เอ่อโอ้เอ่อ <<-->> Uh, oh, uh, Cricket's the name. <<-->> similartity = 0.176342\n",
      "index=4239: count=10: ครับท่าน <<-->> Yes, sir, thank you. <<-->> similartity = 0.179755\n",
      "Total =  8259\n",
      "\n",
      "------\n",
      "\n",
      "similarity > 0.180 and similarity <= 0.190\n",
      "index=1305: count=1: หยวนๆให้พวกเขาหน่อยล่ะกัน <<-->> Cannot afford to be lenient. <<-->> similartity = 0.183946\n",
      "index=1405: count=2: ก็ใช่ <<-->> Most amusing. <<-->> similartity = 0.183702\n",
      "index=1792: count=3: ที่ลานสวนสนาม และผู้ชมเกือบครึ่งล้าน <<-->> The Hynkel stadium. <<-->> similartity = 0.189678\n",
      "index=1793: count=4: การสวนสนามที่ยิ่งใหญ่ของกองทัพ <<-->> Before half a million spectators the greatest ever display of arms marches by in review. <<-->> similartity = 0.186106\n",
      "index=2419: count=5: ใช่ <<-->> But hurry now. <<-->> similartity = 0.189237\n",
      "index=2560: count=6: ไม่มีที่ต้องการจะแจ้ง <<-->> No, that'd be snitching. <<-->> similartity = 0.189930\n",
      "index=3062: count=7: ทำไมเอ่อเอ่อมันบอกว่าที่นี่เขา เอ่อ <<-->> Where is he? <<-->> similartity = 0.182744\n",
      "index=3416: count=8: ไม่ค่ะ คุณแม่ฉันเสียไปหลายปีแล้ว <<-->> No. <<-->> similartity = 0.186151\n",
      "index=3507: count=9: รู้มั้ยค่ะฉันหวังว่าจะมีสิ่งประดิษฐ์. <<-->> You know, I... <<-->> similartity = 0.181553\n",
      "index=3529: count=10: แต่ไม่จําเป็นต้องเรียกเต็มยศ เรียกสั้นๆ ว่า \"แม็กซิม\" ก็ได้ <<-->> You needn't bother with them all at once. <<-->> similartity = 0.189333\n",
      "Total =  8560\n",
      "\n",
      "------\n",
      "\n",
      "similarity > 0.190 and similarity <= 0.200\n",
      "index=841: count=1: ครับผม ตรวจฉนวน <<-->> Yes, the fuse. <<-->> similartity = 0.194607\n",
      "index=844: count=2: เครื่องบิน ข้าศึก <<-->> Air raid. After Big Bertha. <<-->> similartity = 0.191840\n",
      "index=1037: count=3: ฉันไม่ได้ทำร้ายใคร แต่ฉันเป็นผู้ให้มากกว่า <<-->> Don't rob the poor girl, boys. Give her back her tomatoes. <<-->> similartity = 0.197945\n",
      "index=1845: count=4: อดีนอย ที่รัก <<-->> My dear Adenoid. <<-->> similartity = 0.193400\n",
      "index=3403: count=5: ได้ครับ คุณผู้หญิง <<-->> I'll just have some scrambled eggs. Oui, mademoiselle. <<-->> similartity = 0.197334\n",
      "index=3523: count=6: เอาเลย เปิดประตูแล้วลงไปเลย <<-->> Go on. <<-->> similartity = 0.198352\n",
      "index=3735: count=7: อ้อ มีอีกเรื่อง <<-->> Oh, yes... <<-->> similartity = 0.199146\n",
      "index=4652: count=8: ดีมากมัลเลนช่วยกลับรถให้ด้วย <<-->> No, that's fine. Pull around the corner. <<-->> similartity = 0.193758\n",
      "index=4990: count=9: แบบบ้านริมเขา <<-->> Alpine style. <<-->> similartity = 0.192954\n",
      "index=6752: count=10: เขาจะต้องได้รับการเปิดอีก <<-->> God knows he can't have gone. <<-->> similartity = 0.195884\n",
      "Total =  9100\n",
      "\n",
      "------\n",
      "\n",
      "similarity > 0.200 and similarity <= 0.210\n",
      "index=27: count=1: ฉันหวังว่าฉันหวัง <<-->> I'm hoрing -I'm hoрing <<-->> similartity = 0.206424\n",
      "index=457: count=2: ทำไมเงียบไป? <<-->> Cat got your tongue? <<-->> similartity = 0.207935\n",
      "index=836: count=3: เคลีย พื้นที่ <<-->> Stand clear. <<-->> similartity = 0.201752\n",
      "index=917: count=4: มันล้ำลึกเกินฉันจะเข้าใจ <<-->> I can't reach it. <<-->> similartity = 0.201063\n",
      "index=1030: count=5: ทุกคนมีสิทธิ์จะได้มัน <<-->> If I were a man I'd show you. <<-->> similartity = 0.203793\n",
      "index=1034: count=6: หุบปาก <<-->> Shut up! <<-->> similartity = 0.200298\n",
      "index=1282: count=7: เมื่อไหร่คุณจะเซ็น <<-->> I'll get you a pen. <<-->> similartity = 0.205763\n",
      "index=1622: count=8: หุบปาก <<-->> Shut up! <<-->> similartity = 0.200298\n",
      "index=1681: count=9: หุบปาก <<-->> Shut up! <<-->> similartity = 0.200298\n",
      "index=1686: count=10: ไงสหาย <<-->> My friend! <<-->> similartity = 0.205573\n",
      "Total =  9429\n",
      "\n",
      "------\n",
      "\n",
      "similarity > 0.210 and similarity <= 0.220\n",
      "index=878: count=1: ขอบใจหลาย ในความกรุณา โทไมเนีย ภูมิใจที่มีนาย <<-->> Thank you. I'll see you get the Tomainian Cross for this. <<-->> similartity = 0.212922\n",
      "index=1394: count=2: จับ ชูลท์ซ <<-->> Place Schultz under arrest. <<-->> similartity = 0.219263\n",
      "index=1972: count=3: เราจะผ่านมันเหรอ <<-->> Through the woods? <<-->> similartity = 0.216321\n",
      "index=2850: count=4: อาฮะ ตอนนี้หัวใจว่า <<-->> Aha! <<-->> similartity = 0.217791\n",
      "index=3752: count=5: คุณผู้หญิงครับ <<-->> I slipped. <<-->> similartity = 0.218172\n",
      "index=3800: count=6: สวัสดี <<-->> How do you do? <<-->> similartity = 0.211196\n",
      "index=4029: count=7: ตุ๊กตากามเทพกระเบื้องเคลือบครับ <<-->> China cupid, sir. <<-->> similartity = 0.212378\n",
      "index=4771: count=8: ในอีกไม่กี่สัปดาห์ ที่จริง ทุกๆ ครั้งที่หล่อนเป็นลม <<-->> Every time she faints, in fact. <<-->> similartity = 0.211467\n",
      "index=7094: count=9: ไม่มีอะไร ฉันเพียงแค่เดิน ออกไปไกลเกินไป <<-->> Nothing. <<-->> similartity = 0.217503\n",
      "index=7375: count=10: ร่มเย็น <<-->> Be peaceful. <<-->> similartity = 0.216339\n",
      "Total =  10012\n",
      "\n",
      "------\n",
      "\n",
      "similarity > 0.220 and similarity <= 0.230\n",
      "index=968: count=1: ผู้นำของคุณ <<-->> This is the Pari-Mutual network, bringing you <<-->> similartity = 0.227621\n",
      "index=1083: count=2: เดี๋ยวเล่าให้ฟัง <<-->> More are coming! <<-->> similartity = 0.228855\n",
      "index=1196: count=3: เอฟสติน <<-->> Epstein. <<-->> similartity = 0.222171\n",
      "index=1323: count=4: หรือ ซีซ่า หรือ นุนลูส <<-->> Aut Caesar aut nullus. <<-->> similartity = 0.221860\n",
      "index=1562: count=5: ถุงกอร์ฟผม <<-->> My golf clubs! <<-->> similartity = 0.220092\n",
      "index=1959: count=6: แผนบุก ออสตินลิค <<-->> The invasion of Osterlich. <<-->> similartity = 0.224031\n",
      "index=1984: count=7: เราใส่เกียร์ 2 เลยดีไหม <<-->> We could walk faster. <<-->> similartity = 0.221481\n",
      "index=2936: count=8: เอาล่ะ แลมปี <<-->> Okay, Lampy. <<-->> similartity = 0.225348\n",
      "index=3187: count=9: เรื่องอะไร? <<-->> Pinocchio! Wh Wh <<-->> similartity = 0.226996\n",
      "index=3673: count=10: สวัสดีคะ <<-->> How do you do? <<-->> similartity = 0.221670\n",
      "Total =  10586\n",
      "\n",
      "------\n",
      "\n",
      "similarity > 0.230 and similarity <= 0.240\n",
      "index=1114: count=1: หัวหน้าหน่วย <<-->> First in command. <<-->> similartity = 0.236695\n",
      "index=1115: count=2: รองหัวหน้าหน่วย <<-->> Second in command. <<-->> similartity = 0.238905\n",
      "index=1199: count=3: เจ๋ง ช่างมัน เราจะใช้เครดิต เอฟสติน <<-->> Well, let's be big about it. We'll borrow from Epstein. <<-->> similartity = 0.232645\n",
      "index=1244: count=4: ตลกสิ้นดี ไม่รู้เมื่อไหร่เขาจะทอดทิ้งเร <<-->> Funny how they've left us alone. <<-->> similartity = 0.232011\n",
      "index=1337: count=5: จะเป็น ซีซ่า หรือ นูนลูส <<-->> Aut Caesar aut nullus. <<-->> similartity = 0.236642\n",
      "index=1808: count=6: กระจอก <<-->> Very light! <<-->> similartity = 0.233705\n",
      "index=2899: count=7: มาสิ, ให้เป็นไป ใน <<-->> Oh, boy, a scrap! <<-->> similartity = 0.235518\n",
      "index=3482: count=8: ไปเหล่ครูสอนหนุ่มรูปหล่อ.. <<-->> I see. I suppose you've had a look at the pro, and he's desperately handsome, and you've conceived a schoolgirl crush on him. <<-->> similartity = 0.231042\n",
      "index=4033: count=9: ทําไม่ต้องมากวนใจผมด้วยเรื่องพวกนี้ด้วย นี่มันหน้าที่คุณไม่ใช่หรือ ที่รัก <<-->> Why do they come to me with these things? <<-->> similartity = 0.230518\n",
      "index=4986: count=10: ความเป็นชาติแบบนาซี ก็เริ่มต้นขึ้น <<-->> The nation gets down to work. <<-->> similartity = 0.233652\n",
      "Total =  11549\n",
      "\n",
      "------\n",
      "\n",
      "similarity > 0.240 and similarity <= 0.250\n",
      "index=879: count=1: ผมเต็มใจช่วย ครับผม <<-->> Only too willing to oblige, sir. <<-->> similartity = 0.240544\n",
      "index=934: count=2: วิธีที่เธอดูแลมัน <<-->> How she loves daffodils! <<-->> similartity = 0.243570\n",
      "index=1304: count=3: ให้มันขึ้นรถไฟที่นั่งVIP สายด่วนไปนรก <<-->> Let's train others first, then shoot them! <<-->> similartity = 0.243789\n",
      "index=1346: count=4: สนธิสัญญา อยู่ที่ อดีนอย เฮนเคิล เด็กๆแห่งสัญญาดับเบิล-คลอส <<-->> At six, Adenoid Hynkel will address the children of the double-cross. <<-->> similartity = 0.247900\n",
      "index=1822: count=5: การ์บริทซ เราจะบุก ออสตินลิค <<-->> Garbitsch! The invasion of Osterlich. <<-->> similartity = 0.246836\n",
      "index=1895: count=6: ไม่ไม่ส่งผลดีต่อพวกคุณเลย <<-->> This won't get us anywhere. <<-->> similartity = 0.244520\n",
      "index=3105: count=7: เกิดอะไรขึ้น? ไม่สามารถเป็น เพื่อนเอ่อฉันเป็น <<-->> What's the matter? <<-->> similartity = 0.243427\n",
      "index=3918: count=8: เร็วสิวะ แจสเปอร์ <<-->> Hurry up, Jasper, for heaven's sake. <<-->> similartity = 0.244006\n",
      "index=4218: count=9: ก็ได้ ทูนหัว <<-->> All right, my sweet. <<-->> similartity = 0.244557\n",
      "index=4719: count=10: ไปกันฟาเวล <<-->> Come on, Favell. Let's go. <<-->> similartity = 0.241117\n",
      "Total =  11603\n",
      "\n",
      "------\n",
      "\n",
      "similarity > 0.250 and similarity <= 0.260\n",
      "index=901: count=1: มันสว่างจริงๆ <<-->> Shining upwards. <<-->> similartity = 0.252650\n",
      "index=1461: count=2: เอาล่ะ ทางปลอดโปร่ง <<-->> All right, the coast is clear. <<-->> similartity = 0.250854\n",
      "index=1475: count=3: ไม่เป็นไร ฉันรับผิดชอบเอง รอดูล่ะกัน <<-->> Don't worry, I've fixed everything. Wait and see. <<-->> similartity = 0.258210\n",
      "index=1502: count=4: นี่มันไม่ตลกนะ <<-->> What's the meaning of this? <<-->> similartity = 0.256710\n",
      "index=2299: count=5: ติดตลาด? <<-->> Temptations? Yep. <<-->> similartity = 0.250891\n",
      "index=2986: count=6: ฉันอยากกลับบ้าน! <<-->> Open up! <<-->> similartity = 0.251312\n",
      "index=3008: count=7: นะ \"กำลังจะเกิดขึ้นกับเรา <<-->> To hear that beetle talk, you'd think somethin' was going to happen to us. <<-->> similartity = 0.259626\n",
      "index=3821: count=8: ครับ คุณผู้หญิง <<-->> Unfortunately, yes, madam. <<-->> similartity = 0.252997\n",
      "index=3824: count=9: น่ากินเชียว <<-->> What a plateful. <<-->> similartity = 0.254653\n",
      "index=3861: count=10: ลาก่อน แม็กซิม <<-->> Well, goodbye, Maxim, old boy. <<-->> similartity = 0.251101\n",
      "Total =  12112\n",
      "\n",
      "------\n",
      "\n",
      "similarity > 0.260 and similarity <= 0.270\n",
      "index=801: count=1: เท่านั้น? <<-->> Onlу for you <<-->> similartity = 0.267236\n",
      "index=948: count=2: พูดเป็นเล่น <<-->> What? <<-->> similartity = 0.264099\n",
      "index=1163: count=3: เฮอลิง อยู่ที่บนป้อม <<-->> Herring here in the tower room. <<-->> similartity = 0.264325\n",
      "index=1404: count=4: เฮนเคิล ฉันคิดว่าเขาก็ดีนะ <<-->> That Hynkel isn't such a bad fellow after all. <<-->> similartity = 0.268622\n",
      "index=1406: count=5: เข็มกลัด เฮนเคิลครับ <<-->> Get a Hynkel badge! A Hynkel badge! <<-->> similartity = 0.268756\n",
      "index=1434: count=6: ไปจัดการหนูสกปรกกัน <<-->> Let's kill the louse! <<-->> similartity = 0.265923\n",
      "index=1767: count=7: มันอยู่ไหน <<-->> Is that so? <<-->> similartity = 0.263826\n",
      "index=1969: count=8: เร็วเข้า <<-->> Come on. <<-->> similartity = 0.263597\n",
      "index=2846: count=9: คุณเห็นอะไร? <<-->> Close your eyes. <<-->> similartity = 0.267733\n",
      "index=3153: count=10: มาสิ, ปีโนก อย่ารอคอยสำหรับ ฉัน <<-->> Come on, Pinoke. <<-->> similartity = 0.262824\n",
      "Total =  13329\n",
      "\n",
      "------\n",
      "\n",
      "similarity > 0.270 and similarity <= 0.280\n",
      "index=265: count=1: ดู กอลเดนรอด <<-->> Look, goldenrod. <<-->> similartity = 0.279192\n",
      "index=896: count=2: เรารู้จักกันหรอ <<-->> Don't you know me? <<-->> similartity = 0.278781\n",
      "index=1117: count=3: ชั่งมัน <<-->> You! <<-->> similartity = 0.278739\n",
      "index=1311: count=4: หน้าที่ผม ผมจัดการเอง <<-->> That's my department. I'll attend to that. This way. <<-->> similartity = 0.279798\n",
      "index=1320: count=5: และท่านเอง <<-->> And a brunette dictator. <<-->> similartity = 0.274533\n",
      "index=1514: count=6: อันตรายอยู่รอบตัวคุณ อดีต ผบ. ชูลท์ซ <<-->> \"Mystery surrounds the disappearance of ex-Commander Schultz.\" <<-->> similartity = 0.278425\n",
      "index=1585: count=7: ครับผม <<-->> Yes, sir. <<-->> similartity = 0.272398\n",
      "index=1605: count=8: แด่ เฮอลิง <<-->> To Field Marshal Herring! <<-->> similartity = 0.276728\n",
      "index=1623: count=9: ท่านจะทำอย่างนี้จริงๆหรอ <<-->> Will you sign this? <<-->> similartity = 0.276413\n",
      "index=1645: count=10: นัดเขามา <<-->> Ask him to come here. <<-->> similartity = 0.274124\n",
      "Total =  13796\n",
      "\n",
      "------\n",
      "\n",
      "similarity > 0.280 and similarity <= 0.290\n",
      "index=863: count=1: มาเข้าแถว <<-->> Fall in! <<-->> similartity = 0.284441\n",
      "index=925: count=2: เกาะไว้ <<-->> The stick! <<-->> similartity = 0.281280\n",
      "index=954: count=3: อำนาจเด็ดขาดอยู่ที่เขาเพียงผู้เดียว <<-->> Only the voice of Hynkel was heard. <<-->> similartity = 0.281009\n",
      "index=1187: count=4: ทำลายชุมชนยิว <<-->> An assault on the ghetto. <<-->> similartity = 0.286868\n",
      "index=1310: count=5: ให้พวกมันเซ็นใบรับรอง <<-->> But mark them for future reference. <<-->> similartity = 0.286700\n",
      "index=1945: count=6: รังเกียจเหรอ ฉันไม่รังเกียจ <<-->> Mind? I don't mind! <<-->> similartity = 0.288841\n",
      "index=2018: count=7: รมต.มหาดไทย รมต.จิตวิทยาโฆษาณา <<-->> Secretary of the Interior, Minister of Propaganda... <<-->> similartity = 0.280918\n",
      "index=2019: count=8: โคโลนา วีนีท ดีเล็คทริค <<-->> Corona veniet delectis. <<-->> similartity = 0.280143\n",
      "index=2303: count=9: อาจจะถูกต้องในเวลาที่ผิด หรือเอ่อในทางกลับกัน <<-->> Or, uh, visa versa. <<-->> similartity = 0.288834\n",
      "index=2829: count=10: สทรอมโบลี น่ากลัว <<-->> Stromboli was terrible. <<-->> similartity = 0.285620\n",
      "Total =  14656\n",
      "\n",
      "------\n",
      "\n",
      "similarity > 0.290 and similarity <= 0.300\n",
      "index=1025: count=1: จอดซะไกล แกตั้งใจใช่ไหม <<-->> Hold it there, will you? <<-->> similartity = 0.291505\n",
      "index=1185: count=2: ประชากร ถุย <<-->> The people, bah! <<-->> similartity = 0.293705\n",
      "index=1206: count=3: นี่อาจเป็นผลประโยชน์ เฮนเคิล <<-->> This Hynkel business. <<-->> similartity = 0.298478\n",
      "index=1709: count=4: การพบปะนี้ต้องการให้เขาพอใจ ท่านควรหงอยๆครับ <<-->> This interview is to impress on him the force of your personality. <<-->> similartity = 0.299922\n",
      "index=1759: count=5: และ ตรวจแถวสวนสนามครับ <<-->> And a review of the army. <<-->> similartity = 0.290141\n",
      "index=1906: count=6: ถ้าอย่างนั้นเราก็ไม่ไปไหน <<-->> Then they remain. <<-->> similartity = 0.299985\n",
      "index=2395: count=7: ฉันเข้าใจแล้ว! <<-->> Here's water! <<-->> similartity = 0.291100\n",
      "index=2569: count=8: สิ่งที่สะสม <<-->> What a build-up. <<-->> similartity = 0.292169\n",
      "index=3396: count=9: อย่าดีกว่าค่ะ <<-->> Oh, but I couldn't possibly. <<-->> similartity = 0.291890\n",
      "index=3450: count=10: งั้นเหรอ <<-->> Does it? <<-->> similartity = 0.294982\n",
      "Total =  15253\n",
      "\n",
      "------\n",
      "\n",
      "similarity > 0.300 and similarity <= 0.310\n",
      "index=431: count=1: ฮะ! <<-->> Wash? <<-->> similartity = 0.301462\n",
      "index=834: count=2: เตรียมไกปืน <<-->> Stand by your trigger! <<-->> similartity = 0.309330\n",
      "index=972: count=3: ท่านผู้นำ มีปัญหากับการลงบรรได <<-->> His Excellency is about to descend the stairs. <<-->> similartity = 0.305402\n",
      "index=990: count=4: นายจะบอกอะไรฉัน <<-->> What's good about it? <<-->> similartity = 0.306461\n",
      "index=1033: count=5: แกคงหดอยู่บนรถ ถ้าฉันซัดแกใช่ไหม <<-->> Is the lorry in case someone hits back? <<-->> similartity = 0.309055\n",
      "index=1222: count=6: เพื่ออะไ <<-->> What for? <<-->> similartity = 0.306192\n",
      "index=1230: count=7: ฉันรู้ ฉันเคยมีความรู้สึกแบบนั้น <<-->> I know. I've seen you making eyes. <<-->> similartity = 0.300097\n",
      "index=1500: count=8: เชิญ <<-->> Proceed! <<-->> similartity = 0.307147\n",
      "index=1639: count=9: ท่านผู้นำเหรอ <<-->> His Excellency? <<-->> similartity = 0.306147\n",
      "index=1851: count=10: แน่นอน เชิญ <<-->> Of course, this way. <<-->> similartity = 0.307304\n",
      "Total =  16864\n",
      "\n",
      "------\n",
      "\n",
      "similarity > 0.310 and similarity <= 0.320\n",
      "index=695: count=1: ดีลาก่อน, กรัมปี <<-->> Good-bye, Grumpy! <<-->> similartity = 0.316172\n",
      "index=930: count=2: ฉันก็คิดว่าฉันต้องเลิกแล้ว <<-->> I shan't need this any more. <<-->> similartity = 0.314470\n",
      "index=942: count=3: ต้องรีบส่งสาร.. <<-->> The dispatches... <<-->> similartity = 0.313517\n",
      "index=1062: count=4: เชื่อคุณจริงๆ <<-->> I appreciate that. <<-->> similartity = 0.310879\n",
      "index=1279: count=5: หยุดพิมพ์ <<-->> Full stop. <<-->> similartity = 0.312919\n",
      "index=1360: count=6: ทำไมเป็นงั้น <<-->> Is that so? <<-->> similartity = 0.310876\n",
      "index=1419: count=7: ตายก็ตายครั้งเดียว <<-->> We might as well die as live like this. <<-->> similartity = 0.314320\n",
      "index=1468: count=8: ชูลท์ซ เขาคิดจะทำอะไรนะ <<-->> What does this Schultz want of us? <<-->> similartity = 0.319064\n",
      "index=1499: count=9: สุภาพบุรุษ ถึงเวลาของ พุดดิ้งเกียรติยศแล้ว <<-->> Gentlemen, we have pledged our honor. <<-->> similartity = 0.313747\n",
      "index=1571: count=10: เวลานี้ไม่เหมาะ <<-->> Take this. <<-->> similartity = 0.313194\n",
      "Total =  17772\n",
      "\n",
      "------\n",
      "\n",
      "similarity > 0.320 and similarity <= 0.330\n",
      "index=508: count=1: ไม่ได้รับไม่ได้รับการขึ้นไม่ได้ รับ <<-->> Don't, don't, don't, don't get excited! Don't get... <<-->> similartity = 0.329630\n",
      "index=864: count=2: เฮ้แก ให้เร็วเลย <<-->> Hey you, come on! <<-->> similartity = 0.329951\n",
      "index=906: count=3: ประมาณ11.59 <<-->> Approximately one minute to twelve. <<-->> similartity = 0.327093\n",
      "index=950: count=4: อำนาจเป็นของเฮนเคิล ทหารยิวคนนั้น <<-->> Hynkel takes power. <<-->> similartity = 0.324744\n",
      "index=1004: count=5: บางทีคุณอาจถูก มันอาจเป็นฟ้าหลังฝน <<-->> Perhaps you're right. Not such a good morning after all. <<-->> similartity = 0.324718\n",
      "index=1113: count=6: ผบ.ซูลทซ์ <<-->> Commander Schultz! <<-->> similartity = 0.324547\n",
      "index=1372: count=7: ข่าวร้ายครับ การบุก ออสตินลิค ถูกเลื่อนออกไป <<-->> Bad news. The invasion of Osterlich will have to be delayed. <<-->> similartity = 0.326679\n",
      "index=1374: count=8: เอฟสติน ยกเลิกการเจรจากู้ยืนเงิน <<-->> Epstein refuses to lend the money. <<-->> similartity = 0.326012\n",
      "index=1384: count=9: ไปสนุกกันให้เต็มที่ ในชุมชนยิว <<-->> A little mediaeval entertainment in the ghetto! <<-->> similartity = 0.325040\n",
      "index=1503: count=10: ใครทำอย่างนี้ <<-->> Somebody made a fool of us. <<-->> similartity = 0.321109\n",
      "Total =  18695\n",
      "\n",
      "------\n",
      "\n",
      "similarity > 0.330 and similarity <= 0.340\n",
      "index=165: count=1: และมีความสุขด้วยกัน เราสามารถเป็นระเบียบ เรียบร้อยขึ้นสถานที่ <<-->> Аnd сheerfully together we сan tidy uр the рlaсe <<-->> similartity = 0.330116\n",
      "index=850: count=2: ท่านครับ เราโดนโจมตีแล้วครับ มันตีฝ่าถึงแนวหน้าแล้ว <<-->> Sir, the enemy have broken through. Every man to the front. <<-->> similartity = 0.333786\n",
      "index=865: count=3: เรียบ... อาวุธ <<-->> Order arms! <<-->> similartity = 0.333767\n",
      "index=940: count=4: เราอยู่บนพื้น ต้องรีบส่งสาร <<-->> We've landed! Dispatches! <<-->> similartity = 0.334000\n",
      "index=1314: count=5: คัดชื่อพวกมันออก <<-->> Then wipe them out! <<-->> similartity = 0.333019\n",
      "index=1365: count=6: ที่รักของฉัน ดูมือเธอสิ <<-->> My dear! Those hands! What's the matter with them? <<-->> similartity = 0.335180\n",
      "index=1401: count=7: ท่านผู้นำ นี่สุทรพจน์ของท่าน <<-->> Excellency, here are the notes for your speech. <<-->> similartity = 0.336792\n",
      "index=1476: count=8: สุภาพบุรุษ ผมขอให้เขา ปล่อยตัวผมชั่วคราว <<-->> Gentlemen, may I claim your indulgence for a moment? <<-->> similartity = 0.338302\n",
      "index=1580: count=9: ถุงกอร์ฟฉัน ไม่...  <<-->> My golf clubs, not my golf clubs! <<-->> similartity = 0.336889\n",
      "index=1638: count=10: คุณจะไปตีกอร์ฟหรอครับ <<-->> You went round in 92? <<-->> similartity = 0.339842\n",
      "Total =  19996\n",
      "\n",
      "------\n",
      "\n",
      "similarity > 0.340 and similarity <= 0.350\n",
      "index=115: count=1: เมื่อเม็ดฝ? นมาไม้ลอย <<-->> When raindroрs сome tumbling <<-->> similartity = 0.349545\n",
      "index=617: count=2: ฉัน หมายถึง <<-->> No, no! I mean... <<-->> similartity = 0.346281\n",
      "index=918: count=3: น้ำหายไปไหน <<-->> It's all gone. <<-->> similartity = 0.344998\n",
      "index=1198: count=4: ครับท่าน <<-->> Yes. <<-->> similartity = 0.344169\n",
      "index=1259: count=5: ฉันสงสัยว่า ฉันมีเคราตั้งแต่เมื่อไหร่ <<-->> I wonder why women never grow whiskers. <<-->> similartity = 0.345951\n",
      "index=1276: count=6: ไม่มีบทลงโทษ ฉันรักที่มันสงบสุข <<-->> With all the persecution, I still love it here. <<-->> similartity = 0.342265\n",
      "index=1398: count=7: ไอ้ทรยศ กบฏ <<-->> Traitor! Traitor! <<-->> similartity = 0.346253\n",
      "index=1487: count=8: เอ้า.. <<-->> Why? <<-->> similartity = 0.340643\n",
      "index=1526: count=9: สายลับเหรอ <<-->> Spies? <<-->> similartity = 0.342126\n",
      "index=1532: count=10: เถียงซักคำไหม <<-->> Am I arguing? <<-->> similartity = 0.340440\n",
      "Total =  20617\n",
      "\n",
      "------\n",
      "\n",
      "similarity > 0.350 and similarity <= 0.360\n",
      "index=29: count=1: ในสิ่งที่ดีในสิ่งที่ดี <<-->> The niсe things -The niсe things <<-->> similartity = 0.355559\n",
      "index=818: count=2: ดีลาก่อน, กรัมปี <<-->> Good-bye, Grumpy. <<-->> similartity = 0.354379\n",
      "index=840: count=3: ไปตรวจฉนวน <<-->> Check the fuse. <<-->> similartity = 0.358029\n",
      "index=909: count=4: ฉันคอแห้งมาก <<-->> Water. Quick, I'm going to faint. <<-->> similartity = 0.357707\n",
      "index=1014: count=5: คุณจะเอาอะไรอีกไหม <<-->> You need some more. <<-->> similartity = 0.357274\n",
      "index=1024: count=6: เฮ้ รถมาแล้ว <<-->> Hey, the lorry. <<-->> similartity = 0.350974\n",
      "index=1181: count=7: ไม่เห็นด้วยกับอะไร <<-->> Dissenting about? <<-->> similartity = 0.357531\n",
      "index=1387: count=8: จริงหรอ <<-->> Indeed? <<-->> similartity = 0.350253\n",
      "index=1472: count=9: ฉันรู้ แต่ชูลท์ซ เป่าหูพวกเรา <<-->> I know it but Schultz has them all hypnotized. <<-->> similartity = 0.358085\n",
      "index=1511: count=10: หนังสือพิมพ์บอกว่า ชูลท์ซ อยู่ในชุมชนยิว <<-->> The papers say Schultz may be in the ghetto. <<-->> similartity = 0.359958\n",
      "Total =  22382\n",
      "\n",
      "------\n",
      "\n",
      "similarity > 0.360 and similarity <= 0.370\n",
      "index=401: count=1: ฉันเตือน 'ยา <<-->> I'm warnin' ya. <<-->> similartity = 0.368676\n",
      "index=490: count=2: พวงของแพะพี่เลี้ยงเก่า ยาทำให้ฉันรู้สึกแย่ไป <<-->> Bunch of old nanny goats. <<-->> similartity = 0.361982\n",
      "index=639: count=3: สาธุ <<-->> Amen. <<-->> similartity = 0.366009\n",
      "index=869: count=4: ข้าศึก เร็วเข้า จัดการมัน <<-->> The enemy! Come on, let's get him! <<-->> similartity = 0.361535\n",
      "index=937: count=5: ช่างหวาน ฮินดาที่รัก <<-->> Sweet, gentle Hilda. <<-->> similartity = 0.365789\n",
      "index=1543: count=6: เขาจะต้องถามใครซักคน <<-->> They're always looking for somebody. <<-->> similartity = 0.368370\n",
      "index=1671: count=7: เรื่องง่ายๆ <<-->> At ease! <<-->> similartity = 0.363450\n",
      "index=1751: count=8: ไม้ขีด <<-->> Match. <<-->> similartity = 0.369267\n",
      "index=1763: count=9: ถ่อมตัวจริงๆ <<-->> Modesty forbids. <<-->> similartity = 0.369717\n",
      "index=1852: count=10: สุภาษิตของ โทไมเนีย บทหนึ่ง.. <<-->> There's a Tomainian proverb... <<-->> similartity = 0.365279\n",
      "Total =  23330\n",
      "\n",
      "------\n",
      "\n",
      "similarity > 0.370 and similarity <= 0.380\n",
      "index=30: count=1: เราจะบอกว่าเราจะพูดว่า <<-->> Нe'll say -Нe'll say <<-->> similartity = 0.379903\n",
      "index=417: count=2: คแรปล ดัมกินส <<-->> Crapple dumpkins. <<-->> similartity = 0.372595\n",
      "index=641: count=3: และกรุณ? าโทรกรัมปี เหมือนฉัน <<-->> And please make Grumpy like me. <<-->> similartity = 0.372399\n",
      "index=670: count=4: เต็มรูปแบบของคาถา <<-->> The old Queen's a sly one, full of witchcraft. <<-->> similartity = 0.378025\n",
      "index=849: count=5: แกคิดว่านี้ม้าหมุนรึยังไง แกมันบ้าสิ้นดี <<-->> What do you think you're doing? Have you gone crazy? <<-->> similartity = 0.373250\n",
      "index=875: count=6: เฮ้ สหาย ช่วยฉันที <<-->> Comrade! Help! <<-->> similartity = 0.378621\n",
      "index=1054: count=7: ปล่อยเขาไปเถอะ เขาก็แค่ความจำเสื่อม <<-->> Let him go. It isn't a serious case. <<-->> similartity = 0.376736\n",
      "index=1137: count=8: เขาทำร้ายคนของผม ที่กำลังปฏิบัตหน้าที่ครับ <<-->> He resisted my men painting his windows. <<-->> similartity = 0.370148\n",
      "index=1385: count=9: ตอนนี้หรอครับ ผมว่า มันตลกสิ้นดี <<-->> At such a time I think it ill-advised. <<-->> similartity = 0.377589\n",
      "index=1449: count=10: เราจะไป ออสตินลิค ที่นั้นยังคงมีเสรี <<-->> We can go to Osterlich. That's still free. <<-->> similartity = 0.379439\n",
      "Total =  24984\n",
      "\n",
      "------\n",
      "\n",
      "similarity > 0.380 and similarity <= 0.390\n",
      "index=481: count=1: กอบสบู่ ตอนนี้ไม่ได้พยายามที่ จะตรงไปตรงมา <<-->> Piсk uр the soaр Now don't try to bluff <<-->> similartity = 0.381724\n",
      "index=681: count=2: และให้แน่ใจว่าจะดูออกไปเพื่อ วาวา <<-->> And be sure to watch out... To wa... To wa... <<-->> similartity = 0.383039\n",
      "index=952: count=3: เฮนเคิลได้ปกครองประเทศ ด้วยผเด็จการ <<-->> Hynkel ruled the nation with an iron fist. <<-->> similartity = 0.382161\n",
      "index=1059: count=4: ที่นี้ถูกทิ้งร้าง <<-->> Leave that alone. <<-->> similartity = 0.380473\n",
      "index=1296: count=5: เฉพาะหัวหน้าหรอ <<-->> The leader? <<-->> similartity = 0.384236\n",
      "index=1380: count=6: มันจะได้รู้ว่าคนบ้าอำนาจนี้ ทำได้มากกว่าที่มันคิด <<-->> He'll deal with a mediaeval maniac more than he thinks! <<-->> similartity = 0.381236\n",
      "index=1382: count=7: ท่านผู้นำ <<-->> Your Excellency? <<-->> similartity = 0.380548\n",
      "index=1383: count=8: สั่งสารวัตรทหาร <<-->> Call out the storm troopers. <<-->> similartity = 0.388598\n",
      "index=1422: count=9: นี่เป็นคำสั่งของ ชูลท์ซ ห้ามยุ่งกับยิวในนี้ <<-->> Schultz gave strict orders not to molest anyone in this court. <<-->> similartity = 0.384921\n",
      "index=1749: count=10: ภรรยา คุณที่สถานีรถไฟ <<-->> Madam Napaloni at the station. <<-->> similartity = 0.389001\n",
      "Total =  26063\n",
      "\n",
      "------\n",
      "\n",
      "similarity > 0.390 and similarity <= 0.400\n",
      "index=144: count=1: อีเต้อ ถุงเท้ายาวเกินไป! <<-->> A pickaxe. A stocking, too! <<-->> similartity = 0.390710\n",
      "index=222: count=2: เฮ-โฮ, เฮ-โฮ, เฮ-โฮ, เฮ <<-->> Нeigh-ho, heigh-ho, heigh-ho, heigh... <<-->> similartity = 0.398003\n",
      "index=345: count=3: ฉันสงสัยว่าเ? ด็ก ๆ <<-->> I wonder if the children are... <<-->> similartity = 0.399660\n",
      "index=742: count=4: มันได้ไปแดฟีลูกดิ่ง <<-->> They've gone plumb daffy. <<-->> similartity = 0.390813\n",
      "index=1016: count=5: ส่งผ้าที่ร้านทำรองเท้า <<-->> Mrs. Shoemaker's laundry. <<-->> similartity = 0.395480\n",
      "index=1019: count=6: อารยัน เราเป็น อารยัน <<-->> Aryan! We're Aryans! <<-->> similartity = 0.390339\n",
      "index=1123: count=7: แปรขบวนแถว <<-->> Break ranks. <<-->> similartity = 0.395133\n",
      "index=1129: count=8: แปลก และผมมักคิดว่า. <<-->> Strange. And I always thought of you as an Aryan. <<-->> similartity = 0.396773\n",
      "index=1255: count=9: คนดีหลายๆคนจะบ๊องๆ มันเป็นตัวบ่งชี้ว่าคุณน่าหลงไหล <<-->> All great men are absent-minded. It's a sign you're smart. <<-->> similartity = 0.390605\n",
      "index=1275: count=10: ฉันไม่อยาไปจากที่นี่ <<-->> I don't want to go. <<-->> similartity = 0.397175\n",
      "Total =  27915\n",
      "\n",
      "------\n",
      "\n",
      "similarity > 0.400 and similarity <= 0.410\n",
      "index=380: count=1: ก็ก็ของฉันรักของฉัน ควินเสส ปริ๊นเซ <<-->> Well... Well, my, my dear Quincess... Princess. <<-->> similartity = 0.405332\n",
      "index=390: count=2: ใครรางน้ำ <<-->> Who's... Gutter... <<-->> similartity = 0.407372\n",
      "index=810: count=3: ที่น่าตื่นเต้นฉันผ่านจริงดังนั้น <<-->> Thrilling me through -So true <<-->> similartity = 0.401288\n",
      "index=855: count=4: เตรียมปะทะ ไปพร้อมๆกัน เร็วเข้า <<-->> Keep moving. Come along, hurry up! <<-->> similartity = 0.402629\n",
      "index=885: count=5: แขนของฉัน มันเจ็บ <<-->> Lift my hand to the stick. I haven't the strength. <<-->> similartity = 0.406754\n",
      "index=945: count=6: ฉันต้องไปพบ ผู้พัน ชเมลลาเฟอ <<-->> Take me to General Schmelloffel. <<-->> similartity = 0.400986\n",
      "index=963: count=7: รมต.มหาดไทย <<-->> Now Herr Garbitsch, Minister of the Interior. <<-->> similartity = 0.403889\n",
      "index=1046: count=8: ไม่รู้ สิ่งที่เขารู้คือ ร้านตัดผมของเขา <<-->> No. His one interest seems to be in his barbershop, which he believes he left a few weeks ago. <<-->> similartity = 0.400482\n",
      "index=1095: count=9: เราควรจะโต้ตอบบ้าง <<-->> We should all fight back. <<-->> similartity = 0.406985\n",
      "index=1116: count=10: โอ้ สภาพ. <<-->> Oh, never mind. <<-->> similartity = 0.407445\n",
      "Total =  29211\n",
      "\n",
      "------\n",
      "\n",
      "similarity > 0.410 and similarity <= 0.420\n",
      "index=208: count=1: สนีสี, ขี้เซา <<-->> Sneezy, Dopey... <<-->> similartity = 0.415672\n",
      "index=686: count=2: แต่ที่ผ่านมาวา <<-->> But that's the last... Wha... <<-->> similartity = 0.419549\n",
      "index=794: count=3: ฉันจะแก้ไขยา ฉันจะแก้ไขยา <<-->> I'll fix ya. I'll fix ya. <<-->> similartity = 0.412208\n",
      "index=856: count=4: ประทานโทษ ครับท่าน มันใช้ยังไงเหรอ.. <<-->> Pardon me, but to work this... <<-->> similartity = 0.414757\n",
      "index=890: count=5: ถ้าเราทำได้ <<-->> If we get them to General Schmelloffel, <<-->> similartity = 0.412645\n",
      "index=892: count=6: ฉันกำลังหมดสติ <<-->> I'm going to faint. <<-->> similartity = 0.411372\n",
      "index=979: count=7: เรื่องราวของท่านผู้นำ จะกลับมา พร้อมท่านผู้นำ เขาจะผ่านถนนแห่งเกียรติยศ เป็นผลงานที่ทันสมัย <<-->> His Excellency leaves the scene and will return along Hynkelstrasse, where he'll pass Tomainia's modern masterpieces <<-->> similartity = 0.412125\n",
      "index=1001: count=8: เสียดาย มันถูกทิ้งไว้เปล่าประโยชน์ ทั้งหมดนานมาก <<-->> A pity it should be idle all these years. <<-->> similartity = 0.411034\n",
      "index=1089: count=9: ฉันคิดว่าเป็นโก๋แถวนี้แหละ <<-->> I think it was a gang. <<-->> similartity = 0.417493\n",
      "index=1207: count=10: นายอาจไม่รู้ว่าเกิดอะไรขึ้น เพราะนายอยู่ใน รพ. ไม่ได้สติ <<-->> You weren't here, you were in the hospital, unconscious. <<-->> similartity = 0.415732\n",
      "Total =  31368\n",
      "\n",
      "------\n",
      "\n",
      "similarity > 0.420 and similarity <= 0.430\n",
      "index=478: count=1: ก้าวขึ้นไปอ่าง 'มันไม่ได้เป็นไม่ มีความอับอายขายหน้า <<-->> Steр uр to the tub 'Tain't no disgraсe <<-->> similartity = 0.426928\n",
      "index=814: count=2: สำหรับคุณคนเดียว <<-->> Onlу for you... <<-->> similartity = 0.424739\n",
      "index=1171: count=3: เรียก การ์บริทซ มานี่ <<-->> Send Garbitsch here. <<-->> similartity = 0.429770\n",
      "index=1184: count=4: ประชากรทำงานหนัก เขาต้องการความเห็นใจ <<-->> Nevertheless, the people are overworked. They need diversion. <<-->> similartity = 0.422361\n",
      "index=1343: count=5: บาร์ม' จังหวะฮังการี <<-->> Brahms' Hungarian Dance number five. <<-->> similartity = 0.425423\n",
      "index=1397: count=6: คุณเลวยิ่งกว่าโจร มันน่าเศร้าจริงๆ <<-->> Your policy is worse than a crime. It's a tragic blunder. <<-->> similartity = 0.428405\n",
      "index=1427: count=7: ฉันช่วยไม่ได้ คำสั่งเป็นคำสั่ง <<-->> I can't help it. Schultz's orders. <<-->> similartity = 0.425507\n",
      "index=1534: count=8: คุณทำอย่างนั้นไม่ได้ <<-->> You can't throw him out. <<-->> similartity = 0.425033\n",
      "index=1550: count=9: สารวัตรทหาร <<-->> The storm troopers. <<-->> similartity = 0.425488\n",
      "index=1663: count=10: ถ่ายรูปให้มันดีๆนะ ผู้นำสวะๆ ของเราอยากให้รูปออกมาดี <<-->> Tell the press to see that our Phooey is well photographed. <<-->> similartity = 0.425382\n",
      "Total =  33477\n",
      "\n",
      "------\n",
      "\n",
      "similarity > 0.430 and similarity <= 0.440\n",
      "index=238: count=1: มาสิ ชายไก่ ติดตามฉัน <<-->> Come on, hen... Men. Follow me. <<-->> similartity = 0.433389\n",
      "index=607: count=2: คุณพระช่วย! <<-->> Oh, my goodness! <<-->> similartity = 0.436998\n",
      "index=926: count=3: เป็นไปบ่ ได้ <<-->> Impossible. <<-->> similartity = 0.433314\n",
      "index=1073: count=4: ทำร้ายเจ้าหน้าที่ <<-->> Attacking a storm trooper! <<-->> similartity = 0.432062\n",
      "index=1188: count=5: ทำบางอย่างอาจจะเร้าใจกว่า เราพร้อมที่จะบุก ออสเตอริคไหม <<-->> Something more dramatic. When can we be ready to invade Osterlich? <<-->> similartity = 0.439919\n",
      "index=1204: count=6: ฉันไม่เค้าใจเลย อยู่ๆชุมชนยิวก็สงบสุข <<-->> I don't understand it. The whole ghetto is so quiet. <<-->> similartity = 0.431710\n",
      "index=1208: count=7: นายไม่ได้อยู่ดู สิ่งที่ดีที่สุดที่นายมี <<-->> You don't appreciate what a good time you were having. <<-->> similartity = 0.435460\n",
      "index=1242: count=8: ตอนนี้ฉันกำลังมองหาสิ่งนั้นอยู่ <<-->> Things are looking brighter now. <<-->> similartity = 0.434091\n",
      "index=1251: count=9: ทั้งบ๊องๆ <<-->> Both absent-minded. <<-->> similartity = 0.432706\n",
      "index=1268: count=10: ล้มง่ายจัง <<-->> Take it easy there. <<-->> similartity = 0.439303\n",
      "Total =  34633\n",
      "\n",
      "------\n",
      "\n",
      "similarity > 0.440 and similarity <= 0.450\n",
      "index=92: count=1: ไปได้ <<-->> Now, go. <<-->> similartity = 0.443631\n",
      "index=203: count=2: เฮ-โฮ, เฮ โฮ! เฮ-โฮ, เฮ-โฮ, เฮ โฮ! <<-->> Нeigh-ho, heigh-ho, heigh-ho Нeigh-ho, heigh-ho, heigh-ho... <<-->> similartity = 0.443192\n",
      "index=594: count=3: บางวันเจ้าชายของฉันจะมา <<-->> Some daу mу рrince will come <<-->> similartity = 0.441611\n",
      "index=677: count=4: ลาก่อน <<-->> Good-bye. <<-->> similartity = 0.449610\n",
      "index=682: count=5: เพื่อวา <<-->> To wa... <<-->> similartity = 0.448531\n",
      "index=698: count=6: บางวันเจ้าชายของฉันจะมา <<-->> Some daу mу рrince will come <<-->> similartity = 0.441611\n",
      "index=738: count=7: ไปในการแก้ไข! <<-->> Get away! Go on, shoo! <<-->> similartity = 0.445552\n",
      "index=851: count=8: พลปืนใหญ่ รวมพล <<-->> Muster the gun crew! <<-->> similartity = 0.445486\n",
      "index=905: count=9: มันใกล้จะหมด <<-->> Almost empty. <<-->> similartity = 0.446045\n",
      "index=969: count=10: เฮนเคิล ต้องอยู่กับเด็กๆ เป็นสนธิสัญญา ดับเบิล-คลอส <<-->> Hynkel's address to the children of the double-cross. <<-->> similartity = 0.443962\n",
      "Total =  36856\n",
      "\n",
      "------\n",
      "\n"
     ]
    }
   ],
   "source": [
    "for j, t in enumerate(threshold_list):\n",
    "    threashold = t\n",
    "    counter = 0\n",
    "    if j == 0:\n",
    "        prev_t = -1.0\n",
    "    else:\n",
    "        prev_t = threshold_list[j-1]\n",
    "    print('similarity > {:.3f} and similarity <= {:.3f}'.format(prev_t, t))\n",
    "\n",
    "    sentence_pairs_in_threshold['{:.3f}-{:.3f}'.format(prev_t, t)] = []\n",
    "#     with open(\"./logs/sentence_pairs.use_multilingual_1.sim_from_{:.3f}-to-{:.3f}.txt\".format(prev_t, t), 'w', encoding='utf-8') as f:\n",
    "    for i, sent in enumerate(cleaned_and_filtered_th):\n",
    "        similariry = sentences_pairs_similarities[i]\n",
    "        if similariry > prev_t and similariry <= threashold:\n",
    "            counter += 1\n",
    "            src_sent, tgt_sent = cleaned_and_filtered_th[i], cleaned_and_filtered_en[i]\n",
    "            string = \"index={}: count={}: {} <<-->> {} <<-->> similartity = {:4f}\".format(i, counter, src_sent, tgt_sent, similariry)\n",
    "#                 f.write(string + '\\n')\n",
    "            sentence_pairs_in_threshold['{:.3f}-{:.3f}'.format(prev_t, t)] .append((i, counter, src_sent, tgt_sent, similariry))\n",
    "            if counter <= 10:\n",
    "                print(string)\n",
    "    print('Total = ', counter)\n",
    "    print('\\n------\\n')\n",
    "                    \n",
    "                                        "
   ]
  },
  {
   "cell_type": "code",
   "execution_count": 104,
   "metadata": {},
   "outputs": [
    {
     "name": "stdout",
     "output_type": "stream",
     "text": [
      "- Similarity within a range of (-1.000, 0.000], Count: 21815 --- ([link](http://25.84.199.159:8889/view/mt-opus/notebooks/logs/sentence_pairs.use_multilingual_1.sim_from_-1.000-to-0.000.txt))\n",
      "- Similarity within a range of (0.000, 0.010], Count: 4196 --- ([link](http://25.84.199.159:8889/view/mt-opus/notebooks/logs/sentence_pairs.use_multilingual_1.sim_from_0.000-to-0.010.txt))\n",
      "- Similarity within a range of (0.010, 0.020], Count: 4552 --- ([link](http://25.84.199.159:8889/view/mt-opus/notebooks/logs/sentence_pairs.use_multilingual_1.sim_from_0.010-to-0.020.txt))\n",
      "- Similarity within a range of (0.020, 0.030], Count: 4889 --- ([link](http://25.84.199.159:8889/view/mt-opus/notebooks/logs/sentence_pairs.use_multilingual_1.sim_from_0.020-to-0.030.txt))\n",
      "- Similarity within a range of (0.030, 0.040], Count: 5201 --- ([link](http://25.84.199.159:8889/view/mt-opus/notebooks/logs/sentence_pairs.use_multilingual_1.sim_from_0.030-to-0.040.txt))\n",
      "- Similarity within a range of (0.040, 0.050], Count: 5382 --- ([link](http://25.84.199.159:8889/view/mt-opus/notebooks/logs/sentence_pairs.use_multilingual_1.sim_from_0.040-to-0.050.txt))\n",
      "- Similarity within a range of (0.050, 0.060], Count: 5801 --- ([link](http://25.84.199.159:8889/view/mt-opus/notebooks/logs/sentence_pairs.use_multilingual_1.sim_from_0.050-to-0.060.txt))\n",
      "- Similarity within a range of (0.060, 0.070], Count: 6078 --- ([link](http://25.84.199.159:8889/view/mt-opus/notebooks/logs/sentence_pairs.use_multilingual_1.sim_from_0.060-to-0.070.txt))\n",
      "- Similarity within a range of (0.070, 0.080], Count: 6199 --- ([link](http://25.84.199.159:8889/view/mt-opus/notebooks/logs/sentence_pairs.use_multilingual_1.sim_from_0.070-to-0.080.txt))\n",
      "- Similarity within a range of (0.080, 0.090], Count: 6289 --- ([link](http://25.84.199.159:8889/view/mt-opus/notebooks/logs/sentence_pairs.use_multilingual_1.sim_from_0.080-to-0.090.txt))\n",
      "- Similarity within a range of (0.090, 0.100], Count: 6322 --- ([link](http://25.84.199.159:8889/view/mt-opus/notebooks/logs/sentence_pairs.use_multilingual_1.sim_from_0.090-to-0.100.txt))\n",
      "- Similarity within a range of (0.100, 0.110], Count: 6601 --- ([link](http://25.84.199.159:8889/view/mt-opus/notebooks/logs/sentence_pairs.use_multilingual_1.sim_from_0.100-to-0.110.txt))\n",
      "- Similarity within a range of (0.110, 0.120], Count: 6712 --- ([link](http://25.84.199.159:8889/view/mt-opus/notebooks/logs/sentence_pairs.use_multilingual_1.sim_from_0.110-to-0.120.txt))\n",
      "- Similarity within a range of (0.120, 0.130], Count: 6927 --- ([link](http://25.84.199.159:8889/view/mt-opus/notebooks/logs/sentence_pairs.use_multilingual_1.sim_from_0.120-to-0.130.txt))\n",
      "- Similarity within a range of (0.130, 0.140], Count: 6985 --- ([link](http://25.84.199.159:8889/view/mt-opus/notebooks/logs/sentence_pairs.use_multilingual_1.sim_from_0.130-to-0.140.txt))\n",
      "- Similarity within a range of (0.140, 0.150], Count: 7544 --- ([link](http://25.84.199.159:8889/view/mt-opus/notebooks/logs/sentence_pairs.use_multilingual_1.sim_from_0.140-to-0.150.txt))\n",
      "- Similarity within a range of (0.150, 0.160], Count: 7717 --- ([link](http://25.84.199.159:8889/view/mt-opus/notebooks/logs/sentence_pairs.use_multilingual_1.sim_from_0.150-to-0.160.txt))\n",
      "- Similarity within a range of (0.160, 0.170], Count: 7851 --- ([link](http://25.84.199.159:8889/view/mt-opus/notebooks/logs/sentence_pairs.use_multilingual_1.sim_from_0.160-to-0.170.txt))\n",
      "- Similarity within a range of (0.170, 0.180], Count: 8259 --- ([link](http://25.84.199.159:8889/view/mt-opus/notebooks/logs/sentence_pairs.use_multilingual_1.sim_from_0.170-to-0.180.txt))\n",
      "- Similarity within a range of (0.180, 0.190], Count: 8560 --- ([link](http://25.84.199.159:8889/view/mt-opus/notebooks/logs/sentence_pairs.use_multilingual_1.sim_from_0.180-to-0.190.txt))\n",
      "- Similarity within a range of (0.190, 0.200], Count: 9100 --- ([link](http://25.84.199.159:8889/view/mt-opus/notebooks/logs/sentence_pairs.use_multilingual_1.sim_from_0.190-to-0.200.txt))\n",
      "- Similarity within a range of (0.200, 0.210], Count: 9429 --- ([link](http://25.84.199.159:8889/view/mt-opus/notebooks/logs/sentence_pairs.use_multilingual_1.sim_from_0.200-to-0.210.txt))\n",
      "- Similarity within a range of (0.210, 0.220], Count: 10012 --- ([link](http://25.84.199.159:8889/view/mt-opus/notebooks/logs/sentence_pairs.use_multilingual_1.sim_from_0.210-to-0.220.txt))\n",
      "- Similarity within a range of (0.220, 0.230], Count: 10586 --- ([link](http://25.84.199.159:8889/view/mt-opus/notebooks/logs/sentence_pairs.use_multilingual_1.sim_from_0.220-to-0.230.txt))\n",
      "- Similarity within a range of (0.230, 0.240], Count: 11549 --- ([link](http://25.84.199.159:8889/view/mt-opus/notebooks/logs/sentence_pairs.use_multilingual_1.sim_from_0.230-to-0.240.txt))\n",
      "- Similarity within a range of (0.240, 0.250], Count: 11603 --- ([link](http://25.84.199.159:8889/view/mt-opus/notebooks/logs/sentence_pairs.use_multilingual_1.sim_from_0.240-to-0.250.txt))\n",
      "- Similarity within a range of (0.250, 0.260], Count: 12112 --- ([link](http://25.84.199.159:8889/view/mt-opus/notebooks/logs/sentence_pairs.use_multilingual_1.sim_from_0.250-to-0.260.txt))\n",
      "- Similarity within a range of (0.260, 0.270], Count: 13329 --- ([link](http://25.84.199.159:8889/view/mt-opus/notebooks/logs/sentence_pairs.use_multilingual_1.sim_from_0.260-to-0.270.txt))\n",
      "- Similarity within a range of (0.270, 0.280], Count: 13796 --- ([link](http://25.84.199.159:8889/view/mt-opus/notebooks/logs/sentence_pairs.use_multilingual_1.sim_from_0.270-to-0.280.txt))\n",
      "- Similarity within a range of (0.280, 0.290], Count: 14656 --- ([link](http://25.84.199.159:8889/view/mt-opus/notebooks/logs/sentence_pairs.use_multilingual_1.sim_from_0.280-to-0.290.txt))\n",
      "- Similarity within a range of (0.290, 0.300], Count: 15253 --- ([link](http://25.84.199.159:8889/view/mt-opus/notebooks/logs/sentence_pairs.use_multilingual_1.sim_from_0.290-to-0.300.txt))\n",
      "- Similarity within a range of (0.300, 0.310], Count: 16864 --- ([link](http://25.84.199.159:8889/view/mt-opus/notebooks/logs/sentence_pairs.use_multilingual_1.sim_from_0.300-to-0.310.txt))\n",
      "- Similarity within a range of (0.310, 0.320], Count: 17772 --- ([link](http://25.84.199.159:8889/view/mt-opus/notebooks/logs/sentence_pairs.use_multilingual_1.sim_from_0.310-to-0.320.txt))\n",
      "- Similarity within a range of (0.320, 0.330], Count: 18695 --- ([link](http://25.84.199.159:8889/view/mt-opus/notebooks/logs/sentence_pairs.use_multilingual_1.sim_from_0.320-to-0.330.txt))\n",
      "- Similarity within a range of (0.330, 0.340], Count: 19996 --- ([link](http://25.84.199.159:8889/view/mt-opus/notebooks/logs/sentence_pairs.use_multilingual_1.sim_from_0.330-to-0.340.txt))\n",
      "- Similarity within a range of (0.340, 0.350], Count: 20617 --- ([link](http://25.84.199.159:8889/view/mt-opus/notebooks/logs/sentence_pairs.use_multilingual_1.sim_from_0.340-to-0.350.txt))\n",
      "- Similarity within a range of (0.350, 0.360], Count: 22382 --- ([link](http://25.84.199.159:8889/view/mt-opus/notebooks/logs/sentence_pairs.use_multilingual_1.sim_from_0.350-to-0.360.txt))\n",
      "- Similarity within a range of (0.360, 0.370], Count: 23330 --- ([link](http://25.84.199.159:8889/view/mt-opus/notebooks/logs/sentence_pairs.use_multilingual_1.sim_from_0.360-to-0.370.txt))\n",
      "- Similarity within a range of (0.370, 0.380], Count: 24984 --- ([link](http://25.84.199.159:8889/view/mt-opus/notebooks/logs/sentence_pairs.use_multilingual_1.sim_from_0.370-to-0.380.txt))\n",
      "- Similarity within a range of (0.380, 0.390], Count: 26063 --- ([link](http://25.84.199.159:8889/view/mt-opus/notebooks/logs/sentence_pairs.use_multilingual_1.sim_from_0.380-to-0.390.txt))\n",
      "- Similarity within a range of (0.390, 0.400], Count: 27915 --- ([link](http://25.84.199.159:8889/view/mt-opus/notebooks/logs/sentence_pairs.use_multilingual_1.sim_from_0.390-to-0.400.txt))\n",
      "- Similarity within a range of (0.400, 0.410], Count: 29211 --- ([link](http://25.84.199.159:8889/view/mt-opus/notebooks/logs/sentence_pairs.use_multilingual_1.sim_from_0.400-to-0.410.txt))\n",
      "- Similarity within a range of (0.410, 0.420], Count: 31368 --- ([link](http://25.84.199.159:8889/view/mt-opus/notebooks/logs/sentence_pairs.use_multilingual_1.sim_from_0.410-to-0.420.txt))\n",
      "- Similarity within a range of (0.420, 0.430], Count: 33477 --- ([link](http://25.84.199.159:8889/view/mt-opus/notebooks/logs/sentence_pairs.use_multilingual_1.sim_from_0.420-to-0.430.txt))\n",
      "- Similarity within a range of (0.430, 0.440], Count: 34633 --- ([link](http://25.84.199.159:8889/view/mt-opus/notebooks/logs/sentence_pairs.use_multilingual_1.sim_from_0.430-to-0.440.txt))\n",
      "- Similarity within a range of (0.440, 0.450], Count: 36856 --- ([link](http://25.84.199.159:8889/view/mt-opus/notebooks/logs/sentence_pairs.use_multilingual_1.sim_from_0.440-to-0.450.txt))\n"
     ]
    }
   ],
   "source": [
    "for threshold, sent_pairs in sentence_pairs_in_threshold.items():\n",
    "    obj = re.compile(r'([-]*\\d\\.\\d\\d\\d)-(\\d\\.\\d\\d\\d)')\n",
    "    if obj.search(threshold):\n",
    "#         print(threshold)\n",
    "        prev_t, t = obj.search(threshold).group(1), obj.search(threshold).group(2)\n",
    "#         print(prev_t, t)\n",
    "        count = len(sent_pairs)\n",
    "        print('- Similarity within a range of ({}, {}], Count: {} --- ([link](http://25.84.199.159:8889/view/mt-opus/notebooks/logs/sentence_pairs.use_multilingual_1.sim_from_{}-to-{}.txt))'.format(prev_t, t,count, prev_t, t))"
   ]
  },
  {
   "cell_type": "code",
   "execution_count": null,
   "metadata": {},
   "outputs": [],
   "source": []
  },
  {
   "cell_type": "code",
   "execution_count": null,
   "metadata": {},
   "outputs": [],
   "source": []
  },
  {
   "cell_type": "code",
   "execution_count": 68,
   "metadata": {},
   "outputs": [],
   "source": [
    "with open('../data/opensubtitle_v2018/sent.cleaned.v1.th', 'w') as f:\n",
    "    for sent in cleaned_and_filtered_th:\n",
    "        f.write(sent + '\\n')\n",
    "        \n",
    "with open('../data/opensubtitle_v2018/sent.cleaned.v1.en', 'w') as f:\n",
    "    for sent in cleaned_and_filtered_en:\n",
    "        f.write(sent + '\\n')\n",
    "\n"
   ]
  },
  {
   "cell_type": "code",
   "execution_count": null,
   "metadata": {},
   "outputs": [],
   "source": [
    "# Split sentence\n",
    "N = len(cleaned_and_filtered_th)\n",
    "\n",
    "print('N = ',N)\n",
    "idx = list(range(N))\n",
    "\n",
    "random.seed(1234) # Set SEED\n",
    "random.shuffle(idx)\n",
    "\n",
    "train_idx, test_idx = idx[:int(n*0.8)], idx[int(n*0.9):]\n",
    "\n",
    "dataset_split = {}\n",
    "cleaned_and_filtered_th_train = [cleaned_and_filtered_th[i] for i in train_idx]\n",
    "cleaned_and_filtered_th_test = [cleaned_and_filtered_th[i] for i in test_idx]\n",
    "cleaned_and_filtered_en_train = [cleaned_and_filtered_en[i] for i in train_idx]\n",
    "cleaned_and_filtered_en_test =[cleaned_and_filtered_en[i] for i in test_idx]"
   ]
  },
  {
   "cell_type": "code",
   "execution_count": null,
   "metadata": {},
   "outputs": [],
   "source": [
    "with open('../data/opensubtitle_v2018/sent.cleaned.v1.train.th', 'w') as f:\n",
    "    for sent in cleaned_and_filtered_th_train:\n",
    "        f.write(sent + '\\n')\n",
    "with open('../data/opensubtitle_v2018/sent.cleaned.v1.test.th', 'w') as f:\n",
    "    for sent in cleaned_and_filtered_th_test:\n",
    "        f.write(sent + '\\n')     \n",
    "with open('../data/opensubtitle_v2018/sent.cleaned.v1.train.en', 'w') as f:\n",
    "    for sent in cleaned_and_filtered_en_train:\n",
    "        f.write(sent + '\\n')\n",
    "with open('../data/opensubtitle_v2018/sent.cleaned.v1.test.en', 'w') as f:\n",
    "    for sent in cleaned_and_filtered_en_test:\n",
    "        f.write(sent + '\\n')\n",
    "\n"
   ]
  },
  {
   "cell_type": "code",
   "execution_count": null,
   "metadata": {},
   "outputs": [],
   "source": []
  },
  {
   "cell_type": "markdown",
   "metadata": {},
   "source": [
    "## 1.2 Text Segmentation (word, subword)\n"
   ]
  },
  {
   "cell_type": "code",
   "execution_count": 31,
   "metadata": {},
   "outputs": [],
   "source": [
    "# define functions for newmm tokenization\n",
    "\n",
    "def tokenize_worker(sentence, lang, trie):\n",
    "    \n",
    "    _tokenizer_newmm = partial(pythainlp.tokenize.word_tokenize, engine='newmm',\n",
    "                               keep_whitespace=False,\n",
    "                              custom_dict=(trie if trie != None else DEFAULT_DICT_TRIE))\n",
    "    return ' '.join(_tokenizer_newmm(sentence))\n",
    "  \n",
    "def tokenize_handler(sentences, lang, trie=None):\n",
    "    toks = []\n",
    "    p = Pool(6)\n",
    "    t = time()\n",
    "    _tokenize_worker = partial(tokenize_worker, lang=lang, trie=trie)\n",
    "    toks = p.map(_tokenize_worker, sentences)\n",
    "    \n",
    "    p.close()\n",
    "    p.join() # call Pool.join() to wait for the worker processes to terminate.\n",
    "\n",
    "    print('{} s'.format(time() -t))\n",
    "\n",
    "    return toks\n",
    "  "
   ]
  },
  {
   "cell_type": "code",
   "execution_count": 32,
   "metadata": {},
   "outputs": [],
   "source": [
    "def write_spaced_tokens_to_file(data, folder_name, filename):\n",
    "    with open('/root/mt-opus/data/{}/{}'.format(folder_name, filename),'w') as f:\n",
    "        for item in data:\n",
    "            f.write(item + '\\n')\n",
    "            \n",
    "            "
   ]
  },
  {
   "cell_type": "code",
   "execution_count": 33,
   "metadata": {},
   "outputs": [],
   "source": [
    "toks = {\n",
    "    'th': {\n",
    "        'sentencepiece': [],\n",
    "        'newmm':[]\n",
    "    },\n",
    "    'en': {\n",
    "        'sentencepiece': [],\n",
    "        'newmm':[]\n",
    "    }\n",
    "}"
   ]
  },
  {
   "cell_type": "markdown",
   "metadata": {},
   "source": [
    "### 1a) Segment text into words with a dictionary-based tokenizer (`newmm`)"
   ]
  },
  {
   "cell_type": "code",
   "execution_count": 34,
   "metadata": {},
   "outputs": [
    {
     "name": "stdout",
     "output_type": "stream",
     "text": [
      "80.45962905883789 s\n",
      "63.490153074264526 s\n"
     ]
    }
   ],
   "source": [
    "# Thai\n",
    "toks['th']['newmm'] = tokenize_handler(filtered_th, lang='th')\n",
    "# English\n",
    "toks['en']['newmm'] = tokenize_handler(filtered_en, lang='en')\n"
   ]
  },
  {
   "cell_type": "code",
   "execution_count": 107,
   "metadata": {},
   "outputs": [
    {
     "data": {
      "text/plain": [
       "(['ทาส ใน กระจก วิเศษ , มาจาก พื้นที่ ที่ ไกล ที่สุด',\n",
       "  'ผ่าน ลม และ ความมืด ฉัน เรียก เจ้า',\n",
       "  'พูด !',\n",
       "  'ให้ ฉัน เห็น พระพักตร์ ของ พระองค์',\n",
       "  'สิ่ง ที่ เจ้า จะ รู้ ว่า สมเด็จ พระราชินี ของ ฉัน ได้ อย่างไร',\n",
       "  'กระจก วิเศษ บน ผนัง ผู้ ที่ เป็น สังขาร หนึ่ง ทั้งหมด หรือไม่',\n",
       "  'ที่ มีชื่อเสียง เป็น ความงาม ของ เจ้า พระ บาท สมเด็จ พระเจ้าอยู่หัว',\n",
       "  'แต่ ถือเป็น แม่บ้าน ที่ น่ารัก ที่ ฉัน เห็น',\n",
       "  'ยาจก ไม่ สามารถ ซ่อน พระคุณ อ่อนโยน ของ เธอ',\n",
       "  'อนิจจา เธอ มี ความเป็นธรรม มากขึ้น กว่า เจ้า'],\n",
       " ['Slave in the Magic Mirror , come from the farthest space .',\n",
       "  'Through wind and darkness , I summon thee .',\n",
       "  'Speak !',\n",
       "  'Let me see thy face .',\n",
       "  'What wouldst thou know , my Queen ?',\n",
       "  'Magic Mirror on the wall , who is the fairest one of all ?',\n",
       "  'Famed is thy beauty , Majesty .',\n",
       "  'But hold , a lovely maid I see .',\n",
       "  'Rags cannot hide her gentle grace .',\n",
       "  'Alas , she is more fair than thee .'])"
      ]
     },
     "execution_count": 107,
     "metadata": {},
     "output_type": "execute_result"
    }
   ],
   "source": [
    "toks['th']['newmm'][0:10], toks['en']['newmm'][0:10]"
   ]
  },
  {
   "cell_type": "code",
   "execution_count": null,
   "metadata": {},
   "outputs": [],
   "source": []
  },
  {
   "cell_type": "markdown",
   "metadata": {},
   "source": [
    "### 1b) Segment text into subword (ie. BPE tokens) with Pretrained SentencePiece (`BPEmb`)\n"
   ]
  },
  {
   "cell_type": "code",
   "execution_count": 108,
   "metadata": {},
   "outputs": [],
   "source": [
    "def encode_bpe(sentences, lang, n_vocab=25000):\n",
    "    \"\"\"Return a list of bpe tokens give a list of sentences\"\"\"\n",
    "    segmented_sentences = []\n",
    "    for sentence in tqdm_notebook(sentences, total=len(sentences)):\n",
    "#         print(sentence)\n",
    "        bpe_tokens = bpemb_pretrained[lang]['{}'.format(n_vocab)].encode(sentence)\n",
    "        segmented_sentences.append(' '.join(bpe_tokens))\n",
    "        \n",
    "    return segmented_sentences"
   ]
  },
  {
   "cell_type": "markdown",
   "metadata": {},
   "source": [
    "__Thai language__"
   ]
  },
  {
   "cell_type": "code",
   "execution_count": 109,
   "metadata": {},
   "outputs": [
    {
     "data": {
      "application/vnd.jupyter.widget-view+json": {
       "model_id": "1ce4eb5e8cbe469886307235a01f1dcc",
       "version_major": 2,
       "version_minor": 0
      },
      "text/plain": [
       "HBox(children=(IntProgress(value=0, max=3202751), HTML(value='')))"
      ]
     },
     "metadata": {},
     "output_type": "display_data"
    },
    {
     "name": "stdout",
     "output_type": "stream",
     "text": [
      "\n",
      "['▁ท าส ใน กระจก วิเศษ , ▁มาจาก พื้นที่ ที่ ไกล ที่สุด', '▁ผ่าน ลม และความ มืด ฉัน เรียก เจ้า', '▁พูด !', '▁ให้ ฉัน เห็น พระพักตร์ ของ ▁พระองค์', '▁สิ่งที่ เจ้า จะ รู้ว่า สมเด็จพระราชินี ▁ของ ฉัน ได้อย่างไร', '▁กระจ ก วิเศษ บน ผนัง ▁ผู้ ที่เป็น สัง ขาร หนึ่ง ทั้งหมด ▁หรือไม่', '▁ที่มีชื่อเสียง เป็น ความงาม ของ ▁เจ้า พระบาทสมเด็จพระ เจ้าอยู่หัว', '▁แต่ ถือเป็น แม่ บ้าน ที่น ่ารัก ที่ ฉัน ▁เห็น', '▁ยา จก ไม่สามารถ ซ่อน พระคุณ ▁อ่อน โยน ของเธอ', '▁อน ิจ จา เธอ มีความเป็น ธรรม ▁มาก ขึ้น กว่า เจ้า']\n"
     ]
    }
   ],
   "source": [
    "toks['th']['sentencepiece'] = encode_bpe(filtered_th, 'th', 25000)\n",
    "\n",
    "print(toks['th']['sentencepiece'][0:10])"
   ]
  },
  {
   "cell_type": "markdown",
   "metadata": {},
   "source": [
    "__English language__"
   ]
  },
  {
   "cell_type": "code",
   "execution_count": 110,
   "metadata": {},
   "outputs": [
    {
     "data": {
      "application/vnd.jupyter.widget-view+json": {
       "model_id": "4a0ac2a9e16c4fe0814a82c713b07a92",
       "version_major": 2,
       "version_minor": 0
      },
      "text/plain": [
       "HBox(children=(IntProgress(value=0, max=3202751), HTML(value='')))"
      ]
     },
     "metadata": {},
     "output_type": "display_data"
    },
    {
     "name": "stdout",
     "output_type": "stream",
     "text": [
      "\n",
      "['▁slave ▁in ▁the ▁magic ▁mirror , ▁come ▁from ▁the ▁fart hest ▁space .', '▁through ▁wind ▁and ▁darkness , ▁i ▁summon ▁the e .', '▁speak !', '▁let ▁me ▁see ▁thy ▁face .', '▁what ▁would st ▁thou ▁know , ▁my ▁queen ?', '▁magic ▁mirror ▁on ▁the ▁wall , ▁who ▁is ▁the ▁fa ire st ▁one ▁of ▁all ?', '▁famed ▁is ▁thy ▁beauty , ▁majesty .', '▁but ▁hold , ▁a ▁lov ely ▁maid ▁i ▁see .', '▁ra gs ▁cannot ▁hide ▁her ▁gentle ▁grace .', '▁al as , ▁she ▁is ▁more ▁fair ▁than ▁the e .']\n"
     ]
    }
   ],
   "source": [
    "toks['en']['sentencepiece']  = encode_bpe(filtered_en, 'en', 25000)\n",
    "print(toks['en']['sentencepiece'][0:10])"
   ]
  },
  {
   "cell_type": "markdown",
   "metadata": {},
   "source": [
    "### 1c) Segment text into subword (ie. BPE tokens) with SentencePiece model (unigram) trained from Opensubtitles_v2018 dataset\n",
    "\n",
    "### Build SentencePiece BPE "
   ]
  },
  {
   "cell_type": "code",
   "execution_count": 48,
   "metadata": {},
   "outputs": [
    {
     "name": "stdout",
     "output_type": "stream",
     "text": [
      "ERROR: --input must not be empty\n",
      "\n",
      "sentencepiece\n",
      "\n",
      "Usage: sentencepiece [options] files\n",
      "\n",
      "   --accept_language (comma-separated list of languages this model can accept)  type: string  default: \n",
      "   --add_dummy_prefix (Add dummy whitespace at the beginning of text)  type: bool  default: true\n",
      "   --bos_id (Override BOS (<s>) id. Set -1 to disable BOS.)  type: int32  default: 1\n",
      "   --bos_piece (Override BOS (<s>) piece.)  type: string  default: <s>\n",
      "   --character_coverage (character coverage to determine the minimum symbols)  type: double  default: 0.9995\n",
      "   --control_symbols (comma separated list of control symbols)  type: string  default: \n",
      "   --eos_id (Override EOS (</s>) id. Set -1 to disable EOS.)  type: int32  default: 2\n",
      "   --eos_piece (Override EOS (</s>) piece.)  type: string  default: </s>\n",
      "   --hard_vocab_limit (If set to false, --vocab_size is considered as a soft limit.)  type: bool  default: true\n",
      "   --input (comma separated list of input sentences)  type: string  default: \n",
      "   --input_format (Input format. Supported format is `text` or `tsv`.)  type: string  default: \n",
      "   --input_sentence_size (maximum size of sentences the trainer loads)  type: int32  default: 0\n",
      "   --max_sentence_length (maximum length of sentence in byte)  type: int32  default: 4192\n",
      "   --max_sentencepiece_length (maximum length of sentence piece)  type: int32  default: 16\n",
      "   --model_prefix (output model prefix)  type: string  default: \n",
      "   --model_type (model algorithm: unigram, bpe, word or char)  type: string  default: unigram\n",
      "   --normalization_rule_name (Normalization rule name. Choose from nfkc or identity)  type: string  default: nmt_nfkc\n",
      "   --normalization_rule_tsv (Normalization rule TSV file. )  type: string  default: \n",
      "   --num_sub_iterations (number of EM sub-iterations)  type: int32  default: 2\n",
      "   --num_threads (number of threads for training)  type: int32  default: 16\n",
      "   --pad_id (Override PAD (<pad>) id. Set -1 to disable PAD.)  type: int32  default: -1\n",
      "   --pad_piece (Override PAD (<pad>) piece.)  type: string  default: <pad>\n",
      "   --remove_extra_whitespaces (Removes leading, trailing, and duplicate internal whitespace)  type: bool  default: true\n",
      "   --seed_sentencepiece_size (the size of seed sentencepieces)  type: int32  default: 1000000\n",
      "   --self_test_sample_size (the size of self test samples)  type: int32  default: 0\n",
      "   --shrinking_factor (Keeps top shrinking_factor pieces with respect to the loss)  type: double  default: 0.75\n",
      "   --shuffle_input_sentence (Randomly sample input sentences in advance. Valid when --input_sentence_size > 0)  type: bool  default: true\n",
      "   --split_by_number (split tokens by numbers (0-9))  type: bool  default: true\n",
      "   --split_by_unicode_script (use Unicode script to split sentence pieces)  type: bool  default: true\n",
      "   --split_by_whitespace (use a white space to split sentence pieces)  type: bool  default: true\n",
      "   --treat_whitespace_as_suffix (treat whitespace marker as suffix instead of prefix.)  type: bool  default: false\n",
      "   --unk_id (Override UNK (<unk>) id.)  type: int32  default: 0\n",
      "   --unk_piece (Override UNK (<unk>) piece.)  type: string  default: <unk>\n",
      "   --unk_surface (Dummy surface string for <unk>. In decoding <unk> is decoded to `unk_surface`.)  type: string  default:  ⁇ \n",
      "   --use_all_vocab (If set to true, use all tokens as vocab. Valid for word/char models.)  type: bool  default: false\n",
      "   --user_defined_symbols (comma separated list of user defined symbols)  type: string  default: \n",
      "   --vocab_size (vocabulary size)  type: int32  default: 8000\n",
      "\n",
      "\n"
     ]
    }
   ],
   "source": [
    "\n",
    "train_file = '../data/opensubtitle_v2018/sent.cleaned.v1.train'\n",
    "vocab_file = '../data/opensubtitle_v2018/opensubtitles.vocab'\n",
    "!cat {train_file}.th {train_file}.en | shuffle > train\n",
    "!spm_train --input=train --model_prefix=spm --vocab_size=8000 --character_coverage=0.9995 --normalization_rule_name identity\n",
    "!spm_encode --model=spm.model --generate_vocabulary < {train_file}.L1 > {vocab_file}.th\n",
    "!spm_encode --model=spm.model --generate_vocabulary < {train_file}.L2 > {vocab_file}.en"
   ]
  },
  {
   "cell_type": "code",
   "execution_count": null,
   "metadata": {},
   "outputs": [],
   "source": []
  },
  {
   "cell_type": "code",
   "execution_count": null,
   "metadata": {},
   "outputs": [],
   "source": []
  },
  {
   "cell_type": "code",
   "execution_count": null,
   "metadata": {},
   "outputs": [],
   "source": []
  },
  {
   "cell_type": "code",
   "execution_count": null,
   "metadata": {},
   "outputs": [],
   "source": []
  },
  {
   "cell_type": "code",
   "execution_count": null,
   "metadata": {},
   "outputs": [],
   "source": []
  },
  {
   "cell_type": "markdown",
   "metadata": {},
   "source": [
    "### 2) Split train-valid-test \n",
    "\n",
    "- split: train/valid/test (80/10/10)\n",
    "\n",
    "- seed for rando,.shuffle: 1234\n"
   ]
  },
  {
   "cell_type": "code",
   "execution_count": 111,
   "metadata": {},
   "outputs": [
    {
     "name": "stdout",
     "output_type": "stream",
     "text": [
      "N =  3202751\n"
     ]
    },
    {
     "data": {
      "text/plain": [
       "(2562200, 320275, 320276)"
      ]
     },
     "execution_count": 111,
     "metadata": {},
     "output_type": "execute_result"
    }
   ],
   "source": [
    "#train-valid-test split 80/10/10\n",
    "\n",
    "n = len(toks['th']['newmm'])\n",
    "\n",
    "print('N = ',n)\n",
    "idx = list(range(n))\n",
    "\n",
    "random.seed(1234) # Set SEED\n",
    "random.shuffle(idx)\n",
    "\n",
    "train_idx, valid_idx, test_idx = idx[:int(n*0.8)], idx[int(n*0.8):int(n*0.9)], idx[int(n*0.9):]\n",
    "\n",
    "dataset_split = {}\n",
    "dataset_split['train'] = train_idx\n",
    "dataset_split['valid'] = valid_idx\n",
    "dataset_split['test'] = test_idx\n",
    "\n",
    "\n",
    "len(train_idx),len(valid_idx),len(test_idx)\n",
    "\n"
   ]
  },
  {
   "cell_type": "code",
   "execution_count": 112,
   "metadata": {},
   "outputs": [],
   "source": [
    "dataset = {\n",
    "    'train': {\n",
    "        'en': {\n",
    "            'sentencepiece': [],\n",
    "            'newmm':[]\n",
    "        },\n",
    "        'th': {\n",
    "             'sentencepiece': [],\n",
    "            'newmm':[]\n",
    "        }\n",
    "    },\n",
    "    'valid': {\n",
    "        'en': {\n",
    "            'sentencepiece': [],\n",
    "            'newmm':[]\n",
    "        },\n",
    "        'th': {\n",
    "             'sentencepiece': [],\n",
    "            'newmm':[]\n",
    "        }\n",
    "    },\n",
    "    'test': {\n",
    "        'en': {\n",
    "            'sentencepiece': [],\n",
    "            'newmm':[]\n",
    "        },\n",
    "        'th': {\n",
    "             'sentencepiece': [],\n",
    "            'newmm':[]\n",
    "        }\n",
    "    }\n",
    "}\n",
    "\n",
    "for split_name in ['train', 'valid', 'test']:\n",
    "    for lang in ['th', 'en']:\n",
    "        for tok_type in ['sentencepiece', 'newmm']:\n",
    "\n",
    "            dataset[split_name][lang][tok_type] = [toks[lang][tok_type][i] for i in dataset_split[split_name]] \n"
   ]
  },
  {
   "cell_type": "code",
   "execution_count": 113,
   "metadata": {},
   "outputs": [
    {
     "name": "stdout",
     "output_type": "stream",
     "text": [
      "['เบค กี้ เธอ ทำท่า แปลก ๆ เมื่อกี้ ใน ห้อง', 'อยู่ กับ เธอ แอน นา จะ นำทาง คุณ ผม จะ กลับ ไป'] \n",
      "\n",
      "['Becky , um , you were acting particularly strange in there just now .', \"Stay with her so Anna can guide you . I ' m going back .\"] \n",
      "\n",
      "['▁เบ ค กี้ ▁เธอ ทํา ท่า แปลก ๆ ▁เมื่อ กี้ ▁ในห้อง', '▁ อยู่กับ เธอ ▁แอนนา จะนํา ทาง คุณ ▁ผม จะ กลับไป'] \n",
      "\n",
      "['▁bec ky , ▁um , ▁you ▁were ▁acting ▁particularly ▁strange ▁in ▁there ▁just ▁now .', \"▁stay ▁with ▁her ▁so ▁anna ▁can ▁guide ▁you . ▁i ' m ▁going ▁back .\"] \n",
      "\n"
     ]
    }
   ],
   "source": [
    "print(dataset['train']['th']['newmm'][0:2],'\\n')\n",
    "print(dataset['train']['en']['newmm'][0:2],'\\n')\n",
    "print(dataset['train']['th']['sentencepiece'][0:2],'\\n')\n",
    "print(dataset['train']['en']['sentencepiece'][0:2],'\\n')"
   ]
  },
  {
   "cell_type": "code",
   "execution_count": 119,
   "metadata": {},
   "outputs": [
    {
     "name": "stdout",
     "output_type": "stream",
     "text": [
      "Counter({'en_train_n_toks': 92383739, 'th_train_n_toks': 86683223, 'en_valid_n_toks': 11536351, 'en_test_n_toks': 11535798, 'th_test_n_toks': 10833242, 'th_valid_n_toks': 10826042})\n"
     ]
    }
   ],
   "source": [
    "# Counting number of tokens for train, valid, test\n",
    "counter = Counter( )\n",
    "for dataset_type in ['train', 'valid', 'test']:\n",
    "    for th_sent_toks in dataset[dataset_type]['th']['newmm']:\n",
    "        counter['th_{}_n_toks'.format(dataset_type)] += len(th_sent_toks)\n",
    "    for en_sent_toks in dataset[dataset_type]['en']['newmm']:\n",
    "        counter['en_{}_n_toks'.format(dataset_type)] += len(en_sent_toks)\n",
    "\n",
    "print(counter) "
   ]
  },
  {
   "cell_type": "markdown",
   "metadata": {},
   "source": [
    "__Write segmented text to files__"
   ]
  },
  {
   "cell_type": "code",
   "execution_count": 124,
   "metadata": {},
   "outputs": [
    {
     "name": "stdout",
     "output_type": "stream",
     "text": [
      "create directories: \n",
      "dir: ../data/opensubtitles_tok/sentencepiece-sentencepiece/th-en\n",
      "dir: ../data/opensubtitles_bin/sentencepiece-sentencepiece/th-en\n",
      "create directories: \n",
      "dir: ../data/opensubtitles_tok/sentencepiece-sentencepiece/en-th\n",
      "dir: ../data/opensubtitles_bin/sentencepiece-sentencepiece/en-th\n",
      "create directories: \n",
      "dir: ../data/opensubtitles_tok/sentencepiece-newmm/th-en\n",
      "dir: ../data/opensubtitles_bin/sentencepiece-newmm/th-en\n",
      "create directories: \n",
      "dir: ../data/opensubtitles_tok/sentencepiece-newmm/en-th\n",
      "dir: ../data/opensubtitles_bin/sentencepiece-newmm/en-th\n",
      "create directories: \n",
      "dir: ../data/opensubtitles_tok/newmm-sentencepiece/th-en\n",
      "dir: ../data/opensubtitles_bin/newmm-sentencepiece/th-en\n",
      "create directories: \n",
      "dir: ../data/opensubtitles_tok/newmm-sentencepiece/en-th\n",
      "dir: ../data/opensubtitles_bin/newmm-sentencepiece/en-th\n",
      "create directories: \n",
      "dir: ../data/opensubtitles_tok/newmm-newmm/th-en\n",
      "dir: ../data/opensubtitles_bin/newmm-newmm/th-en\n",
      "create directories: \n",
      "dir: ../data/opensubtitles_tok/newmm-newmm/en-th\n",
      "dir: ../data/opensubtitles_bin/newmm-newmm/en-th\n"
     ]
    }
   ],
   "source": [
    "\n",
    "for tok_type_src in ['sentencepiece', 'newmm']:\n",
    "    for tok_type_tgt in ['sentencepiece', 'newmm']:\n",
    "        langs = ['th', 'en']\n",
    "        for lang in langs:\n",
    "            src_lang = lang\n",
    "            tgt_lang = 'en' if lang =='th' else 'th'\n",
    "            FOLDER_NAME = \"opensubtitles_tok/{}-{}/{}-{}\".format(tok_type_src, tok_type_tgt, src_lang, tgt_lang )\n",
    "            FOLDER_NAME_BIN = \"opensubtitles_bin/{}-{}/{}-{}\".format(tok_type_src, tok_type_tgt, src_lang, tgt_lang)\n",
    "           \n",
    "            \n",
    "            # Create directories\n",
    "            print('create directories: ')\n",
    "            print('dir: ../data/{}'.format(FOLDER_NAME))\n",
    "            print('dir: ../data/{}'.format(FOLDER_NAME_BIN))\n",
    "\n",
    "            !mkdir -p ../data/{FOLDER_NAME}\n",
    "            !mkdir -p ../data/{FOLDER_NAME_BIN}\n",
    "\n",
    "            for split_name in ['train', 'valid', 'test']:\n",
    "                \n",
    "                write_spaced_tokens_to_file(dataset[split_name][src_lang][tok_type_src],\n",
    "                                            FOLDER_NAME, '{}.{}'.format(split_name, src_lang))\n",
    "                \n",
    "                write_spaced_tokens_to_file(dataset[split_name][tgt_lang][tok_type_tgt],\n",
    "                                            FOLDER_NAME, '{}.{}'.format(split_name, tgt_lang))\n"
   ]
  },
  {
   "cell_type": "code",
   "execution_count": 125,
   "metadata": {},
   "outputs": [
    {
     "name": "stdout",
     "output_type": "stream",
     "text": [
      "▁bec ky , ▁um , ▁you ▁were ▁acting ▁particularly ▁strange ▁in ▁there ▁just ▁now .\n",
      "▁stay ▁with ▁her ▁so ▁anna ▁can ▁guide ▁you . ▁i ' m ▁going ▁back .\n",
      "▁look .\n",
      "▁oh , ▁no , ▁it ' s ▁the ▁other ▁way ▁around , ▁dr . ▁lewis .\n",
      "▁sort ▁of .\n",
      "▁bart ender , ▁something ▁really ▁strong , ▁please .\n",
      "▁yes , ▁obviously .\n",
      "▁la ' s ▁so ▁nice .\n",
      "▁i ' m ▁going ▁to ▁fix ▁it .\n",
      "▁i ▁get ▁b ored .\n"
     ]
    }
   ],
   "source": [
    "!head ../data/opensubtitles_tok/newmm-sentencepiece/th-en/train.en\n"
   ]
  },
  {
   "cell_type": "code",
   "execution_count": 126,
   "metadata": {},
   "outputs": [
    {
     "name": "stdout",
     "output_type": "stream",
     "text": [
      "เบค กี้ เธอ ทำท่า แปลก ๆ เมื่อกี้ ใน ห้อง\n",
      "อยู่ กับ เธอ แอน นา จะ นำทาง คุณ ผม จะ กลับ ไป\n",
      "ฟัง นะ\n",
      "พอดี เลย ดร. ลี วิ ส\n",
      "แบบ ว่า\n",
      "เอ่อ บาร์ เท็น เด อร ์ ขอ อะไร ที่\n",
      "ก็ ใช่ ห น่ะ สิ\n",
      "แอลเอ สวย เนอะ\n",
      "ฉัน กำลังจะ แก้ ไขมัน\n",
      "ฉัน เบื่อ ละ\n"
     ]
    }
   ],
   "source": [
    "!head ../data/opensubtitles_tok/newmm-sentencepiece/th-en/train.th"
   ]
  },
  {
   "cell_type": "code",
   "execution_count": null,
   "metadata": {},
   "outputs": [],
   "source": []
  }
 ],
 "metadata": {
  "kernelspec": {
   "display_name": "Python 3",
   "language": "python",
   "name": "python3"
  },
  "language_info": {
   "codemirror_mode": {
    "name": "ipython",
    "version": 3
   },
   "file_extension": ".py",
   "mimetype": "text/x-python",
   "name": "python",
   "nbconvert_exporter": "python",
   "pygments_lexer": "ipython3",
   "version": "3.7.4"
  },
  "widgets": {
   "application/vnd.jupyter.widget-state+json": {
    "state": {
     "00bed7c38165467ab71a95c769dbcdc8": {
      "model_module": "@jupyter-widgets/base",
      "model_module_version": "1.1.0",
      "model_name": "LayoutModel",
      "state": {}
     },
     "00f5ac10be75493f891e96436b41dd06": {
      "model_module": "@jupyter-widgets/controls",
      "model_module_version": "1.4.0",
      "model_name": "ProgressStyleModel",
      "state": {
       "description_width": ""
      }
     },
     "01166790ef6941a6864e0259c70df529": {
      "model_module": "@jupyter-widgets/controls",
      "model_module_version": "1.4.0",
      "model_name": "DescriptionStyleModel",
      "state": {
       "description_width": ""
      }
     },
     "02b76b952abb43d9aabbfd3b1e68a88a": {
      "model_module": "@jupyter-widgets/controls",
      "model_module_version": "1.4.0",
      "model_name": "IntProgressModel",
      "state": {
       "bar_style": "success",
       "layout": "IPY_MODEL_ea2ec29a60e64a5f8358ea8db8376d43",
       "max": 178,
       "style": "IPY_MODEL_05f6562b6b5046ab908b7c9bfe6ad353",
       "value": 178
      }
     },
     "05f6562b6b5046ab908b7c9bfe6ad353": {
      "model_module": "@jupyter-widgets/controls",
      "model_module_version": "1.4.0",
      "model_name": "ProgressStyleModel",
      "state": {
       "description_width": ""
      }
     },
     "066a16b92b3a422e98b76681306204ad": {
      "model_module": "@jupyter-widgets/controls",
      "model_module_version": "1.4.0",
      "model_name": "ProgressStyleModel",
      "state": {
       "description_width": ""
      }
     },
     "071a33d5e2014449ad4fda590b9d0fdb": {
      "model_module": "@jupyter-widgets/base",
      "model_module_version": "1.1.0",
      "model_name": "LayoutModel",
      "state": {}
     },
     "073d507f65544b508fe9fd2b0de74718": {
      "model_module": "@jupyter-widgets/base",
      "model_module_version": "1.1.0",
      "model_name": "LayoutModel",
      "state": {}
     },
     "0767f4dea7984bfbba9e8ec819925319": {
      "model_module": "@jupyter-widgets/base",
      "model_module_version": "1.1.0",
      "model_name": "LayoutModel",
      "state": {}
     },
     "08122a3f9591494280d52b3124864177": {
      "model_module": "@jupyter-widgets/controls",
      "model_module_version": "1.4.0",
      "model_name": "DescriptionStyleModel",
      "state": {
       "description_width": ""
      }
     },
     "087c4291efe146a1b44bd281b6b745f6": {
      "model_module": "@jupyter-widgets/controls",
      "model_module_version": "1.4.0",
      "model_name": "HTMLModel",
      "state": {
       "layout": "IPY_MODEL_81f7b8f1d90b460a9137f1dd54ee37ce",
       "style": "IPY_MODEL_9ab8d79ad6c944a5ba59bc38df4b02a5",
       "value": "100% 2/2 [00:04&lt;00:00,  2.40s/it]"
      }
     },
     "0889286f2c7541899628bfb8aeb02283": {
      "model_module": "@jupyter-widgets/controls",
      "model_module_version": "1.4.0",
      "model_name": "HBoxModel",
      "state": {
       "children": [
        "IPY_MODEL_d8b6e6044ae7470eb6dcad1165742817",
        "IPY_MODEL_4538154e90644d05bf98dc793b069c0b"
       ],
       "layout": "IPY_MODEL_138806cae6dd4bce9c40a5d53b04ccfc"
      }
     },
     "0d8102ada0de41fe90e3bacdacdd5c79": {
      "model_module": "@jupyter-widgets/base",
      "model_module_version": "1.1.0",
      "model_name": "LayoutModel",
      "state": {}
     },
     "0e7f1e7ab23b4a36938eb2408e324317": {
      "model_module": "@jupyter-widgets/controls",
      "model_module_version": "1.4.0",
      "model_name": "ProgressStyleModel",
      "state": {
       "description_width": ""
      }
     },
     "10003c336c1b4960a4c0e7cbcff4f002": {
      "model_module": "@jupyter-widgets/controls",
      "model_module_version": "1.4.0",
      "model_name": "HBoxModel",
      "state": {
       "children": [
        "IPY_MODEL_17e475c69a764bd09a212d001a955feb",
        "IPY_MODEL_434a1e2f46e54c418e007dd0d89615ef"
       ],
       "layout": "IPY_MODEL_7861bfdd89744916bf7b322b38f3ccca"
      }
     },
     "10d89d22c7d84298aee8111a017839b8": {
      "model_module": "@jupyter-widgets/controls",
      "model_module_version": "1.4.0",
      "model_name": "ProgressStyleModel",
      "state": {
       "description_width": ""
      }
     },
     "11c5566de95243deb8c53bfeb2a1cd23": {
      "model_module": "@jupyter-widgets/controls",
      "model_module_version": "1.4.0",
      "model_name": "IntProgressModel",
      "state": {
       "bar_style": "success",
       "layout": "IPY_MODEL_8066c1fc0d7144788bf9dfbf523c830d",
       "max": 2,
       "style": "IPY_MODEL_f1b5515a934b48b18c14bb04b22846d0",
       "value": 2
      }
     },
     "11ddbf894b4544aa90058d0c10adcdd2": {
      "model_module": "@jupyter-widgets/controls",
      "model_module_version": "1.4.0",
      "model_name": "ProgressStyleModel",
      "state": {
       "description_width": ""
      }
     },
     "1209fc79f9a2461e9f6fad06deba4153": {
      "model_module": "@jupyter-widgets/controls",
      "model_module_version": "1.4.0",
      "model_name": "IntProgressModel",
      "state": {
       "bar_style": "success",
       "layout": "IPY_MODEL_ae2d022225a7420ea297820b89736322",
       "max": 2,
       "style": "IPY_MODEL_695678eb09f74e969172187880258530",
       "value": 2
      }
     },
     "1251ed9946254ff78c933844ff4033d9": {
      "model_module": "@jupyter-widgets/base",
      "model_module_version": "1.1.0",
      "model_name": "LayoutModel",
      "state": {}
     },
     "13662acd97514020b19cc82ee338419c": {
      "model_module": "@jupyter-widgets/controls",
      "model_module_version": "1.4.0",
      "model_name": "DescriptionStyleModel",
      "state": {
       "description_width": ""
      }
     },
     "138806cae6dd4bce9c40a5d53b04ccfc": {
      "model_module": "@jupyter-widgets/base",
      "model_module_version": "1.1.0",
      "model_name": "LayoutModel",
      "state": {}
     },
     "13e25c6036584eacb98e449640c273ce": {
      "model_module": "@jupyter-widgets/base",
      "model_module_version": "1.1.0",
      "model_name": "LayoutModel",
      "state": {}
     },
     "143b178a9dec4926b210f382e0a0341b": {
      "model_module": "@jupyter-widgets/controls",
      "model_module_version": "1.4.0",
      "model_name": "DescriptionStyleModel",
      "state": {
       "description_width": ""
      }
     },
     "1543bf682ca94f2d86af7246ccbbe2f0": {
      "model_module": "@jupyter-widgets/controls",
      "model_module_version": "1.4.0",
      "model_name": "DescriptionStyleModel",
      "state": {
       "description_width": ""
      }
     },
     "16325df486b640379ca3e49910664078": {
      "model_module": "@jupyter-widgets/base",
      "model_module_version": "1.1.0",
      "model_name": "LayoutModel",
      "state": {}
     },
     "16b830c56dd34533952d1c48f0dca91e": {
      "model_module": "@jupyter-widgets/controls",
      "model_module_version": "1.4.0",
      "model_name": "DescriptionStyleModel",
      "state": {
       "description_width": ""
      }
     },
     "17222af12a244d228865acf175765a81": {
      "model_module": "@jupyter-widgets/controls",
      "model_module_version": "1.4.0",
      "model_name": "HTMLModel",
      "state": {
       "layout": "IPY_MODEL_32620345d32d4cde9c3f6699fd821a7d",
       "style": "IPY_MODEL_16b830c56dd34533952d1c48f0dca91e",
       "value": "  0% 0/32 [00:00&lt;?, ?it/s]"
      }
     },
     "17e475c69a764bd09a212d001a955feb": {
      "model_module": "@jupyter-widgets/controls",
      "model_module_version": "1.4.0",
      "model_name": "IntProgressModel",
      "state": {
       "bar_style": "success",
       "layout": "IPY_MODEL_40f49677dc8f4a1db61c8c56093fa141",
       "max": 178,
       "style": "IPY_MODEL_a234b862e07f4eea8c8764075758cb80",
       "value": 178
      }
     },
     "18a1a11c6f554a92833c779b50802d0f": {
      "model_module": "@jupyter-widgets/base",
      "model_module_version": "1.1.0",
      "model_name": "LayoutModel",
      "state": {}
     },
     "1980c1a1ee5343e985ae1e4940d6f196": {
      "model_module": "@jupyter-widgets/controls",
      "model_module_version": "1.4.0",
      "model_name": "HBoxModel",
      "state": {
       "children": [
        "IPY_MODEL_c2ab02553f7b43a3ae9920a7811b4777",
        "IPY_MODEL_1b979145ae904941b76ff4348cf5f50b"
       ],
       "layout": "IPY_MODEL_4f1275ad4bf94f4d8ec8f48ee435cbdf"
      }
     },
     "19de504793e14ece8fb8c73f06712c07": {
      "model_module": "@jupyter-widgets/base",
      "model_module_version": "1.1.0",
      "model_name": "LayoutModel",
      "state": {}
     },
     "1b270541b503408a97dcff744c1f7b0b": {
      "model_module": "@jupyter-widgets/controls",
      "model_module_version": "1.4.0",
      "model_name": "DescriptionStyleModel",
      "state": {
       "description_width": ""
      }
     },
     "1b979145ae904941b76ff4348cf5f50b": {
      "model_module": "@jupyter-widgets/controls",
      "model_module_version": "1.4.0",
      "model_name": "HTMLModel",
      "state": {
       "layout": "IPY_MODEL_84e1cdde23564c968a4480f5cb06eaf2",
       "style": "IPY_MODEL_57986f7dd15747eeafccbcdd6a194d04",
       "value": " 67% 120/178 [22:31&lt;11:03, 11.45s/it]"
      }
     },
     "1bb1df44258945de81831e38abb5255b": {
      "model_module": "@jupyter-widgets/controls",
      "model_module_version": "1.4.0",
      "model_name": "ProgressStyleModel",
      "state": {
       "description_width": ""
      }
     },
     "1bceecc688db452494c410bbeb834534": {
      "model_module": "@jupyter-widgets/base",
      "model_module_version": "1.1.0",
      "model_name": "LayoutModel",
      "state": {}
     },
     "1c5a600f5472458da4c019dd08db961b": {
      "model_module": "@jupyter-widgets/base",
      "model_module_version": "1.1.0",
      "model_name": "LayoutModel",
      "state": {}
     },
     "1e554d0886414d8f81f8e2930901f349": {
      "model_module": "@jupyter-widgets/base",
      "model_module_version": "1.1.0",
      "model_name": "LayoutModel",
      "state": {}
     },
     "1f264ebfd1e1435196db5f7e31e0cdff": {
      "model_module": "@jupyter-widgets/controls",
      "model_module_version": "1.4.0",
      "model_name": "IntProgressModel",
      "state": {
       "bar_style": "success",
       "layout": "IPY_MODEL_4f200b0a651f4dfa97438e7aca6c7220",
       "max": 160,
       "style": "IPY_MODEL_807dbe2c22564d79acafe4de143ee5c7",
       "value": 160
      }
     },
     "2062e4ad2c74412fbad6f2af5a5147a8": {
      "model_module": "@jupyter-widgets/controls",
      "model_module_version": "1.4.0",
      "model_name": "ProgressStyleModel",
      "state": {
       "description_width": ""
      }
     },
     "20d4f14600aa4c85be00544f61d6c904": {
      "model_module": "@jupyter-widgets/controls",
      "model_module_version": "1.4.0",
      "model_name": "HTMLModel",
      "state": {
       "layout": "IPY_MODEL_8240482fcc64441089c2634a85cc43db",
       "style": "IPY_MODEL_d6d7949961f645aa9703568387555eb3",
       "value": " 50% 1/2 [00:02&lt;00:02,  2.40s/it]"
      }
     },
     "21304e7a5c574459ae2d9a500bdd8944": {
      "model_module": "@jupyter-widgets/controls",
      "model_module_version": "1.4.0",
      "model_name": "IntProgressModel",
      "state": {
       "bar_style": "success",
       "layout": "IPY_MODEL_6d781f9c13384e8e805d6a053de32694",
       "max": 2,
       "style": "IPY_MODEL_6841e97b996e4c0cbf97312bda386728",
       "value": 2
      }
     },
     "233b95d6cf1f428db1ba8975d64d5f4b": {
      "model_module": "@jupyter-widgets/controls",
      "model_module_version": "1.4.0",
      "model_name": "IntProgressModel",
      "state": {
       "bar_style": "success",
       "layout": "IPY_MODEL_a903aa940e0b45549cbf4197d3685a8f",
       "max": 1,
       "style": "IPY_MODEL_b02f20b9e3d244e39a533cc756a8f1a9",
       "value": 1
      }
     },
     "23dc493e98c84aff952300eb3a76a455": {
      "model_module": "@jupyter-widgets/controls",
      "model_module_version": "1.4.0",
      "model_name": "IntProgressModel",
      "state": {
       "bar_style": "danger",
       "layout": "IPY_MODEL_13e25c6036584eacb98e449640c273ce",
       "max": 320,
       "style": "IPY_MODEL_ff0fa6eae87c47d2926b4d9b03c5244b",
       "value": 3
      }
     },
     "2407010ef8e748a08ca4e078f891d29a": {
      "model_module": "@jupyter-widgets/controls",
      "model_module_version": "1.4.0",
      "model_name": "HTMLModel",
      "state": {
       "layout": "IPY_MODEL_ad0cd8bf561b42e990f788a34589f9d9",
       "style": "IPY_MODEL_c7b5a8a4bc2b4ded8ee7becf81d1036b",
       "value": "100% 1/1 [00:07&lt;00:00,  7.43s/it]"
      }
     },
     "242b746b40774d8fb7a2e426325392bb": {
      "model_module": "@jupyter-widgets/base",
      "model_module_version": "1.1.0",
      "model_name": "LayoutModel",
      "state": {}
     },
     "24ef61cb4bcc4244ba9216a0c188fbc5": {
      "model_module": "@jupyter-widgets/controls",
      "model_module_version": "1.4.0",
      "model_name": "HBoxModel",
      "state": {
       "children": [
        "IPY_MODEL_bfd0c8aca7b84fc596ce81ee929456dc",
        "IPY_MODEL_49baec2a9c8247918f6d7063e635f32f"
       ],
       "layout": "IPY_MODEL_c14ba1911fba4fe0a4bcf37127304582"
      }
     },
     "254e6c94943f4822964bee52e38b5a1f": {
      "model_module": "@jupyter-widgets/base",
      "model_module_version": "1.1.0",
      "model_name": "LayoutModel",
      "state": {}
     },
     "27d52c3388cc4f338ebb74aca5b15a13": {
      "model_module": "@jupyter-widgets/base",
      "model_module_version": "1.1.0",
      "model_name": "LayoutModel",
      "state": {}
     },
     "27f16d28205a41fbb1130847e76290da": {
      "model_module": "@jupyter-widgets/controls",
      "model_module_version": "1.4.0",
      "model_name": "IntProgressModel",
      "state": {
       "bar_style": "success",
       "layout": "IPY_MODEL_19de504793e14ece8fb8c73f06712c07",
       "max": 2,
       "style": "IPY_MODEL_7b9393dfdd474a4eb6fec18faa856e64",
       "value": 2
      }
     },
     "284402d3309148b9909487cd63677a64": {
      "model_module": "@jupyter-widgets/controls",
      "model_module_version": "1.4.0",
      "model_name": "IntProgressModel",
      "state": {
       "bar_style": "success",
       "layout": "IPY_MODEL_00bed7c38165467ab71a95c769dbcdc8",
       "max": 2,
       "style": "IPY_MODEL_c170172cc4a64fb4b7779075f36c7cd6",
       "value": 2
      }
     },
     "2868c3a50c204c2487e6188597f54e08": {
      "model_module": "@jupyter-widgets/controls",
      "model_module_version": "1.4.0",
      "model_name": "HBoxModel",
      "state": {
       "children": [
        "IPY_MODEL_e5ed6c364cf741c2a912d7916bc952d6",
        "IPY_MODEL_2407010ef8e748a08ca4e078f891d29a"
       ],
       "layout": "IPY_MODEL_33f6502433114d3a990834004b0e0653"
      }
     },
     "292ad53f5ed74a42a43a9d274fab7eaf": {
      "model_module": "@jupyter-widgets/base",
      "model_module_version": "1.1.0",
      "model_name": "LayoutModel",
      "state": {}
     },
     "29924124510e42fc83f543269b4c4747": {
      "model_module": "@jupyter-widgets/controls",
      "model_module_version": "1.4.0",
      "model_name": "HTMLModel",
      "state": {
       "layout": "IPY_MODEL_f42ac34d8b154c239b3aaa01f4acab61",
       "style": "IPY_MODEL_1b270541b503408a97dcff744c1f7b0b",
       "value": "  0% 0/1 [00:00&lt;?, ?it/s]"
      }
     },
     "2b83dccf73b84e7980e3f6a666d59a08": {
      "model_module": "@jupyter-widgets/controls",
      "model_module_version": "1.4.0",
      "model_name": "ProgressStyleModel",
      "state": {
       "description_width": ""
      }
     },
     "2cbc384f9e24403abfd53bfaf397c3bc": {
      "model_module": "@jupyter-widgets/controls",
      "model_module_version": "1.4.0",
      "model_name": "ProgressStyleModel",
      "state": {
       "description_width": ""
      }
     },
     "2cd3436be74c423b84bb73d2e2f4748c": {
      "model_module": "@jupyter-widgets/base",
      "model_module_version": "1.1.0",
      "model_name": "LayoutModel",
      "state": {}
     },
     "2d2e61cd960947a4a921c98662afec10": {
      "model_module": "@jupyter-widgets/controls",
      "model_module_version": "1.4.0",
      "model_name": "ProgressStyleModel",
      "state": {
       "description_width": ""
      }
     },
     "2d3d344948b8458c86c735647d9b555f": {
      "model_module": "@jupyter-widgets/controls",
      "model_module_version": "1.4.0",
      "model_name": "IntProgressModel",
      "state": {
       "bar_style": "danger",
       "layout": "IPY_MODEL_adb19e6938c14efb8c67be72009fc53a",
       "max": 213,
       "style": "IPY_MODEL_7c38b1f8617043fbb44927cd96e3542b",
       "value": 9
      }
     },
     "2f42b6181c254549be129bc9c0ae7ee2": {
      "model_module": "@jupyter-widgets/controls",
      "model_module_version": "1.4.0",
      "model_name": "HTMLModel",
      "state": {
       "layout": "IPY_MODEL_18a1a11c6f554a92833c779b50802d0f",
       "style": "IPY_MODEL_08122a3f9591494280d52b3124864177",
       "value": "100% 2/2 [00:04&lt;00:00,  2.33s/it]"
      }
     },
     "30a3cea230a74023a6bfbb2b768a2334": {
      "model_module": "@jupyter-widgets/base",
      "model_module_version": "1.1.0",
      "model_name": "LayoutModel",
      "state": {}
     },
     "30dbf793b3774e98be352ef160b35fa9": {
      "model_module": "@jupyter-widgets/base",
      "model_module_version": "1.1.0",
      "model_name": "LayoutModel",
      "state": {}
     },
     "31262e69024f4436897d5087c80a89c3": {
      "model_module": "@jupyter-widgets/controls",
      "model_module_version": "1.4.0",
      "model_name": "IntProgressModel",
      "state": {
       "bar_style": "danger",
       "layout": "IPY_MODEL_84caca142975480088c5bddbd522cd78",
       "max": 320,
       "style": "IPY_MODEL_5b11f17ca04c4c2ba71553026028ba8f",
       "value": 1
      }
     },
     "3180e641e59348fc9c624f95d7d5a74b": {
      "model_module": "@jupyter-widgets/base",
      "model_module_version": "1.1.0",
      "model_name": "LayoutModel",
      "state": {}
     },
     "32620345d32d4cde9c3f6699fd821a7d": {
      "model_module": "@jupyter-widgets/base",
      "model_module_version": "1.1.0",
      "model_name": "LayoutModel",
      "state": {}
     },
     "32eed20311564b93a71937eae9be76a2": {
      "model_module": "@jupyter-widgets/base",
      "model_module_version": "1.1.0",
      "model_name": "LayoutModel",
      "state": {}
     },
     "3358e7f666f14ebaa13f842ba7e96778": {
      "model_module": "@jupyter-widgets/controls",
      "model_module_version": "1.4.0",
      "model_name": "HBoxModel",
      "state": {
       "children": [
        "IPY_MODEL_1209fc79f9a2461e9f6fad06deba4153",
        "IPY_MODEL_f95272fed7594ddcaa35e2a6c1a78f7d"
       ],
       "layout": "IPY_MODEL_ee7accba31b84d75a70d518e1c5a6cac"
      }
     },
     "33f6502433114d3a990834004b0e0653": {
      "model_module": "@jupyter-widgets/base",
      "model_module_version": "1.1.0",
      "model_name": "LayoutModel",
      "state": {}
     },
     "3470b9f3c1e04aa8834577165f4b6c6a": {
      "model_module": "@jupyter-widgets/controls",
      "model_module_version": "1.4.0",
      "model_name": "DescriptionStyleModel",
      "state": {
       "description_width": ""
      }
     },
     "3538bc97f00049ddb40ed65ee33a22ad": {
      "model_module": "@jupyter-widgets/controls",
      "model_module_version": "1.4.0",
      "model_name": "HBoxModel",
      "state": {
       "children": [
        "IPY_MODEL_11c5566de95243deb8c53bfeb2a1cd23",
        "IPY_MODEL_087c4291efe146a1b44bd281b6b745f6"
       ],
       "layout": "IPY_MODEL_4ec2cb92151947eb980c740f4f7c39fe"
      }
     },
     "36b804a4cc134ed0b98f5e281ccd428a": {
      "model_module": "@jupyter-widgets/base",
      "model_module_version": "1.1.0",
      "model_name": "LayoutModel",
      "state": {}
     },
     "37b1839cd8974f77902d042dc5ba299f": {
      "model_module": "@jupyter-widgets/controls",
      "model_module_version": "1.4.0",
      "model_name": "ProgressStyleModel",
      "state": {
       "description_width": ""
      }
     },
     "38bc11102ee049fbbeeb3be6db4da912": {
      "model_module": "@jupyter-widgets/controls",
      "model_module_version": "1.4.0",
      "model_name": "DescriptionStyleModel",
      "state": {
       "description_width": ""
      }
     },
     "39060c84ce3847e497b5c906448ab010": {
      "model_module": "@jupyter-widgets/base",
      "model_module_version": "1.1.0",
      "model_name": "LayoutModel",
      "state": {}
     },
     "3ac250f0af0642f088545c41950bf162": {
      "model_module": "@jupyter-widgets/base",
      "model_module_version": "1.1.0",
      "model_name": "LayoutModel",
      "state": {}
     },
     "3d84300307f645468919167e76669d85": {
      "model_module": "@jupyter-widgets/controls",
      "model_module_version": "1.4.0",
      "model_name": "DescriptionStyleModel",
      "state": {
       "description_width": ""
      }
     },
     "3de49ef99fc14084a0f96af33eff1526": {
      "model_module": "@jupyter-widgets/controls",
      "model_module_version": "1.4.0",
      "model_name": "IntProgressModel",
      "state": {
       "bar_style": "success",
       "layout": "IPY_MODEL_8b0857a6391348feb12acfa2ce04662c",
       "max": 2,
       "style": "IPY_MODEL_634116310cff43f8a561c7b57004c377",
       "value": 2
      }
     },
     "3e75c56771d04fcaadfd685e46e21619": {
      "model_module": "@jupyter-widgets/base",
      "model_module_version": "1.1.0",
      "model_name": "LayoutModel",
      "state": {}
     },
     "3ea746ad0ed041a79049974d517038e8": {
      "model_module": "@jupyter-widgets/controls",
      "model_module_version": "1.4.0",
      "model_name": "DescriptionStyleModel",
      "state": {
       "description_width": ""
      }
     },
     "3efacd7786034c5481d6f44b7e8362ea": {
      "model_module": "@jupyter-widgets/base",
      "model_module_version": "1.1.0",
      "model_name": "LayoutModel",
      "state": {}
     },
     "4067a59bb55745ffb64749a1abc170fc": {
      "model_module": "@jupyter-widgets/base",
      "model_module_version": "1.1.0",
      "model_name": "LayoutModel",
      "state": {}
     },
     "40f49677dc8f4a1db61c8c56093fa141": {
      "model_module": "@jupyter-widgets/base",
      "model_module_version": "1.1.0",
      "model_name": "LayoutModel",
      "state": {}
     },
     "434a1e2f46e54c418e007dd0d89615ef": {
      "model_module": "@jupyter-widgets/controls",
      "model_module_version": "1.4.0",
      "model_name": "HTMLModel",
      "state": {
       "layout": "IPY_MODEL_71c37aa5e05a4bba87ffd72f24f1db98",
       "style": "IPY_MODEL_01166790ef6941a6864e0259c70df529",
       "value": "100% 178/178 [33:30&lt;00:00,  9.64s/it]"
      }
     },
     "438ea3b3ace844e7bf1bcac032378b71": {
      "model_module": "@jupyter-widgets/controls",
      "model_module_version": "1.4.0",
      "model_name": "HTMLModel",
      "state": {
       "layout": "IPY_MODEL_e3e3a25363a34977a4fb40458445c904",
       "style": "IPY_MODEL_a35299fbd3cb4ba1b72a6176b31348c2",
       "value": "100% 2/2 [00:04&lt;00:00,  2.40s/it]"
      }
     },
     "44382821cb0b42af8e522e6b31877d51": {
      "model_module": "@jupyter-widgets/controls",
      "model_module_version": "1.4.0",
      "model_name": "HBoxModel",
      "state": {
       "children": [
        "IPY_MODEL_cfd50169400e44feaf8ab243c73a1972",
        "IPY_MODEL_b5eed45c29864efcb5cb6e234bba55a6"
       ],
       "layout": "IPY_MODEL_30dbf793b3774e98be352ef160b35fa9"
      }
     },
     "44c3548b2e49425a800483df12d7263e": {
      "model_module": "@jupyter-widgets/controls",
      "model_module_version": "1.4.0",
      "model_name": "IntProgressModel",
      "state": {
       "bar_style": "success",
       "layout": "IPY_MODEL_4067a59bb55745ffb64749a1abc170fc",
       "max": 178,
       "style": "IPY_MODEL_1bb1df44258945de81831e38abb5255b",
       "value": 178
      }
     },
     "4538154e90644d05bf98dc793b069c0b": {
      "model_module": "@jupyter-widgets/controls",
      "model_module_version": "1.4.0",
      "model_name": "HTMLModel",
      "state": {
       "layout": "IPY_MODEL_5a5fe1e627cd4c3e8d9f2e21ceaa08ff",
       "style": "IPY_MODEL_9197ffff5db34105b1b1f8e73cdb90b7",
       "value": "  0% 0/2 [00:00&lt;?, ?it/s]"
      }
     },
     "466e2a6ca613459883f3bd3e1ec69d0b": {
      "model_module": "@jupyter-widgets/controls",
      "model_module_version": "1.4.0",
      "model_name": "IntProgressModel",
      "state": {
       "bar_style": "success",
       "layout": "IPY_MODEL_3efacd7786034c5481d6f44b7e8362ea",
       "max": 2,
       "style": "IPY_MODEL_fe1fc349e3d44a7caede5f20a75900d0",
       "value": 2
      }
     },
     "47c11a1f6c5b426db19f36132de299e2": {
      "model_module": "@jupyter-widgets/controls",
      "model_module_version": "1.4.0",
      "model_name": "DescriptionStyleModel",
      "state": {
       "description_width": ""
      }
     },
     "47fbd0c19214411680927bf9d4bfb085": {
      "model_module": "@jupyter-widgets/controls",
      "model_module_version": "1.4.0",
      "model_name": "HBoxModel",
      "state": {
       "children": [
        "IPY_MODEL_8dbe3cc7d3684e19beff25f59554e933",
        "IPY_MODEL_ec6b66792a5047d5b3fa02c4f912408f"
       ],
       "layout": "IPY_MODEL_36b804a4cc134ed0b98f5e281ccd428a"
      }
     },
     "488fe4f9928c44e0beb26f05e537438b": {
      "model_module": "@jupyter-widgets/controls",
      "model_module_version": "1.4.0",
      "model_name": "HBoxModel",
      "state": {
       "children": [
        "IPY_MODEL_9004d1e62f4740ec8f1efcf30c69c577",
        "IPY_MODEL_c84f6e210fcf46c788d1ad88986ee7ca"
       ],
       "layout": "IPY_MODEL_071a33d5e2014449ad4fda590b9d0fdb"
      }
     },
     "49baec2a9c8247918f6d7063e635f32f": {
      "model_module": "@jupyter-widgets/controls",
      "model_module_version": "1.4.0",
      "model_name": "HTMLModel",
      "state": {
       "layout": "IPY_MODEL_3e75c56771d04fcaadfd685e46e21619",
       "style": "IPY_MODEL_50fd80d8be094b9eae1a1ff71a36d00d",
       "value": "  0% 2/319338 [00:04&lt;209:06:24,  2.36s/it]"
      }
     },
     "49fc8366546342af812e0013c99de6f0": {
      "model_module": "@jupyter-widgets/base",
      "model_module_version": "1.1.0",
      "model_name": "LayoutModel",
      "state": {}
     },
     "4c8bf84d039942a48cfd64c4a00c098d": {
      "model_module": "@jupyter-widgets/controls",
      "model_module_version": "1.4.0",
      "model_name": "HTMLModel",
      "state": {
       "layout": "IPY_MODEL_d3e0a7173d4f4ef183b00a62c40e8774",
       "style": "IPY_MODEL_9661920386e24d7f8313b2eae356687e",
       "value": "  0% 0/2 [00:00&lt;?, ?it/s]"
      }
     },
     "4e5e884b54354f718a8035a829104a44": {
      "model_module": "@jupyter-widgets/base",
      "model_module_version": "1.1.0",
      "model_name": "LayoutModel",
      "state": {}
     },
     "4ec2cb92151947eb980c740f4f7c39fe": {
      "model_module": "@jupyter-widgets/base",
      "model_module_version": "1.1.0",
      "model_name": "LayoutModel",
      "state": {}
     },
     "4f1275ad4bf94f4d8ec8f48ee435cbdf": {
      "model_module": "@jupyter-widgets/base",
      "model_module_version": "1.1.0",
      "model_name": "LayoutModel",
      "state": {}
     },
     "4f200b0a651f4dfa97438e7aca6c7220": {
      "model_module": "@jupyter-widgets/base",
      "model_module_version": "1.1.0",
      "model_name": "LayoutModel",
      "state": {}
     },
     "50a9114e8cf74098895f2ff276c630d6": {
      "model_module": "@jupyter-widgets/controls",
      "model_module_version": "1.4.0",
      "model_name": "HBoxModel",
      "state": {
       "children": [
        "IPY_MODEL_44c3548b2e49425a800483df12d7263e",
        "IPY_MODEL_ac34db3771b2423aab0bc7f20ef1ce5b"
       ],
       "layout": "IPY_MODEL_717819d7dcb54825afa9e8929c4da96a"
      }
     },
     "50c75f1212f843d282a4fc24e0e6745f": {
      "model_module": "@jupyter-widgets/controls",
      "model_module_version": "1.4.0",
      "model_name": "HTMLModel",
      "state": {
       "layout": "IPY_MODEL_b4de2253aea744388ad068aef3645656",
       "style": "IPY_MODEL_a330d43307ea476a9884a9901d80e032",
       "value": "100% 2/2 [00:04&lt;00:00,  2.38s/it]"
      }
     },
     "50fd80d8be094b9eae1a1ff71a36d00d": {
      "model_module": "@jupyter-widgets/controls",
      "model_module_version": "1.4.0",
      "model_name": "DescriptionStyleModel",
      "state": {
       "description_width": ""
      }
     },
     "51a4ac33d1ba4999bf703bb46d83bd00": {
      "model_module": "@jupyter-widgets/controls",
      "model_module_version": "1.4.0",
      "model_name": "DescriptionStyleModel",
      "state": {
       "description_width": ""
      }
     },
     "528d2b5104ba47f9817af338f6c07da8": {
      "model_module": "@jupyter-widgets/base",
      "model_module_version": "1.1.0",
      "model_name": "LayoutModel",
      "state": {}
     },
     "53c52d24c31d42bb9c7858e2b9d5d058": {
      "model_module": "@jupyter-widgets/base",
      "model_module_version": "1.1.0",
      "model_name": "LayoutModel",
      "state": {}
     },
     "55e33faffb7a4d2f81c727748604b6d3": {
      "model_module": "@jupyter-widgets/controls",
      "model_module_version": "1.4.0",
      "model_name": "ProgressStyleModel",
      "state": {
       "description_width": ""
      }
     },
     "570f37274d3d4221a0633c29007a1bf3": {
      "model_module": "@jupyter-widgets/base",
      "model_module_version": "1.1.0",
      "model_name": "LayoutModel",
      "state": {}
     },
     "57986f7dd15747eeafccbcdd6a194d04": {
      "model_module": "@jupyter-widgets/controls",
      "model_module_version": "1.4.0",
      "model_name": "DescriptionStyleModel",
      "state": {
       "description_width": ""
      }
     },
     "5a2cffd7c7f0499c841d0aeadbc90446": {
      "model_module": "@jupyter-widgets/base",
      "model_module_version": "1.1.0",
      "model_name": "LayoutModel",
      "state": {}
     },
     "5a5fe1e627cd4c3e8d9f2e21ceaa08ff": {
      "model_module": "@jupyter-widgets/base",
      "model_module_version": "1.1.0",
      "model_name": "LayoutModel",
      "state": {}
     },
     "5b11f17ca04c4c2ba71553026028ba8f": {
      "model_module": "@jupyter-widgets/controls",
      "model_module_version": "1.4.0",
      "model_name": "ProgressStyleModel",
      "state": {
       "description_width": ""
      }
     },
     "5f1a4516886740b797b3db8eedd30fe7": {
      "model_module": "@jupyter-widgets/base",
      "model_module_version": "1.1.0",
      "model_name": "LayoutModel",
      "state": {}
     },
     "5f99fbf46a724950ab33ab095dd8e94d": {
      "model_module": "@jupyter-widgets/controls",
      "model_module_version": "1.4.0",
      "model_name": "HBoxModel",
      "state": {
       "children": [
        "IPY_MODEL_b39ab1a015144b82b8faf126325cd7a3",
        "IPY_MODEL_ee00f371ca654b089d158fbfde2e9299"
       ],
       "layout": "IPY_MODEL_39060c84ce3847e497b5c906448ab010"
      }
     },
     "5fd074aa37ce42419d04e0d2f272c032": {
      "model_module": "@jupyter-widgets/controls",
      "model_module_version": "1.4.0",
      "model_name": "HBoxModel",
      "state": {
       "children": [
        "IPY_MODEL_21304e7a5c574459ae2d9a500bdd8944",
        "IPY_MODEL_438ea3b3ace844e7bf1bcac032378b71"
       ],
       "layout": "IPY_MODEL_d7ca0eb85ddf460d86b4ffeb78a649e1"
      }
     },
     "60422e8b81e947d09b1b3777a0011ad0": {
      "model_module": "@jupyter-widgets/controls",
      "model_module_version": "1.4.0",
      "model_name": "HTMLModel",
      "state": {
       "layout": "IPY_MODEL_bd4dcd1acb044622a0f1f888d711145d",
       "style": "IPY_MODEL_3d84300307f645468919167e76669d85",
       "value": "  0% 0/160 [00:00&lt;?, ?it/s]"
      }
     },
     "61186c057ff84169bec2080c14d5f306": {
      "model_module": "@jupyter-widgets/controls",
      "model_module_version": "1.4.0",
      "model_name": "HTMLModel",
      "state": {
       "layout": "IPY_MODEL_1251ed9946254ff78c933844ff4033d9",
       "style": "IPY_MODEL_a8c971352b5945bbbe4505fccd0f3ed2",
       "value": "  2% 4/213 [00:39&lt;34:33,  9.92s/it]"
      }
     },
     "61b449e280fc4297a3fad1607744fc20": {
      "model_module": "@jupyter-widgets/base",
      "model_module_version": "1.1.0",
      "model_name": "LayoutModel",
      "state": {}
     },
     "634116310cff43f8a561c7b57004c377": {
      "model_module": "@jupyter-widgets/controls",
      "model_module_version": "1.4.0",
      "model_name": "ProgressStyleModel",
      "state": {
       "description_width": ""
      }
     },
     "6364008ed84146b385e0b819accb2e29": {
      "model_module": "@jupyter-widgets/controls",
      "model_module_version": "1.4.0",
      "model_name": "IntProgressModel",
      "state": {
       "bar_style": "success",
       "layout": "IPY_MODEL_b0bc28ddc9fd47039c98a18bbea1f8b5",
       "max": 2,
       "style": "IPY_MODEL_37b1839cd8974f77902d042dc5ba299f",
       "value": 2
      }
     },
     "65a7f1fbf7244c9aa4f45b691e1f155d": {
      "model_module": "@jupyter-widgets/base",
      "model_module_version": "1.1.0",
      "model_name": "LayoutModel",
      "state": {}
     },
     "6663c5a4feb14cf3a7e0d7949562173e": {
      "model_module": "@jupyter-widgets/base",
      "model_module_version": "1.1.0",
      "model_name": "LayoutModel",
      "state": {}
     },
     "6841e97b996e4c0cbf97312bda386728": {
      "model_module": "@jupyter-widgets/controls",
      "model_module_version": "1.4.0",
      "model_name": "ProgressStyleModel",
      "state": {
       "description_width": ""
      }
     },
     "695678eb09f74e969172187880258530": {
      "model_module": "@jupyter-widgets/controls",
      "model_module_version": "1.4.0",
      "model_name": "ProgressStyleModel",
      "state": {
       "description_width": ""
      }
     },
     "6a715c212d9342c2898e920e12d64ea8": {
      "model_module": "@jupyter-widgets/base",
      "model_module_version": "1.1.0",
      "model_name": "LayoutModel",
      "state": {}
     },
     "6c27f0ffb8744af88b7886d162ccf32c": {
      "model_module": "@jupyter-widgets/base",
      "model_module_version": "1.1.0",
      "model_name": "LayoutModel",
      "state": {}
     },
     "6c751999fd3d4e2a9f92fc2d4e26357c": {
      "model_module": "@jupyter-widgets/controls",
      "model_module_version": "1.4.0",
      "model_name": "DescriptionStyleModel",
      "state": {
       "description_width": ""
      }
     },
     "6d06cb976f00432982216a968d6ce7a1": {
      "model_module": "@jupyter-widgets/controls",
      "model_module_version": "1.4.0",
      "model_name": "IntProgressModel",
      "state": {
       "bar_style": "danger",
       "layout": "IPY_MODEL_1c5a600f5472458da4c019dd08db961b",
       "max": 2,
       "style": "IPY_MODEL_aaf98670d9e2425a99ac5a5097c158fd"
      }
     },
     "6d781f9c13384e8e805d6a053de32694": {
      "model_module": "@jupyter-widgets/base",
      "model_module_version": "1.1.0",
      "model_name": "LayoutModel",
      "state": {}
     },
     "6d8b748fa698407db839705a48750e98": {
      "model_module": "@jupyter-widgets/controls",
      "model_module_version": "1.4.0",
      "model_name": "DescriptionStyleModel",
      "state": {
       "description_width": ""
      }
     },
     "6ecd696f916f492aaefea5b1e89a56db": {
      "model_module": "@jupyter-widgets/controls",
      "model_module_version": "1.4.0",
      "model_name": "HBoxModel",
      "state": {
       "children": [
        "IPY_MODEL_3de49ef99fc14084a0f96af33eff1526",
        "IPY_MODEL_2f42b6181c254549be129bc9c0ae7ee2"
       ],
       "layout": "IPY_MODEL_9e1e12e1a89440f3b5004060b618b388"
      }
     },
     "717819d7dcb54825afa9e8929c4da96a": {
      "model_module": "@jupyter-widgets/base",
      "model_module_version": "1.1.0",
      "model_name": "LayoutModel",
      "state": {}
     },
     "71c37aa5e05a4bba87ffd72f24f1db98": {
      "model_module": "@jupyter-widgets/base",
      "model_module_version": "1.1.0",
      "model_name": "LayoutModel",
      "state": {}
     },
     "72305f93d5c74b6a8e8ff7b7f34027fb": {
      "model_module": "@jupyter-widgets/controls",
      "model_module_version": "1.4.0",
      "model_name": "HBoxModel",
      "state": {
       "children": [
        "IPY_MODEL_6d06cb976f00432982216a968d6ce7a1",
        "IPY_MODEL_4c8bf84d039942a48cfd64c4a00c098d"
       ],
       "layout": "IPY_MODEL_a5d255bef9dd4e4594f282ea1011562b"
      }
     },
     "738c564a93dd4ca7a214028b51c4b22f": {
      "model_module": "@jupyter-widgets/controls",
      "model_module_version": "1.4.0",
      "model_name": "HBoxModel",
      "state": {
       "children": [
        "IPY_MODEL_2d3d344948b8458c86c735647d9b555f",
        "IPY_MODEL_8661bbe82dff45e7aa30f22c11443d2e"
       ],
       "layout": "IPY_MODEL_5f1a4516886740b797b3db8eedd30fe7"
      }
     },
     "73a861c5c1df460fa739ab26e2956e64": {
      "model_module": "@jupyter-widgets/controls",
      "model_module_version": "1.4.0",
      "model_name": "ProgressStyleModel",
      "state": {
       "description_width": ""
      }
     },
     "75d74071dee6450293f12cfe871a38e8": {
      "model_module": "@jupyter-widgets/controls",
      "model_module_version": "1.4.0",
      "model_name": "IntProgressModel",
      "state": {
       "bar_style": "danger",
       "layout": "IPY_MODEL_d2b5e761a57348b680e062b1da175c89",
       "max": 160,
       "style": "IPY_MODEL_7bcaa68b33464eeeb43b1b0e2624d643"
      }
     },
     "7861bfdd89744916bf7b322b38f3ccca": {
      "model_module": "@jupyter-widgets/base",
      "model_module_version": "1.1.0",
      "model_name": "LayoutModel",
      "state": {}
     },
     "7892edbb5bdc4fca983050aa20722fcb": {
      "model_module": "@jupyter-widgets/controls",
      "model_module_version": "1.4.0",
      "model_name": "ProgressStyleModel",
      "state": {
       "description_width": ""
      }
     },
     "78a59dbf9db04d2d8afecd4f7d1a280e": {
      "model_module": "@jupyter-widgets/controls",
      "model_module_version": "1.4.0",
      "model_name": "DescriptionStyleModel",
      "state": {
       "description_width": ""
      }
     },
     "78c412f173e149a39e07c8df749ca951": {
      "model_module": "@jupyter-widgets/controls",
      "model_module_version": "1.4.0",
      "model_name": "IntProgressModel",
      "state": {
       "bar_style": "success",
       "layout": "IPY_MODEL_d78d33744a904da3b7383bd79be051c6",
       "max": 2,
       "style": "IPY_MODEL_79cab4c7005f40b5965fb41022fe5807",
       "value": 2
      }
     },
     "79cab4c7005f40b5965fb41022fe5807": {
      "model_module": "@jupyter-widgets/controls",
      "model_module_version": "1.4.0",
      "model_name": "ProgressStyleModel",
      "state": {
       "description_width": ""
      }
     },
     "79f6df5b6c8b441aa6839552818c1178": {
      "model_module": "@jupyter-widgets/controls",
      "model_module_version": "1.4.0",
      "model_name": "HBoxModel",
      "state": {
       "children": [
        "IPY_MODEL_8a1806ecb4a646ffa069dc9f3c5d7025",
        "IPY_MODEL_fb63b2ebec294c50937260c7fe3b3364"
       ],
       "layout": "IPY_MODEL_e9f68a2e43a84253849700380f391cee"
      }
     },
     "7ac6a68d985a4468b7c6d3f1dcf78864": {
      "model_module": "@jupyter-widgets/controls",
      "model_module_version": "1.4.0",
      "model_name": "HBoxModel",
      "state": {
       "children": [
        "IPY_MODEL_31262e69024f4436897d5087c80a89c3",
        "IPY_MODEL_933c8e355e3f4c55ae63c445fc2ca307"
       ],
       "layout": "IPY_MODEL_fc773afee4954421a11e387ac2e770a3"
      }
     },
     "7ad2e5f7ee014a969a580711fed11232": {
      "model_module": "@jupyter-widgets/controls",
      "model_module_version": "1.4.0",
      "model_name": "ProgressStyleModel",
      "state": {
       "description_width": ""
      }
     },
     "7b118af19491480896fb34a0944eb9be": {
      "model_module": "@jupyter-widgets/controls",
      "model_module_version": "1.4.0",
      "model_name": "DescriptionStyleModel",
      "state": {
       "description_width": ""
      }
     },
     "7b9393dfdd474a4eb6fec18faa856e64": {
      "model_module": "@jupyter-widgets/controls",
      "model_module_version": "1.4.0",
      "model_name": "ProgressStyleModel",
      "state": {
       "description_width": ""
      }
     },
     "7bcaa68b33464eeeb43b1b0e2624d643": {
      "model_module": "@jupyter-widgets/controls",
      "model_module_version": "1.4.0",
      "model_name": "ProgressStyleModel",
      "state": {
       "description_width": ""
      }
     },
     "7c38b1f8617043fbb44927cd96e3542b": {
      "model_module": "@jupyter-widgets/controls",
      "model_module_version": "1.4.0",
      "model_name": "ProgressStyleModel",
      "state": {
       "description_width": ""
      }
     },
     "7d568d50d4fc4ba09c1fccd6418c34fc": {
      "model_module": "@jupyter-widgets/base",
      "model_module_version": "1.1.0",
      "model_name": "LayoutModel",
      "state": {}
     },
     "7e726c91eec347e698654984ecb0d0da": {
      "model_module": "@jupyter-widgets/controls",
      "model_module_version": "1.4.0",
      "model_name": "DescriptionStyleModel",
      "state": {
       "description_width": ""
      }
     },
     "8066c1fc0d7144788bf9dfbf523c830d": {
      "model_module": "@jupyter-widgets/base",
      "model_module_version": "1.1.0",
      "model_name": "LayoutModel",
      "state": {}
     },
     "807dbe2c22564d79acafe4de143ee5c7": {
      "model_module": "@jupyter-widgets/controls",
      "model_module_version": "1.4.0",
      "model_name": "ProgressStyleModel",
      "state": {
       "description_width": ""
      }
     },
     "81f7b8f1d90b460a9137f1dd54ee37ce": {
      "model_module": "@jupyter-widgets/base",
      "model_module_version": "1.1.0",
      "model_name": "LayoutModel",
      "state": {}
     },
     "8240482fcc64441089c2634a85cc43db": {
      "model_module": "@jupyter-widgets/base",
      "model_module_version": "1.1.0",
      "model_name": "LayoutModel",
      "state": {}
     },
     "82533dda558945658680e33505ccef59": {
      "model_module": "@jupyter-widgets/base",
      "model_module_version": "1.1.0",
      "model_name": "LayoutModel",
      "state": {}
     },
     "82b59c3221b74dc5b27390312b2d8737": {
      "model_module": "@jupyter-widgets/base",
      "model_module_version": "1.1.0",
      "model_name": "LayoutModel",
      "state": {}
     },
     "84caca142975480088c5bddbd522cd78": {
      "model_module": "@jupyter-widgets/base",
      "model_module_version": "1.1.0",
      "model_name": "LayoutModel",
      "state": {}
     },
     "84e1cdde23564c968a4480f5cb06eaf2": {
      "model_module": "@jupyter-widgets/base",
      "model_module_version": "1.1.0",
      "model_name": "LayoutModel",
      "state": {}
     },
     "8644602b2fa54dec912c691988c0ed61": {
      "model_module": "@jupyter-widgets/base",
      "model_module_version": "1.1.0",
      "model_name": "LayoutModel",
      "state": {}
     },
     "8661bbe82dff45e7aa30f22c11443d2e": {
      "model_module": "@jupyter-widgets/controls",
      "model_module_version": "1.4.0",
      "model_name": "HTMLModel",
      "state": {
       "layout": "IPY_MODEL_61b449e280fc4297a3fad1607744fc20",
       "style": "IPY_MODEL_ceb743cafe26428086d5cedc512a17b5",
       "value": "  4% 9/213 [01:29&lt;33:57,  9.99s/it]"
      }
     },
     "87ca896bb36e4f72b267fcef218b1e87": {
      "model_module": "@jupyter-widgets/controls",
      "model_module_version": "1.4.0",
      "model_name": "HBoxModel",
      "state": {
       "children": [
        "IPY_MODEL_d30e230538f74be69af849fce77a2212",
        "IPY_MODEL_8ac535b15b814907bec1dd2c7a3bb6bf"
       ],
       "layout": "IPY_MODEL_6a715c212d9342c2898e920e12d64ea8"
      }
     },
     "8a1806ecb4a646ffa069dc9f3c5d7025": {
      "model_module": "@jupyter-widgets/controls",
      "model_module_version": "1.4.0",
      "model_name": "IntProgressModel",
      "state": {
       "bar_style": "success",
       "layout": "IPY_MODEL_30a3cea230a74023a6bfbb2b768a2334",
       "max": 2,
       "style": "IPY_MODEL_9952bb62c87d4c54ad2ee344112825d2",
       "value": 2
      }
     },
     "8a52e08b827142e580fc95eed439b5c0": {
      "model_module": "@jupyter-widgets/controls",
      "model_module_version": "1.4.0",
      "model_name": "IntProgressModel",
      "state": {
       "bar_style": "danger",
       "layout": "IPY_MODEL_4e5e884b54354f718a8035a829104a44",
       "max": 1,
       "style": "IPY_MODEL_ea25e7e21def49cba93ef4a2773b4ebc"
      }
     },
     "8ac535b15b814907bec1dd2c7a3bb6bf": {
      "model_module": "@jupyter-widgets/controls",
      "model_module_version": "1.4.0",
      "model_name": "HTMLModel",
      "state": {
       "layout": "IPY_MODEL_8644602b2fa54dec912c691988c0ed61",
       "style": "IPY_MODEL_143b178a9dec4926b210f382e0a0341b",
       "value": "100% 178/178 [33:47&lt;00:00,  9.66s/it]"
      }
     },
     "8b0857a6391348feb12acfa2ce04662c": {
      "model_module": "@jupyter-widgets/base",
      "model_module_version": "1.1.0",
      "model_name": "LayoutModel",
      "state": {}
     },
     "8c94347d36a04f149e682c1d5486a7da": {
      "model_module": "@jupyter-widgets/base",
      "model_module_version": "1.1.0",
      "model_name": "LayoutModel",
      "state": {}
     },
     "8dbe3cc7d3684e19beff25f59554e933": {
      "model_module": "@jupyter-widgets/controls",
      "model_module_version": "1.4.0",
      "model_name": "IntProgressModel",
      "state": {
       "bar_style": "success",
       "layout": "IPY_MODEL_5a2cffd7c7f0499c841d0aeadbc90446",
       "max": 2,
       "style": "IPY_MODEL_9b59a3351efc4248adb8cf90913dbce4",
       "value": 2
      }
     },
     "8f62aab12c1f411ebe37ff5b943cd961": {
      "model_module": "@jupyter-widgets/controls",
      "model_module_version": "1.4.0",
      "model_name": "DescriptionStyleModel",
      "state": {
       "description_width": ""
      }
     },
     "8f9ed8a95e094a738efa83d9586c601a": {
      "model_module": "@jupyter-widgets/base",
      "model_module_version": "1.1.0",
      "model_name": "LayoutModel",
      "state": {}
     },
     "9004d1e62f4740ec8f1efcf30c69c577": {
      "model_module": "@jupyter-widgets/controls",
      "model_module_version": "1.4.0",
      "model_name": "IntProgressModel",
      "state": {
       "bar_style": "danger",
       "layout": "IPY_MODEL_a9a5bfc62abf4b88b21d123322a855ca",
       "max": 320,
       "style": "IPY_MODEL_2062e4ad2c74412fbad6f2af5a5147a8",
       "value": 6
      }
     },
     "9170d53bf8244802bc404228d6f33b22": {
      "model_module": "@jupyter-widgets/base",
      "model_module_version": "1.1.0",
      "model_name": "LayoutModel",
      "state": {}
     },
     "91824b50ed754125b4f4e4150b10b8b5": {
      "model_module": "@jupyter-widgets/base",
      "model_module_version": "1.1.0",
      "model_name": "LayoutModel",
      "state": {}
     },
     "9197ffff5db34105b1b1f8e73cdb90b7": {
      "model_module": "@jupyter-widgets/controls",
      "model_module_version": "1.4.0",
      "model_name": "DescriptionStyleModel",
      "state": {
       "description_width": ""
      }
     },
     "933c8e355e3f4c55ae63c445fc2ca307": {
      "model_module": "@jupyter-widgets/controls",
      "model_module_version": "1.4.0",
      "model_name": "HTMLModel",
      "state": {
       "layout": "IPY_MODEL_570f37274d3d4221a0633c29007a1bf3",
       "style": "IPY_MODEL_c4661ada571d4fe6beccd936dbbd65fe",
       "value": "  0% 1/320 [00:07&lt;41:44,  7.85s/it]"
      }
     },
     "9661920386e24d7f8313b2eae356687e": {
      "model_module": "@jupyter-widgets/controls",
      "model_module_version": "1.4.0",
      "model_name": "DescriptionStyleModel",
      "state": {
       "description_width": ""
      }
     },
     "968a3533dea34d69ad4d9a02d2b37fa1": {
      "model_module": "@jupyter-widgets/controls",
      "model_module_version": "1.4.0",
      "model_name": "HTMLModel",
      "state": {
       "layout": "IPY_MODEL_1bceecc688db452494c410bbeb834534",
       "style": "IPY_MODEL_7e726c91eec347e698654984ecb0d0da",
       "value": "100% 160/160 [32:27&lt;00:00, 11.13s/it]"
      }
     },
     "9729937167d54efe8badb9e879455f3e": {
      "model_module": "@jupyter-widgets/controls",
      "model_module_version": "1.4.0",
      "model_name": "HBoxModel",
      "state": {
       "children": [
        "IPY_MODEL_23dc493e98c84aff952300eb3a76a455",
        "IPY_MODEL_d66c03cb238c4f0ab9e6344b1332f7ff"
       ],
       "layout": "IPY_MODEL_a9b453917bb546d5b2a6a3676cdccb2a"
      }
     },
     "976341caa2394ed1adce6e029e03e32c": {
      "model_module": "@jupyter-widgets/base",
      "model_module_version": "1.1.0",
      "model_name": "LayoutModel",
      "state": {}
     },
     "982ef87074ab4c00861ad26b8d462e18": {
      "model_module": "@jupyter-widgets/controls",
      "model_module_version": "1.4.0",
      "model_name": "HBoxModel",
      "state": {
       "children": [
        "IPY_MODEL_99071363642642fcac9262badcb49d6a",
        "IPY_MODEL_c8f90314f0754f448e177bbd9598129c"
       ],
       "layout": "IPY_MODEL_dacee6d592ca464eae4828f3c41b89f8"
      }
     },
     "983542e636b843368b825dd52248f0a4": {
      "model_module": "@jupyter-widgets/base",
      "model_module_version": "1.1.0",
      "model_name": "LayoutModel",
      "state": {}
     },
     "98b902f9e454492386f8af6cbfe80f5b": {
      "model_module": "@jupyter-widgets/controls",
      "model_module_version": "1.4.0",
      "model_name": "IntProgressModel",
      "state": {
       "bar_style": "danger",
       "layout": "IPY_MODEL_e9331ef6b3a74a9ebdc1f734b9408599",
       "max": 320,
       "style": "IPY_MODEL_7ad2e5f7ee014a969a580711fed11232",
       "value": 61
      }
     },
     "99071363642642fcac9262badcb49d6a": {
      "model_module": "@jupyter-widgets/controls",
      "model_module_version": "1.4.0",
      "model_name": "IntProgressModel",
      "state": {
       "bar_style": "success",
       "layout": "IPY_MODEL_a4b392ae27f44f5abda5de9a160c7e4f",
       "max": 213,
       "style": "IPY_MODEL_2b83dccf73b84e7980e3f6a666d59a08",
       "value": 213
      }
     },
     "9952bb62c87d4c54ad2ee344112825d2": {
      "model_module": "@jupyter-widgets/controls",
      "model_module_version": "1.4.0",
      "model_name": "ProgressStyleModel",
      "state": {
       "description_width": ""
      }
     },
     "99cee96e67864889b2cab1da03b584b6": {
      "model_module": "@jupyter-widgets/controls",
      "model_module_version": "1.4.0",
      "model_name": "HBoxModel",
      "state": {
       "children": [
        "IPY_MODEL_8a52e08b827142e580fc95eed439b5c0",
        "IPY_MODEL_29924124510e42fc83f543269b4c4747"
       ],
       "layout": "IPY_MODEL_65a7f1fbf7244c9aa4f45b691e1f155d"
      }
     },
     "9ab8d79ad6c944a5ba59bc38df4b02a5": {
      "model_module": "@jupyter-widgets/controls",
      "model_module_version": "1.4.0",
      "model_name": "DescriptionStyleModel",
      "state": {
       "description_width": ""
      }
     },
     "9b59a3351efc4248adb8cf90913dbce4": {
      "model_module": "@jupyter-widgets/controls",
      "model_module_version": "1.4.0",
      "model_name": "ProgressStyleModel",
      "state": {
       "description_width": ""
      }
     },
     "9e1e12e1a89440f3b5004060b618b388": {
      "model_module": "@jupyter-widgets/base",
      "model_module_version": "1.1.0",
      "model_name": "LayoutModel",
      "state": {}
     },
     "a0636cb98d8e4ca8abcde21b80a30600": {
      "model_module": "@jupyter-widgets/base",
      "model_module_version": "1.1.0",
      "model_name": "LayoutModel",
      "state": {}
     },
     "a234b862e07f4eea8c8764075758cb80": {
      "model_module": "@jupyter-widgets/controls",
      "model_module_version": "1.4.0",
      "model_name": "ProgressStyleModel",
      "state": {
       "description_width": ""
      }
     },
     "a330d43307ea476a9884a9901d80e032": {
      "model_module": "@jupyter-widgets/controls",
      "model_module_version": "1.4.0",
      "model_name": "DescriptionStyleModel",
      "state": {
       "description_width": ""
      }
     },
     "a35299fbd3cb4ba1b72a6176b31348c2": {
      "model_module": "@jupyter-widgets/controls",
      "model_module_version": "1.4.0",
      "model_name": "DescriptionStyleModel",
      "state": {
       "description_width": ""
      }
     },
     "a4a199259f034ea69365a291988c699f": {
      "model_module": "@jupyter-widgets/controls",
      "model_module_version": "1.4.0",
      "model_name": "IntProgressModel",
      "state": {
       "bar_style": "danger",
       "layout": "IPY_MODEL_c333485800b84e389eb3275596ed5f52",
       "max": 32,
       "style": "IPY_MODEL_55e33faffb7a4d2f81c727748604b6d3"
      }
     },
     "a4b392ae27f44f5abda5de9a160c7e4f": {
      "model_module": "@jupyter-widgets/base",
      "model_module_version": "1.1.0",
      "model_name": "LayoutModel",
      "state": {}
     },
     "a5abff80e6d94810ace9891fae4284fd": {
      "model_module": "@jupyter-widgets/base",
      "model_module_version": "1.1.0",
      "model_name": "LayoutModel",
      "state": {}
     },
     "a5d255bef9dd4e4594f282ea1011562b": {
      "model_module": "@jupyter-widgets/base",
      "model_module_version": "1.1.0",
      "model_name": "LayoutModel",
      "state": {}
     },
     "a8c971352b5945bbbe4505fccd0f3ed2": {
      "model_module": "@jupyter-widgets/controls",
      "model_module_version": "1.4.0",
      "model_name": "DescriptionStyleModel",
      "state": {
       "description_width": ""
      }
     },
     "a8fa4eab33ca42938ece146d0fcbc676": {
      "model_module": "@jupyter-widgets/controls",
      "model_module_version": "1.4.0",
      "model_name": "DescriptionStyleModel",
      "state": {
       "description_width": ""
      }
     },
     "a903aa940e0b45549cbf4197d3685a8f": {
      "model_module": "@jupyter-widgets/base",
      "model_module_version": "1.1.0",
      "model_name": "LayoutModel",
      "state": {}
     },
     "a9a5bfc62abf4b88b21d123322a855ca": {
      "model_module": "@jupyter-widgets/base",
      "model_module_version": "1.1.0",
      "model_name": "LayoutModel",
      "state": {}
     },
     "a9b453917bb546d5b2a6a3676cdccb2a": {
      "model_module": "@jupyter-widgets/base",
      "model_module_version": "1.1.0",
      "model_name": "LayoutModel",
      "state": {}
     },
     "aaf98670d9e2425a99ac5a5097c158fd": {
      "model_module": "@jupyter-widgets/controls",
      "model_module_version": "1.4.0",
      "model_name": "ProgressStyleModel",
      "state": {
       "description_width": ""
      }
     },
     "ac34db3771b2423aab0bc7f20ef1ce5b": {
      "model_module": "@jupyter-widgets/controls",
      "model_module_version": "1.4.0",
      "model_name": "HTMLModel",
      "state": {
       "layout": "IPY_MODEL_528d2b5104ba47f9817af338f6c07da8",
       "style": "IPY_MODEL_ce99fd97af53494aae74c3e00186c620",
       "value": "100% 178/178 [33:28&lt;00:00,  9.59s/it]"
      }
     },
     "ac4d0d63a1fa44f59d67802c4cd10eaa": {
      "model_module": "@jupyter-widgets/controls",
      "model_module_version": "1.4.0",
      "model_name": "HBoxModel",
      "state": {
       "children": [
        "IPY_MODEL_c71ad11cbd1f478b9c62fae2aae0bb37",
        "IPY_MODEL_20d4f14600aa4c85be00544f61d6c904"
       ],
       "layout": "IPY_MODEL_8f9ed8a95e094a738efa83d9586c601a"
      }
     },
     "ad0cd8bf561b42e990f788a34589f9d9": {
      "model_module": "@jupyter-widgets/base",
      "model_module_version": "1.1.0",
      "model_name": "LayoutModel",
      "state": {}
     },
     "adb19e6938c14efb8c67be72009fc53a": {
      "model_module": "@jupyter-widgets/base",
      "model_module_version": "1.1.0",
      "model_name": "LayoutModel",
      "state": {}
     },
     "ae2d022225a7420ea297820b89736322": {
      "model_module": "@jupyter-widgets/base",
      "model_module_version": "1.1.0",
      "model_name": "LayoutModel",
      "state": {}
     },
     "b02f20b9e3d244e39a533cc756a8f1a9": {
      "model_module": "@jupyter-widgets/controls",
      "model_module_version": "1.4.0",
      "model_name": "ProgressStyleModel",
      "state": {
       "description_width": ""
      }
     },
     "b0bc28ddc9fd47039c98a18bbea1f8b5": {
      "model_module": "@jupyter-widgets/base",
      "model_module_version": "1.1.0",
      "model_name": "LayoutModel",
      "state": {}
     },
     "b39ab1a015144b82b8faf126325cd7a3": {
      "model_module": "@jupyter-widgets/controls",
      "model_module_version": "1.4.0",
      "model_name": "IntProgressModel",
      "state": {
       "bar_style": "success",
       "layout": "IPY_MODEL_c97713971cb84e81b5f0cc4c7eab0cce",
       "max": 178,
       "style": "IPY_MODEL_066a16b92b3a422e98b76681306204ad",
       "value": 178
      }
     },
     "b3d58ed76fd745c08c875a990bc3fe82": {
      "model_module": "@jupyter-widgets/controls",
      "model_module_version": "1.4.0",
      "model_name": "HTMLModel",
      "state": {
       "layout": "IPY_MODEL_292ad53f5ed74a42a43a9d274fab7eaf",
       "style": "IPY_MODEL_f15939cdedca4147a842e6fa61fd6c84",
       "value": "100% 178/178 [33:33&lt;00:00,  9.64s/it]"
      }
     },
     "b4de2253aea744388ad068aef3645656": {
      "model_module": "@jupyter-widgets/base",
      "model_module_version": "1.1.0",
      "model_name": "LayoutModel",
      "state": {}
     },
     "b5eed45c29864efcb5cb6e234bba55a6": {
      "model_module": "@jupyter-widgets/controls",
      "model_module_version": "1.4.0",
      "model_name": "HTMLModel",
      "state": {
       "layout": "IPY_MODEL_82533dda558945658680e33505ccef59",
       "style": "IPY_MODEL_3ea746ad0ed041a79049974d517038e8",
       "value": "  3% 7/213 [01:10&lt;34:32, 10.06s/it]"
      }
     },
     "b688c734856141488016ef1fccfa0737": {
      "model_module": "@jupyter-widgets/controls",
      "model_module_version": "1.4.0",
      "model_name": "HBoxModel",
      "state": {
       "children": [
        "IPY_MODEL_a4a199259f034ea69365a291988c699f",
        "IPY_MODEL_17222af12a244d228865acf175765a81"
       ],
       "layout": "IPY_MODEL_16325df486b640379ca3e49910664078"
      }
     },
     "b7cd0a358114417eb37b586a33333943": {
      "model_module": "@jupyter-widgets/controls",
      "model_module_version": "1.4.0",
      "model_name": "HTMLModel",
      "state": {
       "layout": "IPY_MODEL_32eed20311564b93a71937eae9be76a2",
       "style": "IPY_MODEL_51a4ac33d1ba4999bf703bb46d83bd00",
       "value": "100% 1/1 [00:07&lt;00:00,  7.52s/it]"
      }
     },
     "b86fee41a06b4e68907927d6b4b0b057": {
      "model_module": "@jupyter-widgets/controls",
      "model_module_version": "1.4.0",
      "model_name": "HBoxModel",
      "state": {
       "children": [
        "IPY_MODEL_f2b49fe5e4544804b36c293f3c3cebce",
        "IPY_MODEL_ef2ec85af4794ec288134539eae04343"
       ],
       "layout": "IPY_MODEL_6c27f0ffb8744af88b7886d162ccf32c"
      }
     },
     "bd4dcd1acb044622a0f1f888d711145d": {
      "model_module": "@jupyter-widgets/base",
      "model_module_version": "1.1.0",
      "model_name": "LayoutModel",
      "state": {}
     },
     "bfd0c8aca7b84fc596ce81ee929456dc": {
      "model_module": "@jupyter-widgets/controls",
      "model_module_version": "1.4.0",
      "model_name": "IntProgressModel",
      "state": {
       "bar_style": "danger",
       "layout": "IPY_MODEL_ecd4d768e9b04666b0e5549a7831b899",
       "max": 319338,
       "style": "IPY_MODEL_10d89d22c7d84298aee8111a017839b8",
       "value": 2
      }
     },
     "c14ba1911fba4fe0a4bcf37127304582": {
      "model_module": "@jupyter-widgets/base",
      "model_module_version": "1.1.0",
      "model_name": "LayoutModel",
      "state": {}
     },
     "c170172cc4a64fb4b7779075f36c7cd6": {
      "model_module": "@jupyter-widgets/controls",
      "model_module_version": "1.4.0",
      "model_name": "ProgressStyleModel",
      "state": {
       "description_width": ""
      }
     },
     "c18959c92b7049c0893b68e9c0a24391": {
      "model_module": "@jupyter-widgets/controls",
      "model_module_version": "1.4.0",
      "model_name": "HBoxModel",
      "state": {
       "children": [
        "IPY_MODEL_1f264ebfd1e1435196db5f7e31e0cdff",
        "IPY_MODEL_968a3533dea34d69ad4d9a02d2b37fa1"
       ],
       "layout": "IPY_MODEL_c67f73850c4a4629874c6d8fc05caace"
      }
     },
     "c24e02528c944d73a1c1387dd0bb1130": {
      "model_module": "@jupyter-widgets/controls",
      "model_module_version": "1.4.0",
      "model_name": "HTMLModel",
      "state": {
       "layout": "IPY_MODEL_ccd728ac3bbd45b2a583c3c5b6d4741f",
       "style": "IPY_MODEL_d5df84c699764b6caf94527d01ad5483",
       "value": "100% 2/2 [00:04&lt;00:00,  2.34s/it]"
      }
     },
     "c2ab02553f7b43a3ae9920a7811b4777": {
      "model_module": "@jupyter-widgets/controls",
      "model_module_version": "1.4.0",
      "model_name": "IntProgressModel",
      "state": {
       "bar_style": "danger",
       "layout": "IPY_MODEL_254e6c94943f4822964bee52e38b5a1f",
       "max": 178,
       "style": "IPY_MODEL_7892edbb5bdc4fca983050aa20722fcb",
       "value": 120
      }
     },
     "c333485800b84e389eb3275596ed5f52": {
      "model_module": "@jupyter-widgets/base",
      "model_module_version": "1.1.0",
      "model_name": "LayoutModel",
      "state": {}
     },
     "c4661ada571d4fe6beccd936dbbd65fe": {
      "model_module": "@jupyter-widgets/controls",
      "model_module_version": "1.4.0",
      "model_name": "DescriptionStyleModel",
      "state": {
       "description_width": ""
      }
     },
     "c67f73850c4a4629874c6d8fc05caace": {
      "model_module": "@jupyter-widgets/base",
      "model_module_version": "1.1.0",
      "model_name": "LayoutModel",
      "state": {}
     },
     "c71ad11cbd1f478b9c62fae2aae0bb37": {
      "model_module": "@jupyter-widgets/controls",
      "model_module_version": "1.4.0",
      "model_name": "IntProgressModel",
      "state": {
       "bar_style": "danger",
       "layout": "IPY_MODEL_976341caa2394ed1adce6e029e03e32c",
       "max": 2,
       "style": "IPY_MODEL_2d2e61cd960947a4a921c98662afec10",
       "value": 1
      }
     },
     "c7b5a8a4bc2b4ded8ee7becf81d1036b": {
      "model_module": "@jupyter-widgets/controls",
      "model_module_version": "1.4.0",
      "model_name": "DescriptionStyleModel",
      "state": {
       "description_width": ""
      }
     },
     "c84f6e210fcf46c788d1ad88986ee7ca": {
      "model_module": "@jupyter-widgets/controls",
      "model_module_version": "1.4.0",
      "model_name": "HTMLModel",
      "state": {
       "layout": "IPY_MODEL_53c52d24c31d42bb9c7858e2b9d5d058",
       "style": "IPY_MODEL_1543bf682ca94f2d86af7246ccbbe2f0",
       "value": "  2% 6/320 [00:44&lt;39:06,  7.47s/it]"
      }
     },
     "c8f90314f0754f448e177bbd9598129c": {
      "model_module": "@jupyter-widgets/controls",
      "model_module_version": "1.4.0",
      "model_name": "HTMLModel",
      "state": {
       "layout": "IPY_MODEL_cf770b778a8d41b3b3c678de3ffc1ba1",
       "style": "IPY_MODEL_13662acd97514020b19cc82ee338419c",
       "value": "100% 213/213 [35:18&lt;00:00,  9.62s/it]"
      }
     },
     "c97713971cb84e81b5f0cc4c7eab0cce": {
      "model_module": "@jupyter-widgets/base",
      "model_module_version": "1.1.0",
      "model_name": "LayoutModel",
      "state": {}
     },
     "ccd728ac3bbd45b2a583c3c5b6d4741f": {
      "model_module": "@jupyter-widgets/base",
      "model_module_version": "1.1.0",
      "model_name": "LayoutModel",
      "state": {}
     },
     "cdd880454bd1419cbafef5ec1e45ef83": {
      "model_module": "@jupyter-widgets/base",
      "model_module_version": "1.1.0",
      "model_name": "LayoutModel",
      "state": {}
     },
     "cddc2892cd204b09a7c652254f8adc0a": {
      "model_module": "@jupyter-widgets/controls",
      "model_module_version": "1.4.0",
      "model_name": "HBoxModel",
      "state": {
       "children": [
        "IPY_MODEL_6364008ed84146b385e0b819accb2e29",
        "IPY_MODEL_fb6432bf01434313a65e97855ea74ebf"
       ],
       "layout": "IPY_MODEL_6663c5a4feb14cf3a7e0d7949562173e"
      }
     },
     "ce99fd97af53494aae74c3e00186c620": {
      "model_module": "@jupyter-widgets/controls",
      "model_module_version": "1.4.0",
      "model_name": "DescriptionStyleModel",
      "state": {
       "description_width": ""
      }
     },
     "ceb743cafe26428086d5cedc512a17b5": {
      "model_module": "@jupyter-widgets/controls",
      "model_module_version": "1.4.0",
      "model_name": "DescriptionStyleModel",
      "state": {
       "description_width": ""
      }
     },
     "cf4d334cf3794e6d998ba7fd02049936": {
      "model_module": "@jupyter-widgets/controls",
      "model_module_version": "1.4.0",
      "model_name": "HTMLModel",
      "state": {
       "layout": "IPY_MODEL_d877a1217921481199feb63e53f11e8c",
       "style": "IPY_MODEL_6d8b748fa698407db839705a48750e98",
       "value": "100% 2/2 [00:04&lt;00:00,  2.40s/it]"
      }
     },
     "cf770b778a8d41b3b3c678de3ffc1ba1": {
      "model_module": "@jupyter-widgets/base",
      "model_module_version": "1.1.0",
      "model_name": "LayoutModel",
      "state": {}
     },
     "cfd50169400e44feaf8ab243c73a1972": {
      "model_module": "@jupyter-widgets/controls",
      "model_module_version": "1.4.0",
      "model_name": "IntProgressModel",
      "state": {
       "bar_style": "danger",
       "layout": "IPY_MODEL_ea4ecb22ca5d4bfa8b4eafc04529ac0b",
       "max": 213,
       "style": "IPY_MODEL_e2e46929988747b49ad38a2d5fb2d59e",
       "value": 7
      }
     },
     "d2b5e761a57348b680e062b1da175c89": {
      "model_module": "@jupyter-widgets/base",
      "model_module_version": "1.1.0",
      "model_name": "LayoutModel",
      "state": {}
     },
     "d2cd6898021b45e7b079c284ea088515": {
      "model_module": "@jupyter-widgets/controls",
      "model_module_version": "1.4.0",
      "model_name": "HBoxModel",
      "state": {
       "children": [
        "IPY_MODEL_75d74071dee6450293f12cfe871a38e8",
        "IPY_MODEL_60422e8b81e947d09b1b3777a0011ad0"
       ],
       "layout": "IPY_MODEL_2cd3436be74c423b84bb73d2e2f4748c"
      }
     },
     "d30e230538f74be69af849fce77a2212": {
      "model_module": "@jupyter-widgets/controls",
      "model_module_version": "1.4.0",
      "model_name": "IntProgressModel",
      "state": {
       "bar_style": "success",
       "layout": "IPY_MODEL_0767f4dea7984bfbba9e8ec819925319",
       "max": 178,
       "style": "IPY_MODEL_00f5ac10be75493f891e96436b41dd06",
       "value": 178
      }
     },
     "d3e0a7173d4f4ef183b00a62c40e8774": {
      "model_module": "@jupyter-widgets/base",
      "model_module_version": "1.1.0",
      "model_name": "LayoutModel",
      "state": {}
     },
     "d5df84c699764b6caf94527d01ad5483": {
      "model_module": "@jupyter-widgets/controls",
      "model_module_version": "1.4.0",
      "model_name": "DescriptionStyleModel",
      "state": {
       "description_width": ""
      }
     },
     "d639edcc19cf4c23924a603abf3cefcd": {
      "model_module": "@jupyter-widgets/controls",
      "model_module_version": "1.4.0",
      "model_name": "HBoxModel",
      "state": {
       "children": [
        "IPY_MODEL_233b95d6cf1f428db1ba8975d64d5f4b",
        "IPY_MODEL_b7cd0a358114417eb37b586a33333943"
       ],
       "layout": "IPY_MODEL_49fc8366546342af812e0013c99de6f0"
      }
     },
     "d66c03cb238c4f0ab9e6344b1332f7ff": {
      "model_module": "@jupyter-widgets/controls",
      "model_module_version": "1.4.0",
      "model_name": "HTMLModel",
      "state": {
       "layout": "IPY_MODEL_82b59c3221b74dc5b27390312b2d8737",
       "style": "IPY_MODEL_78a59dbf9db04d2d8afecd4f7d1a280e",
       "value": "  1% 3/320 [00:23&lt;41:22,  7.83s/it]"
      }
     },
     "d6d7949961f645aa9703568387555eb3": {
      "model_module": "@jupyter-widgets/controls",
      "model_module_version": "1.4.0",
      "model_name": "DescriptionStyleModel",
      "state": {
       "description_width": ""
      }
     },
     "d78d33744a904da3b7383bd79be051c6": {
      "model_module": "@jupyter-widgets/base",
      "model_module_version": "1.1.0",
      "model_name": "LayoutModel",
      "state": {}
     },
     "d7ca0eb85ddf460d86b4ffeb78a649e1": {
      "model_module": "@jupyter-widgets/base",
      "model_module_version": "1.1.0",
      "model_name": "LayoutModel",
      "state": {}
     },
     "d877a1217921481199feb63e53f11e8c": {
      "model_module": "@jupyter-widgets/base",
      "model_module_version": "1.1.0",
      "model_name": "LayoutModel",
      "state": {}
     },
     "d8b6e6044ae7470eb6dcad1165742817": {
      "model_module": "@jupyter-widgets/controls",
      "model_module_version": "1.4.0",
      "model_name": "IntProgressModel",
      "state": {
       "bar_style": "danger",
       "layout": "IPY_MODEL_a5abff80e6d94810ace9891fae4284fd",
       "max": 2,
       "style": "IPY_MODEL_73a861c5c1df460fa739ab26e2956e64"
      }
     },
     "d9a25031304a4ef5bd20e264a27f0826": {
      "model_module": "@jupyter-widgets/controls",
      "model_module_version": "1.4.0",
      "model_name": "HBoxModel",
      "state": {
       "children": [
        "IPY_MODEL_284402d3309148b9909487cd63677a64",
        "IPY_MODEL_c24e02528c944d73a1c1387dd0bb1130"
       ],
       "layout": "IPY_MODEL_8c94347d36a04f149e682c1d5486a7da"
      }
     },
     "dacee6d592ca464eae4828f3c41b89f8": {
      "model_module": "@jupyter-widgets/base",
      "model_module_version": "1.1.0",
      "model_name": "LayoutModel",
      "state": {}
     },
     "db34eb9d6bae42f59c364732ff123018": {
      "model_module": "@jupyter-widgets/base",
      "model_module_version": "1.1.0",
      "model_name": "LayoutModel",
      "state": {}
     },
     "dd5726e395f34ff78bc641c2cb4b20a8": {
      "model_module": "@jupyter-widgets/controls",
      "model_module_version": "1.4.0",
      "model_name": "HBoxModel",
      "state": {
       "children": [
        "IPY_MODEL_27f16d28205a41fbb1130847e76290da",
        "IPY_MODEL_50c75f1212f843d282a4fc24e0e6745f"
       ],
       "layout": "IPY_MODEL_983542e636b843368b825dd52248f0a4"
      }
     },
     "de08ae4f3f004591a8a1cb9fa1de56d5": {
      "model_module": "@jupyter-widgets/controls",
      "model_module_version": "1.4.0",
      "model_name": "IntProgressModel",
      "state": {
       "bar_style": "danger",
       "layout": "IPY_MODEL_073d507f65544b508fe9fd2b0de74718",
       "max": 213,
       "style": "IPY_MODEL_11ddbf894b4544aa90058d0c10adcdd2",
       "value": 4
      }
     },
     "e0e696d49cf54c308ce33574439f6c86": {
      "model_module": "@jupyter-widgets/base",
      "model_module_version": "1.1.0",
      "model_name": "LayoutModel",
      "state": {}
     },
     "e29bac320f614d1a81c5c6c133f7a41e": {
      "model_module": "@jupyter-widgets/controls",
      "model_module_version": "1.4.0",
      "model_name": "HTMLModel",
      "state": {
       "layout": "IPY_MODEL_1e554d0886414d8f81f8e2930901f349",
       "style": "IPY_MODEL_47c11a1f6c5b426db19f36132de299e2",
       "value": " 19% 61/320 [07:15&lt;30:39,  7.10s/it]"
      }
     },
     "e2e46929988747b49ad38a2d5fb2d59e": {
      "model_module": "@jupyter-widgets/controls",
      "model_module_version": "1.4.0",
      "model_name": "ProgressStyleModel",
      "state": {
       "description_width": ""
      }
     },
     "e3ba40b8af4143349b611b9d7258a272": {
      "model_module": "@jupyter-widgets/controls",
      "model_module_version": "1.4.0",
      "model_name": "DescriptionStyleModel",
      "state": {
       "description_width": ""
      }
     },
     "e3e3a25363a34977a4fb40458445c904": {
      "model_module": "@jupyter-widgets/base",
      "model_module_version": "1.1.0",
      "model_name": "LayoutModel",
      "state": {}
     },
     "e5ed6c364cf741c2a912d7916bc952d6": {
      "model_module": "@jupyter-widgets/controls",
      "model_module_version": "1.4.0",
      "model_name": "IntProgressModel",
      "state": {
       "bar_style": "success",
       "layout": "IPY_MODEL_27d52c3388cc4f338ebb74aca5b15a13",
       "max": 1,
       "style": "IPY_MODEL_2cbc384f9e24403abfd53bfaf397c3bc",
       "value": 1
      }
     },
     "e9331ef6b3a74a9ebdc1f734b9408599": {
      "model_module": "@jupyter-widgets/base",
      "model_module_version": "1.1.0",
      "model_name": "LayoutModel",
      "state": {}
     },
     "e9625f5bd61a45d09e85f11d4f90b34e": {
      "model_module": "@jupyter-widgets/controls",
      "model_module_version": "1.4.0",
      "model_name": "HBoxModel",
      "state": {
       "children": [
        "IPY_MODEL_02b76b952abb43d9aabbfd3b1e68a88a",
        "IPY_MODEL_b3d58ed76fd745c08c875a990bc3fe82"
       ],
       "layout": "IPY_MODEL_db34eb9d6bae42f59c364732ff123018"
      }
     },
     "e9f68a2e43a84253849700380f391cee": {
      "model_module": "@jupyter-widgets/base",
      "model_module_version": "1.1.0",
      "model_name": "LayoutModel",
      "state": {}
     },
     "ea25e7e21def49cba93ef4a2773b4ebc": {
      "model_module": "@jupyter-widgets/controls",
      "model_module_version": "1.4.0",
      "model_name": "ProgressStyleModel",
      "state": {
       "description_width": ""
      }
     },
     "ea2ec29a60e64a5f8358ea8db8376d43": {
      "model_module": "@jupyter-widgets/base",
      "model_module_version": "1.1.0",
      "model_name": "LayoutModel",
      "state": {}
     },
     "ea4ecb22ca5d4bfa8b4eafc04529ac0b": {
      "model_module": "@jupyter-widgets/base",
      "model_module_version": "1.1.0",
      "model_name": "LayoutModel",
      "state": {}
     },
     "ea73c7dab0ae40269ef957cf1d83a16e": {
      "model_module": "@jupyter-widgets/controls",
      "model_module_version": "1.4.0",
      "model_name": "HBoxModel",
      "state": {
       "children": [
        "IPY_MODEL_de08ae4f3f004591a8a1cb9fa1de56d5",
        "IPY_MODEL_61186c057ff84169bec2080c14d5f306"
       ],
       "layout": "IPY_MODEL_fa76c348858e44478ee4761209d1f990"
      }
     },
     "eadb2442fd3241108c1924951a22500c": {
      "model_module": "@jupyter-widgets/base",
      "model_module_version": "1.1.0",
      "model_name": "LayoutModel",
      "state": {}
     },
     "eb64e8953a00490bbc8647df767d74de": {
      "model_module": "@jupyter-widgets/controls",
      "model_module_version": "1.4.0",
      "model_name": "HBoxModel",
      "state": {
       "children": [
        "IPY_MODEL_466e2a6ca613459883f3bd3e1ec69d0b",
        "IPY_MODEL_cf4d334cf3794e6d998ba7fd02049936"
       ],
       "layout": "IPY_MODEL_7d568d50d4fc4ba09c1fccd6418c34fc"
      }
     },
     "ebc0e62bc80f434d887e16f03e8b8b36": {
      "model_module": "@jupyter-widgets/controls",
      "model_module_version": "1.4.0",
      "model_name": "HBoxModel",
      "state": {
       "children": [
        "IPY_MODEL_98b902f9e454492386f8af6cbfe80f5b",
        "IPY_MODEL_e29bac320f614d1a81c5c6c133f7a41e"
       ],
       "layout": "IPY_MODEL_cdd880454bd1419cbafef5ec1e45ef83"
      }
     },
     "ec6b66792a5047d5b3fa02c4f912408f": {
      "model_module": "@jupyter-widgets/controls",
      "model_module_version": "1.4.0",
      "model_name": "HTMLModel",
      "state": {
       "layout": "IPY_MODEL_242b746b40774d8fb7a2e426325392bb",
       "style": "IPY_MODEL_8f62aab12c1f411ebe37ff5b943cd961",
       "value": "100% 2/2 [00:04&lt;00:00,  2.36s/it]"
      }
     },
     "ecb947cb99c246499cce0e60db481b33": {
      "model_module": "@jupyter-widgets/controls",
      "model_module_version": "1.4.0",
      "model_name": "HTMLModel",
      "state": {
       "layout": "IPY_MODEL_9170d53bf8244802bc404228d6f33b22",
       "style": "IPY_MODEL_6c751999fd3d4e2a9f92fc2d4e26357c",
       "value": "100% 2/2 [00:04&lt;00:00,  2.33s/it]"
      }
     },
     "ecd4d768e9b04666b0e5549a7831b899": {
      "model_module": "@jupyter-widgets/base",
      "model_module_version": "1.1.0",
      "model_name": "LayoutModel",
      "state": {}
     },
     "ee00f371ca654b089d158fbfde2e9299": {
      "model_module": "@jupyter-widgets/controls",
      "model_module_version": "1.4.0",
      "model_name": "HTMLModel",
      "state": {
       "layout": "IPY_MODEL_91824b50ed754125b4f4e4150b10b8b5",
       "style": "IPY_MODEL_e3ba40b8af4143349b611b9d7258a272",
       "value": "100% 178/178 [33:37&lt;00:00,  9.65s/it]"
      }
     },
     "ee7accba31b84d75a70d518e1c5a6cac": {
      "model_module": "@jupyter-widgets/base",
      "model_module_version": "1.1.0",
      "model_name": "LayoutModel",
      "state": {}
     },
     "ef2ec85af4794ec288134539eae04343": {
      "model_module": "@jupyter-widgets/controls",
      "model_module_version": "1.4.0",
      "model_name": "HTMLModel",
      "state": {
       "layout": "IPY_MODEL_0d8102ada0de41fe90e3bacdacdd5c79",
       "style": "IPY_MODEL_7b118af19491480896fb34a0944eb9be",
       "value": "  5% 11/213 [01:49&lt;33:16,  9.88s/it]"
      }
     },
     "f15939cdedca4147a842e6fa61fd6c84": {
      "model_module": "@jupyter-widgets/controls",
      "model_module_version": "1.4.0",
      "model_name": "DescriptionStyleModel",
      "state": {
       "description_width": ""
      }
     },
     "f1b5515a934b48b18c14bb04b22846d0": {
      "model_module": "@jupyter-widgets/controls",
      "model_module_version": "1.4.0",
      "model_name": "ProgressStyleModel",
      "state": {
       "description_width": ""
      }
     },
     "f2b49fe5e4544804b36c293f3c3cebce": {
      "model_module": "@jupyter-widgets/controls",
      "model_module_version": "1.4.0",
      "model_name": "IntProgressModel",
      "state": {
       "bar_style": "danger",
       "layout": "IPY_MODEL_a0636cb98d8e4ca8abcde21b80a30600",
       "max": 213,
       "style": "IPY_MODEL_0e7f1e7ab23b4a36938eb2408e324317",
       "value": 11
      }
     },
     "f42ac34d8b154c239b3aaa01f4acab61": {
      "model_module": "@jupyter-widgets/base",
      "model_module_version": "1.1.0",
      "model_name": "LayoutModel",
      "state": {}
     },
     "f95272fed7594ddcaa35e2a6c1a78f7d": {
      "model_module": "@jupyter-widgets/controls",
      "model_module_version": "1.4.0",
      "model_name": "HTMLModel",
      "state": {
       "layout": "IPY_MODEL_3180e641e59348fc9c624f95d7d5a74b",
       "style": "IPY_MODEL_38bc11102ee049fbbeeb3be6db4da912",
       "value": "100% 2/2 [00:04&lt;00:00,  2.37s/it]"
      }
     },
     "fa76c348858e44478ee4761209d1f990": {
      "model_module": "@jupyter-widgets/base",
      "model_module_version": "1.1.0",
      "model_name": "LayoutModel",
      "state": {}
     },
     "fb63b2ebec294c50937260c7fe3b3364": {
      "model_module": "@jupyter-widgets/controls",
      "model_module_version": "1.4.0",
      "model_name": "HTMLModel",
      "state": {
       "layout": "IPY_MODEL_e0e696d49cf54c308ce33574439f6c86",
       "style": "IPY_MODEL_a8fa4eab33ca42938ece146d0fcbc676",
       "value": "100% 2/2 [00:04&lt;00:00,  2.36s/it]"
      }
     },
     "fb6432bf01434313a65e97855ea74ebf": {
      "model_module": "@jupyter-widgets/controls",
      "model_module_version": "1.4.0",
      "model_name": "HTMLModel",
      "state": {
       "layout": "IPY_MODEL_3ac250f0af0642f088545c41950bf162",
       "style": "IPY_MODEL_3470b9f3c1e04aa8834577165f4b6c6a",
       "value": "100% 2/2 [00:04&lt;00:00,  2.38s/it]"
      }
     },
     "fc773afee4954421a11e387ac2e770a3": {
      "model_module": "@jupyter-widgets/base",
      "model_module_version": "1.1.0",
      "model_name": "LayoutModel",
      "state": {}
     },
     "fe1fc349e3d44a7caede5f20a75900d0": {
      "model_module": "@jupyter-widgets/controls",
      "model_module_version": "1.4.0",
      "model_name": "ProgressStyleModel",
      "state": {
       "description_width": ""
      }
     },
     "ff0fa6eae87c47d2926b4d9b03c5244b": {
      "model_module": "@jupyter-widgets/controls",
      "model_module_version": "1.4.0",
      "model_name": "ProgressStyleModel",
      "state": {
       "description_width": ""
      }
     },
     "ff5292d0f4f94d82a219878c2df6a0ba": {
      "model_module": "@jupyter-widgets/controls",
      "model_module_version": "1.4.0",
      "model_name": "HBoxModel",
      "state": {
       "children": [
        "IPY_MODEL_78c412f173e149a39e07c8df749ca951",
        "IPY_MODEL_ecb947cb99c246499cce0e60db481b33"
       ],
       "layout": "IPY_MODEL_eadb2442fd3241108c1924951a22500c"
      }
     }
    },
    "version_major": 2,
    "version_minor": 0
   }
  }
 },
 "nbformat": 4,
 "nbformat_minor": 4
}
